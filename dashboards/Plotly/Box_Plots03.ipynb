{
  "nbformat": 4,
  "nbformat_minor": 0,
  "metadata": {
    "colab": {
      "name": "Box Plots03.ipynb",
      "provenance": [],
      "authorship_tag": "ABX9TyM0O/BdA0MWqgWd1CfsKY6Z",
      "include_colab_link": true
    },
    "kernelspec": {
      "name": "python3",
      "display_name": "Python 3"
    }
  },
  "cells": [
    {
      "cell_type": "markdown",
      "metadata": {
        "id": "view-in-github",
        "colab_type": "text"
      },
      "source": [
        "<a href=\"https://colab.research.google.com/github/theAkhileshRai/Projects/blob/master/dashboards/Plotly/Box_Plots03.ipynb\" target=\"_parent\"><img src=\"https://colab.research.google.com/assets/colab-badge.svg\" alt=\"Open In Colab\"/></a>"
      ]
    },
    {
      "cell_type": "markdown",
      "metadata": {
        "id": "YgJN3F9HWnEq",
        "colab_type": "text"
      },
      "source": [
        ""
      ]
    },
    {
      "cell_type": "code",
      "metadata": {
        "id": "v8V45SFwN6L9",
        "colab_type": "code",
        "colab": {}
      },
      "source": [
        "import plotly.offline as pyo\n",
        "import plotly.graph_objs as go\n",
        "import numpy as np \n",
        "import pandas as pd"
      ],
      "execution_count": 15,
      "outputs": []
    },
    {
      "cell_type": "code",
      "metadata": {
        "id": "pTxW_PbeX5NR",
        "colab_type": "code",
        "colab": {
          "base_uri": "https://localhost:8080/",
          "height": 34
        },
        "outputId": "48162852-8e41-4504-88a0-2a7732011b6e"
      },
      "source": [
        "snod_grass = [.208,.209,.196,.202,.207,.194,.213,.220]\n",
        "twain = [.228,.259,.296,.292,.267,.194,.239,.280]\n",
        "\n",
        "data = [go.Box(y=snod_grass,name = 'SnodGrass',boxpoints = 'outliers',jitter = 0.3, pointpos =2.0),go.Box(y=twain,name = 'SnodGrass',boxpoints = 'outliers',jitter = 0.3, pointpos =2.0)]\n",
        "\n",
        "pyo.plot(data)"
      ],
      "execution_count": 14,
      "outputs": [
        {
          "output_type": "execute_result",
          "data": {
            "text/plain": [
              "'temp-plot.html'"
            ]
          },
          "metadata": {
            "tags": []
          },
          "execution_count": 14
        }
      ]
    },
    {
      "cell_type": "code",
      "metadata": {
        "id": "S9zNB60mADmb",
        "colab_type": "code",
        "colab": {}
      },
      "source": [
        "df = pd.read_csv('/content/abalone.csv')"
      ],
      "execution_count": 16,
      "outputs": []
    },
    {
      "cell_type": "code",
      "metadata": {
        "id": "b4QeiReEAIix",
        "colab_type": "code",
        "colab": {
          "base_uri": "https://localhost:8080/",
          "height": 34
        },
        "outputId": "c6b0e143-9a16-4be6-fcc1-d03e9270f251"
      },
      "source": [
        "a = np.random.choice(df['rings'],10,replace=True)\n",
        "b = np.random.choice(df['rings'],10,replace=True)\n",
        "\n",
        "data = [go.Box(y=a,name = 'a',boxpoints = 'outliers',jitter = 0.5, pointpos =2.0),go.Box(y=b,name = 'b',boxpoints = 'outliers',jitter = 0.5, pointpos =2.0)]\n",
        "pyo.plot(data)"
      ],
      "execution_count": 20,
      "outputs": [
        {
          "output_type": "execute_result",
          "data": {
            "text/plain": [
              "'temp-plot.html'"
            ]
          },
          "metadata": {
            "tags": []
          },
          "execution_count": 20
        }
      ]
    }
  ]
}