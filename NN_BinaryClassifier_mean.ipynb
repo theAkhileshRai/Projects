{
  "nbformat": 4,
  "nbformat_minor": 0,
  "metadata": {
    "colab": {
      "name": "NN BinaryClassifier_mean.ipynb",
      "provenance": [],
      "collapsed_sections": [],
      "toc_visible": true,
      "authorship_tag": "ABX9TyOLVBMoaQoXGR5IG6xRNcQm",
      "include_colab_link": true
    },
    "kernelspec": {
      "name": "python3",
      "display_name": "Python 3"
    },
    "accelerator": "GPU"
  },
  "cells": [
    {
      "cell_type": "markdown",
      "metadata": {
        "id": "view-in-github",
        "colab_type": "text"
      },
      "source": [
        "<a href=\"https://colab.research.google.com/github/theAkhileshRai/Projects/blob/master/NN_BinaryClassifier_mean.ipynb\" target=\"_parent\"><img src=\"https://colab.research.google.com/assets/colab-badge.svg\" alt=\"Open In Colab\"/></a>"
      ]
    },
    {
      "cell_type": "code",
      "metadata": {
        "id": "P10uROM_sbU3",
        "colab_type": "code",
        "colab": {}
      },
      "source": [
        "import numpy as np\n",
        "import pandas as pd\n",
        "import matplotlib.pyplot as plt\n",
        "import sklearn\n",
        "\n",
        "from numpy import loadtxt\n",
        "from sklearn.model_selection import train_test_split\n",
        "from sklearn.metrics import accuracy_score\n",
        "from sklearn.preprocessing import StandardScaler,OneHotEncoder    \n",
        "\n",
        "\n",
        "from sklearn.metrics import confusion_matrix, classification_report\n",
        "\n",
        "from keras.utils import to_categorical\n",
        "\n",
        "import torch\n",
        "import torch.nn as nn\n",
        "import torch.optim as optim\n",
        "from torch.utils.data import Dataset, DataLoader\n",
        "\n",
        "from sklearn.preprocessing import StandardScaler"
      ],
      "execution_count": 0,
      "outputs": []
    },
    {
      "cell_type": "code",
      "metadata": {
        "id": "7BW6XEV1sh09",
        "colab_type": "code",
        "colab": {}
      },
      "source": [
        "df1 = pd.read_csv('/content/Combined_df.csv',index_col=False)"
      ],
      "execution_count": 0,
      "outputs": []
    },
    {
      "cell_type": "code",
      "metadata": {
        "id": "ySz7tAnswqa8",
        "colab_type": "code",
        "outputId": "6c341b51-5df7-4988-f040-eeb2d4d8ea2c",
        "colab": {
          "base_uri": "https://localhost:8080/",
          "height": 330
        }
      },
      "source": [
        "df1.head()"
      ],
      "execution_count": 30,
      "outputs": [
        {
          "output_type": "execute_result",
          "data": {
            "text/html": [
              "<div>\n",
              "<style scoped>\n",
              "    .dataframe tbody tr th:only-of-type {\n",
              "        vertical-align: middle;\n",
              "    }\n",
              "\n",
              "    .dataframe tbody tr th {\n",
              "        vertical-align: top;\n",
              "    }\n",
              "\n",
              "    .dataframe thead th {\n",
              "        text-align: right;\n",
              "    }\n",
              "</style>\n",
              "<table border=\"1\" class=\"dataframe\">\n",
              "  <thead>\n",
              "    <tr style=\"text-align: right;\">\n",
              "      <th></th>\n",
              "      <th>Unnamed: 0</th>\n",
              "      <th>time</th>\n",
              "      <th>cyl</th>\n",
              "      <th>s_temp_crank</th>\n",
              "      <th>d_temp_crank</th>\n",
              "      <th>s_pressure_crank</th>\n",
              "      <th>d_pressure_crank</th>\n",
              "      <th>rpm_crank</th>\n",
              "      <th>s_temp_mean</th>\n",
              "      <th>d_temp_mean</th>\n",
              "      <th>s_pressure_mean</th>\n",
              "      <th>d_pressure_mean</th>\n",
              "      <th>rpm_mean</th>\n",
              "      <th>y_true</th>\n",
              "      <th>leak_level</th>\n",
              "      <th>station</th>\n",
              "    </tr>\n",
              "  </thead>\n",
              "  <tbody>\n",
              "    <tr>\n",
              "      <th>0</th>\n",
              "      <td>0</td>\n",
              "      <td>05/04/19 2:30</td>\n",
              "      <td>1</td>\n",
              "      <td>0.666534</td>\n",
              "      <td>2.080444</td>\n",
              "      <td>3.220836</td>\n",
              "      <td>10.105964</td>\n",
              "      <td>10.063987</td>\n",
              "      <td>0.666534</td>\n",
              "      <td>2.053527</td>\n",
              "      <td>3.307406</td>\n",
              "      <td>10.142075</td>\n",
              "      <td>10.063987</td>\n",
              "      <td>1</td>\n",
              "      <td>2</td>\n",
              "      <td>Cross Barr</td>\n",
              "    </tr>\n",
              "    <tr>\n",
              "      <th>1</th>\n",
              "      <td>1</td>\n",
              "      <td>05/04/19 3:30</td>\n",
              "      <td>1</td>\n",
              "      <td>0.716066</td>\n",
              "      <td>2.153494</td>\n",
              "      <td>3.135203</td>\n",
              "      <td>9.998847</td>\n",
              "      <td>10.075669</td>\n",
              "      <td>0.716066</td>\n",
              "      <td>2.120434</td>\n",
              "      <td>3.243347</td>\n",
              "      <td>10.053597</td>\n",
              "      <td>10.075669</td>\n",
              "      <td>1</td>\n",
              "      <td>2</td>\n",
              "      <td>Cross Barr</td>\n",
              "    </tr>\n",
              "    <tr>\n",
              "      <th>2</th>\n",
              "      <td>2</td>\n",
              "      <td>05/04/19 4:30</td>\n",
              "      <td>1</td>\n",
              "      <td>0.687551</td>\n",
              "      <td>2.142630</td>\n",
              "      <td>3.066270</td>\n",
              "      <td>9.954641</td>\n",
              "      <td>10.081478</td>\n",
              "      <td>0.687551</td>\n",
              "      <td>2.105328</td>\n",
              "      <td>3.181119</td>\n",
              "      <td>10.001306</td>\n",
              "      <td>10.081478</td>\n",
              "      <td>1</td>\n",
              "      <td>2</td>\n",
              "      <td>Cross Barr</td>\n",
              "    </tr>\n",
              "    <tr>\n",
              "      <th>3</th>\n",
              "      <td>3</td>\n",
              "      <td>05/04/19 5:30</td>\n",
              "      <td>1</td>\n",
              "      <td>0.686916</td>\n",
              "      <td>2.140013</td>\n",
              "      <td>3.071850</td>\n",
              "      <td>9.956670</td>\n",
              "      <td>10.054274</td>\n",
              "      <td>0.686916</td>\n",
              "      <td>2.101800</td>\n",
              "      <td>3.191233</td>\n",
              "      <td>10.008420</td>\n",
              "      <td>10.054274</td>\n",
              "      <td>1</td>\n",
              "      <td>2</td>\n",
              "      <td>Cross Barr</td>\n",
              "    </tr>\n",
              "    <tr>\n",
              "      <th>4</th>\n",
              "      <td>4</td>\n",
              "      <td>05/04/19 6:30</td>\n",
              "      <td>1</td>\n",
              "      <td>0.698125</td>\n",
              "      <td>2.156244</td>\n",
              "      <td>3.063865</td>\n",
              "      <td>9.961413</td>\n",
              "      <td>10.091478</td>\n",
              "      <td>0.698125</td>\n",
              "      <td>2.117328</td>\n",
              "      <td>3.183534</td>\n",
              "      <td>10.009700</td>\n",
              "      <td>10.091478</td>\n",
              "      <td>1</td>\n",
              "      <td>2</td>\n",
              "      <td>Cross Barr</td>\n",
              "    </tr>\n",
              "  </tbody>\n",
              "</table>\n",
              "</div>"
            ],
            "text/plain": [
              "   Unnamed: 0           time  cyl  ...  y_true  leak_level     station\n",
              "0           0  05/04/19 2:30    1  ...       1           2  Cross Barr\n",
              "1           1  05/04/19 3:30    1  ...       1           2  Cross Barr\n",
              "2           2  05/04/19 4:30    1  ...       1           2  Cross Barr\n",
              "3           3  05/04/19 5:30    1  ...       1           2  Cross Barr\n",
              "4           4  05/04/19 6:30    1  ...       1           2  Cross Barr\n",
              "\n",
              "[5 rows x 16 columns]"
            ]
          },
          "metadata": {
            "tags": []
          },
          "execution_count": 30
        }
      ]
    },
    {
      "cell_type": "code",
      "metadata": {
        "id": "TdsRIaE8w7kC",
        "colab_type": "code",
        "outputId": "cfdd1cb2-027c-4427-f1f2-7ad0e5dc8330",
        "colab": {
          "base_uri": "https://localhost:8080/",
          "height": 104
        }
      },
      "source": [
        "df1.columns"
      ],
      "execution_count": 31,
      "outputs": [
        {
          "output_type": "execute_result",
          "data": {
            "text/plain": [
              "Index(['Unnamed: 0', 'time', 'cyl', 's_temp_crank', 'd_temp_crank',\n",
              "       's_pressure_crank', 'd_pressure_crank', 'rpm_crank', 's_temp_mean',\n",
              "       'd_temp_mean', 's_pressure_mean', 'd_pressure_mean', 'rpm_mean',\n",
              "       'y_true', 'leak_level', 'station'],\n",
              "      dtype='object')"
            ]
          },
          "metadata": {
            "tags": []
          },
          "execution_count": 31
        }
      ]
    },
    {
      "cell_type": "code",
      "metadata": {
        "id": "nBrWvkAjwx6S",
        "colab_type": "code",
        "colab": {}
      },
      "source": [
        "df1 = df1.drop(columns='Unnamed: 0')\n",
        "df1['y_true'] = df1['y_true'].fillna(0)\n",
        "df1['leak_level'] = df1['leak_level'].fillna(0)"
      ],
      "execution_count": 0,
      "outputs": []
    },
    {
      "cell_type": "code",
      "metadata": {
        "id": "G3TrxRtjxE3f",
        "colab_type": "code",
        "outputId": "1de70dd7-58ee-4744-c8a6-d28ca40966d5",
        "colab": {
          "base_uri": "https://localhost:8080/",
          "height": 313
        }
      },
      "source": [
        "df1.head()"
      ],
      "execution_count": 33,
      "outputs": [
        {
          "output_type": "execute_result",
          "data": {
            "text/html": [
              "<div>\n",
              "<style scoped>\n",
              "    .dataframe tbody tr th:only-of-type {\n",
              "        vertical-align: middle;\n",
              "    }\n",
              "\n",
              "    .dataframe tbody tr th {\n",
              "        vertical-align: top;\n",
              "    }\n",
              "\n",
              "    .dataframe thead th {\n",
              "        text-align: right;\n",
              "    }\n",
              "</style>\n",
              "<table border=\"1\" class=\"dataframe\">\n",
              "  <thead>\n",
              "    <tr style=\"text-align: right;\">\n",
              "      <th></th>\n",
              "      <th>time</th>\n",
              "      <th>cyl</th>\n",
              "      <th>s_temp_crank</th>\n",
              "      <th>d_temp_crank</th>\n",
              "      <th>s_pressure_crank</th>\n",
              "      <th>d_pressure_crank</th>\n",
              "      <th>rpm_crank</th>\n",
              "      <th>s_temp_mean</th>\n",
              "      <th>d_temp_mean</th>\n",
              "      <th>s_pressure_mean</th>\n",
              "      <th>d_pressure_mean</th>\n",
              "      <th>rpm_mean</th>\n",
              "      <th>y_true</th>\n",
              "      <th>leak_level</th>\n",
              "      <th>station</th>\n",
              "    </tr>\n",
              "  </thead>\n",
              "  <tbody>\n",
              "    <tr>\n",
              "      <th>0</th>\n",
              "      <td>05/04/19 2:30</td>\n",
              "      <td>1</td>\n",
              "      <td>0.666534</td>\n",
              "      <td>2.080444</td>\n",
              "      <td>3.220836</td>\n",
              "      <td>10.105964</td>\n",
              "      <td>10.063987</td>\n",
              "      <td>0.666534</td>\n",
              "      <td>2.053527</td>\n",
              "      <td>3.307406</td>\n",
              "      <td>10.142075</td>\n",
              "      <td>10.063987</td>\n",
              "      <td>1</td>\n",
              "      <td>2</td>\n",
              "      <td>Cross Barr</td>\n",
              "    </tr>\n",
              "    <tr>\n",
              "      <th>1</th>\n",
              "      <td>05/04/19 3:30</td>\n",
              "      <td>1</td>\n",
              "      <td>0.716066</td>\n",
              "      <td>2.153494</td>\n",
              "      <td>3.135203</td>\n",
              "      <td>9.998847</td>\n",
              "      <td>10.075669</td>\n",
              "      <td>0.716066</td>\n",
              "      <td>2.120434</td>\n",
              "      <td>3.243347</td>\n",
              "      <td>10.053597</td>\n",
              "      <td>10.075669</td>\n",
              "      <td>1</td>\n",
              "      <td>2</td>\n",
              "      <td>Cross Barr</td>\n",
              "    </tr>\n",
              "    <tr>\n",
              "      <th>2</th>\n",
              "      <td>05/04/19 4:30</td>\n",
              "      <td>1</td>\n",
              "      <td>0.687551</td>\n",
              "      <td>2.142630</td>\n",
              "      <td>3.066270</td>\n",
              "      <td>9.954641</td>\n",
              "      <td>10.081478</td>\n",
              "      <td>0.687551</td>\n",
              "      <td>2.105328</td>\n",
              "      <td>3.181119</td>\n",
              "      <td>10.001306</td>\n",
              "      <td>10.081478</td>\n",
              "      <td>1</td>\n",
              "      <td>2</td>\n",
              "      <td>Cross Barr</td>\n",
              "    </tr>\n",
              "    <tr>\n",
              "      <th>3</th>\n",
              "      <td>05/04/19 5:30</td>\n",
              "      <td>1</td>\n",
              "      <td>0.686916</td>\n",
              "      <td>2.140013</td>\n",
              "      <td>3.071850</td>\n",
              "      <td>9.956670</td>\n",
              "      <td>10.054274</td>\n",
              "      <td>0.686916</td>\n",
              "      <td>2.101800</td>\n",
              "      <td>3.191233</td>\n",
              "      <td>10.008420</td>\n",
              "      <td>10.054274</td>\n",
              "      <td>1</td>\n",
              "      <td>2</td>\n",
              "      <td>Cross Barr</td>\n",
              "    </tr>\n",
              "    <tr>\n",
              "      <th>4</th>\n",
              "      <td>05/04/19 6:30</td>\n",
              "      <td>1</td>\n",
              "      <td>0.698125</td>\n",
              "      <td>2.156244</td>\n",
              "      <td>3.063865</td>\n",
              "      <td>9.961413</td>\n",
              "      <td>10.091478</td>\n",
              "      <td>0.698125</td>\n",
              "      <td>2.117328</td>\n",
              "      <td>3.183534</td>\n",
              "      <td>10.009700</td>\n",
              "      <td>10.091478</td>\n",
              "      <td>1</td>\n",
              "      <td>2</td>\n",
              "      <td>Cross Barr</td>\n",
              "    </tr>\n",
              "  </tbody>\n",
              "</table>\n",
              "</div>"
            ],
            "text/plain": [
              "            time  cyl  s_temp_crank  ...  y_true  leak_level     station\n",
              "0  05/04/19 2:30    1      0.666534  ...       1           2  Cross Barr\n",
              "1  05/04/19 3:30    1      0.716066  ...       1           2  Cross Barr\n",
              "2  05/04/19 4:30    1      0.687551  ...       1           2  Cross Barr\n",
              "3  05/04/19 5:30    1      0.686916  ...       1           2  Cross Barr\n",
              "4  05/04/19 6:30    1      0.698125  ...       1           2  Cross Barr\n",
              "\n",
              "[5 rows x 15 columns]"
            ]
          },
          "metadata": {
            "tags": []
          },
          "execution_count": 33
        }
      ]
    },
    {
      "cell_type": "code",
      "metadata": {
        "id": "MDd6bEFPj0mh",
        "colab_type": "code",
        "outputId": "a0a97689-22b4-4483-f29a-d64385c78424",
        "colab": {
          "base_uri": "https://localhost:8080/",
          "height": 104
        }
      },
      "source": [
        "df1.columns"
      ],
      "execution_count": 34,
      "outputs": [
        {
          "output_type": "execute_result",
          "data": {
            "text/plain": [
              "Index(['time', 'cyl', 's_temp_crank', 'd_temp_crank', 's_pressure_crank',\n",
              "       'd_pressure_crank', 'rpm_crank', 's_temp_mean', 'd_temp_mean',\n",
              "       's_pressure_mean', 'd_pressure_mean', 'rpm_mean', 'y_true',\n",
              "       'leak_level', 'station'],\n",
              "      dtype='object')"
            ]
          },
          "metadata": {
            "tags": []
          },
          "execution_count": 34
        }
      ]
    },
    {
      "cell_type": "code",
      "metadata": {
        "id": "C_FhJ9ekCX79",
        "colab_type": "code",
        "colab": {}
      },
      "source": [
        "X_columns = [     's_temp_mean',      'd_temp_mean',\n",
        "        's_pressure_mean',  'd_pressure_mean',         'rpm_mean']"
      ],
      "execution_count": 0,
      "outputs": []
    },
    {
      "cell_type": "code",
      "metadata": {
        "id": "vzRQrtp3xKTL",
        "colab_type": "code",
        "colab": {}
      },
      "source": [
        "X = df1[X_columns]"
      ],
      "execution_count": 0,
      "outputs": []
    },
    {
      "cell_type": "markdown",
      "metadata": {
        "id": "X76N5os4_x5r",
        "colab_type": "text"
      },
      "source": [
        "# build  with mean"
      ]
    },
    {
      "cell_type": "code",
      "metadata": {
        "id": "41ZpjzWqDeIW",
        "colab_type": "code",
        "outputId": "9e6b4205-b43a-4815-d67b-4e32245d0124",
        "colab": {
          "base_uri": "https://localhost:8080/",
          "height": 424
        }
      },
      "source": [
        "X"
      ],
      "execution_count": 37,
      "outputs": [
        {
          "output_type": "execute_result",
          "data": {
            "text/html": [
              "<div>\n",
              "<style scoped>\n",
              "    .dataframe tbody tr th:only-of-type {\n",
              "        vertical-align: middle;\n",
              "    }\n",
              "\n",
              "    .dataframe tbody tr th {\n",
              "        vertical-align: top;\n",
              "    }\n",
              "\n",
              "    .dataframe thead th {\n",
              "        text-align: right;\n",
              "    }\n",
              "</style>\n",
              "<table border=\"1\" class=\"dataframe\">\n",
              "  <thead>\n",
              "    <tr style=\"text-align: right;\">\n",
              "      <th></th>\n",
              "      <th>s_temp_mean</th>\n",
              "      <th>d_temp_mean</th>\n",
              "      <th>s_pressure_mean</th>\n",
              "      <th>d_pressure_mean</th>\n",
              "      <th>rpm_mean</th>\n",
              "    </tr>\n",
              "  </thead>\n",
              "  <tbody>\n",
              "    <tr>\n",
              "      <th>0</th>\n",
              "      <td>0.666534</td>\n",
              "      <td>2.053527</td>\n",
              "      <td>3.307406</td>\n",
              "      <td>10.142075</td>\n",
              "      <td>10.063987</td>\n",
              "    </tr>\n",
              "    <tr>\n",
              "      <th>1</th>\n",
              "      <td>0.716066</td>\n",
              "      <td>2.120434</td>\n",
              "      <td>3.243347</td>\n",
              "      <td>10.053597</td>\n",
              "      <td>10.075669</td>\n",
              "    </tr>\n",
              "    <tr>\n",
              "      <th>2</th>\n",
              "      <td>0.687551</td>\n",
              "      <td>2.105328</td>\n",
              "      <td>3.181119</td>\n",
              "      <td>10.001306</td>\n",
              "      <td>10.081478</td>\n",
              "    </tr>\n",
              "    <tr>\n",
              "      <th>3</th>\n",
              "      <td>0.686916</td>\n",
              "      <td>2.101800</td>\n",
              "      <td>3.191233</td>\n",
              "      <td>10.008420</td>\n",
              "      <td>10.054274</td>\n",
              "    </tr>\n",
              "    <tr>\n",
              "      <th>4</th>\n",
              "      <td>0.698125</td>\n",
              "      <td>2.117328</td>\n",
              "      <td>3.183534</td>\n",
              "      <td>10.009700</td>\n",
              "      <td>10.091478</td>\n",
              "    </tr>\n",
              "    <tr>\n",
              "      <th>...</th>\n",
              "      <td>...</td>\n",
              "      <td>...</td>\n",
              "      <td>...</td>\n",
              "      <td>...</td>\n",
              "      <td>...</td>\n",
              "    </tr>\n",
              "    <tr>\n",
              "      <th>165856</th>\n",
              "      <td>0.728417</td>\n",
              "      <td>2.854156</td>\n",
              "      <td>0.184073</td>\n",
              "      <td>2.375134</td>\n",
              "      <td>12.358284</td>\n",
              "    </tr>\n",
              "    <tr>\n",
              "      <th>165857</th>\n",
              "      <td>0.686059</td>\n",
              "      <td>2.810078</td>\n",
              "      <td>0.179784</td>\n",
              "      <td>2.370367</td>\n",
              "      <td>12.359520</td>\n",
              "    </tr>\n",
              "    <tr>\n",
              "      <th>165858</th>\n",
              "      <td>0.663322</td>\n",
              "      <td>2.785113</td>\n",
              "      <td>0.180072</td>\n",
              "      <td>2.373662</td>\n",
              "      <td>12.352143</td>\n",
              "    </tr>\n",
              "    <tr>\n",
              "      <th>165859</th>\n",
              "      <td>0.645405</td>\n",
              "      <td>2.767917</td>\n",
              "      <td>0.178354</td>\n",
              "      <td>2.373709</td>\n",
              "      <td>12.353393</td>\n",
              "    </tr>\n",
              "    <tr>\n",
              "      <th>165860</th>\n",
              "      <td>0.637614</td>\n",
              "      <td>2.766502</td>\n",
              "      <td>0.176086</td>\n",
              "      <td>2.378750</td>\n",
              "      <td>12.357672</td>\n",
              "    </tr>\n",
              "  </tbody>\n",
              "</table>\n",
              "<p>165861 rows × 5 columns</p>\n",
              "</div>"
            ],
            "text/plain": [
              "        s_temp_mean  d_temp_mean  s_pressure_mean  d_pressure_mean   rpm_mean\n",
              "0          0.666534     2.053527         3.307406        10.142075  10.063987\n",
              "1          0.716066     2.120434         3.243347        10.053597  10.075669\n",
              "2          0.687551     2.105328         3.181119        10.001306  10.081478\n",
              "3          0.686916     2.101800         3.191233        10.008420  10.054274\n",
              "4          0.698125     2.117328         3.183534        10.009700  10.091478\n",
              "...             ...          ...              ...              ...        ...\n",
              "165856     0.728417     2.854156         0.184073         2.375134  12.358284\n",
              "165857     0.686059     2.810078         0.179784         2.370367  12.359520\n",
              "165858     0.663322     2.785113         0.180072         2.373662  12.352143\n",
              "165859     0.645405     2.767917         0.178354         2.373709  12.353393\n",
              "165860     0.637614     2.766502         0.176086         2.378750  12.357672\n",
              "\n",
              "[165861 rows x 5 columns]"
            ]
          },
          "metadata": {
            "tags": []
          },
          "execution_count": 37
        }
      ]
    },
    {
      "cell_type": "code",
      "metadata": {
        "id": "osDrTPHBDgws",
        "colab_type": "code",
        "colab": {}
      },
      "source": [
        "y_true = df1.iloc[:,12]"
      ],
      "execution_count": 0,
      "outputs": []
    },
    {
      "cell_type": "code",
      "metadata": {
        "id": "BhjDVPj6kHHe",
        "colab_type": "code",
        "outputId": "83143b19-0715-4509-ac1c-a01aae49dd24",
        "colab": {
          "base_uri": "https://localhost:8080/",
          "height": 34
        }
      },
      "source": [
        "y_true.unique()"
      ],
      "execution_count": 39,
      "outputs": [
        {
          "output_type": "execute_result",
          "data": {
            "text/plain": [
              "array([1, 0])"
            ]
          },
          "metadata": {
            "tags": []
          },
          "execution_count": 39
        }
      ]
    },
    {
      "cell_type": "code",
      "metadata": {
        "id": "QUjimy6IJ_wS",
        "colab_type": "code",
        "colab": {}
      },
      "source": [
        "seed = 42\n",
        "test_size = 0.33\n",
        "X_train, X_test, y_train, y_test = train_test_split(X, y_true, test_size=test_size)"
      ],
      "execution_count": 0,
      "outputs": []
    },
    {
      "cell_type": "code",
      "metadata": {
        "id": "DeA4Ad6-TG2m",
        "colab_type": "code",
        "colab": {}
      },
      "source": [
        "from collections import Counter"
      ],
      "execution_count": 0,
      "outputs": []
    },
    {
      "cell_type": "code",
      "metadata": {
        "id": "u6qs--2goqXC",
        "colab_type": "code",
        "outputId": "7f0634e3-5768-4aa5-ef7e-e543ec50fc47",
        "colab": {
          "base_uri": "https://localhost:8080/",
          "height": 34
        }
      },
      "source": [
        "print(X_train.shape,y_train.shape)"
      ],
      "execution_count": 42,
      "outputs": [
        {
          "output_type": "stream",
          "text": [
            "(111126, 5) (111126,)\n"
          ],
          "name": "stdout"
        }
      ]
    },
    {
      "cell_type": "code",
      "metadata": {
        "id": "Zxib685OjhRK",
        "colab_type": "code",
        "outputId": "23c8f207-2536-4876-946a-67a8f4f636f1",
        "colab": {
          "base_uri": "https://localhost:8080/",
          "height": 34
        }
      },
      "source": [
        "Counter(y_train)"
      ],
      "execution_count": 43,
      "outputs": [
        {
          "output_type": "execute_result",
          "data": {
            "text/plain": [
              "Counter({0: 91856, 1: 19270})"
            ]
          },
          "metadata": {
            "tags": []
          },
          "execution_count": 43
        }
      ]
    },
    {
      "cell_type": "markdown",
      "metadata": {
        "id": "x46e8C02_USW",
        "colab_type": "text"
      },
      "source": [
        "64->16->4->1"
      ]
    },
    {
      "cell_type": "code",
      "metadata": {
        "id": "QK8nARFrb0jE",
        "colab_type": "code",
        "colab": {}
      },
      "source": [
        "class binaryClassification(nn.Module):\n",
        "    def __init__(self):\n",
        "        super(binaryClassification, self).__init__()\n",
        "        # Number of input features is 12.\n",
        "        self.layer_1 = nn.Linear(5, 64) \n",
        "        self.layer_2 = nn.Linear(64, 64)\n",
        "        self.layer_3 = nn.Linear(64, 10)\n",
        "        self.layer_4 = nn.Linear(10, 4)\n",
        "        self.layer_out = nn.Linear(4, 1) \n",
        "        \n",
        "        self.relu = nn.ReLU()\n",
        "        self.dropout = nn.Dropout(p=0.1)\n",
        "        self.batchnorm1 = nn.BatchNorm1d(64)\n",
        "        self.batchnorm2 = nn.BatchNorm1d(64)\n",
        "        self.batchnorm3 = nn.BatchNorm1d(10)\n",
        "        #self.batchnorm4 = nn.BatchNorm1d(4)\n",
        "\n",
        "        \n",
        "    def forward(self, inputs):\n",
        "        x = self.relu(self.layer_1(inputs))\n",
        "        x = self.batchnorm1(x)\n",
        "        x = self.relu(self.layer_2(x))\n",
        "        x = self.batchnorm2(x)\n",
        "        x = self.relu(self.layer_3(x))\n",
        "        x = self.batchnorm3(x)\n",
        "        x = self.relu(self.layer_4(x))\n",
        "        x = self.dropout(x)\n",
        "        x = self.layer_out(x)\n",
        "        \n",
        "        return x"
      ],
      "execution_count": 0,
      "outputs": []
    },
    {
      "cell_type": "code",
      "metadata": {
        "id": "yXiXsGllj-Pp",
        "colab_type": "code",
        "colab": {}
      },
      "source": [
        "scaler = StandardScaler()\n",
        "X_train = scaler.fit_transform(X_train)\n",
        "X_test = scaler.fit_transform(X_test)"
      ],
      "execution_count": 0,
      "outputs": []
    },
    {
      "cell_type": "code",
      "metadata": {
        "id": "uam-SPjJlGsT",
        "colab_type": "code",
        "colab": {}
      },
      "source": [
        "EPOCHS = 50\n",
        "BATCH_SIZE = 64\n",
        "LEARNING_RATE = 0.0009"
      ],
      "execution_count": 0,
      "outputs": []
    },
    {
      "cell_type": "code",
      "metadata": {
        "id": "JdQAqwpOlTYo",
        "colab_type": "code",
        "colab": {}
      },
      "source": [
        "## train data\n",
        "class trainData(Dataset):\n",
        "    \n",
        "    def __init__(self, X_data, y_data):\n",
        "        self.X_data = X_data\n",
        "        self.y_data = y_data\n",
        "        \n",
        "    def __getitem__(self, index):\n",
        "        return self.X_data[index], self.y_data[index]\n",
        "        \n",
        "    def __len__ (self):\n",
        "        return len(self.X_data)\n",
        "\n",
        "\n",
        "train_data = trainData(torch.FloatTensor(X_train), \n",
        "                       torch.FloatTensor(y_train.values))\n",
        "## test data    \n",
        "class testData(Dataset):\n",
        "    \n",
        "    def __init__(self, X_data):\n",
        "        self.X_data = X_data\n",
        "        \n",
        "    def __getitem__(self, index):\n",
        "        return self.X_data[index]\n",
        "        \n",
        "    def __len__ (self):\n",
        "        return len(self.X_data)\n",
        "    \n",
        "\n",
        "test_data = testData(torch.FloatTensor(X_test))"
      ],
      "execution_count": 0,
      "outputs": []
    },
    {
      "cell_type": "code",
      "metadata": {
        "id": "7ADj3luUlV2O",
        "colab_type": "code",
        "colab": {}
      },
      "source": [
        "train_loader = DataLoader(dataset=train_data, batch_size=BATCH_SIZE, shuffle=True)\n",
        "test_loader = DataLoader(dataset=test_data, batch_size=1)"
      ],
      "execution_count": 0,
      "outputs": []
    },
    {
      "cell_type": "code",
      "metadata": {
        "id": "Ipz_O-d2ndxr",
        "colab_type": "code",
        "outputId": "0f6d956c-5360-422f-949c-8f9dd1e74ba6",
        "colab": {
          "base_uri": "https://localhost:8080/",
          "height": 34
        }
      },
      "source": [
        "device = torch.device(\"cuda:0\" if torch.cuda.is_available() else \"cpu\")\n",
        "print(device)"
      ],
      "execution_count": 87,
      "outputs": [
        {
          "output_type": "stream",
          "text": [
            "cuda:0\n"
          ],
          "name": "stdout"
        }
      ]
    },
    {
      "cell_type": "code",
      "metadata": {
        "id": "XmrpoOEmnaqx",
        "colab_type": "code",
        "outputId": "d56895bf-1123-49a3-9f9f-1a21058fb0b6",
        "colab": {
          "base_uri": "https://localhost:8080/",
          "height": 225
        }
      },
      "source": [
        "model = binaryClassification()\n",
        "model.to(device)"
      ],
      "execution_count": 88,
      "outputs": [
        {
          "output_type": "execute_result",
          "data": {
            "text/plain": [
              "binaryClassification(\n",
              "  (layer_1): Linear(in_features=5, out_features=64, bias=True)\n",
              "  (layer_2): Linear(in_features=64, out_features=64, bias=True)\n",
              "  (layer_3): Linear(in_features=64, out_features=10, bias=True)\n",
              "  (layer_4): Linear(in_features=10, out_features=4, bias=True)\n",
              "  (layer_out): Linear(in_features=4, out_features=1, bias=True)\n",
              "  (relu): ReLU()\n",
              "  (dropout): Dropout(p=0.1, inplace=False)\n",
              "  (batchnorm1): BatchNorm1d(64, eps=1e-05, momentum=0.1, affine=True, track_running_stats=True)\n",
              "  (batchnorm2): BatchNorm1d(64, eps=1e-05, momentum=0.1, affine=True, track_running_stats=True)\n",
              "  (batchnorm3): BatchNorm1d(10, eps=1e-05, momentum=0.1, affine=True, track_running_stats=True)\n",
              ")"
            ]
          },
          "metadata": {
            "tags": []
          },
          "execution_count": 88
        }
      ]
    },
    {
      "cell_type": "code",
      "metadata": {
        "id": "rKX1xn8OnRQl",
        "colab_type": "code",
        "colab": {}
      },
      "source": [
        "criterion = nn.BCEWithLogitsLoss()\n",
        "optimizer = optim.Adam(model.parameters(), lr=LEARNING_RATE)"
      ],
      "execution_count": 0,
      "outputs": []
    },
    {
      "cell_type": "code",
      "metadata": {
        "id": "CX-alqvfpa1D",
        "colab_type": "code",
        "colab": {}
      },
      "source": [
        "def binary_acc(y_pred, y_test):\n",
        "    y_pred_tag = torch.round(torch.sigmoid(y_pred))\n",
        "\n",
        "    correct_results_sum = (y_pred_tag == y_test).sum().float()\n",
        "    acc = correct_results_sum/y_test.shape[0]\n",
        "    acc = torch.round(acc * 100)\n",
        "    \n",
        "    return acc"
      ],
      "execution_count": 0,
      "outputs": []
    },
    {
      "cell_type": "code",
      "metadata": {
        "id": "tVcAHAH7pmWc",
        "colab_type": "code",
        "colab": {}
      },
      "source": [
        "model.train()\n",
        "for e in range(1, EPOCHS+1):\n",
        "    epoch_loss = 0\n",
        "    epoch_acc = 0\n",
        "    for X_batch, y_batch in train_loader:\n",
        "        X_batch, y_batch = X_batch.to(device), y_batch.to(device)\n",
        "        optimizer.zero_grad()\n",
        "        #X_batch = X_batch\n",
        "  \n",
        "        y_pred = model(X_batch)\n",
        "        \n",
        "        loss = criterion(y_pred, y_batch.unsqueeze(1))\n",
        "        acc = binary_acc(y_pred, y_batch.unsqueeze(1))\n",
        "        \n",
        "        loss.backward()\n",
        "        optimizer.step()\n",
        "        \n",
        "        epoch_loss += loss.item()\n",
        "        epoch_acc += acc.item()"
      ],
      "execution_count": 0,
      "outputs": []
    },
    {
      "cell_type": "code",
      "metadata": {
        "id": "bkg9Nwg7MH-E",
        "colab_type": "code",
        "colab": {}
      },
      "source": [
        "y_pred_list = []\n",
        "model.eval()\n",
        "with torch.no_grad():\n",
        "    for X_batch in test_loader:\n",
        "        X_batch = X_batch.to(device)\n",
        "        y_test_pred = model(X_batch)\n",
        "        y_test_pred = torch.sigmoid(y_test_pred)\n",
        "        y_pred_tag = torch.round(y_test_pred)\n",
        "        y_pred_list.append(y_pred_tag.cpu().numpy())\n",
        "\n",
        "y_pred_list = [a.squeeze().tolist() for a in y_pred_list]"
      ],
      "execution_count": 0,
      "outputs": []
    },
    {
      "cell_type": "code",
      "metadata": {
        "id": "oOx8PsecMNoW",
        "colab_type": "code",
        "outputId": "1b979064-5120-49c3-eda2-e1144187b5b4",
        "colab": {
          "base_uri": "https://localhost:8080/",
          "height": 52
        }
      },
      "source": [
        "confusion_matrix(y_test, y_pred_list)"
      ],
      "execution_count": 93,
      "outputs": [
        {
          "output_type": "execute_result",
          "data": {
            "text/plain": [
              "array([[43643,  1578],\n",
              "       [ 6413,  3101]])"
            ]
          },
          "metadata": {
            "tags": []
          },
          "execution_count": 93
        }
      ]
    },
    {
      "cell_type": "code",
      "metadata": {
        "id": "jA1qX1sXmhZi",
        "colab_type": "code",
        "outputId": "12d18172-fda7-4528-f6d9-9f7df9102e01",
        "colab": {
          "base_uri": "https://localhost:8080/",
          "height": 34
        }
      },
      "source": [
        "y_test.size"
      ],
      "execution_count": 94,
      "outputs": [
        {
          "output_type": "execute_result",
          "data": {
            "text/plain": [
              "54735"
            ]
          },
          "metadata": {
            "tags": []
          },
          "execution_count": 94
        }
      ]
    },
    {
      "cell_type": "code",
      "metadata": {
        "id": "5NXduzphPVfU",
        "colab_type": "code",
        "outputId": "044ccbbc-33b6-478f-b9da-0380f1132e7b",
        "colab": {
          "base_uri": "https://localhost:8080/",
          "height": 173
        }
      },
      "source": [
        "print(classification_report(y_test, y_pred_list))"
      ],
      "execution_count": 95,
      "outputs": [
        {
          "output_type": "stream",
          "text": [
            "              precision    recall  f1-score   support\n",
            "\n",
            "           0       0.87      0.97      0.92     45221\n",
            "           1       0.66      0.33      0.44      9514\n",
            "\n",
            "    accuracy                           0.85     54735\n",
            "   macro avg       0.77      0.65      0.68     54735\n",
            "weighted avg       0.84      0.85      0.83     54735\n",
            "\n"
          ],
          "name": "stdout"
        }
      ]
    },
    {
      "cell_type": "code",
      "metadata": {
        "id": "XqpTDFyBSuw9",
        "colab_type": "code",
        "colab": {}
      },
      "source": [
        "import pickle\n",
        "filename = 'binarynn_model.pkl'"
      ],
      "execution_count": 0,
      "outputs": []
    },
    {
      "cell_type": "code",
      "metadata": {
        "id": "Dpg2BIcQb2IM",
        "colab_type": "code",
        "colab": {}
      },
      "source": [
        "torch.save(model.state_dict(),filename)\n"
      ],
      "execution_count": 0,
      "outputs": []
    },
    {
      "cell_type": "code",
      "metadata": {
        "id": "dcfxrAPHc44k",
        "colab_type": "code",
        "outputId": "31862aa0-ef4e-4827-b6e4-29c8d24e8972",
        "colab": {
          "base_uri": "https://localhost:8080/",
          "height": 34
        }
      },
      "source": [
        "model.load_state_dict(torch.load(filename))"
      ],
      "execution_count": 98,
      "outputs": [
        {
          "output_type": "execute_result",
          "data": {
            "text/plain": [
              "<All keys matched successfully>"
            ]
          },
          "metadata": {
            "tags": []
          },
          "execution_count": 98
        }
      ]
    },
    {
      "cell_type": "code",
      "metadata": {
        "id": "_U7E2CDgdA7_",
        "colab_type": "code",
        "outputId": "d68dbeb6-0ac0-4fab-c250-9b00defba062",
        "colab": {
          "base_uri": "https://localhost:8080/",
          "height": 225
        }
      },
      "source": [
        "model.eval()"
      ],
      "execution_count": 99,
      "outputs": [
        {
          "output_type": "execute_result",
          "data": {
            "text/plain": [
              "binaryClassification(\n",
              "  (layer_1): Linear(in_features=5, out_features=64, bias=True)\n",
              "  (layer_2): Linear(in_features=64, out_features=64, bias=True)\n",
              "  (layer_3): Linear(in_features=64, out_features=10, bias=True)\n",
              "  (layer_4): Linear(in_features=10, out_features=4, bias=True)\n",
              "  (layer_out): Linear(in_features=4, out_features=1, bias=True)\n",
              "  (relu): ReLU()\n",
              "  (dropout): Dropout(p=0.1, inplace=False)\n",
              "  (batchnorm1): BatchNorm1d(64, eps=1e-05, momentum=0.1, affine=True, track_running_stats=True)\n",
              "  (batchnorm2): BatchNorm1d(64, eps=1e-05, momentum=0.1, affine=True, track_running_stats=True)\n",
              "  (batchnorm3): BatchNorm1d(10, eps=1e-05, momentum=0.1, affine=True, track_running_stats=True)\n",
              ")"
            ]
          },
          "metadata": {
            "tags": []
          },
          "execution_count": 99
        }
      ]
    },
    {
      "cell_type": "code",
      "metadata": {
        "id": "TdNyu3TcaKsU",
        "colab_type": "code",
        "colab": {}
      },
      "source": [
        "y_pred_list = []\n",
        "with torch.no_grad():\n",
        "    for X_batch in test_loader:\n",
        "        X_batch = X_batch.to(device)\n",
        "        y_test_pred = model(X_batch)\n",
        "        y_test_pred = torch.sigmoid(y_test_pred)\n",
        "        y_pred_tag = torch.round(y_test_pred)\n",
        "        y_pred_list.append(y_pred_tag.cpu().numpy())\n",
        "\n"
      ],
      "execution_count": 0,
      "outputs": []
    },
    {
      "cell_type": "code",
      "metadata": {
        "id": "tJYAUph2iNYL",
        "colab_type": "code",
        "colab": {}
      },
      "source": [
        "predictions=[]\n",
        "predictions.append([y_pred_list[i][0][0] for i in range(len(y_pred_list))])"
      ],
      "execution_count": 0,
      "outputs": []
    },
    {
      "cell_type": "code",
      "metadata": {
        "id": "wtiN-zLylj5K",
        "colab_type": "code",
        "outputId": "6699b1bb-d3c3-42a2-b6e2-b4f72d3f3c31",
        "colab": {
          "base_uri": "https://localhost:8080/",
          "height": 173
        }
      },
      "source": [
        "print(classification_report(y_test, predictions[0]))"
      ],
      "execution_count": 102,
      "outputs": [
        {
          "output_type": "stream",
          "text": [
            "              precision    recall  f1-score   support\n",
            "\n",
            "           0       0.87      0.97      0.92     45221\n",
            "           1       0.66      0.33      0.44      9514\n",
            "\n",
            "    accuracy                           0.85     54735\n",
            "   macro avg       0.77      0.65      0.68     54735\n",
            "weighted avg       0.84      0.85      0.83     54735\n",
            "\n"
          ],
          "name": "stdout"
        }
      ]
    }
  ]
}