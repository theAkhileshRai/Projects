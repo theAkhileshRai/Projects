{
  "nbformat": 4,
  "nbformat_minor": 0,
  "metadata": {
    "colab": {
      "name": "XGB Multi and Binary Classifier.ipynb",
      "provenance": [],
      "collapsed_sections": [],
      "toc_visible": true,
      "authorship_tag": "ABX9TyO8AltuG/CEaFlWXtgFSHGF",
      "include_colab_link": true
    },
    "kernelspec": {
      "name": "python3",
      "display_name": "Python 3"
    }
  },
  "cells": [
    {
      "cell_type": "markdown",
      "metadata": {
        "id": "view-in-github",
        "colab_type": "text"
      },
      "source": [
        "<a href=\"https://colab.research.google.com/github/theAkhileshRai/Projects/blob/master/XGB_Multi_and_Binary_Classifier.ipynb\" target=\"_parent\"><img src=\"https://colab.research.google.com/assets/colab-badge.svg\" alt=\"Open In Colab\"/></a>"
      ]
    },
    {
      "cell_type": "code",
      "metadata": {
        "id": "P10uROM_sbU3",
        "colab_type": "code",
        "colab": {}
      },
      "source": [
        " import numpy as np\n",
        "import pandas as pd\n",
        "import matplotlib.pyplot as plt\n",
        "import sklearn\n",
        "\n",
        "from numpy import loadtxt\n",
        "from xgboost import XGBClassifier\n",
        "from sklearn.model_selection import train_test_split\n",
        "from sklearn.metrics import accuracy_score"
      ],
      "execution_count": 0,
      "outputs": []
    },
    {
      "cell_type": "code",
      "metadata": {
        "id": "7BW6XEV1sh09",
        "colab_type": "code",
        "colab": {}
      },
      "source": [
        "df1 = pd.read_csv('/content/Combined_df.csv',index_col=False)"
      ],
      "execution_count": 0,
      "outputs": []
    },
    {
      "cell_type": "code",
      "metadata": {
        "id": "ySz7tAnswqa8",
        "colab_type": "code",
        "outputId": "711472ab-4dea-439b-ed5f-b4e9fd2933e8",
        "colab": {
          "base_uri": "https://localhost:8080/",
          "height": 330
        }
      },
      "source": [
        "df1.head()"
      ],
      "execution_count": 114,
      "outputs": [
        {
          "output_type": "execute_result",
          "data": {
            "text/html": [
              "<div>\n",
              "<style scoped>\n",
              "    .dataframe tbody tr th:only-of-type {\n",
              "        vertical-align: middle;\n",
              "    }\n",
              "\n",
              "    .dataframe tbody tr th {\n",
              "        vertical-align: top;\n",
              "    }\n",
              "\n",
              "    .dataframe thead th {\n",
              "        text-align: right;\n",
              "    }\n",
              "</style>\n",
              "<table border=\"1\" class=\"dataframe\">\n",
              "  <thead>\n",
              "    <tr style=\"text-align: right;\">\n",
              "      <th></th>\n",
              "      <th>Unnamed: 0</th>\n",
              "      <th>time</th>\n",
              "      <th>cyl</th>\n",
              "      <th>s_temp_crank</th>\n",
              "      <th>d_temp_crank</th>\n",
              "      <th>s_pressure_crank</th>\n",
              "      <th>d_pressure_crank</th>\n",
              "      <th>rpm_crank</th>\n",
              "      <th>s_temp_mean</th>\n",
              "      <th>d_temp_mean</th>\n",
              "      <th>s_pressure_mean</th>\n",
              "      <th>d_pressure_mean</th>\n",
              "      <th>rpm_mean</th>\n",
              "      <th>y_true</th>\n",
              "      <th>leak_level</th>\n",
              "      <th>station</th>\n",
              "    </tr>\n",
              "  </thead>\n",
              "  <tbody>\n",
              "    <tr>\n",
              "      <th>0</th>\n",
              "      <td>0</td>\n",
              "      <td>05/04/19 2:30</td>\n",
              "      <td>1</td>\n",
              "      <td>0.666534</td>\n",
              "      <td>2.080444</td>\n",
              "      <td>3.220836</td>\n",
              "      <td>10.105964</td>\n",
              "      <td>10.063987</td>\n",
              "      <td>0.666534</td>\n",
              "      <td>2.053527</td>\n",
              "      <td>3.307406</td>\n",
              "      <td>10.142075</td>\n",
              "      <td>10.063987</td>\n",
              "      <td>1.0</td>\n",
              "      <td>2.0</td>\n",
              "      <td>Cross Barr</td>\n",
              "    </tr>\n",
              "    <tr>\n",
              "      <th>1</th>\n",
              "      <td>1</td>\n",
              "      <td>05/04/19 3:30</td>\n",
              "      <td>1</td>\n",
              "      <td>0.716066</td>\n",
              "      <td>2.153494</td>\n",
              "      <td>3.135203</td>\n",
              "      <td>9.998847</td>\n",
              "      <td>10.075669</td>\n",
              "      <td>0.716066</td>\n",
              "      <td>2.120434</td>\n",
              "      <td>3.243347</td>\n",
              "      <td>10.053597</td>\n",
              "      <td>10.075669</td>\n",
              "      <td>1.0</td>\n",
              "      <td>2.0</td>\n",
              "      <td>Cross Barr</td>\n",
              "    </tr>\n",
              "    <tr>\n",
              "      <th>2</th>\n",
              "      <td>2</td>\n",
              "      <td>05/04/19 4:30</td>\n",
              "      <td>1</td>\n",
              "      <td>0.687551</td>\n",
              "      <td>2.142630</td>\n",
              "      <td>3.066270</td>\n",
              "      <td>9.954641</td>\n",
              "      <td>10.081478</td>\n",
              "      <td>0.687551</td>\n",
              "      <td>2.105328</td>\n",
              "      <td>3.181119</td>\n",
              "      <td>10.001306</td>\n",
              "      <td>10.081478</td>\n",
              "      <td>1.0</td>\n",
              "      <td>2.0</td>\n",
              "      <td>Cross Barr</td>\n",
              "    </tr>\n",
              "    <tr>\n",
              "      <th>3</th>\n",
              "      <td>3</td>\n",
              "      <td>05/04/19 5:30</td>\n",
              "      <td>1</td>\n",
              "      <td>0.686916</td>\n",
              "      <td>2.140013</td>\n",
              "      <td>3.071850</td>\n",
              "      <td>9.956670</td>\n",
              "      <td>10.054274</td>\n",
              "      <td>0.686916</td>\n",
              "      <td>2.101800</td>\n",
              "      <td>3.191233</td>\n",
              "      <td>10.008420</td>\n",
              "      <td>10.054274</td>\n",
              "      <td>1.0</td>\n",
              "      <td>2.0</td>\n",
              "      <td>Cross Barr</td>\n",
              "    </tr>\n",
              "    <tr>\n",
              "      <th>4</th>\n",
              "      <td>4</td>\n",
              "      <td>05/04/19 6:30</td>\n",
              "      <td>1</td>\n",
              "      <td>0.698125</td>\n",
              "      <td>2.156244</td>\n",
              "      <td>3.063865</td>\n",
              "      <td>9.961413</td>\n",
              "      <td>10.091478</td>\n",
              "      <td>0.698125</td>\n",
              "      <td>2.117328</td>\n",
              "      <td>3.183534</td>\n",
              "      <td>10.009700</td>\n",
              "      <td>10.091478</td>\n",
              "      <td>1.0</td>\n",
              "      <td>2.0</td>\n",
              "      <td>Cross Barr</td>\n",
              "    </tr>\n",
              "  </tbody>\n",
              "</table>\n",
              "</div>"
            ],
            "text/plain": [
              "   Unnamed: 0           time  cyl  ...  y_true  leak_level     station\n",
              "0           0  05/04/19 2:30    1  ...     1.0         2.0  Cross Barr\n",
              "1           1  05/04/19 3:30    1  ...     1.0         2.0  Cross Barr\n",
              "2           2  05/04/19 4:30    1  ...     1.0         2.0  Cross Barr\n",
              "3           3  05/04/19 5:30    1  ...     1.0         2.0  Cross Barr\n",
              "4           4  05/04/19 6:30    1  ...     1.0         2.0  Cross Barr\n",
              "\n",
              "[5 rows x 16 columns]"
            ]
          },
          "metadata": {
            "tags": []
          },
          "execution_count": 114
        }
      ]
    },
    {
      "cell_type": "code",
      "metadata": {
        "id": "TdsRIaE8w7kC",
        "colab_type": "code",
        "outputId": "88dbdec1-dd37-434b-d782-c22e8ee9d858",
        "colab": {
          "base_uri": "https://localhost:8080/",
          "height": 104
        }
      },
      "source": [
        "df1.columns"
      ],
      "execution_count": 115,
      "outputs": [
        {
          "output_type": "execute_result",
          "data": {
            "text/plain": [
              "Index(['Unnamed: 0', 'time', 'cyl', 's_temp_crank', 'd_temp_crank',\n",
              "       's_pressure_crank', 'd_pressure_crank', 'rpm_crank', 's_temp_mean',\n",
              "       'd_temp_mean', 's_pressure_mean', 'd_pressure_mean', 'rpm_mean',\n",
              "       'y_true', 'leak_level', 'station'],\n",
              "      dtype='object')"
            ]
          },
          "metadata": {
            "tags": []
          },
          "execution_count": 115
        }
      ]
    },
    {
      "cell_type": "code",
      "metadata": {
        "id": "nBrWvkAjwx6S",
        "colab_type": "code",
        "colab": {}
      },
      "source": [
        "df1 = df1.drop(columns='Unnamed: 0')"
      ],
      "execution_count": 0,
      "outputs": []
    },
    {
      "cell_type": "code",
      "metadata": {
        "id": "G3TrxRtjxE3f",
        "colab_type": "code",
        "outputId": "8208f630-d615-4e7e-e2b9-3f8519648032",
        "colab": {
          "base_uri": "https://localhost:8080/",
          "height": 313
        }
      },
      "source": [
        "df1.head()"
      ],
      "execution_count": 117,
      "outputs": [
        {
          "output_type": "execute_result",
          "data": {
            "text/html": [
              "<div>\n",
              "<style scoped>\n",
              "    .dataframe tbody tr th:only-of-type {\n",
              "        vertical-align: middle;\n",
              "    }\n",
              "\n",
              "    .dataframe tbody tr th {\n",
              "        vertical-align: top;\n",
              "    }\n",
              "\n",
              "    .dataframe thead th {\n",
              "        text-align: right;\n",
              "    }\n",
              "</style>\n",
              "<table border=\"1\" class=\"dataframe\">\n",
              "  <thead>\n",
              "    <tr style=\"text-align: right;\">\n",
              "      <th></th>\n",
              "      <th>time</th>\n",
              "      <th>cyl</th>\n",
              "      <th>s_temp_crank</th>\n",
              "      <th>d_temp_crank</th>\n",
              "      <th>s_pressure_crank</th>\n",
              "      <th>d_pressure_crank</th>\n",
              "      <th>rpm_crank</th>\n",
              "      <th>s_temp_mean</th>\n",
              "      <th>d_temp_mean</th>\n",
              "      <th>s_pressure_mean</th>\n",
              "      <th>d_pressure_mean</th>\n",
              "      <th>rpm_mean</th>\n",
              "      <th>y_true</th>\n",
              "      <th>leak_level</th>\n",
              "      <th>station</th>\n",
              "    </tr>\n",
              "  </thead>\n",
              "  <tbody>\n",
              "    <tr>\n",
              "      <th>0</th>\n",
              "      <td>05/04/19 2:30</td>\n",
              "      <td>1</td>\n",
              "      <td>0.666534</td>\n",
              "      <td>2.080444</td>\n",
              "      <td>3.220836</td>\n",
              "      <td>10.105964</td>\n",
              "      <td>10.063987</td>\n",
              "      <td>0.666534</td>\n",
              "      <td>2.053527</td>\n",
              "      <td>3.307406</td>\n",
              "      <td>10.142075</td>\n",
              "      <td>10.063987</td>\n",
              "      <td>1.0</td>\n",
              "      <td>2.0</td>\n",
              "      <td>Cross Barr</td>\n",
              "    </tr>\n",
              "    <tr>\n",
              "      <th>1</th>\n",
              "      <td>05/04/19 3:30</td>\n",
              "      <td>1</td>\n",
              "      <td>0.716066</td>\n",
              "      <td>2.153494</td>\n",
              "      <td>3.135203</td>\n",
              "      <td>9.998847</td>\n",
              "      <td>10.075669</td>\n",
              "      <td>0.716066</td>\n",
              "      <td>2.120434</td>\n",
              "      <td>3.243347</td>\n",
              "      <td>10.053597</td>\n",
              "      <td>10.075669</td>\n",
              "      <td>1.0</td>\n",
              "      <td>2.0</td>\n",
              "      <td>Cross Barr</td>\n",
              "    </tr>\n",
              "    <tr>\n",
              "      <th>2</th>\n",
              "      <td>05/04/19 4:30</td>\n",
              "      <td>1</td>\n",
              "      <td>0.687551</td>\n",
              "      <td>2.142630</td>\n",
              "      <td>3.066270</td>\n",
              "      <td>9.954641</td>\n",
              "      <td>10.081478</td>\n",
              "      <td>0.687551</td>\n",
              "      <td>2.105328</td>\n",
              "      <td>3.181119</td>\n",
              "      <td>10.001306</td>\n",
              "      <td>10.081478</td>\n",
              "      <td>1.0</td>\n",
              "      <td>2.0</td>\n",
              "      <td>Cross Barr</td>\n",
              "    </tr>\n",
              "    <tr>\n",
              "      <th>3</th>\n",
              "      <td>05/04/19 5:30</td>\n",
              "      <td>1</td>\n",
              "      <td>0.686916</td>\n",
              "      <td>2.140013</td>\n",
              "      <td>3.071850</td>\n",
              "      <td>9.956670</td>\n",
              "      <td>10.054274</td>\n",
              "      <td>0.686916</td>\n",
              "      <td>2.101800</td>\n",
              "      <td>3.191233</td>\n",
              "      <td>10.008420</td>\n",
              "      <td>10.054274</td>\n",
              "      <td>1.0</td>\n",
              "      <td>2.0</td>\n",
              "      <td>Cross Barr</td>\n",
              "    </tr>\n",
              "    <tr>\n",
              "      <th>4</th>\n",
              "      <td>05/04/19 6:30</td>\n",
              "      <td>1</td>\n",
              "      <td>0.698125</td>\n",
              "      <td>2.156244</td>\n",
              "      <td>3.063865</td>\n",
              "      <td>9.961413</td>\n",
              "      <td>10.091478</td>\n",
              "      <td>0.698125</td>\n",
              "      <td>2.117328</td>\n",
              "      <td>3.183534</td>\n",
              "      <td>10.009700</td>\n",
              "      <td>10.091478</td>\n",
              "      <td>1.0</td>\n",
              "      <td>2.0</td>\n",
              "      <td>Cross Barr</td>\n",
              "    </tr>\n",
              "  </tbody>\n",
              "</table>\n",
              "</div>"
            ],
            "text/plain": [
              "            time  cyl  s_temp_crank  ...  y_true  leak_level     station\n",
              "0  05/04/19 2:30    1      0.666534  ...     1.0         2.0  Cross Barr\n",
              "1  05/04/19 3:30    1      0.716066  ...     1.0         2.0  Cross Barr\n",
              "2  05/04/19 4:30    1      0.687551  ...     1.0         2.0  Cross Barr\n",
              "3  05/04/19 5:30    1      0.686916  ...     1.0         2.0  Cross Barr\n",
              "4  05/04/19 6:30    1      0.698125  ...     1.0         2.0  Cross Barr\n",
              "\n",
              "[5 rows x 15 columns]"
            ]
          },
          "metadata": {
            "tags": []
          },
          "execution_count": 117
        }
      ]
    },
    {
      "cell_type": "code",
      "metadata": {
        "id": "C_FhJ9ekCX79",
        "colab_type": "code",
        "outputId": "f2526508-0825-42cc-c6dd-d56952564059",
        "colab": {
          "base_uri": "https://localhost:8080/",
          "height": 34
        }
      },
      "source": [
        "df1.shape"
      ],
      "execution_count": 118,
      "outputs": [
        {
          "output_type": "execute_result",
          "data": {
            "text/plain": [
              "(165861, 15)"
            ]
          },
          "metadata": {
            "tags": []
          },
          "execution_count": 118
        }
      ]
    },
    {
      "cell_type": "code",
      "metadata": {
        "id": "vzRQrtp3xKTL",
        "colab_type": "code",
        "colab": {}
      },
      "source": [
        "X = df1.iloc[:,1:12]"
      ],
      "execution_count": 0,
      "outputs": []
    },
    {
      "cell_type": "code",
      "metadata": {
        "id": "41ZpjzWqDeIW",
        "colab_type": "code",
        "outputId": "b4bae153-66a2-44f9-8a21-82a3226912fd",
        "colab": {
          "base_uri": "https://localhost:8080/",
          "height": 424
        }
      },
      "source": [
        "X"
      ],
      "execution_count": 120,
      "outputs": [
        {
          "output_type": "execute_result",
          "data": {
            "text/html": [
              "<div>\n",
              "<style scoped>\n",
              "    .dataframe tbody tr th:only-of-type {\n",
              "        vertical-align: middle;\n",
              "    }\n",
              "\n",
              "    .dataframe tbody tr th {\n",
              "        vertical-align: top;\n",
              "    }\n",
              "\n",
              "    .dataframe thead th {\n",
              "        text-align: right;\n",
              "    }\n",
              "</style>\n",
              "<table border=\"1\" class=\"dataframe\">\n",
              "  <thead>\n",
              "    <tr style=\"text-align: right;\">\n",
              "      <th></th>\n",
              "      <th>cyl</th>\n",
              "      <th>s_temp_crank</th>\n",
              "      <th>d_temp_crank</th>\n",
              "      <th>s_pressure_crank</th>\n",
              "      <th>d_pressure_crank</th>\n",
              "      <th>rpm_crank</th>\n",
              "      <th>s_temp_mean</th>\n",
              "      <th>d_temp_mean</th>\n",
              "      <th>s_pressure_mean</th>\n",
              "      <th>d_pressure_mean</th>\n",
              "      <th>rpm_mean</th>\n",
              "    </tr>\n",
              "  </thead>\n",
              "  <tbody>\n",
              "    <tr>\n",
              "      <th>0</th>\n",
              "      <td>1</td>\n",
              "      <td>0.666534</td>\n",
              "      <td>2.080444</td>\n",
              "      <td>3.220836</td>\n",
              "      <td>10.105964</td>\n",
              "      <td>10.063987</td>\n",
              "      <td>0.666534</td>\n",
              "      <td>2.053527</td>\n",
              "      <td>3.307406</td>\n",
              "      <td>10.142075</td>\n",
              "      <td>10.063987</td>\n",
              "    </tr>\n",
              "    <tr>\n",
              "      <th>1</th>\n",
              "      <td>1</td>\n",
              "      <td>0.716066</td>\n",
              "      <td>2.153494</td>\n",
              "      <td>3.135203</td>\n",
              "      <td>9.998847</td>\n",
              "      <td>10.075669</td>\n",
              "      <td>0.716066</td>\n",
              "      <td>2.120434</td>\n",
              "      <td>3.243347</td>\n",
              "      <td>10.053597</td>\n",
              "      <td>10.075669</td>\n",
              "    </tr>\n",
              "    <tr>\n",
              "      <th>2</th>\n",
              "      <td>1</td>\n",
              "      <td>0.687551</td>\n",
              "      <td>2.142630</td>\n",
              "      <td>3.066270</td>\n",
              "      <td>9.954641</td>\n",
              "      <td>10.081478</td>\n",
              "      <td>0.687551</td>\n",
              "      <td>2.105328</td>\n",
              "      <td>3.181119</td>\n",
              "      <td>10.001306</td>\n",
              "      <td>10.081478</td>\n",
              "    </tr>\n",
              "    <tr>\n",
              "      <th>3</th>\n",
              "      <td>1</td>\n",
              "      <td>0.686916</td>\n",
              "      <td>2.140013</td>\n",
              "      <td>3.071850</td>\n",
              "      <td>9.956670</td>\n",
              "      <td>10.054274</td>\n",
              "      <td>0.686916</td>\n",
              "      <td>2.101800</td>\n",
              "      <td>3.191233</td>\n",
              "      <td>10.008420</td>\n",
              "      <td>10.054274</td>\n",
              "    </tr>\n",
              "    <tr>\n",
              "      <th>4</th>\n",
              "      <td>1</td>\n",
              "      <td>0.698125</td>\n",
              "      <td>2.156244</td>\n",
              "      <td>3.063865</td>\n",
              "      <td>9.961413</td>\n",
              "      <td>10.091478</td>\n",
              "      <td>0.698125</td>\n",
              "      <td>2.117328</td>\n",
              "      <td>3.183534</td>\n",
              "      <td>10.009700</td>\n",
              "      <td>10.091478</td>\n",
              "    </tr>\n",
              "    <tr>\n",
              "      <th>...</th>\n",
              "      <td>...</td>\n",
              "      <td>...</td>\n",
              "      <td>...</td>\n",
              "      <td>...</td>\n",
              "      <td>...</td>\n",
              "      <td>...</td>\n",
              "      <td>...</td>\n",
              "      <td>...</td>\n",
              "      <td>...</td>\n",
              "      <td>...</td>\n",
              "      <td>...</td>\n",
              "    </tr>\n",
              "    <tr>\n",
              "      <th>165856</th>\n",
              "      <td>4</td>\n",
              "      <td>0.728417</td>\n",
              "      <td>2.599025</td>\n",
              "      <td>0.331039</td>\n",
              "      <td>2.487713</td>\n",
              "      <td>12.358284</td>\n",
              "      <td>0.728417</td>\n",
              "      <td>2.854156</td>\n",
              "      <td>0.184073</td>\n",
              "      <td>2.375134</td>\n",
              "      <td>12.358284</td>\n",
              "    </tr>\n",
              "    <tr>\n",
              "      <th>165857</th>\n",
              "      <td>4</td>\n",
              "      <td>0.686059</td>\n",
              "      <td>2.556454</td>\n",
              "      <td>0.326915</td>\n",
              "      <td>2.484471</td>\n",
              "      <td>12.359520</td>\n",
              "      <td>0.686059</td>\n",
              "      <td>2.810078</td>\n",
              "      <td>0.179784</td>\n",
              "      <td>2.370367</td>\n",
              "      <td>12.359520</td>\n",
              "    </tr>\n",
              "    <tr>\n",
              "      <th>165858</th>\n",
              "      <td>4</td>\n",
              "      <td>0.663322</td>\n",
              "      <td>2.530006</td>\n",
              "      <td>0.328148</td>\n",
              "      <td>2.487526</td>\n",
              "      <td>12.352143</td>\n",
              "      <td>0.663322</td>\n",
              "      <td>2.785113</td>\n",
              "      <td>0.180072</td>\n",
              "      <td>2.373662</td>\n",
              "      <td>12.352143</td>\n",
              "    </tr>\n",
              "    <tr>\n",
              "      <th>165859</th>\n",
              "      <td>4</td>\n",
              "      <td>0.645405</td>\n",
              "      <td>2.513933</td>\n",
              "      <td>0.325451</td>\n",
              "      <td>2.486730</td>\n",
              "      <td>12.353393</td>\n",
              "      <td>0.645405</td>\n",
              "      <td>2.767917</td>\n",
              "      <td>0.178354</td>\n",
              "      <td>2.373709</td>\n",
              "      <td>12.353393</td>\n",
              "    </tr>\n",
              "    <tr>\n",
              "      <th>165860</th>\n",
              "      <td>4</td>\n",
              "      <td>0.637614</td>\n",
              "      <td>2.512509</td>\n",
              "      <td>0.322567</td>\n",
              "      <td>2.491172</td>\n",
              "      <td>12.357672</td>\n",
              "      <td>0.637614</td>\n",
              "      <td>2.766502</td>\n",
              "      <td>0.176086</td>\n",
              "      <td>2.378750</td>\n",
              "      <td>12.357672</td>\n",
              "    </tr>\n",
              "  </tbody>\n",
              "</table>\n",
              "<p>165861 rows × 11 columns</p>\n",
              "</div>"
            ],
            "text/plain": [
              "        cyl  s_temp_crank  ...  d_pressure_mean   rpm_mean\n",
              "0         1      0.666534  ...        10.142075  10.063987\n",
              "1         1      0.716066  ...        10.053597  10.075669\n",
              "2         1      0.687551  ...        10.001306  10.081478\n",
              "3         1      0.686916  ...        10.008420  10.054274\n",
              "4         1      0.698125  ...        10.009700  10.091478\n",
              "...     ...           ...  ...              ...        ...\n",
              "165856    4      0.728417  ...         2.375134  12.358284\n",
              "165857    4      0.686059  ...         2.370367  12.359520\n",
              "165858    4      0.663322  ...         2.373662  12.352143\n",
              "165859    4      0.645405  ...         2.373709  12.353393\n",
              "165860    4      0.637614  ...         2.378750  12.357672\n",
              "\n",
              "[165861 rows x 11 columns]"
            ]
          },
          "metadata": {
            "tags": []
          },
          "execution_count": 120
        }
      ]
    },
    {
      "cell_type": "code",
      "metadata": {
        "id": "osDrTPHBDgws",
        "colab_type": "code",
        "colab": {}
      },
      "source": [
        "y_true = df1.iloc[:,13]"
      ],
      "execution_count": 0,
      "outputs": []
    },
    {
      "cell_type": "code",
      "metadata": {
        "id": "gK4JI2TKJ-MJ",
        "colab_type": "code",
        "colab": {}
      },
      "source": [
        "y_true=y_true.fillna(0)"
      ],
      "execution_count": 0,
      "outputs": []
    },
    {
      "cell_type": "code",
      "metadata": {
        "id": "xmRqd1C_x9VI",
        "colab_type": "code",
        "outputId": "76d9c8a2-93fb-4b8c-f48b-ed2434732e14",
        "colab": {
          "base_uri": "https://localhost:8080/",
          "height": 34
        }
      },
      "source": [
        "y_true.unique()"
      ],
      "execution_count": 163,
      "outputs": [
        {
          "output_type": "execute_result",
          "data": {
            "text/plain": [
              "array([2., 0., 3., 1., 4.])"
            ]
          },
          "metadata": {
            "tags": []
          },
          "execution_count": 163
        }
      ]
    },
    {
      "cell_type": "code",
      "metadata": {
        "id": "QUjimy6IJ_wS",
        "colab_type": "code",
        "colab": {}
      },
      "source": [
        "seed = 7\n",
        "test_size = 0.33\n",
        "X_train, X_test, y_train, y_test = train_test_split(X, y_true, test_size=test_size)"
      ],
      "execution_count": 0,
      "outputs": []
    },
    {
      "cell_type": "code",
      "metadata": {
        "id": "u6qs--2goqXC",
        "colab_type": "code",
        "outputId": "20a35a30-59a7-4ffb-afa4-cb26c28aa45d",
        "colab": {
          "base_uri": "https://localhost:8080/",
          "height": 34
        }
      },
      "source": [
        "print(X_train.shape,y_train.shape)"
      ],
      "execution_count": 165,
      "outputs": [
        {
          "output_type": "stream",
          "text": [
            "(111126, 11) (111126,)\n"
          ],
          "name": "stdout"
        }
      ]
    },
    {
      "cell_type": "code",
      "metadata": {
        "id": "X-I8djxu6qtp",
        "colab_type": "code",
        "outputId": "796a50e9-0d97-4dc1-b01c-b609445110b5",
        "colab": {
          "base_uri": "https://localhost:8080/",
          "height": 34
        }
      },
      "source": [
        "X_test.shape"
      ],
      "execution_count": 166,
      "outputs": [
        {
          "output_type": "execute_result",
          "data": {
            "text/plain": [
              "(54735, 11)"
            ]
          },
          "metadata": {
            "tags": []
          },
          "execution_count": 166
        }
      ]
    },
    {
      "cell_type": "code",
      "metadata": {
        "id": "joyVaFkGklZJ",
        "colab_type": "code",
        "outputId": "2e0037fc-2445-41f0-d3f4-b94859e50f74",
        "colab": {
          "base_uri": "https://localhost:8080/",
          "height": 138
        }
      },
      "source": [
        "model = XGBClassifier()\n",
        "model.fit(X_train, y_train)"
      ],
      "execution_count": 167,
      "outputs": [
        {
          "output_type": "execute_result",
          "data": {
            "text/plain": [
              "XGBClassifier(base_score=0.5, booster='gbtree', colsample_bylevel=1,\n",
              "              colsample_bynode=1, colsample_bytree=1, gamma=0,\n",
              "              learning_rate=0.1, max_delta_step=0, max_depth=3,\n",
              "              min_child_weight=1, missing=None, n_estimators=100, n_jobs=1,\n",
              "              nthread=None, objective='multi:softprob', random_state=0,\n",
              "              reg_alpha=0, reg_lambda=1, scale_pos_weight=1, seed=None,\n",
              "              silent=None, subsample=1, verbosity=1)"
            ]
          },
          "metadata": {
            "tags": []
          },
          "execution_count": 167
        }
      ]
    },
    {
      "cell_type": "code",
      "metadata": {
        "id": "pkyhrzfVzaX3",
        "colab_type": "code",
        "outputId": "ee6b3583-3659-4385-ebdd-a33e68ed4ed5",
        "colab": {
          "base_uri": "https://localhost:8080/",
          "height": 138
        }
      },
      "source": [
        "model"
      ],
      "execution_count": 168,
      "outputs": [
        {
          "output_type": "execute_result",
          "data": {
            "text/plain": [
              "XGBClassifier(base_score=0.5, booster='gbtree', colsample_bylevel=1,\n",
              "              colsample_bynode=1, colsample_bytree=1, gamma=0,\n",
              "              learning_rate=0.1, max_delta_step=0, max_depth=3,\n",
              "              min_child_weight=1, missing=None, n_estimators=100, n_jobs=1,\n",
              "              nthread=None, objective='multi:softprob', random_state=0,\n",
              "              reg_alpha=0, reg_lambda=1, scale_pos_weight=1, seed=None,\n",
              "              silent=None, subsample=1, verbosity=1)"
            ]
          },
          "metadata": {
            "tags": []
          },
          "execution_count": 168
        }
      ]
    },
    {
      "cell_type": "code",
      "metadata": {
        "id": "D9RAMDluzMeV",
        "colab_type": "code",
        "colab": {}
      },
      "source": [
        "y_pred = model.predict(X_test)"
      ],
      "execution_count": 0,
      "outputs": []
    },
    {
      "cell_type": "code",
      "metadata": {
        "id": "uYNjoBePzgw_",
        "colab_type": "code",
        "colab": {}
      },
      "source": [
        "predictions = [round(value) for value in y_pred]"
      ],
      "execution_count": 0,
      "outputs": []
    },
    {
      "cell_type": "code",
      "metadata": {
        "id": "JoTJlJ4jzh11",
        "colab_type": "code",
        "outputId": "c21d83e8-5754-4925-af19-bcb6b8564bf4",
        "colab": {
          "base_uri": "https://localhost:8080/",
          "height": 34
        }
      },
      "source": [
        "accuracy = accuracy_score(y_test, predictions)\n",
        "print(\"Accuracy: %.2f%%\" % (accuracy * 100.0))"
      ],
      "execution_count": 171,
      "outputs": [
        {
          "output_type": "stream",
          "text": [
            "Accuracy: 88.27%\n"
          ],
          "name": "stdout"
        }
      ]
    },
    {
      "cell_type": "code",
      "metadata": {
        "id": "gWziZaTlzl9_",
        "colab_type": "code",
        "colab": {}
      },
      "source": [
        "from sklearn.metrics import multilabel_confusion_matrix"
      ],
      "execution_count": 0,
      "outputs": []
    },
    {
      "cell_type": "code",
      "metadata": {
        "id": "Go_s5_yxz-ix",
        "colab_type": "code",
        "outputId": "ff7d9e83-4950-4eb3-9075-49900e312caa",
        "colab": {
          "base_uri": "https://localhost:8080/",
          "height": 260
        }
      },
      "source": [
        "multilabel_confusion_matrix(y_test,predictions,labels=[0,1,2,3,4])"
      ],
      "execution_count": 173,
      "outputs": [
        {
          "output_type": "execute_result",
          "data": {
            "text/plain": [
              "array([[[ 3590,  5854],\n",
              "        [  414, 44877]],\n",
              "\n",
              "       [[53017,    64],\n",
              "        [ 1309,   345]],\n",
              "\n",
              "       [[50680,   122],\n",
              "        [ 2347,  1586]],\n",
              "\n",
              "       [[53405,    31],\n",
              "        [  729,   570]],\n",
              "\n",
              "       [[51825,   352],\n",
              "        [ 1624,   934]]])"
            ]
          },
          "metadata": {
            "tags": []
          },
          "execution_count": 173
        }
      ]
    },
    {
      "cell_type": "code",
      "metadata": {
        "id": "wB9ll-zK0iby",
        "colab_type": "code",
        "colab": {}
      },
      "source": [
        "import pickle\n",
        "filename = '/content/finalized_model.pkl'\n"
      ],
      "execution_count": 0,
      "outputs": []
    },
    {
      "cell_type": "code",
      "metadata": {
        "id": "IA21WO0lDvwS",
        "colab_type": "code",
        "colab": {}
      },
      "source": [
        "pickle.dump(model, open(filename, 'wb'))"
      ],
      "execution_count": 0,
      "outputs": []
    },
    {
      "cell_type": "code",
      "metadata": {
        "id": "XHRUBjklEO8z",
        "colab_type": "code",
        "outputId": "7396b41d-3904-4b2c-c18b-63d0ef4ae1b0",
        "colab": {
          "base_uri": "https://localhost:8080/",
          "height": 34
        }
      },
      "source": [
        "loaded_model = pickle.load(open(filename, 'rb'))\n",
        "result = loaded_model.score(X_test, y_test)\n",
        "print(result)"
      ],
      "execution_count": 136,
      "outputs": [
        {
          "output_type": "stream",
          "text": [
            "0.8857769251849822\n"
          ],
          "name": "stdout"
        }
      ]
    },
    {
      "cell_type": "code",
      "metadata": {
        "id": "ofggGEsy_0hk",
        "colab_type": "code",
        "colab": {
          "base_uri": "https://localhost:8080/",
          "height": 225
        },
        "outputId": "51f7c155-7746-4d7f-9354-3dc27cf5fdef"
      },
      "source": [
        "from sklearn.metrics import classification_report\n",
        "print(classification_report(y_test, predictions,target_names = ['0','1','2','3','4']))"
      ],
      "execution_count": 177,
      "outputs": [
        {
          "output_type": "stream",
          "text": [
            "              precision    recall  f1-score   support\n",
            "\n",
            "           0       0.88      0.99      0.93     45291\n",
            "           1       0.84      0.21      0.33      1654\n",
            "           2       0.93      0.40      0.56      3933\n",
            "           3       0.95      0.44      0.60      1299\n",
            "           4       0.73      0.37      0.49      2558\n",
            "\n",
            "    accuracy                           0.88     54735\n",
            "   macro avg       0.87      0.48      0.58     54735\n",
            "weighted avg       0.88      0.88      0.86     54735\n",
            "\n"
          ],
          "name": "stdout"
        }
      ]
    },
    {
      "cell_type": "markdown",
      "metadata": {
        "id": "0W69lO7ulxw0",
        "colab_type": "text"
      },
      "source": [
        "# Binary Classifier"
      ]
    },
    {
      "cell_type": "code",
      "metadata": {
        "id": "FOpV0k4ilxVC",
        "colab_type": "code",
        "colab": {}
      },
      "source": [
        "binary_true = df1.iloc[:,12]"
      ],
      "execution_count": 0,
      "outputs": []
    },
    {
      "cell_type": "code",
      "metadata": {
        "id": "48CUN89UmFQ6",
        "colab_type": "code",
        "colab": {}
      },
      "source": [
        "seed = 7\n",
        "test_size = 0.33\n",
        "X_train, X_test, y_train, y_test = train_test_split(X, binary_true, test_size=test_size)"
      ],
      "execution_count": 0,
      "outputs": []
    },
    {
      "cell_type": "code",
      "metadata": {
        "id": "WZnUJkc_8aOK",
        "colab_type": "code",
        "colab": {
          "base_uri": "https://localhost:8080/",
          "height": 34
        },
        "outputId": "449be110-9f52-4175-dd6a-d54b999320cf"
      },
      "source": [
        "binary_true.unique()"
      ],
      "execution_count": 148,
      "outputs": [
        {
          "output_type": "execute_result",
          "data": {
            "text/plain": [
              "array([1., 0.])"
            ]
          },
          "metadata": {
            "tags": []
          },
          "execution_count": 148
        }
      ]
    },
    {
      "cell_type": "code",
      "metadata": {
        "id": "eT1R8bIWmM9j",
        "colab_type": "code",
        "outputId": "dc67f7c1-e4d8-41d5-f390-318ad284c31a",
        "colab": {
          "base_uri": "https://localhost:8080/",
          "height": 138
        }
      },
      "source": [
        "model = XGBClassifier(learning_rate=0.05,max_delta_step=1,n_estimators=200)\n",
        "model.fit(X_train, y_train)"
      ],
      "execution_count": 149,
      "outputs": [
        {
          "output_type": "execute_result",
          "data": {
            "text/plain": [
              "XGBClassifier(base_score=0.5, booster='gbtree', colsample_bylevel=1,\n",
              "              colsample_bynode=1, colsample_bytree=1, gamma=0,\n",
              "              learning_rate=0.05, max_delta_step=1, max_depth=3,\n",
              "              min_child_weight=1, missing=None, n_estimators=200, n_jobs=1,\n",
              "              nthread=None, objective='binary:logistic', random_state=0,\n",
              "              reg_alpha=0, reg_lambda=1, scale_pos_weight=1, seed=None,\n",
              "              silent=None, subsample=1, verbosity=1)"
            ]
          },
          "metadata": {
            "tags": []
          },
          "execution_count": 149
        }
      ]
    },
    {
      "cell_type": "code",
      "metadata": {
        "id": "ucNZpnHuoEwy",
        "colab_type": "code",
        "colab": {}
      },
      "source": [
        "y_pred = model.predict(X_test)"
      ],
      "execution_count": 0,
      "outputs": []
    },
    {
      "cell_type": "code",
      "metadata": {
        "id": "XXenaedbmV2d",
        "colab_type": "code",
        "colab": {}
      },
      "source": [
        "binary_predictions = [round(value) for value in y_pred]"
      ],
      "execution_count": 0,
      "outputs": []
    },
    {
      "cell_type": "code",
      "metadata": {
        "id": "bM1YKPcZmdNg",
        "colab_type": "code",
        "outputId": "5a938c31-fc25-43b4-bf02-716588d8f400",
        "colab": {
          "base_uri": "https://localhost:8080/",
          "height": 34
        }
      },
      "source": [
        "accuracy = accuracy_score(y_test, binary_predictions)\n",
        "print(\"Accuracy: %.2f%%\" % (accuracy * 100.0))"
      ],
      "execution_count": 152,
      "outputs": [
        {
          "output_type": "stream",
          "text": [
            "Accuracy: 86.73%\n"
          ],
          "name": "stdout"
        }
      ]
    },
    {
      "cell_type": "code",
      "metadata": {
        "id": "hT8oc8JYoiTC",
        "colab_type": "code",
        "outputId": "4c563b03-f4c1-426c-f47b-2d3942a5bb3b",
        "colab": {
          "base_uri": "https://localhost:8080/",
          "height": 104
        }
      },
      "source": [
        "multilabel_confusion_matrix(y_test,binary_predictions,labels=[0,1])"
      ],
      "execution_count": 153,
      "outputs": [
        {
          "output_type": "execute_result",
          "data": {
            "text/plain": [
              "array([[[ 2725,  6897],\n",
              "        [  367, 44746]],\n",
              "\n",
              "       [[44746,   367],\n",
              "        [ 6897,  2725]]])"
            ]
          },
          "metadata": {
            "tags": []
          },
          "execution_count": 153
        }
      ]
    },
    {
      "cell_type": "code",
      "metadata": {
        "id": "1tFgrhboowMd",
        "colab_type": "code",
        "colab": {}
      },
      "source": [
        "import pickle\n",
        "filename = '/content/binary_finalized_model.pkl'\n",
        "pickle.dump(model, open(filename, 'wb'))"
      ],
      "execution_count": 0,
      "outputs": []
    },
    {
      "cell_type": "code",
      "metadata": {
        "id": "w01fWT-_o6XT",
        "colab_type": "code",
        "outputId": "1cc9cb38-4b2b-47c4-a942-f1859f90ebf8",
        "colab": {
          "base_uri": "https://localhost:8080/",
          "height": 34
        }
      },
      "source": [
        "loaded_model = pickle.load(open(filename, 'rb'))\n",
        "result = loaded_model.score(X_test, y_test)\n",
        "print(result)"
      ],
      "execution_count": 155,
      "outputs": [
        {
          "output_type": "stream",
          "text": [
            "0.8672878414177401\n"
          ],
          "name": "stdout"
        }
      ]
    },
    {
      "cell_type": "code",
      "metadata": {
        "id": "tFhHvFB8--Yf",
        "colab_type": "code",
        "colab": {
          "base_uri": "https://localhost:8080/",
          "height": 173
        },
        "outputId": "3abd6b11-022a-437f-9665-53e8e48ecd97"
      },
      "source": [
        "from sklearn.metrics import classification_report\n",
        "print(classification_report(y_test, binary_predictions))"
      ],
      "execution_count": 158,
      "outputs": [
        {
          "output_type": "stream",
          "text": [
            "              precision    recall  f1-score   support\n",
            "\n",
            "         0.0       0.87      0.99      0.92     45113\n",
            "         1.0       0.88      0.28      0.43      9622\n",
            "\n",
            "    accuracy                           0.87     54735\n",
            "   macro avg       0.87      0.64      0.68     54735\n",
            "weighted avg       0.87      0.87      0.84     54735\n",
            "\n"
          ],
          "name": "stdout"
        }
      ]
    }
  ]
}