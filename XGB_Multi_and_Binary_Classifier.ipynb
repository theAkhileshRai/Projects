{
  "nbformat": 4,
  "nbformat_minor": 0,
  "metadata": {
    "colab": {
      "name": "XGB Multi and Binary Classifier.ipynb",
      "provenance": [],
      "collapsed_sections": [],
      "toc_visible": true,
      "authorship_tag": "ABX9TyPN0MRrYLsczMahAIBCwZsg",
      "include_colab_link": true
    },
    "kernelspec": {
      "name": "python3",
      "display_name": "Python 3"
    }
  },
  "cells": [
    {
      "cell_type": "markdown",
      "metadata": {
        "id": "view-in-github",
        "colab_type": "text"
      },
      "source": [
        "<a href=\"https://colab.research.google.com/github/theAkhileshRai/Projects/blob/master/XGB_Multi_and_Binary_Classifier.ipynb\" target=\"_parent\"><img src=\"https://colab.research.google.com/assets/colab-badge.svg\" alt=\"Open In Colab\"/></a>"
      ]
    },
    {
      "cell_type": "code",
      "metadata": {
        "id": "P10uROM_sbU3",
        "colab_type": "code",
        "colab": {}
      },
      "source": [
        "import numpy as np\n",
        "import pandas as pd\n",
        "import matplotlib.pyplot as plt\n",
        "import sklearn\n",
        "\n",
        "from numpy import loadtxt\n",
        "from xgboost import XGBClassifier\n",
        "from sklearn.model_selection import train_test_split\n",
        "from sklearn.metrics import accuracy_score"
      ],
      "execution_count": 0,
      "outputs": []
    },
    {
      "cell_type": "code",
      "metadata": {
        "id": "7BW6XEV1sh09",
        "colab_type": "code",
        "colab": {}
      },
      "source": [
        "df1 = pd.read_csv('/content/Combined_df.csv',index_col=False)"
      ],
      "execution_count": 0,
      "outputs": []
    },
    {
      "cell_type": "code",
      "metadata": {
        "id": "ySz7tAnswqa8",
        "colab_type": "code",
        "outputId": "26575674-0ddf-4b8b-fa2b-97b4fc7c2699",
        "colab": {
          "base_uri": "https://localhost:8080/",
          "height": 330
        }
      },
      "source": [
        "df1.head()"
      ],
      "execution_count": 0,
      "outputs": [
        {
          "output_type": "execute_result",
          "data": {
            "text/html": [
              "<div>\n",
              "<style scoped>\n",
              "    .dataframe tbody tr th:only-of-type {\n",
              "        vertical-align: middle;\n",
              "    }\n",
              "\n",
              "    .dataframe tbody tr th {\n",
              "        vertical-align: top;\n",
              "    }\n",
              "\n",
              "    .dataframe thead th {\n",
              "        text-align: right;\n",
              "    }\n",
              "</style>\n",
              "<table border=\"1\" class=\"dataframe\">\n",
              "  <thead>\n",
              "    <tr style=\"text-align: right;\">\n",
              "      <th></th>\n",
              "      <th>Unnamed: 0</th>\n",
              "      <th>time</th>\n",
              "      <th>cyl</th>\n",
              "      <th>s_temp_crank</th>\n",
              "      <th>d_temp_crank</th>\n",
              "      <th>s_pressure_crank</th>\n",
              "      <th>d_pressure_crank</th>\n",
              "      <th>rpm_crank</th>\n",
              "      <th>s_temp_mean</th>\n",
              "      <th>d_temp_mean</th>\n",
              "      <th>s_pressure_mean</th>\n",
              "      <th>d_pressure_mean</th>\n",
              "      <th>rpm_mean</th>\n",
              "      <th>y_true</th>\n",
              "      <th>leak_level</th>\n",
              "      <th>station</th>\n",
              "    </tr>\n",
              "  </thead>\n",
              "  <tbody>\n",
              "    <tr>\n",
              "      <th>0</th>\n",
              "      <td>0</td>\n",
              "      <td>05/04/19 2:30</td>\n",
              "      <td>1</td>\n",
              "      <td>0.666534</td>\n",
              "      <td>2.080444</td>\n",
              "      <td>3.220836</td>\n",
              "      <td>10.105964</td>\n",
              "      <td>10.063987</td>\n",
              "      <td>0.666534</td>\n",
              "      <td>2.053527</td>\n",
              "      <td>3.307406</td>\n",
              "      <td>10.142075</td>\n",
              "      <td>10.063987</td>\n",
              "      <td>1</td>\n",
              "      <td>2</td>\n",
              "      <td>Cross Barr</td>\n",
              "    </tr>\n",
              "    <tr>\n",
              "      <th>1</th>\n",
              "      <td>1</td>\n",
              "      <td>05/04/19 3:30</td>\n",
              "      <td>1</td>\n",
              "      <td>0.716066</td>\n",
              "      <td>2.153494</td>\n",
              "      <td>3.135203</td>\n",
              "      <td>9.998847</td>\n",
              "      <td>10.075669</td>\n",
              "      <td>0.716066</td>\n",
              "      <td>2.120434</td>\n",
              "      <td>3.243347</td>\n",
              "      <td>10.053597</td>\n",
              "      <td>10.075669</td>\n",
              "      <td>1</td>\n",
              "      <td>2</td>\n",
              "      <td>Cross Barr</td>\n",
              "    </tr>\n",
              "    <tr>\n",
              "      <th>2</th>\n",
              "      <td>2</td>\n",
              "      <td>05/04/19 4:30</td>\n",
              "      <td>1</td>\n",
              "      <td>0.687551</td>\n",
              "      <td>2.142630</td>\n",
              "      <td>3.066270</td>\n",
              "      <td>9.954641</td>\n",
              "      <td>10.081478</td>\n",
              "      <td>0.687551</td>\n",
              "      <td>2.105328</td>\n",
              "      <td>3.181119</td>\n",
              "      <td>10.001306</td>\n",
              "      <td>10.081478</td>\n",
              "      <td>1</td>\n",
              "      <td>2</td>\n",
              "      <td>Cross Barr</td>\n",
              "    </tr>\n",
              "    <tr>\n",
              "      <th>3</th>\n",
              "      <td>3</td>\n",
              "      <td>05/04/19 5:30</td>\n",
              "      <td>1</td>\n",
              "      <td>0.686916</td>\n",
              "      <td>2.140013</td>\n",
              "      <td>3.071850</td>\n",
              "      <td>9.956670</td>\n",
              "      <td>10.054274</td>\n",
              "      <td>0.686916</td>\n",
              "      <td>2.101800</td>\n",
              "      <td>3.191233</td>\n",
              "      <td>10.008420</td>\n",
              "      <td>10.054274</td>\n",
              "      <td>1</td>\n",
              "      <td>2</td>\n",
              "      <td>Cross Barr</td>\n",
              "    </tr>\n",
              "    <tr>\n",
              "      <th>4</th>\n",
              "      <td>4</td>\n",
              "      <td>05/04/19 6:30</td>\n",
              "      <td>1</td>\n",
              "      <td>0.698125</td>\n",
              "      <td>2.156244</td>\n",
              "      <td>3.063865</td>\n",
              "      <td>9.961413</td>\n",
              "      <td>10.091478</td>\n",
              "      <td>0.698125</td>\n",
              "      <td>2.117328</td>\n",
              "      <td>3.183534</td>\n",
              "      <td>10.009700</td>\n",
              "      <td>10.091478</td>\n",
              "      <td>1</td>\n",
              "      <td>2</td>\n",
              "      <td>Cross Barr</td>\n",
              "    </tr>\n",
              "  </tbody>\n",
              "</table>\n",
              "</div>"
            ],
            "text/plain": [
              "   Unnamed: 0           time  cyl  ...  y_true  leak_level     station\n",
              "0           0  05/04/19 2:30    1  ...       1           2  Cross Barr\n",
              "1           1  05/04/19 3:30    1  ...       1           2  Cross Barr\n",
              "2           2  05/04/19 4:30    1  ...       1           2  Cross Barr\n",
              "3           3  05/04/19 5:30    1  ...       1           2  Cross Barr\n",
              "4           4  05/04/19 6:30    1  ...       1           2  Cross Barr\n",
              "\n",
              "[5 rows x 16 columns]"
            ]
          },
          "metadata": {
            "tags": []
          },
          "execution_count": 88
        }
      ]
    },
    {
      "cell_type": "code",
      "metadata": {
        "id": "TdsRIaE8w7kC",
        "colab_type": "code",
        "outputId": "92b92390-eb8b-40e0-aba6-a5e26ed96f63",
        "colab": {
          "base_uri": "https://localhost:8080/",
          "height": 104
        }
      },
      "source": [
        "df1.columns"
      ],
      "execution_count": 0,
      "outputs": [
        {
          "output_type": "execute_result",
          "data": {
            "text/plain": [
              "Index(['Unnamed: 0', 'time', 'cyl', 's_temp_crank', 'd_temp_crank',\n",
              "       's_pressure_crank', 'd_pressure_crank', 'rpm_crank', 's_temp_mean',\n",
              "       'd_temp_mean', 's_pressure_mean', 'd_pressure_mean', 'rpm_mean',\n",
              "       'y_true', 'leak_level', 'station'],\n",
              "      dtype='object')"
            ]
          },
          "metadata": {
            "tags": []
          },
          "execution_count": 89
        }
      ]
    },
    {
      "cell_type": "code",
      "metadata": {
        "id": "nBrWvkAjwx6S",
        "colab_type": "code",
        "colab": {}
      },
      "source": [
        "df1 = df1.drop(columns='Unnamed: 0')"
      ],
      "execution_count": 0,
      "outputs": []
    },
    {
      "cell_type": "code",
      "metadata": {
        "id": "G3TrxRtjxE3f",
        "colab_type": "code",
        "outputId": "d17ad749-f643-4ea8-b0ee-92df0087c6e6",
        "colab": {
          "base_uri": "https://localhost:8080/",
          "height": 313
        }
      },
      "source": [
        "df1.head()"
      ],
      "execution_count": 0,
      "outputs": [
        {
          "output_type": "execute_result",
          "data": {
            "text/html": [
              "<div>\n",
              "<style scoped>\n",
              "    .dataframe tbody tr th:only-of-type {\n",
              "        vertical-align: middle;\n",
              "    }\n",
              "\n",
              "    .dataframe tbody tr th {\n",
              "        vertical-align: top;\n",
              "    }\n",
              "\n",
              "    .dataframe thead th {\n",
              "        text-align: right;\n",
              "    }\n",
              "</style>\n",
              "<table border=\"1\" class=\"dataframe\">\n",
              "  <thead>\n",
              "    <tr style=\"text-align: right;\">\n",
              "      <th></th>\n",
              "      <th>time</th>\n",
              "      <th>cyl</th>\n",
              "      <th>s_temp_crank</th>\n",
              "      <th>d_temp_crank</th>\n",
              "      <th>s_pressure_crank</th>\n",
              "      <th>d_pressure_crank</th>\n",
              "      <th>rpm_crank</th>\n",
              "      <th>s_temp_mean</th>\n",
              "      <th>d_temp_mean</th>\n",
              "      <th>s_pressure_mean</th>\n",
              "      <th>d_pressure_mean</th>\n",
              "      <th>rpm_mean</th>\n",
              "      <th>y_true</th>\n",
              "      <th>leak_level</th>\n",
              "      <th>station</th>\n",
              "    </tr>\n",
              "  </thead>\n",
              "  <tbody>\n",
              "    <tr>\n",
              "      <th>0</th>\n",
              "      <td>05/04/19 2:30</td>\n",
              "      <td>1</td>\n",
              "      <td>0.666534</td>\n",
              "      <td>2.080444</td>\n",
              "      <td>3.220836</td>\n",
              "      <td>10.105964</td>\n",
              "      <td>10.063987</td>\n",
              "      <td>0.666534</td>\n",
              "      <td>2.053527</td>\n",
              "      <td>3.307406</td>\n",
              "      <td>10.142075</td>\n",
              "      <td>10.063987</td>\n",
              "      <td>1</td>\n",
              "      <td>2</td>\n",
              "      <td>Cross Barr</td>\n",
              "    </tr>\n",
              "    <tr>\n",
              "      <th>1</th>\n",
              "      <td>05/04/19 3:30</td>\n",
              "      <td>1</td>\n",
              "      <td>0.716066</td>\n",
              "      <td>2.153494</td>\n",
              "      <td>3.135203</td>\n",
              "      <td>9.998847</td>\n",
              "      <td>10.075669</td>\n",
              "      <td>0.716066</td>\n",
              "      <td>2.120434</td>\n",
              "      <td>3.243347</td>\n",
              "      <td>10.053597</td>\n",
              "      <td>10.075669</td>\n",
              "      <td>1</td>\n",
              "      <td>2</td>\n",
              "      <td>Cross Barr</td>\n",
              "    </tr>\n",
              "    <tr>\n",
              "      <th>2</th>\n",
              "      <td>05/04/19 4:30</td>\n",
              "      <td>1</td>\n",
              "      <td>0.687551</td>\n",
              "      <td>2.142630</td>\n",
              "      <td>3.066270</td>\n",
              "      <td>9.954641</td>\n",
              "      <td>10.081478</td>\n",
              "      <td>0.687551</td>\n",
              "      <td>2.105328</td>\n",
              "      <td>3.181119</td>\n",
              "      <td>10.001306</td>\n",
              "      <td>10.081478</td>\n",
              "      <td>1</td>\n",
              "      <td>2</td>\n",
              "      <td>Cross Barr</td>\n",
              "    </tr>\n",
              "    <tr>\n",
              "      <th>3</th>\n",
              "      <td>05/04/19 5:30</td>\n",
              "      <td>1</td>\n",
              "      <td>0.686916</td>\n",
              "      <td>2.140013</td>\n",
              "      <td>3.071850</td>\n",
              "      <td>9.956670</td>\n",
              "      <td>10.054274</td>\n",
              "      <td>0.686916</td>\n",
              "      <td>2.101800</td>\n",
              "      <td>3.191233</td>\n",
              "      <td>10.008420</td>\n",
              "      <td>10.054274</td>\n",
              "      <td>1</td>\n",
              "      <td>2</td>\n",
              "      <td>Cross Barr</td>\n",
              "    </tr>\n",
              "    <tr>\n",
              "      <th>4</th>\n",
              "      <td>05/04/19 6:30</td>\n",
              "      <td>1</td>\n",
              "      <td>0.698125</td>\n",
              "      <td>2.156244</td>\n",
              "      <td>3.063865</td>\n",
              "      <td>9.961413</td>\n",
              "      <td>10.091478</td>\n",
              "      <td>0.698125</td>\n",
              "      <td>2.117328</td>\n",
              "      <td>3.183534</td>\n",
              "      <td>10.009700</td>\n",
              "      <td>10.091478</td>\n",
              "      <td>1</td>\n",
              "      <td>2</td>\n",
              "      <td>Cross Barr</td>\n",
              "    </tr>\n",
              "  </tbody>\n",
              "</table>\n",
              "</div>"
            ],
            "text/plain": [
              "            time  cyl  s_temp_crank  ...  y_true  leak_level     station\n",
              "0  05/04/19 2:30    1      0.666534  ...       1           2  Cross Barr\n",
              "1  05/04/19 3:30    1      0.716066  ...       1           2  Cross Barr\n",
              "2  05/04/19 4:30    1      0.687551  ...       1           2  Cross Barr\n",
              "3  05/04/19 5:30    1      0.686916  ...       1           2  Cross Barr\n",
              "4  05/04/19 6:30    1      0.698125  ...       1           2  Cross Barr\n",
              "\n",
              "[5 rows x 15 columns]"
            ]
          },
          "metadata": {
            "tags": []
          },
          "execution_count": 91
        }
      ]
    },
    {
      "cell_type": "code",
      "metadata": {
        "id": "MDd6bEFPj0mh",
        "colab_type": "code",
        "outputId": "2c787e66-4b0f-4172-ada5-2c98a9ac50e0",
        "colab": {
          "base_uri": "https://localhost:8080/",
          "height": 104
        }
      },
      "source": [
        "df1.columns"
      ],
      "execution_count": 0,
      "outputs": [
        {
          "output_type": "execute_result",
          "data": {
            "text/plain": [
              "Index(['time', 'cyl', 's_temp_crank', 'd_temp_crank', 's_pressure_crank',\n",
              "       'd_pressure_crank', 'rpm_crank', 's_temp_mean', 'd_temp_mean',\n",
              "       's_pressure_mean', 'd_pressure_mean', 'rpm_mean', 'y_true',\n",
              "       'leak_level', 'station'],\n",
              "      dtype='object')"
            ]
          },
          "metadata": {
            "tags": []
          },
          "execution_count": 92
        }
      ]
    },
    {
      "cell_type": "code",
      "metadata": {
        "id": "C_FhJ9ekCX79",
        "colab_type": "code",
        "outputId": "34bce66d-6e3c-4123-cc04-4b5055f2be4c",
        "colab": {
          "base_uri": "https://localhost:8080/",
          "height": 34
        }
      },
      "source": [
        "df1['leak_level'].unique()"
      ],
      "execution_count": 0,
      "outputs": [
        {
          "output_type": "execute_result",
          "data": {
            "text/plain": [
              "array([2, 0, 3, 1, 4])"
            ]
          },
          "metadata": {
            "tags": []
          },
          "execution_count": 93
        }
      ]
    },
    {
      "cell_type": "code",
      "metadata": {
        "id": "vzRQrtp3xKTL",
        "colab_type": "code",
        "colab": {}
      },
      "source": [
        "X = df1.iloc[:,1:12]"
      ],
      "execution_count": 0,
      "outputs": []
    },
    {
      "cell_type": "code",
      "metadata": {
        "id": "41ZpjzWqDeIW",
        "colab_type": "code",
        "outputId": "f0f57b78-634d-4bf4-e1b4-9f948e3ccd9f",
        "colab": {
          "base_uri": "https://localhost:8080/",
          "height": 424
        }
      },
      "source": [
        "X"
      ],
      "execution_count": 0,
      "outputs": [
        {
          "output_type": "execute_result",
          "data": {
            "text/html": [
              "<div>\n",
              "<style scoped>\n",
              "    .dataframe tbody tr th:only-of-type {\n",
              "        vertical-align: middle;\n",
              "    }\n",
              "\n",
              "    .dataframe tbody tr th {\n",
              "        vertical-align: top;\n",
              "    }\n",
              "\n",
              "    .dataframe thead th {\n",
              "        text-align: right;\n",
              "    }\n",
              "</style>\n",
              "<table border=\"1\" class=\"dataframe\">\n",
              "  <thead>\n",
              "    <tr style=\"text-align: right;\">\n",
              "      <th></th>\n",
              "      <th>cyl</th>\n",
              "      <th>s_temp_crank</th>\n",
              "      <th>d_temp_crank</th>\n",
              "      <th>s_pressure_crank</th>\n",
              "      <th>d_pressure_crank</th>\n",
              "      <th>rpm_crank</th>\n",
              "      <th>s_temp_mean</th>\n",
              "      <th>d_temp_mean</th>\n",
              "      <th>s_pressure_mean</th>\n",
              "      <th>d_pressure_mean</th>\n",
              "      <th>rpm_mean</th>\n",
              "    </tr>\n",
              "  </thead>\n",
              "  <tbody>\n",
              "    <tr>\n",
              "      <th>0</th>\n",
              "      <td>1</td>\n",
              "      <td>0.666534</td>\n",
              "      <td>2.080444</td>\n",
              "      <td>3.220836</td>\n",
              "      <td>10.105964</td>\n",
              "      <td>10.063987</td>\n",
              "      <td>0.666534</td>\n",
              "      <td>2.053527</td>\n",
              "      <td>3.307406</td>\n",
              "      <td>10.142075</td>\n",
              "      <td>10.063987</td>\n",
              "    </tr>\n",
              "    <tr>\n",
              "      <th>1</th>\n",
              "      <td>1</td>\n",
              "      <td>0.716066</td>\n",
              "      <td>2.153494</td>\n",
              "      <td>3.135203</td>\n",
              "      <td>9.998847</td>\n",
              "      <td>10.075669</td>\n",
              "      <td>0.716066</td>\n",
              "      <td>2.120434</td>\n",
              "      <td>3.243347</td>\n",
              "      <td>10.053597</td>\n",
              "      <td>10.075669</td>\n",
              "    </tr>\n",
              "    <tr>\n",
              "      <th>2</th>\n",
              "      <td>1</td>\n",
              "      <td>0.687551</td>\n",
              "      <td>2.142630</td>\n",
              "      <td>3.066270</td>\n",
              "      <td>9.954641</td>\n",
              "      <td>10.081478</td>\n",
              "      <td>0.687551</td>\n",
              "      <td>2.105328</td>\n",
              "      <td>3.181119</td>\n",
              "      <td>10.001306</td>\n",
              "      <td>10.081478</td>\n",
              "    </tr>\n",
              "    <tr>\n",
              "      <th>3</th>\n",
              "      <td>1</td>\n",
              "      <td>0.686916</td>\n",
              "      <td>2.140013</td>\n",
              "      <td>3.071850</td>\n",
              "      <td>9.956670</td>\n",
              "      <td>10.054274</td>\n",
              "      <td>0.686916</td>\n",
              "      <td>2.101800</td>\n",
              "      <td>3.191233</td>\n",
              "      <td>10.008420</td>\n",
              "      <td>10.054274</td>\n",
              "    </tr>\n",
              "    <tr>\n",
              "      <th>4</th>\n",
              "      <td>1</td>\n",
              "      <td>0.698125</td>\n",
              "      <td>2.156244</td>\n",
              "      <td>3.063865</td>\n",
              "      <td>9.961413</td>\n",
              "      <td>10.091478</td>\n",
              "      <td>0.698125</td>\n",
              "      <td>2.117328</td>\n",
              "      <td>3.183534</td>\n",
              "      <td>10.009700</td>\n",
              "      <td>10.091478</td>\n",
              "    </tr>\n",
              "    <tr>\n",
              "      <th>...</th>\n",
              "      <td>...</td>\n",
              "      <td>...</td>\n",
              "      <td>...</td>\n",
              "      <td>...</td>\n",
              "      <td>...</td>\n",
              "      <td>...</td>\n",
              "      <td>...</td>\n",
              "      <td>...</td>\n",
              "      <td>...</td>\n",
              "      <td>...</td>\n",
              "      <td>...</td>\n",
              "    </tr>\n",
              "    <tr>\n",
              "      <th>165856</th>\n",
              "      <td>4</td>\n",
              "      <td>0.728417</td>\n",
              "      <td>2.599025</td>\n",
              "      <td>0.331039</td>\n",
              "      <td>2.487713</td>\n",
              "      <td>12.358284</td>\n",
              "      <td>0.728417</td>\n",
              "      <td>2.854156</td>\n",
              "      <td>0.184073</td>\n",
              "      <td>2.375134</td>\n",
              "      <td>12.358284</td>\n",
              "    </tr>\n",
              "    <tr>\n",
              "      <th>165857</th>\n",
              "      <td>4</td>\n",
              "      <td>0.686059</td>\n",
              "      <td>2.556454</td>\n",
              "      <td>0.326915</td>\n",
              "      <td>2.484471</td>\n",
              "      <td>12.359520</td>\n",
              "      <td>0.686059</td>\n",
              "      <td>2.810078</td>\n",
              "      <td>0.179784</td>\n",
              "      <td>2.370367</td>\n",
              "      <td>12.359520</td>\n",
              "    </tr>\n",
              "    <tr>\n",
              "      <th>165858</th>\n",
              "      <td>4</td>\n",
              "      <td>0.663322</td>\n",
              "      <td>2.530006</td>\n",
              "      <td>0.328148</td>\n",
              "      <td>2.487526</td>\n",
              "      <td>12.352143</td>\n",
              "      <td>0.663322</td>\n",
              "      <td>2.785113</td>\n",
              "      <td>0.180072</td>\n",
              "      <td>2.373662</td>\n",
              "      <td>12.352143</td>\n",
              "    </tr>\n",
              "    <tr>\n",
              "      <th>165859</th>\n",
              "      <td>4</td>\n",
              "      <td>0.645405</td>\n",
              "      <td>2.513933</td>\n",
              "      <td>0.325451</td>\n",
              "      <td>2.486730</td>\n",
              "      <td>12.353393</td>\n",
              "      <td>0.645405</td>\n",
              "      <td>2.767917</td>\n",
              "      <td>0.178354</td>\n",
              "      <td>2.373709</td>\n",
              "      <td>12.353393</td>\n",
              "    </tr>\n",
              "    <tr>\n",
              "      <th>165860</th>\n",
              "      <td>4</td>\n",
              "      <td>0.637614</td>\n",
              "      <td>2.512509</td>\n",
              "      <td>0.322567</td>\n",
              "      <td>2.491172</td>\n",
              "      <td>12.357672</td>\n",
              "      <td>0.637614</td>\n",
              "      <td>2.766502</td>\n",
              "      <td>0.176086</td>\n",
              "      <td>2.378750</td>\n",
              "      <td>12.357672</td>\n",
              "    </tr>\n",
              "  </tbody>\n",
              "</table>\n",
              "<p>165861 rows × 11 columns</p>\n",
              "</div>"
            ],
            "text/plain": [
              "        cyl  s_temp_crank  ...  d_pressure_mean   rpm_mean\n",
              "0         1      0.666534  ...        10.142075  10.063987\n",
              "1         1      0.716066  ...        10.053597  10.075669\n",
              "2         1      0.687551  ...        10.001306  10.081478\n",
              "3         1      0.686916  ...        10.008420  10.054274\n",
              "4         1      0.698125  ...        10.009700  10.091478\n",
              "...     ...           ...  ...              ...        ...\n",
              "165856    4      0.728417  ...         2.375134  12.358284\n",
              "165857    4      0.686059  ...         2.370367  12.359520\n",
              "165858    4      0.663322  ...         2.373662  12.352143\n",
              "165859    4      0.645405  ...         2.373709  12.353393\n",
              "165860    4      0.637614  ...         2.378750  12.357672\n",
              "\n",
              "[165861 rows x 11 columns]"
            ]
          },
          "metadata": {
            "tags": []
          },
          "execution_count": 95
        }
      ]
    },
    {
      "cell_type": "code",
      "metadata": {
        "id": "osDrTPHBDgws",
        "colab_type": "code",
        "colab": {}
      },
      "source": [
        "y_true = df1.iloc[:,13]"
      ],
      "execution_count": 0,
      "outputs": []
    },
    {
      "cell_type": "code",
      "metadata": {
        "id": "BhjDVPj6kHHe",
        "colab_type": "code",
        "outputId": "db2f08b6-6d2e-495a-c1dc-8d8cc01928e9",
        "colab": {
          "base_uri": "https://localhost:8080/",
          "height": 34
        }
      },
      "source": [
        "y_true.unique()"
      ],
      "execution_count": 0,
      "outputs": [
        {
          "output_type": "execute_result",
          "data": {
            "text/plain": [
              "array([2, 0, 3, 1, 4])"
            ]
          },
          "metadata": {
            "tags": []
          },
          "execution_count": 97
        }
      ]
    },
    {
      "cell_type": "code",
      "metadata": {
        "id": "gK4JI2TKJ-MJ",
        "colab_type": "code",
        "colab": {}
      },
      "source": [
        "y_true=y_true.fillna(0)"
      ],
      "execution_count": 0,
      "outputs": []
    },
    {
      "cell_type": "code",
      "metadata": {
        "id": "xmRqd1C_x9VI",
        "colab_type": "code",
        "outputId": "7c31b564-f151-407a-d692-f1ba17d06dfb",
        "colab": {
          "base_uri": "https://localhost:8080/",
          "height": 34
        }
      },
      "source": [
        "y_true.unique()"
      ],
      "execution_count": 0,
      "outputs": [
        {
          "output_type": "execute_result",
          "data": {
            "text/plain": [
              "array([2, 0, 3, 1, 4])"
            ]
          },
          "metadata": {
            "tags": []
          },
          "execution_count": 99
        }
      ]
    },
    {
      "cell_type": "code",
      "metadata": {
        "id": "QUjimy6IJ_wS",
        "colab_type": "code",
        "colab": {}
      },
      "source": [
        "seed = 7\n",
        "test_size = 0.33\n",
        "X_train, X_test, y_train, y_test = train_test_split(X, y_true, test_size=test_size)"
      ],
      "execution_count": 0,
      "outputs": []
    },
    {
      "cell_type": "code",
      "metadata": {
        "id": "DeA4Ad6-TG2m",
        "colab_type": "code",
        "colab": {}
      },
      "source": [
        "from collections import Counter"
      ],
      "execution_count": 0,
      "outputs": []
    },
    {
      "cell_type": "code",
      "metadata": {
        "id": "u6qs--2goqXC",
        "colab_type": "code",
        "outputId": "4b1d516c-f15a-4397-a9cb-6b8c2949a06b",
        "colab": {
          "base_uri": "https://localhost:8080/",
          "height": 34
        }
      },
      "source": [
        "print(X_train.shape,y_train.shape)"
      ],
      "execution_count": 0,
      "outputs": [
        {
          "output_type": "stream",
          "text": [
            "(111126, 11) (111126,)\n"
          ],
          "name": "stdout"
        }
      ]
    },
    {
      "cell_type": "code",
      "metadata": {
        "id": "Zxib685OjhRK",
        "colab_type": "code",
        "outputId": "1bf1d898-0379-4409-d177-dc21578a7166",
        "colab": {
          "base_uri": "https://localhost:8080/",
          "height": 34
        }
      },
      "source": [
        "Counter(y_train)"
      ],
      "execution_count": 0,
      "outputs": [
        {
          "output_type": "execute_result",
          "data": {
            "text/plain": [
              "Counter({0: 91720, 1: 3379, 2: 8234, 3: 2631, 4: 5162})"
            ]
          },
          "metadata": {
            "tags": []
          },
          "execution_count": 103
        }
      ]
    },
    {
      "cell_type": "code",
      "metadata": {
        "id": "X-I8djxu6qtp",
        "colab_type": "code",
        "colab": {}
      },
      "source": [
        "X_test.shape"
      ],
      "execution_count": 0,
      "outputs": []
    },
    {
      "cell_type": "code",
      "metadata": {
        "id": "2lBSAOQqPLfI",
        "colab_type": "code",
        "colab": {}
      },
      "source": [
        "from sklearn.model_selection import GridSearchCV"
      ],
      "execution_count": 0,
      "outputs": []
    },
    {
      "cell_type": "code",
      "metadata": {
        "id": "W3XdZnlBNVp4",
        "colab_type": "code",
        "colab": {}
      },
      "source": [
        "# A parameter grid for XGBoost\n",
        "params = {\n",
        "        'min_child_weight': [5],\n",
        "        'gamma': [0.5, 1, 1.5, 2, 5],\n",
        "        #'subsample': [0.6, 0.8, 1.0],\n",
        "\n",
        "        #'colsample_bytree': [0.6, 0.8, 1.0],\n",
        "        'max_depth': [3,4,5]\n",
        "        }"
      ],
      "execution_count": 0,
      "outputs": []
    },
    {
      "cell_type": "code",
      "metadata": {
        "id": "wqbhtNhWOkVK",
        "colab_type": "code",
        "colab": {}
      },
      "source": [
        "model = XGBClassifier()\n",
        "clf = GridSearchCV(model, params)"
      ],
      "execution_count": 0,
      "outputs": []
    },
    {
      "cell_type": "code",
      "metadata": {
        "id": "j5Flx6SwPGtF",
        "colab_type": "code",
        "outputId": "6324cc92-d6bb-4178-9603-3a433cfd2281",
        "colab": {
          "base_uri": "https://localhost:8080/",
          "height": 294
        }
      },
      "source": [
        "clf"
      ],
      "execution_count": 0,
      "outputs": [
        {
          "output_type": "execute_result",
          "data": {
            "text/plain": [
              "GridSearchCV(cv=None, error_score=nan,\n",
              "             estimator=XGBClassifier(base_score=0.5, booster='gbtree',\n",
              "                                     colsample_bylevel=1, colsample_bynode=1,\n",
              "                                     colsample_bytree=1, gamma=0,\n",
              "                                     learning_rate=0.1, max_delta_step=0,\n",
              "                                     max_depth=3, min_child_weight=1,\n",
              "                                     missing=None, n_estimators=100, n_jobs=1,\n",
              "                                     nthread=None, objective='binary:logistic',\n",
              "                                     random_state=0, reg_alpha=0, reg_lambda=1,\n",
              "                                     scale_pos_weight=1, seed=None, silent=None,\n",
              "                                     subsample=1, verbosity=1),\n",
              "             iid='deprecated', n_jobs=None,\n",
              "             param_grid={'gamma': [0.5, 1, 1.5, 2, 5], 'max_depth': [3, 4, 5],\n",
              "                         'min_child_weight': [5]},\n",
              "             pre_dispatch='2*n_jobs', refit=True, return_train_score=False,\n",
              "             scoring=None, verbose=0)"
            ]
          },
          "metadata": {
            "tags": []
          },
          "execution_count": 107
        }
      ]
    },
    {
      "cell_type": "code",
      "metadata": {
        "id": "joyVaFkGklZJ",
        "colab_type": "code",
        "outputId": "65fc7906-d41c-46e4-e042-9e368fd27be7",
        "colab": {
          "base_uri": "https://localhost:8080/",
          "height": 294
        }
      },
      "source": [
        "clf.fit(X_train, y_train)"
      ],
      "execution_count": 0,
      "outputs": [
        {
          "output_type": "execute_result",
          "data": {
            "text/plain": [
              "GridSearchCV(cv=None, error_score=nan,\n",
              "             estimator=XGBClassifier(base_score=0.5, booster='gbtree',\n",
              "                                     colsample_bylevel=1, colsample_bynode=1,\n",
              "                                     colsample_bytree=1, gamma=0,\n",
              "                                     learning_rate=0.1, max_delta_step=0,\n",
              "                                     max_depth=3, min_child_weight=1,\n",
              "                                     missing=None, n_estimators=100, n_jobs=1,\n",
              "                                     nthread=None, objective='binary:logistic',\n",
              "                                     random_state=0, reg_alpha=0, reg_lambda=1,\n",
              "                                     scale_pos_weight=1, seed=None, silent=None,\n",
              "                                     subsample=1, verbosity=1),\n",
              "             iid='deprecated', n_jobs=None,\n",
              "             param_grid={'gamma': [0.5, 1, 1.5, 2, 5], 'max_depth': [3, 4, 5],\n",
              "                         'min_child_weight': [5]},\n",
              "             pre_dispatch='2*n_jobs', refit=True, return_train_score=False,\n",
              "             scoring=None, verbose=0)"
            ]
          },
          "metadata": {
            "tags": []
          },
          "execution_count": 108
        }
      ]
    },
    {
      "cell_type": "code",
      "metadata": {
        "id": "FzxSXOc8jEAy",
        "colab_type": "code",
        "outputId": "4d3fe05d-b4dd-4012-f7cd-4e7440c81d39",
        "colab": {
          "base_uri": "https://localhost:8080/",
          "height": 424
        }
      },
      "source": [
        "X_test"
      ],
      "execution_count": 0,
      "outputs": [
        {
          "output_type": "execute_result",
          "data": {
            "text/html": [
              "<div>\n",
              "<style scoped>\n",
              "    .dataframe tbody tr th:only-of-type {\n",
              "        vertical-align: middle;\n",
              "    }\n",
              "\n",
              "    .dataframe tbody tr th {\n",
              "        vertical-align: top;\n",
              "    }\n",
              "\n",
              "    .dataframe thead th {\n",
              "        text-align: right;\n",
              "    }\n",
              "</style>\n",
              "<table border=\"1\" class=\"dataframe\">\n",
              "  <thead>\n",
              "    <tr style=\"text-align: right;\">\n",
              "      <th></th>\n",
              "      <th>cyl</th>\n",
              "      <th>s_temp_crank</th>\n",
              "      <th>d_temp_crank</th>\n",
              "      <th>s_pressure_crank</th>\n",
              "      <th>d_pressure_crank</th>\n",
              "      <th>rpm_crank</th>\n",
              "      <th>s_temp_mean</th>\n",
              "      <th>d_temp_mean</th>\n",
              "      <th>s_pressure_mean</th>\n",
              "      <th>d_pressure_mean</th>\n",
              "      <th>rpm_mean</th>\n",
              "    </tr>\n",
              "  </thead>\n",
              "  <tbody>\n",
              "    <tr>\n",
              "      <th>62070</th>\n",
              "      <td>3</td>\n",
              "      <td>0.147850</td>\n",
              "      <td>0.434701</td>\n",
              "      <td>0.077048</td>\n",
              "      <td>0.379969</td>\n",
              "      <td>1.905450</td>\n",
              "      <td>0.147850</td>\n",
              "      <td>0.441665</td>\n",
              "      <td>0.067350</td>\n",
              "      <td>0.362104</td>\n",
              "      <td>1.905186</td>\n",
              "    </tr>\n",
              "    <tr>\n",
              "      <th>55277</th>\n",
              "      <td>1</td>\n",
              "      <td>0.116526</td>\n",
              "      <td>0.392283</td>\n",
              "      <td>0.081089</td>\n",
              "      <td>0.379366</td>\n",
              "      <td>1.904238</td>\n",
              "      <td>0.116526</td>\n",
              "      <td>0.388819</td>\n",
              "      <td>0.080479</td>\n",
              "      <td>0.372009</td>\n",
              "      <td>1.904313</td>\n",
              "    </tr>\n",
              "    <tr>\n",
              "      <th>163798</th>\n",
              "      <td>4</td>\n",
              "      <td>0.409747</td>\n",
              "      <td>2.501040</td>\n",
              "      <td>0.160862</td>\n",
              "      <td>2.371488</td>\n",
              "      <td>12.232851</td>\n",
              "      <td>0.409747</td>\n",
              "      <td>2.511809</td>\n",
              "      <td>0.164772</td>\n",
              "      <td>2.406751</td>\n",
              "      <td>12.232851</td>\n",
              "    </tr>\n",
              "    <tr>\n",
              "      <th>141982</th>\n",
              "      <td>3</td>\n",
              "      <td>0.684986</td>\n",
              "      <td>0.762232</td>\n",
              "      <td>-0.074708</td>\n",
              "      <td>-0.048773</td>\n",
              "      <td>11.552978</td>\n",
              "      <td>0.684986</td>\n",
              "      <td>1.259629</td>\n",
              "      <td>-0.079272</td>\n",
              "      <td>0.196529</td>\n",
              "      <td>11.553271</td>\n",
              "    </tr>\n",
              "    <tr>\n",
              "      <th>102416</th>\n",
              "      <td>2</td>\n",
              "      <td>0.486919</td>\n",
              "      <td>0.830386</td>\n",
              "      <td>8.258870</td>\n",
              "      <td>10.449966</td>\n",
              "      <td>8.667481</td>\n",
              "      <td>0.486919</td>\n",
              "      <td>0.813492</td>\n",
              "      <td>8.369833</td>\n",
              "      <td>10.468251</td>\n",
              "      <td>8.667481</td>\n",
              "    </tr>\n",
              "    <tr>\n",
              "      <th>...</th>\n",
              "      <td>...</td>\n",
              "      <td>...</td>\n",
              "      <td>...</td>\n",
              "      <td>...</td>\n",
              "      <td>...</td>\n",
              "      <td>...</td>\n",
              "      <td>...</td>\n",
              "      <td>...</td>\n",
              "      <td>...</td>\n",
              "      <td>...</td>\n",
              "      <td>...</td>\n",
              "    </tr>\n",
              "    <tr>\n",
              "      <th>112612</th>\n",
              "      <td>4</td>\n",
              "      <td>0.091605</td>\n",
              "      <td>0.391658</td>\n",
              "      <td>0.021769</td>\n",
              "      <td>0.295484</td>\n",
              "      <td>2.233376</td>\n",
              "      <td>0.091605</td>\n",
              "      <td>0.389647</td>\n",
              "      <td>0.025721</td>\n",
              "      <td>0.305020</td>\n",
              "      <td>2.231318</td>\n",
              "    </tr>\n",
              "    <tr>\n",
              "      <th>149341</th>\n",
              "      <td>4</td>\n",
              "      <td>0.500966</td>\n",
              "      <td>3.211406</td>\n",
              "      <td>-0.174020</td>\n",
              "      <td>1.979438</td>\n",
              "      <td>11.556509</td>\n",
              "      <td>0.500966</td>\n",
              "      <td>2.774100</td>\n",
              "      <td>-0.009075</td>\n",
              "      <td>2.138505</td>\n",
              "      <td>11.556502</td>\n",
              "    </tr>\n",
              "    <tr>\n",
              "      <th>1236</th>\n",
              "      <td>1</td>\n",
              "      <td>0.575471</td>\n",
              "      <td>1.944986</td>\n",
              "      <td>3.297865</td>\n",
              "      <td>10.083707</td>\n",
              "      <td>10.175806</td>\n",
              "      <td>0.575471</td>\n",
              "      <td>1.943144</td>\n",
              "      <td>3.258887</td>\n",
              "      <td>9.963310</td>\n",
              "      <td>10.175806</td>\n",
              "    </tr>\n",
              "    <tr>\n",
              "      <th>134326</th>\n",
              "      <td>2</td>\n",
              "      <td>0.536042</td>\n",
              "      <td>1.941531</td>\n",
              "      <td>2.194162</td>\n",
              "      <td>8.073109</td>\n",
              "      <td>11.557682</td>\n",
              "      <td>0.536042</td>\n",
              "      <td>1.937850</td>\n",
              "      <td>2.279943</td>\n",
              "      <td>8.323240</td>\n",
              "      <td>11.557682</td>\n",
              "    </tr>\n",
              "    <tr>\n",
              "      <th>77140</th>\n",
              "      <td>4</td>\n",
              "      <td>0.069402</td>\n",
              "      <td>0.311090</td>\n",
              "      <td>0.379844</td>\n",
              "      <td>1.063739</td>\n",
              "      <td>1.823634</td>\n",
              "      <td>0.069402</td>\n",
              "      <td>0.311932</td>\n",
              "      <td>0.364503</td>\n",
              "      <td>1.028917</td>\n",
              "      <td>1.823634</td>\n",
              "    </tr>\n",
              "  </tbody>\n",
              "</table>\n",
              "<p>54735 rows × 11 columns</p>\n",
              "</div>"
            ],
            "text/plain": [
              "        cyl  s_temp_crank  ...  d_pressure_mean   rpm_mean\n",
              "62070     3      0.147850  ...         0.362104   1.905186\n",
              "55277     1      0.116526  ...         0.372009   1.904313\n",
              "163798    4      0.409747  ...         2.406751  12.232851\n",
              "141982    3      0.684986  ...         0.196529  11.553271\n",
              "102416    2      0.486919  ...        10.468251   8.667481\n",
              "...     ...           ...  ...              ...        ...\n",
              "112612    4      0.091605  ...         0.305020   2.231318\n",
              "149341    4      0.500966  ...         2.138505  11.556502\n",
              "1236      1      0.575471  ...         9.963310  10.175806\n",
              "134326    2      0.536042  ...         8.323240  11.557682\n",
              "77140     4      0.069402  ...         1.028917   1.823634\n",
              "\n",
              "[54735 rows x 11 columns]"
            ]
          },
          "metadata": {
            "tags": []
          },
          "execution_count": 109
        }
      ]
    },
    {
      "cell_type": "code",
      "metadata": {
        "id": "D9RAMDluzMeV",
        "colab_type": "code",
        "colab": {}
      },
      "source": [
        "y_pred = clf.predict(X_test)"
      ],
      "execution_count": 0,
      "outputs": []
    },
    {
      "cell_type": "code",
      "metadata": {
        "id": "uYNjoBePzgw_",
        "colab_type": "code",
        "colab": {}
      },
      "source": [
        "predictions = [round(value) for value in y_pred]"
      ],
      "execution_count": 0,
      "outputs": []
    },
    {
      "cell_type": "code",
      "metadata": {
        "id": "xvUReMQEjMNW",
        "colab_type": "code",
        "outputId": "eee12916-d4e0-4b32-c085-b39595bd2fe6",
        "colab": {
          "base_uri": "https://localhost:8080/",
          "height": 34
        }
      },
      "source": [
        "from collections import Counter\n",
        "Counter(predictions)"
      ],
      "execution_count": 0,
      "outputs": [
        {
          "output_type": "execute_result",
          "data": {
            "text/plain": [
              "Counter({0: 48071, 1: 798, 2: 2977, 3: 995, 4: 1894})"
            ]
          },
          "metadata": {
            "tags": []
          },
          "execution_count": 118
        }
      ]
    },
    {
      "cell_type": "code",
      "metadata": {
        "id": "JoTJlJ4jzh11",
        "colab_type": "code",
        "outputId": "75d624e9-6e00-409e-eddd-9672a557536b",
        "colab": {
          "base_uri": "https://localhost:8080/",
          "height": 34
        }
      },
      "source": [
        "accuracy = accuracy_score(y_test, predictions)\n",
        "print(\"Accuracy: %.2f%%\" % (accuracy * 100.0))"
      ],
      "execution_count": 0,
      "outputs": [
        {
          "output_type": "stream",
          "text": [
            "Accuracy: 92.46%\n"
          ],
          "name": "stdout"
        }
      ]
    },
    {
      "cell_type": "code",
      "metadata": {
        "id": "gWziZaTlzl9_",
        "colab_type": "code",
        "colab": {}
      },
      "source": [
        "from sklearn.metrics import multilabel_confusion_matrix"
      ],
      "execution_count": 0,
      "outputs": []
    },
    {
      "cell_type": "code",
      "metadata": {
        "id": "Go_s5_yxz-ix",
        "colab_type": "code",
        "outputId": "d5c712b7-100e-40a1-eb3e-47c138a2581c",
        "colab": {
          "base_uri": "https://localhost:8080/",
          "height": 260
        }
      },
      "source": [
        "multilabel_confusion_matrix(y_test,predictions,labels=[0,1,2,3,4])"
      ],
      "execution_count": 0,
      "outputs": [
        {
          "output_type": "execute_result",
          "data": {
            "text/plain": [
              "array([[[ 6071,  3300],\n",
              "        [  593, 44771]],\n",
              "\n",
              "       [[52987,   163],\n",
              "        [  950,   635]],\n",
              "\n",
              "       [[50639,   194],\n",
              "        [ 1119,  2783]],\n",
              "\n",
              "       [[53286,   107],\n",
              "        [  454,   888]],\n",
              "\n",
              "       [[51830,   363],\n",
              "        [ 1011,  1531]]])"
            ]
          },
          "metadata": {
            "tags": []
          },
          "execution_count": 121
        }
      ]
    },
    {
      "cell_type": "code",
      "metadata": {
        "id": "5Yao27Aighpf",
        "colab_type": "code",
        "outputId": "735ed376-ba9a-46c3-9c3b-a3d27e858dc0",
        "colab": {
          "base_uri": "https://localhost:8080/",
          "height": 225
        }
      },
      "source": [
        "from sklearn.metrics import classification_report\n",
        "print(classification_report(y_test, predictions))"
      ],
      "execution_count": 0,
      "outputs": [
        {
          "output_type": "stream",
          "text": [
            "              precision    recall  f1-score   support\n",
            "\n",
            "           0       0.93      0.99      0.96     45364\n",
            "           1       0.80      0.40      0.53      1585\n",
            "           2       0.93      0.71      0.81      3902\n",
            "           3       0.89      0.66      0.76      1342\n",
            "           4       0.81      0.60      0.69      2542\n",
            "\n",
            "    accuracy                           0.92     54735\n",
            "   macro avg       0.87      0.67      0.75     54735\n",
            "weighted avg       0.92      0.92      0.92     54735\n",
            "\n"
          ],
          "name": "stdout"
        }
      ]
    },
    {
      "cell_type": "code",
      "metadata": {
        "id": "wB9ll-zK0iby",
        "colab_type": "code",
        "colab": {}
      },
      "source": [
        "import pickle\n",
        "filename = '/content/best_model_2.pkl'\n"
      ],
      "execution_count": 0,
      "outputs": []
    },
    {
      "cell_type": "code",
      "metadata": {
        "id": "IA21WO0lDvwS",
        "colab_type": "code",
        "colab": {}
      },
      "source": [
        "pickle.dump(clf, open(filename, 'wb'))"
      ],
      "execution_count": 0,
      "outputs": []
    },
    {
      "cell_type": "code",
      "metadata": {
        "id": "XHRUBjklEO8z",
        "colab_type": "code",
        "outputId": "5234b62f-299a-49e6-e883-c1180aff33f0",
        "colab": {
          "base_uri": "https://localhost:8080/",
          "height": 34
        }
      },
      "source": [
        "loaded_model = pickle.load(open(filename, 'rb'))\n",
        "result = loaded_model.score(X_test, y_test)\n",
        "print(result)"
      ],
      "execution_count": 0,
      "outputs": [
        {
          "output_type": "stream",
          "text": [
            "0.9246003471270667\n"
          ],
          "name": "stdout"
        }
      ]
    },
    {
      "cell_type": "code",
      "metadata": {
        "id": "2GwklncRorJH",
        "colab_type": "code",
        "outputId": "c76c1e4c-ef99-46c5-e049-e682a32d09d8",
        "colab": {
          "base_uri": "https://localhost:8080/",
          "height": 1000
        }
      },
      "source": [
        "clf.cv_results_"
      ],
      "execution_count": 0,
      "outputs": [
        {
          "output_type": "execute_result",
          "data": {
            "text/plain": [
              "{'mean_fit_time': array([36.44264412, 48.54719915, 61.23280549, 36.57319245, 48.63273411,\n",
              "        61.08445234, 36.70845151, 48.52082572, 61.19560924, 36.82089319,\n",
              "        48.48151999, 60.94255633, 36.55998268, 48.49838948, 61.10313129]),\n",
              " 'mean_score_time': array([0.35640011, 0.46006541, 0.55730696, 0.3607183 , 0.45909815,\n",
              "        0.5566319 , 0.36185174, 0.45540409, 0.55527725, 0.36321158,\n",
              "        0.4540235 , 0.55405622, 0.36747108, 0.4533    , 0.54009151]),\n",
              " 'mean_test_score': array([0.88439253, 0.90442378, 0.92143152, 0.88607524, 0.90507171,\n",
              "        0.92132354, 0.88458148, 0.90479274, 0.92095459, 0.88523839,\n",
              "        0.90469375, 0.92076561, 0.88438349, 0.90346092, 0.92036967]),\n",
              " 'param_gamma': masked_array(data=[0.5, 0.5, 0.5, 1, 1, 1, 1.5, 1.5, 1.5, 2, 2, 2, 5, 5,\n",
              "                    5],\n",
              "              mask=[False, False, False, False, False, False, False, False,\n",
              "                    False, False, False, False, False, False, False],\n",
              "        fill_value='?',\n",
              "             dtype=object),\n",
              " 'param_max_depth': masked_array(data=[3, 4, 5, 3, 4, 5, 3, 4, 5, 3, 4, 5, 3, 4, 5],\n",
              "              mask=[False, False, False, False, False, False, False, False,\n",
              "                    False, False, False, False, False, False, False],\n",
              "        fill_value='?',\n",
              "             dtype=object),\n",
              " 'param_min_child_weight': masked_array(data=[5, 5, 5, 5, 5, 5, 5, 5, 5, 5, 5, 5, 5, 5, 5],\n",
              "              mask=[False, False, False, False, False, False, False, False,\n",
              "                    False, False, False, False, False, False, False],\n",
              "        fill_value='?',\n",
              "             dtype=object),\n",
              " 'params': [{'gamma': 0.5, 'max_depth': 3, 'min_child_weight': 5},\n",
              "  {'gamma': 0.5, 'max_depth': 4, 'min_child_weight': 5},\n",
              "  {'gamma': 0.5, 'max_depth': 5, 'min_child_weight': 5},\n",
              "  {'gamma': 1, 'max_depth': 3, 'min_child_weight': 5},\n",
              "  {'gamma': 1, 'max_depth': 4, 'min_child_weight': 5},\n",
              "  {'gamma': 1, 'max_depth': 5, 'min_child_weight': 5},\n",
              "  {'gamma': 1.5, 'max_depth': 3, 'min_child_weight': 5},\n",
              "  {'gamma': 1.5, 'max_depth': 4, 'min_child_weight': 5},\n",
              "  {'gamma': 1.5, 'max_depth': 5, 'min_child_weight': 5},\n",
              "  {'gamma': 2, 'max_depth': 3, 'min_child_weight': 5},\n",
              "  {'gamma': 2, 'max_depth': 4, 'min_child_weight': 5},\n",
              "  {'gamma': 2, 'max_depth': 5, 'min_child_weight': 5},\n",
              "  {'gamma': 5, 'max_depth': 3, 'min_child_weight': 5},\n",
              "  {'gamma': 5, 'max_depth': 4, 'min_child_weight': 5},\n",
              "  {'gamma': 5, 'max_depth': 5, 'min_child_weight': 5}],\n",
              " 'rank_test_score': array([14,  9,  1, 11,  6,  2, 13,  7,  3, 12,  8,  4, 15, 10,  5],\n",
              "       dtype=int32),\n",
              " 'split0_test_score': array([0.88005039, 0.9070458 , 0.92220822, 0.8888239 , 0.90659588,\n",
              "        0.92166832, 0.88301989, 0.90623594, 0.92099343, 0.88382975,\n",
              "        0.90691083, 0.92130838, 0.88450463, 0.90493116, 0.92045352]),\n",
              " 'split1_test_score': array([0.88773903, 0.90407199, 0.9207649 , 0.88809899, 0.90519685,\n",
              "        0.92022497, 0.88553431, 0.90510686, 0.92089989, 0.88832396,\n",
              "        0.90546682, 0.92058493, 0.88454443, 0.9032171 , 0.91973003]),\n",
              " 'split2_test_score': array([0.88661417, 0.90231721, 0.92044994, 0.88440945, 0.90258718,\n",
              "        0.92067492, 0.88395951, 0.90312711, 0.91910011, 0.88670416,\n",
              "        0.90146232, 0.91910011, 0.88521935, 0.90227222, 0.91887514]),\n",
              " 'split3_test_score': array([0.88292463, 0.90182227, 0.92247469, 0.88494938, 0.90285714,\n",
              "        0.92197975, 0.88112486, 0.90249719, 0.92247469, 0.8815748 ,\n",
              "        0.90213723, 0.92184477, 0.88467942, 0.90182227, 0.92139483]),\n",
              " 'split4_test_score': array([0.88463442, 0.90686164, 0.92125984, 0.88409449, 0.90812148,\n",
              "        0.92206974, 0.88926884, 0.90699663, 0.92130484, 0.88575928,\n",
              "        0.90749156, 0.92098988, 0.88296963, 0.90506187, 0.92139483]),\n",
              " 'std_fit_time': array([0.11145676, 0.22150475, 0.25272255, 0.18850976, 0.29794577,\n",
              "        0.29535342, 0.27356102, 0.11776297, 0.2591827 , 0.09708285,\n",
              "        0.24023879, 0.23192673, 0.12043031, 0.17768183, 0.31584469]),\n",
              " 'std_score_time': array([0.00129758, 0.00689567, 0.0070016 , 0.00309447, 0.00585341,\n",
              "        0.00487309, 0.00251733, 0.00362725, 0.00451714, 0.00215479,\n",
              "        0.00255125, 0.00667452, 0.0025218 , 0.01028895, 0.00374699]),\n",
              " 'std_test_score': array([0.00272772, 0.00219761, 0.00079105, 0.00198073, 0.00213153,\n",
              "        0.00073944, 0.00274419, 0.00173681, 0.00108416, 0.00233866,\n",
              "        0.00246247, 0.00092909, 0.00075177, 0.00133284, 0.00097485])}"
            ]
          },
          "metadata": {
            "tags": []
          },
          "execution_count": 126
        }
      ]
    },
    {
      "cell_type": "code",
      "metadata": {
        "id": "_J1uDrrNqZmJ",
        "colab_type": "code",
        "outputId": "c86cc3e8-8946-499f-97bd-c7bb77770779",
        "colab": {
          "base_uri": "https://localhost:8080/",
          "height": 138
        }
      },
      "source": [
        "clf.best_estimator_"
      ],
      "execution_count": 0,
      "outputs": [
        {
          "output_type": "execute_result",
          "data": {
            "text/plain": [
              "XGBClassifier(base_score=0.5, booster='gbtree', colsample_bylevel=1,\n",
              "              colsample_bynode=1, colsample_bytree=1, gamma=0.5,\n",
              "              learning_rate=0.1, max_delta_step=0, max_depth=5,\n",
              "              min_child_weight=5, missing=None, n_estimators=100, n_jobs=1,\n",
              "              nthread=None, objective='multi:softprob', random_state=0,\n",
              "              reg_alpha=0, reg_lambda=1, scale_pos_weight=1, seed=None,\n",
              "              silent=None, subsample=1, verbosity=1)"
            ]
          },
          "metadata": {
            "tags": []
          },
          "execution_count": 127
        }
      ]
    }
  ]
}