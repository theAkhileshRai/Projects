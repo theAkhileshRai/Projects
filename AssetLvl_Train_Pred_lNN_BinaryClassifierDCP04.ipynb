{
  "nbformat": 4,
  "nbformat_minor": 0,
  "metadata": {
    "colab": {
      "name": "AssetLvl-Train-Pred-lNN BinaryClassifierDCP04.ipynb",
      "provenance": [],
      "collapsed_sections": [],
      "authorship_tag": "ABX9TyMkXEQmn6l1nsg148E4IGIv",
      "include_colab_link": true
    },
    "kernelspec": {
      "name": "python3",
      "display_name": "Python 3"
    },
    "accelerator": "GPU"
  },
  "cells": [
    {
      "cell_type": "markdown",
      "metadata": {
        "id": "view-in-github",
        "colab_type": "text"
      },
      "source": [
        "<a href=\"https://colab.research.google.com/github/theAkhileshRai/Projects/blob/master/AssetLvl_Train_Pred_lNN_BinaryClassifierDCP04.ipynb\" target=\"_parent\"><img src=\"https://colab.research.google.com/assets/colab-badge.svg\" alt=\"Open In Colab\"/></a>"
      ]
    },
    {
      "cell_type": "code",
      "metadata": {
        "id": "P10uROM_sbU3",
        "colab_type": "code",
        "colab": {}
      },
      "source": [
        "\n",
        "import numpy as np\n",
        "import pandas as pd\n",
        "import matplotlib.pyplot as plt\n",
        "import sklearn\n",
        "\n",
        "from numpy import loadtxt\n",
        "from sklearn.model_selection import train_test_split\n",
        "from sklearn.metrics import accuracy_score\n",
        "from sklearn.preprocessing import StandardScaler,OneHotEncoder    \n",
        "\n",
        "\n",
        "from sklearn.metrics import confusion_matrix, classification_report\n",
        "\n",
        "from keras.utils import to_categorical\n",
        "\n",
        "import torch\n",
        "import torch.nn as nn\n",
        "import torch.optim as optim\n",
        "from torch.utils.data import Dataset, DataLoader\n",
        "from torch.nn.init import kaiming_uniform_\n",
        "from torch.nn.init import xavier_uniform_\n",
        "\n",
        "from sklearn.preprocessing import StandardScaler"
      ],
      "execution_count": 1,
      "outputs": []
    },
    {
      "cell_type": "code",
      "metadata": {
        "id": "Ydjz7mefTMRI",
        "colab_type": "code",
        "colab": {}
      },
      "source": [
        "df = pd.read_csv('/content/Old_Normalised_skmin_max.csv',index_col=False)"
      ],
      "execution_count": 2,
      "outputs": []
    },
    {
      "cell_type": "code",
      "metadata": {
        "id": "KsBOls6CUOQc",
        "colab_type": "code",
        "colab": {
          "base_uri": "https://localhost:8080/",
          "height": 411
        },
        "outputId": "9eb1d825-1929-4d63-ec42-828608a991a6"
      },
      "source": [
        "df.head()"
      ],
      "execution_count": 3,
      "outputs": [
        {
          "output_type": "execute_result",
          "data": {
            "text/html": [
              "<div>\n",
              "<style scoped>\n",
              "    .dataframe tbody tr th:only-of-type {\n",
              "        vertical-align: middle;\n",
              "    }\n",
              "\n",
              "    .dataframe tbody tr th {\n",
              "        vertical-align: top;\n",
              "    }\n",
              "\n",
              "    .dataframe thead th {\n",
              "        text-align: right;\n",
              "    }\n",
              "</style>\n",
              "<table border=\"1\" class=\"dataframe\">\n",
              "  <thead>\n",
              "    <tr style=\"text-align: right;\">\n",
              "      <th></th>\n",
              "      <th>Unnamed: 0</th>\n",
              "      <th>Unnamed: 0.1</th>\n",
              "      <th>Unnamed: 0.1.1</th>\n",
              "      <th>time</th>\n",
              "      <th>cyl</th>\n",
              "      <th>s_temp_crank</th>\n",
              "      <th>d_temp_crank</th>\n",
              "      <th>s_pressure_crank</th>\n",
              "      <th>d_pressure_crank</th>\n",
              "      <th>rpm_crank</th>\n",
              "      <th>s_temp_mean</th>\n",
              "      <th>d_temp_mean</th>\n",
              "      <th>s_pressure_mean</th>\n",
              "      <th>d_pressure_mean</th>\n",
              "      <th>rpm_mean</th>\n",
              "      <th>Asset</th>\n",
              "      <th>Binary</th>\n",
              "    </tr>\n",
              "  </thead>\n",
              "  <tbody>\n",
              "    <tr>\n",
              "      <th>0</th>\n",
              "      <td>0</td>\n",
              "      <td>0</td>\n",
              "      <td>0</td>\n",
              "      <td>2019-12-01 00:30:00</td>\n",
              "      <td>1.0</td>\n",
              "      <td>0.602831</td>\n",
              "      <td>0.707424</td>\n",
              "      <td>354.642761</td>\n",
              "      <td>836.740658</td>\n",
              "      <td>0.857422</td>\n",
              "      <td>0.602831</td>\n",
              "      <td>0.715165</td>\n",
              "      <td>0.677025</td>\n",
              "      <td>0.833863</td>\n",
              "      <td>0.865586</td>\n",
              "      <td>Ashland_Unit256</td>\n",
              "      <td>0.0</td>\n",
              "    </tr>\n",
              "    <tr>\n",
              "      <th>1</th>\n",
              "      <td>1</td>\n",
              "      <td>1</td>\n",
              "      <td>1</td>\n",
              "      <td>2019-12-01 01:30:00</td>\n",
              "      <td>1.0</td>\n",
              "      <td>0.557169</td>\n",
              "      <td>0.677714</td>\n",
              "      <td>352.424753</td>\n",
              "      <td>837.714329</td>\n",
              "      <td>0.858371</td>\n",
              "      <td>0.557169</td>\n",
              "      <td>0.680772</td>\n",
              "      <td>0.672020</td>\n",
              "      <td>0.836209</td>\n",
              "      <td>0.866544</td>\n",
              "      <td>Ashland_Unit256</td>\n",
              "      <td>0.0</td>\n",
              "    </tr>\n",
              "    <tr>\n",
              "      <th>2</th>\n",
              "      <td>2</td>\n",
              "      <td>2</td>\n",
              "      <td>2</td>\n",
              "      <td>2019-12-01 02:30:00</td>\n",
              "      <td>1.0</td>\n",
              "      <td>0.535969</td>\n",
              "      <td>0.669181</td>\n",
              "      <td>352.148637</td>\n",
              "      <td>842.562702</td>\n",
              "      <td>0.981990</td>\n",
              "      <td>0.535969</td>\n",
              "      <td>0.666765</td>\n",
              "      <td>0.678841</td>\n",
              "      <td>0.849176</td>\n",
              "      <td>0.991340</td>\n",
              "      <td>Ashland_Unit256</td>\n",
              "      <td>0.0</td>\n",
              "    </tr>\n",
              "    <tr>\n",
              "      <th>3</th>\n",
              "      <td>3</td>\n",
              "      <td>3</td>\n",
              "      <td>3</td>\n",
              "      <td>2019-12-01 03:30:00</td>\n",
              "      <td>1.0</td>\n",
              "      <td>0.624680</td>\n",
              "      <td>0.760470</td>\n",
              "      <td>352.706318</td>\n",
              "      <td>848.715357</td>\n",
              "      <td>0.980724</td>\n",
              "      <td>0.624680</td>\n",
              "      <td>0.760827</td>\n",
              "      <td>0.681220</td>\n",
              "      <td>0.861231</td>\n",
              "      <td>0.990062</td>\n",
              "      <td>Ashland_Unit256</td>\n",
              "      <td>0.0</td>\n",
              "    </tr>\n",
              "    <tr>\n",
              "      <th>4</th>\n",
              "      <td>4</td>\n",
              "      <td>4</td>\n",
              "      <td>4</td>\n",
              "      <td>2019-12-01 04:30:00</td>\n",
              "      <td>1.0</td>\n",
              "      <td>0.696433</td>\n",
              "      <td>0.837534</td>\n",
              "      <td>351.392953</td>\n",
              "      <td>851.224013</td>\n",
              "      <td>0.978991</td>\n",
              "      <td>0.696433</td>\n",
              "      <td>0.840353</td>\n",
              "      <td>0.676310</td>\n",
              "      <td>0.866685</td>\n",
              "      <td>0.988312</td>\n",
              "      <td>Ashland_Unit256</td>\n",
              "      <td>0.0</td>\n",
              "    </tr>\n",
              "  </tbody>\n",
              "</table>\n",
              "</div>"
            ],
            "text/plain": [
              "   Unnamed: 0  Unnamed: 0.1  Unnamed: 0.1.1  ...  rpm_mean            Asset  Binary\n",
              "0           0             0               0  ...  0.865586  Ashland_Unit256     0.0\n",
              "1           1             1               1  ...  0.866544  Ashland_Unit256     0.0\n",
              "2           2             2               2  ...  0.991340  Ashland_Unit256     0.0\n",
              "3           3             3               3  ...  0.990062  Ashland_Unit256     0.0\n",
              "4           4             4               4  ...  0.988312  Ashland_Unit256     0.0\n",
              "\n",
              "[5 rows x 17 columns]"
            ]
          },
          "metadata": {
            "tags": []
          },
          "execution_count": 3
        }
      ]
    },
    {
      "cell_type": "code",
      "metadata": {
        "id": "A8f00GmlHbTl",
        "colab_type": "code",
        "colab": {}
      },
      "source": [
        "# df['s_temp_mean*s_pressure_mean'] = df['s_pressure_mean']*df['s_temp_mean']\n",
        "# df['d_temp_mean*d_pressure_mean'] = df['d_pressure_mean']*df['d_temp_mean']"
      ],
      "execution_count": null,
      "outputs": []
    },
    {
      "cell_type": "code",
      "metadata": {
        "id": "L1A3Lls5m1J_",
        "colab_type": "code",
        "colab": {}
      },
      "source": [
        "# df['s_temp_crank*s_pressure_crank'] = df['s_temp_crank']*df['s_pressure_crank']\n",
        "# df['d_temp_crank*d_pressure_crank'] = df['d_pressure_crank']*df['d_temp_crank']"
      ],
      "execution_count": null,
      "outputs": []
    },
    {
      "cell_type": "code",
      "metadata": {
        "id": "_zpttuH-LUhO",
        "colab_type": "code",
        "colab": {
          "base_uri": "https://localhost:8080/",
          "height": 411
        },
        "outputId": "1abe076a-3eb8-4c76-eba3-762103124d1c"
      },
      "source": [
        "df.head()"
      ],
      "execution_count": 4,
      "outputs": [
        {
          "output_type": "execute_result",
          "data": {
            "text/html": [
              "<div>\n",
              "<style scoped>\n",
              "    .dataframe tbody tr th:only-of-type {\n",
              "        vertical-align: middle;\n",
              "    }\n",
              "\n",
              "    .dataframe tbody tr th {\n",
              "        vertical-align: top;\n",
              "    }\n",
              "\n",
              "    .dataframe thead th {\n",
              "        text-align: right;\n",
              "    }\n",
              "</style>\n",
              "<table border=\"1\" class=\"dataframe\">\n",
              "  <thead>\n",
              "    <tr style=\"text-align: right;\">\n",
              "      <th></th>\n",
              "      <th>Unnamed: 0</th>\n",
              "      <th>Unnamed: 0.1</th>\n",
              "      <th>Unnamed: 0.1.1</th>\n",
              "      <th>time</th>\n",
              "      <th>cyl</th>\n",
              "      <th>s_temp_crank</th>\n",
              "      <th>d_temp_crank</th>\n",
              "      <th>s_pressure_crank</th>\n",
              "      <th>d_pressure_crank</th>\n",
              "      <th>rpm_crank</th>\n",
              "      <th>s_temp_mean</th>\n",
              "      <th>d_temp_mean</th>\n",
              "      <th>s_pressure_mean</th>\n",
              "      <th>d_pressure_mean</th>\n",
              "      <th>rpm_mean</th>\n",
              "      <th>Asset</th>\n",
              "      <th>Binary</th>\n",
              "    </tr>\n",
              "  </thead>\n",
              "  <tbody>\n",
              "    <tr>\n",
              "      <th>0</th>\n",
              "      <td>0</td>\n",
              "      <td>0</td>\n",
              "      <td>0</td>\n",
              "      <td>2019-12-01 00:30:00</td>\n",
              "      <td>1.0</td>\n",
              "      <td>0.602831</td>\n",
              "      <td>0.707424</td>\n",
              "      <td>354.642761</td>\n",
              "      <td>836.740658</td>\n",
              "      <td>0.857422</td>\n",
              "      <td>0.602831</td>\n",
              "      <td>0.715165</td>\n",
              "      <td>0.677025</td>\n",
              "      <td>0.833863</td>\n",
              "      <td>0.865586</td>\n",
              "      <td>Ashland_Unit256</td>\n",
              "      <td>0.0</td>\n",
              "    </tr>\n",
              "    <tr>\n",
              "      <th>1</th>\n",
              "      <td>1</td>\n",
              "      <td>1</td>\n",
              "      <td>1</td>\n",
              "      <td>2019-12-01 01:30:00</td>\n",
              "      <td>1.0</td>\n",
              "      <td>0.557169</td>\n",
              "      <td>0.677714</td>\n",
              "      <td>352.424753</td>\n",
              "      <td>837.714329</td>\n",
              "      <td>0.858371</td>\n",
              "      <td>0.557169</td>\n",
              "      <td>0.680772</td>\n",
              "      <td>0.672020</td>\n",
              "      <td>0.836209</td>\n",
              "      <td>0.866544</td>\n",
              "      <td>Ashland_Unit256</td>\n",
              "      <td>0.0</td>\n",
              "    </tr>\n",
              "    <tr>\n",
              "      <th>2</th>\n",
              "      <td>2</td>\n",
              "      <td>2</td>\n",
              "      <td>2</td>\n",
              "      <td>2019-12-01 02:30:00</td>\n",
              "      <td>1.0</td>\n",
              "      <td>0.535969</td>\n",
              "      <td>0.669181</td>\n",
              "      <td>352.148637</td>\n",
              "      <td>842.562702</td>\n",
              "      <td>0.981990</td>\n",
              "      <td>0.535969</td>\n",
              "      <td>0.666765</td>\n",
              "      <td>0.678841</td>\n",
              "      <td>0.849176</td>\n",
              "      <td>0.991340</td>\n",
              "      <td>Ashland_Unit256</td>\n",
              "      <td>0.0</td>\n",
              "    </tr>\n",
              "    <tr>\n",
              "      <th>3</th>\n",
              "      <td>3</td>\n",
              "      <td>3</td>\n",
              "      <td>3</td>\n",
              "      <td>2019-12-01 03:30:00</td>\n",
              "      <td>1.0</td>\n",
              "      <td>0.624680</td>\n",
              "      <td>0.760470</td>\n",
              "      <td>352.706318</td>\n",
              "      <td>848.715357</td>\n",
              "      <td>0.980724</td>\n",
              "      <td>0.624680</td>\n",
              "      <td>0.760827</td>\n",
              "      <td>0.681220</td>\n",
              "      <td>0.861231</td>\n",
              "      <td>0.990062</td>\n",
              "      <td>Ashland_Unit256</td>\n",
              "      <td>0.0</td>\n",
              "    </tr>\n",
              "    <tr>\n",
              "      <th>4</th>\n",
              "      <td>4</td>\n",
              "      <td>4</td>\n",
              "      <td>4</td>\n",
              "      <td>2019-12-01 04:30:00</td>\n",
              "      <td>1.0</td>\n",
              "      <td>0.696433</td>\n",
              "      <td>0.837534</td>\n",
              "      <td>351.392953</td>\n",
              "      <td>851.224013</td>\n",
              "      <td>0.978991</td>\n",
              "      <td>0.696433</td>\n",
              "      <td>0.840353</td>\n",
              "      <td>0.676310</td>\n",
              "      <td>0.866685</td>\n",
              "      <td>0.988312</td>\n",
              "      <td>Ashland_Unit256</td>\n",
              "      <td>0.0</td>\n",
              "    </tr>\n",
              "  </tbody>\n",
              "</table>\n",
              "</div>"
            ],
            "text/plain": [
              "   Unnamed: 0  Unnamed: 0.1  Unnamed: 0.1.1  ...  rpm_mean            Asset  Binary\n",
              "0           0             0               0  ...  0.865586  Ashland_Unit256     0.0\n",
              "1           1             1               1  ...  0.866544  Ashland_Unit256     0.0\n",
              "2           2             2               2  ...  0.991340  Ashland_Unit256     0.0\n",
              "3           3             3               3  ...  0.990062  Ashland_Unit256     0.0\n",
              "4           4             4               4  ...  0.988312  Ashland_Unit256     0.0\n",
              "\n",
              "[5 rows x 17 columns]"
            ]
          },
          "metadata": {
            "tags": []
          },
          "execution_count": 4
        }
      ]
    },
    {
      "cell_type": "code",
      "metadata": {
        "id": "7BW6XEV1sh09",
        "colab_type": "code",
        "colab": {}
      },
      "source": [
        "# df1 = pd.read_csv('/content/old_normalised_assets-2.csv',index_col=False)\n",
        "# df2 = pd.read_csv('/content/new_normalised_assets-2.csv',index_col=False)"
      ],
      "execution_count": null,
      "outputs": []
    },
    {
      "cell_type": "code",
      "metadata": {
        "id": "5MV3Kc15Tw9n",
        "colab_type": "code",
        "colab": {}
      },
      "source": [
        "# 'Clark county_6', 'RJ booster_1', 'Strawberry_3.csv'"
      ],
      "execution_count": null,
      "outputs": []
    },
    {
      "cell_type": "code",
      "metadata": {
        "id": "j78zQVikHMbk",
        "colab_type": "code",
        "colab": {
          "base_uri": "https://localhost:8080/",
          "height": 102
        },
        "outputId": "4606572f-5cda-4fc8-bfeb-6fa538e5f606"
      },
      "source": [
        "df['Asset'].unique()   "
      ],
      "execution_count": 9,
      "outputs": [
        {
          "output_type": "execute_result",
          "data": {
            "text/plain": [
              "array(['Ashland_Unit256', 'Center station_C2', 'Crossbar_Unit1',\n",
              "       'El Dorado_Unit', 'Goliad_Unit1100', 'HobitLP_Unit102',\n",
              "       'Hobit_Unit2', 'Katy_Unit1116', 'Katy_Unit1117', 'LOHT_North',\n",
              "       'La Porte_K11A', 'RJ_Unit1(1).csv', 'Lightning_Unit2 (2)(1).csv'],\n",
              "      dtype=object)"
            ]
          },
          "metadata": {
            "tags": []
          },
          "execution_count": 9
        }
      ]
    },
    {
      "cell_type": "code",
      "metadata": {
        "id": "tCoxexG3USm4",
        "colab_type": "code",
        "colab": {
          "base_uri": "https://localhost:8080/",
          "height": 102
        },
        "outputId": "ca3f5316-2c10-4930-8498-89a8cafcd1ca"
      },
      "source": [
        "df['Asset'].unique()    "
      ],
      "execution_count": 10,
      "outputs": [
        {
          "output_type": "execute_result",
          "data": {
            "text/plain": [
              "array(['Ashland_Unit256', 'Center station_C2', 'Crossbar_Unit1',\n",
              "       'El Dorado_Unit', 'Goliad_Unit1100', 'HobitLP_Unit102',\n",
              "       'Hobit_Unit2', 'Katy_Unit1116', 'Katy_Unit1117', 'LOHT_North',\n",
              "       'La Porte_K11A', 'RJ_Unit1(1).csv', 'Lightning_Unit2 (2)(1).csv'],\n",
              "      dtype=object)"
            ]
          },
          "metadata": {
            "tags": []
          },
          "execution_count": 10
        }
      ]
    },
    {
      "cell_type": "code",
      "metadata": {
        "id": "UMiAXyBWLMvn",
        "colab_type": "code",
        "colab": {
          "base_uri": "https://localhost:8080/",
          "height": 34
        },
        "outputId": "3e36304c-1acf-4f34-a904-c98e01aa1d42"
      },
      "source": [
        "len(df['Asset'].unique() )"
      ],
      "execution_count": 11,
      "outputs": [
        {
          "output_type": "execute_result",
          "data": {
            "text/plain": [
              "13"
            ]
          },
          "metadata": {
            "tags": []
          },
          "execution_count": 11
        }
      ]
    },
    {
      "cell_type": "code",
      "metadata": {
        "id": "XaH8vslgJIzU",
        "colab_type": "code",
        "colab": {}
      },
      "source": [
        "# 'Clark county_6') | ('La Porte_K11A') |\\\n",
        "#              ('Strawberry_Unit1') | ('RJ booster_1') | ('El Dorado_Unit'"
      ],
      "execution_count": null,
      "outputs": []
    },
    {
      "cell_type": "code",
      "metadata": {
        "id": "ySz7tAnswqa8",
        "colab_type": "code",
        "colab": {
          "base_uri": "https://localhost:8080/",
          "height": 411
        },
        "outputId": "251ac118-3bd6-4789-81d8-00c8bfb0255d"
      },
      "source": [
        "df.head()"
      ],
      "execution_count": 13,
      "outputs": [
        {
          "output_type": "execute_result",
          "data": {
            "text/html": [
              "<div>\n",
              "<style scoped>\n",
              "    .dataframe tbody tr th:only-of-type {\n",
              "        vertical-align: middle;\n",
              "    }\n",
              "\n",
              "    .dataframe tbody tr th {\n",
              "        vertical-align: top;\n",
              "    }\n",
              "\n",
              "    .dataframe thead th {\n",
              "        text-align: right;\n",
              "    }\n",
              "</style>\n",
              "<table border=\"1\" class=\"dataframe\">\n",
              "  <thead>\n",
              "    <tr style=\"text-align: right;\">\n",
              "      <th></th>\n",
              "      <th>Unnamed: 0</th>\n",
              "      <th>Unnamed: 0.1</th>\n",
              "      <th>Unnamed: 0.1.1</th>\n",
              "      <th>time</th>\n",
              "      <th>cyl</th>\n",
              "      <th>s_temp_crank</th>\n",
              "      <th>d_temp_crank</th>\n",
              "      <th>s_pressure_crank</th>\n",
              "      <th>d_pressure_crank</th>\n",
              "      <th>rpm_crank</th>\n",
              "      <th>s_temp_mean</th>\n",
              "      <th>d_temp_mean</th>\n",
              "      <th>s_pressure_mean</th>\n",
              "      <th>d_pressure_mean</th>\n",
              "      <th>rpm_mean</th>\n",
              "      <th>Asset</th>\n",
              "      <th>Binary</th>\n",
              "    </tr>\n",
              "  </thead>\n",
              "  <tbody>\n",
              "    <tr>\n",
              "      <th>0</th>\n",
              "      <td>0</td>\n",
              "      <td>0</td>\n",
              "      <td>0</td>\n",
              "      <td>2019-12-01 00:30:00</td>\n",
              "      <td>1.0</td>\n",
              "      <td>0.602831</td>\n",
              "      <td>0.707424</td>\n",
              "      <td>354.642761</td>\n",
              "      <td>836.740658</td>\n",
              "      <td>0.857422</td>\n",
              "      <td>0.602831</td>\n",
              "      <td>0.715165</td>\n",
              "      <td>0.677025</td>\n",
              "      <td>0.833863</td>\n",
              "      <td>0.865586</td>\n",
              "      <td>Ashland_Unit256</td>\n",
              "      <td>0.0</td>\n",
              "    </tr>\n",
              "    <tr>\n",
              "      <th>1</th>\n",
              "      <td>1</td>\n",
              "      <td>1</td>\n",
              "      <td>1</td>\n",
              "      <td>2019-12-01 01:30:00</td>\n",
              "      <td>1.0</td>\n",
              "      <td>0.557169</td>\n",
              "      <td>0.677714</td>\n",
              "      <td>352.424753</td>\n",
              "      <td>837.714329</td>\n",
              "      <td>0.858371</td>\n",
              "      <td>0.557169</td>\n",
              "      <td>0.680772</td>\n",
              "      <td>0.672020</td>\n",
              "      <td>0.836209</td>\n",
              "      <td>0.866544</td>\n",
              "      <td>Ashland_Unit256</td>\n",
              "      <td>0.0</td>\n",
              "    </tr>\n",
              "    <tr>\n",
              "      <th>2</th>\n",
              "      <td>2</td>\n",
              "      <td>2</td>\n",
              "      <td>2</td>\n",
              "      <td>2019-12-01 02:30:00</td>\n",
              "      <td>1.0</td>\n",
              "      <td>0.535969</td>\n",
              "      <td>0.669181</td>\n",
              "      <td>352.148637</td>\n",
              "      <td>842.562702</td>\n",
              "      <td>0.981990</td>\n",
              "      <td>0.535969</td>\n",
              "      <td>0.666765</td>\n",
              "      <td>0.678841</td>\n",
              "      <td>0.849176</td>\n",
              "      <td>0.991340</td>\n",
              "      <td>Ashland_Unit256</td>\n",
              "      <td>0.0</td>\n",
              "    </tr>\n",
              "    <tr>\n",
              "      <th>3</th>\n",
              "      <td>3</td>\n",
              "      <td>3</td>\n",
              "      <td>3</td>\n",
              "      <td>2019-12-01 03:30:00</td>\n",
              "      <td>1.0</td>\n",
              "      <td>0.624680</td>\n",
              "      <td>0.760470</td>\n",
              "      <td>352.706318</td>\n",
              "      <td>848.715357</td>\n",
              "      <td>0.980724</td>\n",
              "      <td>0.624680</td>\n",
              "      <td>0.760827</td>\n",
              "      <td>0.681220</td>\n",
              "      <td>0.861231</td>\n",
              "      <td>0.990062</td>\n",
              "      <td>Ashland_Unit256</td>\n",
              "      <td>0.0</td>\n",
              "    </tr>\n",
              "    <tr>\n",
              "      <th>4</th>\n",
              "      <td>4</td>\n",
              "      <td>4</td>\n",
              "      <td>4</td>\n",
              "      <td>2019-12-01 04:30:00</td>\n",
              "      <td>1.0</td>\n",
              "      <td>0.696433</td>\n",
              "      <td>0.837534</td>\n",
              "      <td>351.392953</td>\n",
              "      <td>851.224013</td>\n",
              "      <td>0.978991</td>\n",
              "      <td>0.696433</td>\n",
              "      <td>0.840353</td>\n",
              "      <td>0.676310</td>\n",
              "      <td>0.866685</td>\n",
              "      <td>0.988312</td>\n",
              "      <td>Ashland_Unit256</td>\n",
              "      <td>0.0</td>\n",
              "    </tr>\n",
              "  </tbody>\n",
              "</table>\n",
              "</div>"
            ],
            "text/plain": [
              "   Unnamed: 0  Unnamed: 0.1  Unnamed: 0.1.1  ...  rpm_mean            Asset  Binary\n",
              "0           0             0               0  ...  0.865586  Ashland_Unit256     0.0\n",
              "1           1             1               1  ...  0.866544  Ashland_Unit256     0.0\n",
              "2           2             2               2  ...  0.991340  Ashland_Unit256     0.0\n",
              "3           3             3               3  ...  0.990062  Ashland_Unit256     0.0\n",
              "4           4             4               4  ...  0.988312  Ashland_Unit256     0.0\n",
              "\n",
              "[5 rows x 17 columns]"
            ]
          },
          "metadata": {
            "tags": []
          },
          "execution_count": 13
        }
      ]
    },
    {
      "cell_type": "code",
      "metadata": {
        "id": "TdsRIaE8w7kC",
        "colab_type": "code",
        "colab": {
          "base_uri": "https://localhost:8080/",
          "height": 102
        },
        "outputId": "75440ab7-5745-44aa-b742-0d3890834531"
      },
      "source": [
        "df.columns"
      ],
      "execution_count": 14,
      "outputs": [
        {
          "output_type": "execute_result",
          "data": {
            "text/plain": [
              "Index(['Unnamed: 0', 'Unnamed: 0.1', 'Unnamed: 0.1.1', 'time', 'cyl',\n",
              "       's_temp_crank', 'd_temp_crank', 's_pressure_crank', 'd_pressure_crank',\n",
              "       'rpm_crank', 's_temp_mean', 'd_temp_mean', 's_pressure_mean',\n",
              "       'd_pressure_mean', 'rpm_mean', 'Asset', 'Binary'],\n",
              "      dtype='object')"
            ]
          },
          "metadata": {
            "tags": []
          },
          "execution_count": 14
        }
      ]
    },
    {
      "cell_type": "code",
      "metadata": {
        "id": "nBrWvkAjwx6S",
        "colab_type": "code",
        "colab": {}
      },
      "source": [
        "df['Binary'] = df['Binary'].fillna(0)\n",
        "df = df.fillna(0)\n",
        "#df1['multi_class'] = df1['multi_class'].fillna(0)"
      ],
      "execution_count": 15,
      "outputs": []
    },
    {
      "cell_type": "code",
      "metadata": {
        "id": "G3TrxRtjxE3f",
        "colab_type": "code",
        "colab": {
          "base_uri": "https://localhost:8080/",
          "height": 411
        },
        "outputId": "4fdfdc08-5a37-4d24-dc26-a5d7a0779b68"
      },
      "source": [
        "df.head()"
      ],
      "execution_count": 16,
      "outputs": [
        {
          "output_type": "execute_result",
          "data": {
            "text/html": [
              "<div>\n",
              "<style scoped>\n",
              "    .dataframe tbody tr th:only-of-type {\n",
              "        vertical-align: middle;\n",
              "    }\n",
              "\n",
              "    .dataframe tbody tr th {\n",
              "        vertical-align: top;\n",
              "    }\n",
              "\n",
              "    .dataframe thead th {\n",
              "        text-align: right;\n",
              "    }\n",
              "</style>\n",
              "<table border=\"1\" class=\"dataframe\">\n",
              "  <thead>\n",
              "    <tr style=\"text-align: right;\">\n",
              "      <th></th>\n",
              "      <th>Unnamed: 0</th>\n",
              "      <th>Unnamed: 0.1</th>\n",
              "      <th>Unnamed: 0.1.1</th>\n",
              "      <th>time</th>\n",
              "      <th>cyl</th>\n",
              "      <th>s_temp_crank</th>\n",
              "      <th>d_temp_crank</th>\n",
              "      <th>s_pressure_crank</th>\n",
              "      <th>d_pressure_crank</th>\n",
              "      <th>rpm_crank</th>\n",
              "      <th>s_temp_mean</th>\n",
              "      <th>d_temp_mean</th>\n",
              "      <th>s_pressure_mean</th>\n",
              "      <th>d_pressure_mean</th>\n",
              "      <th>rpm_mean</th>\n",
              "      <th>Asset</th>\n",
              "      <th>Binary</th>\n",
              "    </tr>\n",
              "  </thead>\n",
              "  <tbody>\n",
              "    <tr>\n",
              "      <th>0</th>\n",
              "      <td>0</td>\n",
              "      <td>0</td>\n",
              "      <td>0</td>\n",
              "      <td>2019-12-01 00:30:00</td>\n",
              "      <td>1.0</td>\n",
              "      <td>0.602831</td>\n",
              "      <td>0.707424</td>\n",
              "      <td>354.642761</td>\n",
              "      <td>836.740658</td>\n",
              "      <td>0.857422</td>\n",
              "      <td>0.602831</td>\n",
              "      <td>0.715165</td>\n",
              "      <td>0.677025</td>\n",
              "      <td>0.833863</td>\n",
              "      <td>0.865586</td>\n",
              "      <td>Ashland_Unit256</td>\n",
              "      <td>0.0</td>\n",
              "    </tr>\n",
              "    <tr>\n",
              "      <th>1</th>\n",
              "      <td>1</td>\n",
              "      <td>1</td>\n",
              "      <td>1</td>\n",
              "      <td>2019-12-01 01:30:00</td>\n",
              "      <td>1.0</td>\n",
              "      <td>0.557169</td>\n",
              "      <td>0.677714</td>\n",
              "      <td>352.424753</td>\n",
              "      <td>837.714329</td>\n",
              "      <td>0.858371</td>\n",
              "      <td>0.557169</td>\n",
              "      <td>0.680772</td>\n",
              "      <td>0.672020</td>\n",
              "      <td>0.836209</td>\n",
              "      <td>0.866544</td>\n",
              "      <td>Ashland_Unit256</td>\n",
              "      <td>0.0</td>\n",
              "    </tr>\n",
              "    <tr>\n",
              "      <th>2</th>\n",
              "      <td>2</td>\n",
              "      <td>2</td>\n",
              "      <td>2</td>\n",
              "      <td>2019-12-01 02:30:00</td>\n",
              "      <td>1.0</td>\n",
              "      <td>0.535969</td>\n",
              "      <td>0.669181</td>\n",
              "      <td>352.148637</td>\n",
              "      <td>842.562702</td>\n",
              "      <td>0.981990</td>\n",
              "      <td>0.535969</td>\n",
              "      <td>0.666765</td>\n",
              "      <td>0.678841</td>\n",
              "      <td>0.849176</td>\n",
              "      <td>0.991340</td>\n",
              "      <td>Ashland_Unit256</td>\n",
              "      <td>0.0</td>\n",
              "    </tr>\n",
              "    <tr>\n",
              "      <th>3</th>\n",
              "      <td>3</td>\n",
              "      <td>3</td>\n",
              "      <td>3</td>\n",
              "      <td>2019-12-01 03:30:00</td>\n",
              "      <td>1.0</td>\n",
              "      <td>0.624680</td>\n",
              "      <td>0.760470</td>\n",
              "      <td>352.706318</td>\n",
              "      <td>848.715357</td>\n",
              "      <td>0.980724</td>\n",
              "      <td>0.624680</td>\n",
              "      <td>0.760827</td>\n",
              "      <td>0.681220</td>\n",
              "      <td>0.861231</td>\n",
              "      <td>0.990062</td>\n",
              "      <td>Ashland_Unit256</td>\n",
              "      <td>0.0</td>\n",
              "    </tr>\n",
              "    <tr>\n",
              "      <th>4</th>\n",
              "      <td>4</td>\n",
              "      <td>4</td>\n",
              "      <td>4</td>\n",
              "      <td>2019-12-01 04:30:00</td>\n",
              "      <td>1.0</td>\n",
              "      <td>0.696433</td>\n",
              "      <td>0.837534</td>\n",
              "      <td>351.392953</td>\n",
              "      <td>851.224013</td>\n",
              "      <td>0.978991</td>\n",
              "      <td>0.696433</td>\n",
              "      <td>0.840353</td>\n",
              "      <td>0.676310</td>\n",
              "      <td>0.866685</td>\n",
              "      <td>0.988312</td>\n",
              "      <td>Ashland_Unit256</td>\n",
              "      <td>0.0</td>\n",
              "    </tr>\n",
              "  </tbody>\n",
              "</table>\n",
              "</div>"
            ],
            "text/plain": [
              "   Unnamed: 0  Unnamed: 0.1  Unnamed: 0.1.1  ...  rpm_mean            Asset  Binary\n",
              "0           0             0               0  ...  0.865586  Ashland_Unit256     0.0\n",
              "1           1             1               1  ...  0.866544  Ashland_Unit256     0.0\n",
              "2           2             2               2  ...  0.991340  Ashland_Unit256     0.0\n",
              "3           3             3               3  ...  0.990062  Ashland_Unit256     0.0\n",
              "4           4             4               4  ...  0.988312  Ashland_Unit256     0.0\n",
              "\n",
              "[5 rows x 17 columns]"
            ]
          },
          "metadata": {
            "tags": []
          },
          "execution_count": 16
        }
      ]
    },
    {
      "cell_type": "code",
      "metadata": {
        "id": "b9XrAT6fjVGc",
        "colab_type": "code",
        "colab": {}
      },
      "source": [
        ""
      ],
      "execution_count": null,
      "outputs": []
    },
    {
      "cell_type": "code",
      "metadata": {
        "id": "rJlXj7AOtvSl",
        "colab_type": "code",
        "colab": {
          "base_uri": "https://localhost:8080/",
          "height": 34
        },
        "outputId": "29ea3648-56cb-47a5-ff5d-1d14d92e54b7"
      },
      "source": [
        "df.shape"
      ],
      "execution_count": 17,
      "outputs": [
        {
          "output_type": "execute_result",
          "data": {
            "text/plain": [
              "(60414, 17)"
            ]
          },
          "metadata": {
            "tags": []
          },
          "execution_count": 17
        }
      ]
    },
    {
      "cell_type": "code",
      "metadata": {
        "id": "zuozQPwtzzkn",
        "colab_type": "code",
        "colab": {
          "base_uri": "https://localhost:8080/",
          "height": 102
        },
        "outputId": "4a41bf58-d91d-49e7-e8ba-1eaa213ddc1f"
      },
      "source": [
        "df.columns"
      ],
      "execution_count": 18,
      "outputs": [
        {
          "output_type": "execute_result",
          "data": {
            "text/plain": [
              "Index(['Unnamed: 0', 'Unnamed: 0.1', 'Unnamed: 0.1.1', 'time', 'cyl',\n",
              "       's_temp_crank', 'd_temp_crank', 's_pressure_crank', 'd_pressure_crank',\n",
              "       'rpm_crank', 's_temp_mean', 'd_temp_mean', 's_pressure_mean',\n",
              "       'd_pressure_mean', 'rpm_mean', 'Asset', 'Binary'],\n",
              "      dtype='object')"
            ]
          },
          "metadata": {
            "tags": []
          },
          "execution_count": 18
        }
      ]
    },
    {
      "cell_type": "code",
      "metadata": {
        "id": "C_FhJ9ekCX79",
        "colab_type": "code",
        "colab": {}
      },
      "source": [
        "X_columns = [ 'cyl', 's_temp_crank', 'd_temp_crank', 's_pressure_crank',\\\n",
        "       'd_pressure_crank', 'rpm_crank', 's_temp_mean', 'd_temp_mean',\\\n",
        "       's_pressure_mean', 'd_pressure_mean', 'rpm_mean']"
      ],
      "execution_count": 19,
      "outputs": []
    },
    {
      "cell_type": "code",
      "metadata": {
        "id": "noBsBx2QzZf0",
        "colab_type": "code",
        "colab": {
          "base_uri": "https://localhost:8080/",
          "height": 34
        },
        "outputId": "382be7dc-852b-41cc-82b9-e4f1d51b195d"
      },
      "source": [
        "len(X_columns)"
      ],
      "execution_count": 20,
      "outputs": [
        {
          "output_type": "execute_result",
          "data": {
            "text/plain": [
              "11"
            ]
          },
          "metadata": {
            "tags": []
          },
          "execution_count": 20
        }
      ]
    },
    {
      "cell_type": "code",
      "metadata": {
        "id": "vzRQrtp3xKTL",
        "colab_type": "code",
        "colab": {}
      },
      "source": [
        "X = df[X_columns]"
      ],
      "execution_count": 21,
      "outputs": []
    },
    {
      "cell_type": "code",
      "metadata": {
        "id": "1a92LSVIsCgl",
        "colab_type": "code",
        "colab": {
          "base_uri": "https://localhost:8080/",
          "height": 34
        },
        "outputId": "9d5ca534-efb2-456c-9497-87697e787fcf"
      },
      "source": [
        "X.shape"
      ],
      "execution_count": 22,
      "outputs": [
        {
          "output_type": "execute_result",
          "data": {
            "text/plain": [
              "(60414, 11)"
            ]
          },
          "metadata": {
            "tags": []
          },
          "execution_count": 22
        }
      ]
    },
    {
      "cell_type": "markdown",
      "metadata": {
        "id": "X76N5os4_x5r",
        "colab_type": "text"
      },
      "source": [
        "# build  with mean"
      ]
    },
    {
      "cell_type": "code",
      "metadata": {
        "id": "41ZpjzWqDeIW",
        "colab_type": "code",
        "colab": {
          "base_uri": "https://localhost:8080/",
          "height": 439
        },
        "outputId": "d70a6954-5bd1-4508-c01b-0f23f7356781"
      },
      "source": [
        "X"
      ],
      "execution_count": 23,
      "outputs": [
        {
          "output_type": "execute_result",
          "data": {
            "text/html": [
              "<div>\n",
              "<style scoped>\n",
              "    .dataframe tbody tr th:only-of-type {\n",
              "        vertical-align: middle;\n",
              "    }\n",
              "\n",
              "    .dataframe tbody tr th {\n",
              "        vertical-align: top;\n",
              "    }\n",
              "\n",
              "    .dataframe thead th {\n",
              "        text-align: right;\n",
              "    }\n",
              "</style>\n",
              "<table border=\"1\" class=\"dataframe\">\n",
              "  <thead>\n",
              "    <tr style=\"text-align: right;\">\n",
              "      <th></th>\n",
              "      <th>cyl</th>\n",
              "      <th>s_temp_crank</th>\n",
              "      <th>d_temp_crank</th>\n",
              "      <th>s_pressure_crank</th>\n",
              "      <th>d_pressure_crank</th>\n",
              "      <th>rpm_crank</th>\n",
              "      <th>s_temp_mean</th>\n",
              "      <th>d_temp_mean</th>\n",
              "      <th>s_pressure_mean</th>\n",
              "      <th>d_pressure_mean</th>\n",
              "      <th>rpm_mean</th>\n",
              "    </tr>\n",
              "  </thead>\n",
              "  <tbody>\n",
              "    <tr>\n",
              "      <th>0</th>\n",
              "      <td>1.0</td>\n",
              "      <td>0.602831</td>\n",
              "      <td>0.707424</td>\n",
              "      <td>354.642761</td>\n",
              "      <td>836.740658</td>\n",
              "      <td>0.857422</td>\n",
              "      <td>0.602831</td>\n",
              "      <td>0.715165</td>\n",
              "      <td>0.677025</td>\n",
              "      <td>0.833863</td>\n",
              "      <td>0.865586</td>\n",
              "    </tr>\n",
              "    <tr>\n",
              "      <th>1</th>\n",
              "      <td>1.0</td>\n",
              "      <td>0.557169</td>\n",
              "      <td>0.677714</td>\n",
              "      <td>352.424753</td>\n",
              "      <td>837.714329</td>\n",
              "      <td>0.858371</td>\n",
              "      <td>0.557169</td>\n",
              "      <td>0.680772</td>\n",
              "      <td>0.672020</td>\n",
              "      <td>0.836209</td>\n",
              "      <td>0.866544</td>\n",
              "    </tr>\n",
              "    <tr>\n",
              "      <th>2</th>\n",
              "      <td>1.0</td>\n",
              "      <td>0.535969</td>\n",
              "      <td>0.669181</td>\n",
              "      <td>352.148637</td>\n",
              "      <td>842.562702</td>\n",
              "      <td>0.981990</td>\n",
              "      <td>0.535969</td>\n",
              "      <td>0.666765</td>\n",
              "      <td>0.678841</td>\n",
              "      <td>0.849176</td>\n",
              "      <td>0.991340</td>\n",
              "    </tr>\n",
              "    <tr>\n",
              "      <th>3</th>\n",
              "      <td>1.0</td>\n",
              "      <td>0.624680</td>\n",
              "      <td>0.760470</td>\n",
              "      <td>352.706318</td>\n",
              "      <td>848.715357</td>\n",
              "      <td>0.980724</td>\n",
              "      <td>0.624680</td>\n",
              "      <td>0.760827</td>\n",
              "      <td>0.681220</td>\n",
              "      <td>0.861231</td>\n",
              "      <td>0.990062</td>\n",
              "    </tr>\n",
              "    <tr>\n",
              "      <th>4</th>\n",
              "      <td>1.0</td>\n",
              "      <td>0.696433</td>\n",
              "      <td>0.837534</td>\n",
              "      <td>351.392953</td>\n",
              "      <td>851.224013</td>\n",
              "      <td>0.978991</td>\n",
              "      <td>0.696433</td>\n",
              "      <td>0.840353</td>\n",
              "      <td>0.676310</td>\n",
              "      <td>0.866685</td>\n",
              "      <td>0.988312</td>\n",
              "    </tr>\n",
              "    <tr>\n",
              "      <th>...</th>\n",
              "      <td>...</td>\n",
              "      <td>...</td>\n",
              "      <td>...</td>\n",
              "      <td>...</td>\n",
              "      <td>...</td>\n",
              "      <td>...</td>\n",
              "      <td>...</td>\n",
              "      <td>...</td>\n",
              "      <td>...</td>\n",
              "      <td>...</td>\n",
              "      <td>...</td>\n",
              "    </tr>\n",
              "    <tr>\n",
              "      <th>60409</th>\n",
              "      <td>1.0</td>\n",
              "      <td>0.560897</td>\n",
              "      <td>0.482793</td>\n",
              "      <td>0.585013</td>\n",
              "      <td>0.517756</td>\n",
              "      <td>0.000000</td>\n",
              "      <td>0.560897</td>\n",
              "      <td>0.615550</td>\n",
              "      <td>0.597892</td>\n",
              "      <td>0.563024</td>\n",
              "      <td>0.000000</td>\n",
              "    </tr>\n",
              "    <tr>\n",
              "      <th>60410</th>\n",
              "      <td>1.0</td>\n",
              "      <td>0.633780</td>\n",
              "      <td>0.514327</td>\n",
              "      <td>0.569769</td>\n",
              "      <td>0.512984</td>\n",
              "      <td>0.000000</td>\n",
              "      <td>0.633780</td>\n",
              "      <td>0.654050</td>\n",
              "      <td>0.579155</td>\n",
              "      <td>0.558810</td>\n",
              "      <td>0.000000</td>\n",
              "    </tr>\n",
              "    <tr>\n",
              "      <th>60411</th>\n",
              "      <td>1.0</td>\n",
              "      <td>0.627929</td>\n",
              "      <td>0.512554</td>\n",
              "      <td>0.578790</td>\n",
              "      <td>0.520432</td>\n",
              "      <td>0.000000</td>\n",
              "      <td>0.627929</td>\n",
              "      <td>0.651635</td>\n",
              "      <td>0.590008</td>\n",
              "      <td>0.566225</td>\n",
              "      <td>0.000000</td>\n",
              "    </tr>\n",
              "    <tr>\n",
              "      <th>60412</th>\n",
              "      <td>1.0</td>\n",
              "      <td>0.541300</td>\n",
              "      <td>0.484754</td>\n",
              "      <td>0.578827</td>\n",
              "      <td>0.525011</td>\n",
              "      <td>0.000000</td>\n",
              "      <td>0.541300</td>\n",
              "      <td>0.617035</td>\n",
              "      <td>0.591515</td>\n",
              "      <td>0.570471</td>\n",
              "      <td>0.000000</td>\n",
              "    </tr>\n",
              "    <tr>\n",
              "      <th>60413</th>\n",
              "      <td>1.0</td>\n",
              "      <td>0.556659</td>\n",
              "      <td>0.494090</td>\n",
              "      <td>0.582335</td>\n",
              "      <td>0.532888</td>\n",
              "      <td>0.000000</td>\n",
              "      <td>0.556659</td>\n",
              "      <td>0.629120</td>\n",
              "      <td>0.595765</td>\n",
              "      <td>0.579964</td>\n",
              "      <td>0.000000</td>\n",
              "    </tr>\n",
              "  </tbody>\n",
              "</table>\n",
              "<p>60414 rows × 11 columns</p>\n",
              "</div>"
            ],
            "text/plain": [
              "       cyl  s_temp_crank  ...  d_pressure_mean  rpm_mean\n",
              "0      1.0      0.602831  ...         0.833863  0.865586\n",
              "1      1.0      0.557169  ...         0.836209  0.866544\n",
              "2      1.0      0.535969  ...         0.849176  0.991340\n",
              "3      1.0      0.624680  ...         0.861231  0.990062\n",
              "4      1.0      0.696433  ...         0.866685  0.988312\n",
              "...    ...           ...  ...              ...       ...\n",
              "60409  1.0      0.560897  ...         0.563024  0.000000\n",
              "60410  1.0      0.633780  ...         0.558810  0.000000\n",
              "60411  1.0      0.627929  ...         0.566225  0.000000\n",
              "60412  1.0      0.541300  ...         0.570471  0.000000\n",
              "60413  1.0      0.556659  ...         0.579964  0.000000\n",
              "\n",
              "[60414 rows x 11 columns]"
            ]
          },
          "metadata": {
            "tags": []
          },
          "execution_count": 23
        }
      ]
    },
    {
      "cell_type": "code",
      "metadata": {
        "id": "osDrTPHBDgws",
        "colab_type": "code",
        "colab": {}
      },
      "source": [
        "y_true = df.iloc[:,16]"
      ],
      "execution_count": 29,
      "outputs": []
    },
    {
      "cell_type": "code",
      "metadata": {
        "id": "BhjDVPj6kHHe",
        "colab_type": "code",
        "colab": {
          "base_uri": "https://localhost:8080/",
          "height": 34
        },
        "outputId": "85ac51d8-30a2-4a52-ef8c-3f7da40e6cb1"
      },
      "source": [
        "y_true.unique()"
      ],
      "execution_count": 30,
      "outputs": [
        {
          "output_type": "execute_result",
          "data": {
            "text/plain": [
              "array([0., 1.])"
            ]
          },
          "metadata": {
            "tags": []
          },
          "execution_count": 30
        }
      ]
    },
    {
      "cell_type": "code",
      "metadata": {
        "id": "QUjimy6IJ_wS",
        "colab_type": "code",
        "colab": {}
      },
      "source": [
        "#seed = 42\n",
        "test_size = 0.15\n",
        "X_train, X_test, y_train, y_test = train_test_split(X, y_true, test_size=test_size,shuffle= True)"
      ],
      "execution_count": 31,
      "outputs": []
    },
    {
      "cell_type": "code",
      "metadata": {
        "id": "r5KNo3We0J-4",
        "colab_type": "code",
        "colab": {}
      },
      "source": [
        "# X_val, X_test, y_val, y_test = train_test_split(X_Test, y_Test, test_size=0.75)"
      ],
      "execution_count": 32,
      "outputs": []
    },
    {
      "cell_type": "code",
      "metadata": {
        "id": "DeA4Ad6-TG2m",
        "colab_type": "code",
        "colab": {}
      },
      "source": [
        "from collections import Counter"
      ],
      "execution_count": 33,
      "outputs": []
    },
    {
      "cell_type": "code",
      "metadata": {
        "id": "u6qs--2goqXC",
        "colab_type": "code",
        "colab": {
          "base_uri": "https://localhost:8080/",
          "height": 34
        },
        "outputId": "969f91df-d07c-4aec-bef3-f040812e29a1"
      },
      "source": [
        "print(X_train.shape,y_train.shape)"
      ],
      "execution_count": 34,
      "outputs": [
        {
          "output_type": "stream",
          "text": [
            "(51351, 11) (51351,)\n"
          ],
          "name": "stdout"
        }
      ]
    },
    {
      "cell_type": "code",
      "metadata": {
        "id": "Kz_JxO2XFUGw",
        "colab_type": "code",
        "colab": {
          "base_uri": "https://localhost:8080/",
          "height": 34
        },
        "outputId": "8782cd35-90ec-47b1-fd9c-76052dd89496"
      },
      "source": [
        "len(X_test)"
      ],
      "execution_count": 35,
      "outputs": [
        {
          "output_type": "execute_result",
          "data": {
            "text/plain": [
              "9063"
            ]
          },
          "metadata": {
            "tags": []
          },
          "execution_count": 35
        }
      ]
    },
    {
      "cell_type": "code",
      "metadata": {
        "id": "d8Pk0uESFcGx",
        "colab_type": "code",
        "colab": {}
      },
      "source": [
        "#len(X_val)"
      ],
      "execution_count": null,
      "outputs": []
    },
    {
      "cell_type": "code",
      "metadata": {
        "id": "Zxib685OjhRK",
        "colab_type": "code",
        "colab": {
          "base_uri": "https://localhost:8080/",
          "height": 34
        },
        "outputId": "a8bd8a8f-e9b0-4943-ede3-1cda125ff1df"
      },
      "source": [
        "Counter(y_train)"
      ],
      "execution_count": 36,
      "outputs": [
        {
          "output_type": "execute_result",
          "data": {
            "text/plain": [
              "Counter({0.0: 38931, 1.0: 12420})"
            ]
          },
          "metadata": {
            "tags": []
          },
          "execution_count": 36
        }
      ]
    },
    {
      "cell_type": "markdown",
      "metadata": {
        "id": "x46e8C02_USW",
        "colab_type": "text"
      },
      "source": [
        "64->16->4->1"
      ]
    },
    {
      "cell_type": "code",
      "metadata": {
        "id": "QK8nARFrb0jE",
        "colab_type": "code",
        "colab": {}
      },
      "source": [
        "class binaryClassification(nn.Module):\n",
        "    def __init__(self):\n",
        "        super(binaryClassification, self).__init__()\n",
        "        # Number of input features is 11.\n",
        "        self.layer_1 = nn.Linear(11, 64) \n",
        "        self.layer_2 = nn.Linear(64, 64)\n",
        "        self.layer_3 = nn.Linear(64, 64)\n",
        "        self.layer_4 = nn.Linear(64, 10)\n",
        "        self.layer_5 = nn.Linear(10, 4)\n",
        "        self.layer_out = nn.Linear(4, 1) \n",
        "        xavier_uniform_(self.layer_out.weight)\n",
        "        \n",
        "        self.relu = nn.ReLU()\n",
        "        self.dropout = nn.Dropout(p=0.1)\n",
        "        self.batchnorm1 = nn.BatchNorm1d(64)\n",
        "        self.batchnorm2 = nn.BatchNorm1d(64)\n",
        "        self.batchnorm3 = nn.BatchNorm1d(64)\n",
        "        self.batchnorm4 = nn.BatchNorm1d(10)\n",
        "        self.sig = nn.Sigmoid()\n",
        "\n",
        "        \n",
        "    def forward(self, inputs):\n",
        "        x = self.relu(self.layer_1(inputs))\n",
        "        x = self.batchnorm1(x)\n",
        "        x = self.relu(self.layer_2(x))\n",
        "        x = self.batchnorm2(x)\n",
        "        x = self.relu(self.layer_3(x))\n",
        "        x = self.batchnorm3(x)\n",
        "        x = self.relu(self.layer_4(x))\n",
        "        x = self.batchnorm4(x)\n",
        "        x = self.relu(self.layer_5(x))\n",
        "        x = self.dropout(x)\n",
        "        x = self.layer_out(x)\n",
        "        x = self.sig(x)\n",
        "        \n",
        "        return x"
      ],
      "execution_count": 37,
      "outputs": []
    },
    {
      "cell_type": "code",
      "metadata": {
        "id": "yXiXsGllj-Pp",
        "colab_type": "code",
        "colab": {}
      },
      "source": [
        "scaler = StandardScaler()\n",
        "X_train = scaler.fit_transform(X_train)\n",
        "#X_val = scaler.fit_transform(X_val)\n",
        "X_test = scaler.fit_transform(X_test)"
      ],
      "execution_count": 38,
      "outputs": []
    },
    {
      "cell_type": "code",
      "metadata": {
        "id": "V7K8tRCb1MOY",
        "colab_type": "code",
        "colab": {
          "base_uri": "https://localhost:8080/",
          "height": 238
        },
        "outputId": "bb66d0b6-0b81-4b0b-adfa-83c3f320056a"
      },
      "source": [
        "X_test"
      ],
      "execution_count": 39,
      "outputs": [
        {
          "output_type": "execute_result",
          "data": {
            "text/plain": [
              "array([[ 1.24998878,  0.22031633, -0.41556245, ...,  0.73494253,\n",
              "         0.67999446,  1.2634031 ],\n",
              "       [-1.06544554,  0.7425489 ,  0.84930203, ..., -0.98583619,\n",
              "         0.53797465, -1.04995457],\n",
              "       [-1.06544554,  1.41681625,  1.25990732, ...,  0.96353076,\n",
              "         1.17025495,  1.48598057],\n",
              "       ...,\n",
              "       [-1.06544554,  2.78694672,  1.19660408, ...,  0.85602244,\n",
              "        -0.034931  ,  1.48343749],\n",
              "       [-1.06544554, -1.06666353, -1.87267241, ...,  1.36455469,\n",
              "         0.69085023, -0.28382825],\n",
              "       [-1.06544554,  1.21175087,  0.72369733, ..., -1.1438188 ,\n",
              "         0.12635686, -1.04995457]])"
            ]
          },
          "metadata": {
            "tags": []
          },
          "execution_count": 39
        }
      ]
    },
    {
      "cell_type": "code",
      "metadata": {
        "id": "uam-SPjJlGsT",
        "colab_type": "code",
        "colab": {}
      },
      "source": [
        "EPOCHS = 10\n",
        "BATCH_SIZE = 75\n",
        "LEARNING_RATE = 0.0792"
      ],
      "execution_count": 40,
      "outputs": []
    },
    {
      "cell_type": "code",
      "metadata": {
        "id": "JdQAqwpOlTYo",
        "colab_type": "code",
        "colab": {}
      },
      "source": [
        "## train data\n",
        "class trainData(Dataset):\n",
        "    \n",
        "    def __init__(self, X_data, y_data):\n",
        "        self.X_data = X_data\n",
        "        self.y_data = y_data\n",
        "        \n",
        "    def __getitem__(self, index):\n",
        "        return self.X_data[index], self.y_data[index]\n",
        "        \n",
        "    def __len__ (self):\n",
        "        return len(self.X_data)\n",
        "\n",
        "y_train = y_train.values\n",
        "train_data = trainData(torch.FloatTensor(X_train),torch.FloatTensor(y_train))\n",
        "## test data    \n",
        "class testData(Dataset):\n",
        "    \n",
        "    def __init__(self, X_data):\n",
        "        self.X_data = X_data\n",
        "        \n",
        "    def __getitem__(self, index):\n",
        "        return self.X_data[index]\n",
        "        \n",
        "    def __len__ (self):\n",
        "        return len(self.X_data)\n",
        "# ## val data    \n",
        "# class valData(Dataset):\n",
        "    \n",
        "#     def __init__(self, X_data):\n",
        "#         self.X_data = X_data\n",
        "        \n",
        "#     def __getitem__(self, index):\n",
        "#         return self.X_data[index]\n",
        "        \n",
        "#     def __len__ (self):\n",
        "#         return len(self.X_data)\n",
        "\n",
        "test_data = testData(torch.FloatTensor(X_test))\n",
        "# val_data = valData(torch.FloatTensor(X_val))"
      ],
      "execution_count": 41,
      "outputs": []
    },
    {
      "cell_type": "code",
      "metadata": {
        "id": "7ADj3luUlV2O",
        "colab_type": "code",
        "colab": {}
      },
      "source": [
        "train_loader = DataLoader(dataset=train_data, batch_size=BATCH_SIZE, shuffle=True)\n",
        "# val_loader = DataLoader(dataset=val_data, batch_size=1)\n",
        "test_loader = DataLoader(dataset=test_data, batch_size=1)"
      ],
      "execution_count": 42,
      "outputs": []
    },
    {
      "cell_type": "code",
      "metadata": {
        "id": "Ipz_O-d2ndxr",
        "colab_type": "code",
        "colab": {
          "base_uri": "https://localhost:8080/",
          "height": 34
        },
        "outputId": "0c785c90-c389-4b94-962a-469f9b346f52"
      },
      "source": [
        "device = torch.device(\"cuda:0\" if torch.cuda.is_available() else \"cpu\")\n",
        "print(device)"
      ],
      "execution_count": 43,
      "outputs": [
        {
          "output_type": "stream",
          "text": [
            "cuda:0\n"
          ],
          "name": "stdout"
        }
      ]
    },
    {
      "cell_type": "code",
      "metadata": {
        "id": "XmrpoOEmnaqx",
        "colab_type": "code",
        "colab": {
          "base_uri": "https://localhost:8080/",
          "height": 272
        },
        "outputId": "60c5f200-8947-4ddf-c62f-fcaf12dbd65e"
      },
      "source": [
        "model = binaryClassification()\n",
        "model.to(device)"
      ],
      "execution_count": 44,
      "outputs": [
        {
          "output_type": "execute_result",
          "data": {
            "text/plain": [
              "binaryClassification(\n",
              "  (layer_1): Linear(in_features=11, out_features=64, bias=True)\n",
              "  (layer_2): Linear(in_features=64, out_features=64, bias=True)\n",
              "  (layer_3): Linear(in_features=64, out_features=64, bias=True)\n",
              "  (layer_4): Linear(in_features=64, out_features=10, bias=True)\n",
              "  (layer_5): Linear(in_features=10, out_features=4, bias=True)\n",
              "  (layer_out): Linear(in_features=4, out_features=1, bias=True)\n",
              "  (relu): ReLU()\n",
              "  (dropout): Dropout(p=0.1, inplace=False)\n",
              "  (batchnorm1): BatchNorm1d(64, eps=1e-05, momentum=0.1, affine=True, track_running_stats=True)\n",
              "  (batchnorm2): BatchNorm1d(64, eps=1e-05, momentum=0.1, affine=True, track_running_stats=True)\n",
              "  (batchnorm3): BatchNorm1d(64, eps=1e-05, momentum=0.1, affine=True, track_running_stats=True)\n",
              "  (batchnorm4): BatchNorm1d(10, eps=1e-05, momentum=0.1, affine=True, track_running_stats=True)\n",
              "  (sig): Sigmoid()\n",
              ")"
            ]
          },
          "metadata": {
            "tags": []
          },
          "execution_count": 44
        }
      ]
    },
    {
      "cell_type": "code",
      "metadata": {
        "id": "rKX1xn8OnRQl",
        "colab_type": "code",
        "colab": {}
      },
      "source": [
        "criterion = nn.BCEWithLogitsLoss()\n",
        "optimizer = optim.SGD(model.parameters(), lr=LEARNING_RATE)"
      ],
      "execution_count": 45,
      "outputs": []
    },
    {
      "cell_type": "code",
      "metadata": {
        "id": "CX-alqvfpa1D",
        "colab_type": "code",
        "colab": {}
      },
      "source": [
        "def binary_acc(y_pred, y_test):\n",
        "    y_pred_tag = torch.round(torch.sigmoid(y_pred))\n",
        "\n",
        "    correct_results_sum = (y_pred_tag == y_test).sum().float()\n",
        "    acc = correct_results_sum/y_test.shape[0]\n",
        "    acc = torch.round(acc * 100)\n",
        "    \n",
        "    return acc"
      ],
      "execution_count": 46,
      "outputs": []
    },
    {
      "cell_type": "code",
      "metadata": {
        "id": "tVcAHAH7pmWc",
        "colab_type": "code",
        "colab": {}
      },
      "source": [
        "model.train()\n",
        "for e in range(1, EPOCHS+1):\n",
        "    epoch_loss = 0\n",
        "    epoch_acc = 0\n",
        "    for X_batch, y_batch in train_loader:\n",
        "        X_batch, y_batch = X_batch.to(device), y_batch.to(device)\n",
        "        optimizer.zero_grad()\n",
        "        #X_batch = X_batch\n",
        "  \n",
        "        y_pred = model(X_batch)\n",
        "        \n",
        "        loss = criterion(y_pred, y_batch.unsqueeze(1))\n",
        "        acc = binary_acc(y_pred, y_batch.unsqueeze(1))\n",
        "        \n",
        "        loss.backward()\n",
        "        optimizer.step()\n",
        "        \n",
        "        epoch_loss += loss.item()\n",
        "        epoch_acc += acc.item()"
      ],
      "execution_count": 47,
      "outputs": []
    },
    {
      "cell_type": "code",
      "metadata": {
        "id": "bkg9Nwg7MH-E",
        "colab_type": "code",
        "colab": {}
      },
      "source": [
        "y_pred_list = []\n",
        "pred_list = []\n",
        "model.eval()\n",
        "with torch.no_grad():\n",
        "    for X_batch in test_loader:\n",
        "        X_batch = X_batch.to(device)\n",
        "        y_test_pred = model(X_batch)\n",
        "        pred_list.append(y_test_pred.cpu().numpy())\n",
        "        y_pred_tag = torch.round(y_test_pred)\n",
        "        y_pred_list.append(y_pred_tag.cpu().numpy())\n",
        "\n",
        "y_pred_list = [a.squeeze().tolist() for a in y_pred_list]"
      ],
      "execution_count": 48,
      "outputs": []
    },
    {
      "cell_type": "code",
      "metadata": {
        "id": "LQ-AMJsIeDqI",
        "colab_type": "code",
        "colab": {}
      },
      "source": [
        "train_data = pd.DataFrame({'Values': y_pred_list, 'Predictions': pred_list})"
      ],
      "execution_count": 49,
      "outputs": []
    },
    {
      "cell_type": "code",
      "metadata": {
        "id": "-rx9k5theGcz",
        "colab_type": "code",
        "colab": {}
      },
      "source": [
        "train_data.to_csv('Train Predictions.csv')"
      ],
      "execution_count": 50,
      "outputs": []
    },
    {
      "cell_type": "code",
      "metadata": {
        "id": "oOx8PsecMNoW",
        "colab_type": "code",
        "colab": {
          "base_uri": "https://localhost:8080/",
          "height": 51
        },
        "outputId": "e712187d-df64-473b-9439-513539c82cca"
      },
      "source": [
        "confusion_matrix(y_test, y_pred_list)"
      ],
      "execution_count": 51,
      "outputs": [
        {
          "output_type": "execute_result",
          "data": {
            "text/plain": [
              "array([[6736,  127],\n",
              "       [ 682, 1518]])"
            ]
          },
          "metadata": {
            "tags": []
          },
          "execution_count": 51
        }
      ]
    },
    {
      "cell_type": "markdown",
      "metadata": {
        "id": "YqsLKC9z6NLu",
        "colab_type": "text"
      },
      "source": [
        "# Old Assets"
      ]
    },
    {
      "cell_type": "code",
      "metadata": {
        "id": "5NXduzphPVfU",
        "colab_type": "code",
        "colab": {
          "base_uri": "https://localhost:8080/",
          "height": 170
        },
        "outputId": "4a465c51-40b7-4722-bda4-a26968187f0a"
      },
      "source": [
        "print(classification_report(y_test, y_pred_list))"
      ],
      "execution_count": 53,
      "outputs": [
        {
          "output_type": "stream",
          "text": [
            "              precision    recall  f1-score   support\n",
            "\n",
            "         0.0       0.91      0.98      0.94      6863\n",
            "         1.0       0.92      0.69      0.79      2200\n",
            "\n",
            "    accuracy                           0.91      9063\n",
            "   macro avg       0.92      0.84      0.87      9063\n",
            "weighted avg       0.91      0.91      0.91      9063\n",
            "\n"
          ],
          "name": "stdout"
        }
      ]
    },
    {
      "cell_type": "code",
      "metadata": {
        "id": "XqpTDFyBSuw9",
        "colab_type": "code",
        "colab": {}
      },
      "source": [
        "import pickle\n",
        "filename = 'binarynn_dcp_model.pkl'"
      ],
      "execution_count": 54,
      "outputs": []
    },
    {
      "cell_type": "code",
      "metadata": {
        "id": "Dpg2BIcQb2IM",
        "colab_type": "code",
        "colab": {}
      },
      "source": [
        "torch.save(model.state_dict(),filename)\n"
      ],
      "execution_count": 55,
      "outputs": []
    },
    {
      "cell_type": "code",
      "metadata": {
        "id": "dcfxrAPHc44k",
        "colab_type": "code",
        "colab": {
          "base_uri": "https://localhost:8080/",
          "height": 34
        },
        "outputId": "f1a21311-4616-4806-e9eb-f49673cd6715"
      },
      "source": [
        "model.load_state_dict(torch.load(filename))"
      ],
      "execution_count": 56,
      "outputs": [
        {
          "output_type": "execute_result",
          "data": {
            "text/plain": [
              "<All keys matched successfully>"
            ]
          },
          "metadata": {
            "tags": []
          },
          "execution_count": 56
        }
      ]
    },
    {
      "cell_type": "code",
      "metadata": {
        "id": "_U7E2CDgdA7_",
        "colab_type": "code",
        "colab": {
          "base_uri": "https://localhost:8080/",
          "height": 272
        },
        "outputId": "07b5a725-d7f0-4dac-a5a5-16500bc40434"
      },
      "source": [
        "model.eval()"
      ],
      "execution_count": 57,
      "outputs": [
        {
          "output_type": "execute_result",
          "data": {
            "text/plain": [
              "binaryClassification(\n",
              "  (layer_1): Linear(in_features=11, out_features=64, bias=True)\n",
              "  (layer_2): Linear(in_features=64, out_features=64, bias=True)\n",
              "  (layer_3): Linear(in_features=64, out_features=64, bias=True)\n",
              "  (layer_4): Linear(in_features=64, out_features=10, bias=True)\n",
              "  (layer_5): Linear(in_features=10, out_features=4, bias=True)\n",
              "  (layer_out): Linear(in_features=4, out_features=1, bias=True)\n",
              "  (relu): ReLU()\n",
              "  (dropout): Dropout(p=0.1, inplace=False)\n",
              "  (batchnorm1): BatchNorm1d(64, eps=1e-05, momentum=0.1, affine=True, track_running_stats=True)\n",
              "  (batchnorm2): BatchNorm1d(64, eps=1e-05, momentum=0.1, affine=True, track_running_stats=True)\n",
              "  (batchnorm3): BatchNorm1d(64, eps=1e-05, momentum=0.1, affine=True, track_running_stats=True)\n",
              "  (batchnorm4): BatchNorm1d(10, eps=1e-05, momentum=0.1, affine=True, track_running_stats=True)\n",
              "  (sig): Sigmoid()\n",
              ")"
            ]
          },
          "metadata": {
            "tags": []
          },
          "execution_count": 57
        }
      ]
    }
  ]
}