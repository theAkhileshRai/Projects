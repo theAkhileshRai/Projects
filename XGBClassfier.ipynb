{
  "nbformat": 4,
  "nbformat_minor": 0,
  "metadata": {
    "colab": {
      "name": "XGBClassfier.ipynb",
      "provenance": [],
      "authorship_tag": "ABX9TyNXjl+P3vHdijA4TSFDYg8s",
      "include_colab_link": true
    },
    "kernelspec": {
      "name": "python3",
      "display_name": "Python 3"
    }
  },
  "cells": [
    {
      "cell_type": "markdown",
      "metadata": {
        "id": "view-in-github",
        "colab_type": "text"
      },
      "source": [
        "<a href=\"https://colab.research.google.com/github/theAkhileshRai/Projects/blob/master/XGBClassfier.ipynb\" target=\"_parent\"><img src=\"https://colab.research.google.com/assets/colab-badge.svg\" alt=\"Open In Colab\"/></a>"
      ]
    },
    {
      "cell_type": "code",
      "metadata": {
        "id": "P10uROM_sbU3",
        "colab_type": "code",
        "colab": {}
      },
      "source": [
        "import numpy as np\n",
        "import pandas as pd\n",
        "import matplotlib.pyplot as plt\n",
        "import sklearn\n",
        "\n",
        "from numpy import loadtxt\n",
        "from xgboost import XGBClassifier\n",
        "from sklearn.model_selection import train_test_split\n",
        "from sklearn.metrics import accuracy_score"
      ],
      "execution_count": 0,
      "outputs": []
    },
    {
      "cell_type": "code",
      "metadata": {
        "id": "7BW6XEV1sh09",
        "colab_type": "code",
        "colab": {}
      },
      "source": [
        "df1 = pd.read_csv('/content/Combined_df.csv',index_col=False)"
      ],
      "execution_count": 0,
      "outputs": []
    },
    {
      "cell_type": "code",
      "metadata": {
        "id": "ySz7tAnswqa8",
        "colab_type": "code",
        "outputId": "625d1e88-4fa1-43ec-b983-6a3bf65d31ad",
        "colab": {
          "base_uri": "https://localhost:8080/",
          "height": 330
        }
      },
      "source": [
        "df1.head()"
      ],
      "execution_count": 25,
      "outputs": [
        {
          "output_type": "execute_result",
          "data": {
            "text/html": [
              "<div>\n",
              "<style scoped>\n",
              "    .dataframe tbody tr th:only-of-type {\n",
              "        vertical-align: middle;\n",
              "    }\n",
              "\n",
              "    .dataframe tbody tr th {\n",
              "        vertical-align: top;\n",
              "    }\n",
              "\n",
              "    .dataframe thead th {\n",
              "        text-align: right;\n",
              "    }\n",
              "</style>\n",
              "<table border=\"1\" class=\"dataframe\">\n",
              "  <thead>\n",
              "    <tr style=\"text-align: right;\">\n",
              "      <th></th>\n",
              "      <th>Unnamed: 0</th>\n",
              "      <th>time</th>\n",
              "      <th>cyl</th>\n",
              "      <th>s_temp_crank</th>\n",
              "      <th>d_temp_crank</th>\n",
              "      <th>s_pressure_crank</th>\n",
              "      <th>d_pressure_crank</th>\n",
              "      <th>rpm_crank</th>\n",
              "      <th>s_temp_mean</th>\n",
              "      <th>d_temp_mean</th>\n",
              "      <th>s_pressure_mean</th>\n",
              "      <th>d_pressure_mean</th>\n",
              "      <th>rpm_mean</th>\n",
              "      <th>y_true</th>\n",
              "      <th>leak_level</th>\n",
              "      <th>station</th>\n",
              "    </tr>\n",
              "  </thead>\n",
              "  <tbody>\n",
              "    <tr>\n",
              "      <th>0</th>\n",
              "      <td>0</td>\n",
              "      <td>05/04/19 2:30</td>\n",
              "      <td>1</td>\n",
              "      <td>0.666534</td>\n",
              "      <td>2.080444</td>\n",
              "      <td>3.220836</td>\n",
              "      <td>10.105964</td>\n",
              "      <td>10.063987</td>\n",
              "      <td>0.666534</td>\n",
              "      <td>2.053527</td>\n",
              "      <td>3.307406</td>\n",
              "      <td>10.142075</td>\n",
              "      <td>10.063987</td>\n",
              "      <td>1.0</td>\n",
              "      <td>2.0</td>\n",
              "      <td>Cross Barr</td>\n",
              "    </tr>\n",
              "    <tr>\n",
              "      <th>1</th>\n",
              "      <td>1</td>\n",
              "      <td>05/04/19 3:30</td>\n",
              "      <td>1</td>\n",
              "      <td>0.716066</td>\n",
              "      <td>2.153494</td>\n",
              "      <td>3.135203</td>\n",
              "      <td>9.998847</td>\n",
              "      <td>10.075669</td>\n",
              "      <td>0.716066</td>\n",
              "      <td>2.120434</td>\n",
              "      <td>3.243347</td>\n",
              "      <td>10.053597</td>\n",
              "      <td>10.075669</td>\n",
              "      <td>1.0</td>\n",
              "      <td>2.0</td>\n",
              "      <td>Cross Barr</td>\n",
              "    </tr>\n",
              "    <tr>\n",
              "      <th>2</th>\n",
              "      <td>2</td>\n",
              "      <td>05/04/19 4:30</td>\n",
              "      <td>1</td>\n",
              "      <td>0.687551</td>\n",
              "      <td>2.142630</td>\n",
              "      <td>3.066270</td>\n",
              "      <td>9.954641</td>\n",
              "      <td>10.081478</td>\n",
              "      <td>0.687551</td>\n",
              "      <td>2.105328</td>\n",
              "      <td>3.181119</td>\n",
              "      <td>10.001306</td>\n",
              "      <td>10.081478</td>\n",
              "      <td>1.0</td>\n",
              "      <td>2.0</td>\n",
              "      <td>Cross Barr</td>\n",
              "    </tr>\n",
              "    <tr>\n",
              "      <th>3</th>\n",
              "      <td>3</td>\n",
              "      <td>05/04/19 5:30</td>\n",
              "      <td>1</td>\n",
              "      <td>0.686916</td>\n",
              "      <td>2.140013</td>\n",
              "      <td>3.071850</td>\n",
              "      <td>9.956670</td>\n",
              "      <td>10.054274</td>\n",
              "      <td>0.686916</td>\n",
              "      <td>2.101800</td>\n",
              "      <td>3.191233</td>\n",
              "      <td>10.008420</td>\n",
              "      <td>10.054274</td>\n",
              "      <td>1.0</td>\n",
              "      <td>2.0</td>\n",
              "      <td>Cross Barr</td>\n",
              "    </tr>\n",
              "    <tr>\n",
              "      <th>4</th>\n",
              "      <td>4</td>\n",
              "      <td>05/04/19 6:30</td>\n",
              "      <td>1</td>\n",
              "      <td>0.698125</td>\n",
              "      <td>2.156244</td>\n",
              "      <td>3.063865</td>\n",
              "      <td>9.961413</td>\n",
              "      <td>10.091478</td>\n",
              "      <td>0.698125</td>\n",
              "      <td>2.117328</td>\n",
              "      <td>3.183534</td>\n",
              "      <td>10.009700</td>\n",
              "      <td>10.091478</td>\n",
              "      <td>1.0</td>\n",
              "      <td>2.0</td>\n",
              "      <td>Cross Barr</td>\n",
              "    </tr>\n",
              "  </tbody>\n",
              "</table>\n",
              "</div>"
            ],
            "text/plain": [
              "   Unnamed: 0           time  cyl  ...  y_true  leak_level     station\n",
              "0           0  05/04/19 2:30    1  ...     1.0         2.0  Cross Barr\n",
              "1           1  05/04/19 3:30    1  ...     1.0         2.0  Cross Barr\n",
              "2           2  05/04/19 4:30    1  ...     1.0         2.0  Cross Barr\n",
              "3           3  05/04/19 5:30    1  ...     1.0         2.0  Cross Barr\n",
              "4           4  05/04/19 6:30    1  ...     1.0         2.0  Cross Barr\n",
              "\n",
              "[5 rows x 16 columns]"
            ]
          },
          "metadata": {
            "tags": []
          },
          "execution_count": 25
        }
      ]
    },
    {
      "cell_type": "code",
      "metadata": {
        "id": "TdsRIaE8w7kC",
        "colab_type": "code",
        "outputId": "7a9839d0-eeb0-42d0-9049-a2997bc471c8",
        "colab": {
          "base_uri": "https://localhost:8080/",
          "height": 104
        }
      },
      "source": [
        "df1.columns"
      ],
      "execution_count": 26,
      "outputs": [
        {
          "output_type": "execute_result",
          "data": {
            "text/plain": [
              "Index(['Unnamed: 0', 'time', 'cyl', 's_temp_crank', 'd_temp_crank',\n",
              "       's_pressure_crank', 'd_pressure_crank', 'rpm_crank', 's_temp_mean',\n",
              "       'd_temp_mean', 's_pressure_mean', 'd_pressure_mean', 'rpm_mean',\n",
              "       'y_true', 'leak_level', 'station'],\n",
              "      dtype='object')"
            ]
          },
          "metadata": {
            "tags": []
          },
          "execution_count": 26
        }
      ]
    },
    {
      "cell_type": "code",
      "metadata": {
        "id": "nBrWvkAjwx6S",
        "colab_type": "code",
        "colab": {}
      },
      "source": [
        "df1 = df1.drop(columns='Unnamed: 0')"
      ],
      "execution_count": 0,
      "outputs": []
    },
    {
      "cell_type": "code",
      "metadata": {
        "id": "G3TrxRtjxE3f",
        "colab_type": "code",
        "outputId": "77f4b458-b472-469b-a3cc-4f8f7395e4be",
        "colab": {
          "base_uri": "https://localhost:8080/",
          "height": 313
        }
      },
      "source": [
        "df1.head()"
      ],
      "execution_count": 28,
      "outputs": [
        {
          "output_type": "execute_result",
          "data": {
            "text/html": [
              "<div>\n",
              "<style scoped>\n",
              "    .dataframe tbody tr th:only-of-type {\n",
              "        vertical-align: middle;\n",
              "    }\n",
              "\n",
              "    .dataframe tbody tr th {\n",
              "        vertical-align: top;\n",
              "    }\n",
              "\n",
              "    .dataframe thead th {\n",
              "        text-align: right;\n",
              "    }\n",
              "</style>\n",
              "<table border=\"1\" class=\"dataframe\">\n",
              "  <thead>\n",
              "    <tr style=\"text-align: right;\">\n",
              "      <th></th>\n",
              "      <th>time</th>\n",
              "      <th>cyl</th>\n",
              "      <th>s_temp_crank</th>\n",
              "      <th>d_temp_crank</th>\n",
              "      <th>s_pressure_crank</th>\n",
              "      <th>d_pressure_crank</th>\n",
              "      <th>rpm_crank</th>\n",
              "      <th>s_temp_mean</th>\n",
              "      <th>d_temp_mean</th>\n",
              "      <th>s_pressure_mean</th>\n",
              "      <th>d_pressure_mean</th>\n",
              "      <th>rpm_mean</th>\n",
              "      <th>y_true</th>\n",
              "      <th>leak_level</th>\n",
              "      <th>station</th>\n",
              "    </tr>\n",
              "  </thead>\n",
              "  <tbody>\n",
              "    <tr>\n",
              "      <th>0</th>\n",
              "      <td>05/04/19 2:30</td>\n",
              "      <td>1</td>\n",
              "      <td>0.666534</td>\n",
              "      <td>2.080444</td>\n",
              "      <td>3.220836</td>\n",
              "      <td>10.105964</td>\n",
              "      <td>10.063987</td>\n",
              "      <td>0.666534</td>\n",
              "      <td>2.053527</td>\n",
              "      <td>3.307406</td>\n",
              "      <td>10.142075</td>\n",
              "      <td>10.063987</td>\n",
              "      <td>1.0</td>\n",
              "      <td>2.0</td>\n",
              "      <td>Cross Barr</td>\n",
              "    </tr>\n",
              "    <tr>\n",
              "      <th>1</th>\n",
              "      <td>05/04/19 3:30</td>\n",
              "      <td>1</td>\n",
              "      <td>0.716066</td>\n",
              "      <td>2.153494</td>\n",
              "      <td>3.135203</td>\n",
              "      <td>9.998847</td>\n",
              "      <td>10.075669</td>\n",
              "      <td>0.716066</td>\n",
              "      <td>2.120434</td>\n",
              "      <td>3.243347</td>\n",
              "      <td>10.053597</td>\n",
              "      <td>10.075669</td>\n",
              "      <td>1.0</td>\n",
              "      <td>2.0</td>\n",
              "      <td>Cross Barr</td>\n",
              "    </tr>\n",
              "    <tr>\n",
              "      <th>2</th>\n",
              "      <td>05/04/19 4:30</td>\n",
              "      <td>1</td>\n",
              "      <td>0.687551</td>\n",
              "      <td>2.142630</td>\n",
              "      <td>3.066270</td>\n",
              "      <td>9.954641</td>\n",
              "      <td>10.081478</td>\n",
              "      <td>0.687551</td>\n",
              "      <td>2.105328</td>\n",
              "      <td>3.181119</td>\n",
              "      <td>10.001306</td>\n",
              "      <td>10.081478</td>\n",
              "      <td>1.0</td>\n",
              "      <td>2.0</td>\n",
              "      <td>Cross Barr</td>\n",
              "    </tr>\n",
              "    <tr>\n",
              "      <th>3</th>\n",
              "      <td>05/04/19 5:30</td>\n",
              "      <td>1</td>\n",
              "      <td>0.686916</td>\n",
              "      <td>2.140013</td>\n",
              "      <td>3.071850</td>\n",
              "      <td>9.956670</td>\n",
              "      <td>10.054274</td>\n",
              "      <td>0.686916</td>\n",
              "      <td>2.101800</td>\n",
              "      <td>3.191233</td>\n",
              "      <td>10.008420</td>\n",
              "      <td>10.054274</td>\n",
              "      <td>1.0</td>\n",
              "      <td>2.0</td>\n",
              "      <td>Cross Barr</td>\n",
              "    </tr>\n",
              "    <tr>\n",
              "      <th>4</th>\n",
              "      <td>05/04/19 6:30</td>\n",
              "      <td>1</td>\n",
              "      <td>0.698125</td>\n",
              "      <td>2.156244</td>\n",
              "      <td>3.063865</td>\n",
              "      <td>9.961413</td>\n",
              "      <td>10.091478</td>\n",
              "      <td>0.698125</td>\n",
              "      <td>2.117328</td>\n",
              "      <td>3.183534</td>\n",
              "      <td>10.009700</td>\n",
              "      <td>10.091478</td>\n",
              "      <td>1.0</td>\n",
              "      <td>2.0</td>\n",
              "      <td>Cross Barr</td>\n",
              "    </tr>\n",
              "  </tbody>\n",
              "</table>\n",
              "</div>"
            ],
            "text/plain": [
              "            time  cyl  s_temp_crank  ...  y_true  leak_level     station\n",
              "0  05/04/19 2:30    1      0.666534  ...     1.0         2.0  Cross Barr\n",
              "1  05/04/19 3:30    1      0.716066  ...     1.0         2.0  Cross Barr\n",
              "2  05/04/19 4:30    1      0.687551  ...     1.0         2.0  Cross Barr\n",
              "3  05/04/19 5:30    1      0.686916  ...     1.0         2.0  Cross Barr\n",
              "4  05/04/19 6:30    1      0.698125  ...     1.0         2.0  Cross Barr\n",
              "\n",
              "[5 rows x 15 columns]"
            ]
          },
          "metadata": {
            "tags": []
          },
          "execution_count": 28
        }
      ]
    },
    {
      "cell_type": "code",
      "metadata": {
        "id": "C_FhJ9ekCX79",
        "colab_type": "code",
        "outputId": "adabd1bd-7459-496f-f199-92dda77f8bd5",
        "colab": {
          "base_uri": "https://localhost:8080/",
          "height": 34
        }
      },
      "source": [
        "df1.shape"
      ],
      "execution_count": 29,
      "outputs": [
        {
          "output_type": "execute_result",
          "data": {
            "text/plain": [
              "(165861, 15)"
            ]
          },
          "metadata": {
            "tags": []
          },
          "execution_count": 29
        }
      ]
    },
    {
      "cell_type": "code",
      "metadata": {
        "id": "vzRQrtp3xKTL",
        "colab_type": "code",
        "colab": {}
      },
      "source": [
        "X = df1.iloc[:,1:12]"
      ],
      "execution_count": 0,
      "outputs": []
    },
    {
      "cell_type": "code",
      "metadata": {
        "id": "41ZpjzWqDeIW",
        "colab_type": "code",
        "outputId": "b0047139-075d-44e9-d2a2-cd45da6af8af",
        "colab": {
          "base_uri": "https://localhost:8080/",
          "height": 424
        }
      },
      "source": [
        "X"
      ],
      "execution_count": 31,
      "outputs": [
        {
          "output_type": "execute_result",
          "data": {
            "text/html": [
              "<div>\n",
              "<style scoped>\n",
              "    .dataframe tbody tr th:only-of-type {\n",
              "        vertical-align: middle;\n",
              "    }\n",
              "\n",
              "    .dataframe tbody tr th {\n",
              "        vertical-align: top;\n",
              "    }\n",
              "\n",
              "    .dataframe thead th {\n",
              "        text-align: right;\n",
              "    }\n",
              "</style>\n",
              "<table border=\"1\" class=\"dataframe\">\n",
              "  <thead>\n",
              "    <tr style=\"text-align: right;\">\n",
              "      <th></th>\n",
              "      <th>cyl</th>\n",
              "      <th>s_temp_crank</th>\n",
              "      <th>d_temp_crank</th>\n",
              "      <th>s_pressure_crank</th>\n",
              "      <th>d_pressure_crank</th>\n",
              "      <th>rpm_crank</th>\n",
              "      <th>s_temp_mean</th>\n",
              "      <th>d_temp_mean</th>\n",
              "      <th>s_pressure_mean</th>\n",
              "      <th>d_pressure_mean</th>\n",
              "      <th>rpm_mean</th>\n",
              "    </tr>\n",
              "  </thead>\n",
              "  <tbody>\n",
              "    <tr>\n",
              "      <th>0</th>\n",
              "      <td>1</td>\n",
              "      <td>0.666534</td>\n",
              "      <td>2.080444</td>\n",
              "      <td>3.220836</td>\n",
              "      <td>10.105964</td>\n",
              "      <td>10.063987</td>\n",
              "      <td>0.666534</td>\n",
              "      <td>2.053527</td>\n",
              "      <td>3.307406</td>\n",
              "      <td>10.142075</td>\n",
              "      <td>10.063987</td>\n",
              "    </tr>\n",
              "    <tr>\n",
              "      <th>1</th>\n",
              "      <td>1</td>\n",
              "      <td>0.716066</td>\n",
              "      <td>2.153494</td>\n",
              "      <td>3.135203</td>\n",
              "      <td>9.998847</td>\n",
              "      <td>10.075669</td>\n",
              "      <td>0.716066</td>\n",
              "      <td>2.120434</td>\n",
              "      <td>3.243347</td>\n",
              "      <td>10.053597</td>\n",
              "      <td>10.075669</td>\n",
              "    </tr>\n",
              "    <tr>\n",
              "      <th>2</th>\n",
              "      <td>1</td>\n",
              "      <td>0.687551</td>\n",
              "      <td>2.142630</td>\n",
              "      <td>3.066270</td>\n",
              "      <td>9.954641</td>\n",
              "      <td>10.081478</td>\n",
              "      <td>0.687551</td>\n",
              "      <td>2.105328</td>\n",
              "      <td>3.181119</td>\n",
              "      <td>10.001306</td>\n",
              "      <td>10.081478</td>\n",
              "    </tr>\n",
              "    <tr>\n",
              "      <th>3</th>\n",
              "      <td>1</td>\n",
              "      <td>0.686916</td>\n",
              "      <td>2.140013</td>\n",
              "      <td>3.071850</td>\n",
              "      <td>9.956670</td>\n",
              "      <td>10.054274</td>\n",
              "      <td>0.686916</td>\n",
              "      <td>2.101800</td>\n",
              "      <td>3.191233</td>\n",
              "      <td>10.008420</td>\n",
              "      <td>10.054274</td>\n",
              "    </tr>\n",
              "    <tr>\n",
              "      <th>4</th>\n",
              "      <td>1</td>\n",
              "      <td>0.698125</td>\n",
              "      <td>2.156244</td>\n",
              "      <td>3.063865</td>\n",
              "      <td>9.961413</td>\n",
              "      <td>10.091478</td>\n",
              "      <td>0.698125</td>\n",
              "      <td>2.117328</td>\n",
              "      <td>3.183534</td>\n",
              "      <td>10.009700</td>\n",
              "      <td>10.091478</td>\n",
              "    </tr>\n",
              "    <tr>\n",
              "      <th>...</th>\n",
              "      <td>...</td>\n",
              "      <td>...</td>\n",
              "      <td>...</td>\n",
              "      <td>...</td>\n",
              "      <td>...</td>\n",
              "      <td>...</td>\n",
              "      <td>...</td>\n",
              "      <td>...</td>\n",
              "      <td>...</td>\n",
              "      <td>...</td>\n",
              "      <td>...</td>\n",
              "    </tr>\n",
              "    <tr>\n",
              "      <th>165856</th>\n",
              "      <td>4</td>\n",
              "      <td>0.728417</td>\n",
              "      <td>2.599025</td>\n",
              "      <td>0.331039</td>\n",
              "      <td>2.487713</td>\n",
              "      <td>12.358284</td>\n",
              "      <td>0.728417</td>\n",
              "      <td>2.854156</td>\n",
              "      <td>0.184073</td>\n",
              "      <td>2.375134</td>\n",
              "      <td>12.358284</td>\n",
              "    </tr>\n",
              "    <tr>\n",
              "      <th>165857</th>\n",
              "      <td>4</td>\n",
              "      <td>0.686059</td>\n",
              "      <td>2.556454</td>\n",
              "      <td>0.326915</td>\n",
              "      <td>2.484471</td>\n",
              "      <td>12.359520</td>\n",
              "      <td>0.686059</td>\n",
              "      <td>2.810078</td>\n",
              "      <td>0.179784</td>\n",
              "      <td>2.370367</td>\n",
              "      <td>12.359520</td>\n",
              "    </tr>\n",
              "    <tr>\n",
              "      <th>165858</th>\n",
              "      <td>4</td>\n",
              "      <td>0.663322</td>\n",
              "      <td>2.530006</td>\n",
              "      <td>0.328148</td>\n",
              "      <td>2.487526</td>\n",
              "      <td>12.352143</td>\n",
              "      <td>0.663322</td>\n",
              "      <td>2.785113</td>\n",
              "      <td>0.180072</td>\n",
              "      <td>2.373662</td>\n",
              "      <td>12.352143</td>\n",
              "    </tr>\n",
              "    <tr>\n",
              "      <th>165859</th>\n",
              "      <td>4</td>\n",
              "      <td>0.645405</td>\n",
              "      <td>2.513933</td>\n",
              "      <td>0.325451</td>\n",
              "      <td>2.486730</td>\n",
              "      <td>12.353393</td>\n",
              "      <td>0.645405</td>\n",
              "      <td>2.767917</td>\n",
              "      <td>0.178354</td>\n",
              "      <td>2.373709</td>\n",
              "      <td>12.353393</td>\n",
              "    </tr>\n",
              "    <tr>\n",
              "      <th>165860</th>\n",
              "      <td>4</td>\n",
              "      <td>0.637614</td>\n",
              "      <td>2.512509</td>\n",
              "      <td>0.322567</td>\n",
              "      <td>2.491172</td>\n",
              "      <td>12.357672</td>\n",
              "      <td>0.637614</td>\n",
              "      <td>2.766502</td>\n",
              "      <td>0.176086</td>\n",
              "      <td>2.378750</td>\n",
              "      <td>12.357672</td>\n",
              "    </tr>\n",
              "  </tbody>\n",
              "</table>\n",
              "<p>165861 rows × 11 columns</p>\n",
              "</div>"
            ],
            "text/plain": [
              "        cyl  s_temp_crank  ...  d_pressure_mean   rpm_mean\n",
              "0         1      0.666534  ...        10.142075  10.063987\n",
              "1         1      0.716066  ...        10.053597  10.075669\n",
              "2         1      0.687551  ...        10.001306  10.081478\n",
              "3         1      0.686916  ...        10.008420  10.054274\n",
              "4         1      0.698125  ...        10.009700  10.091478\n",
              "...     ...           ...  ...              ...        ...\n",
              "165856    4      0.728417  ...         2.375134  12.358284\n",
              "165857    4      0.686059  ...         2.370367  12.359520\n",
              "165858    4      0.663322  ...         2.373662  12.352143\n",
              "165859    4      0.645405  ...         2.373709  12.353393\n",
              "165860    4      0.637614  ...         2.378750  12.357672\n",
              "\n",
              "[165861 rows x 11 columns]"
            ]
          },
          "metadata": {
            "tags": []
          },
          "execution_count": 31
        }
      ]
    },
    {
      "cell_type": "code",
      "metadata": {
        "id": "osDrTPHBDgws",
        "colab_type": "code",
        "colab": {}
      },
      "source": [
        "y_true = df1.iloc[:,13]"
      ],
      "execution_count": 0,
      "outputs": []
    },
    {
      "cell_type": "code",
      "metadata": {
        "id": "gK4JI2TKJ-MJ",
        "colab_type": "code",
        "colab": {}
      },
      "source": [
        "y_true=y_true.fillna(0)"
      ],
      "execution_count": 0,
      "outputs": []
    },
    {
      "cell_type": "code",
      "metadata": {
        "id": "xmRqd1C_x9VI",
        "colab_type": "code",
        "colab": {
          "base_uri": "https://localhost:8080/",
          "height": 34
        },
        "outputId": "b696105b-57f8-42cd-8ae5-bb9699a2ade4"
      },
      "source": [
        "y_true.unique()"
      ],
      "execution_count": 53,
      "outputs": [
        {
          "output_type": "execute_result",
          "data": {
            "text/plain": [
              "array([2., 0., 3., 1., 4.])"
            ]
          },
          "metadata": {
            "tags": []
          },
          "execution_count": 53
        }
      ]
    },
    {
      "cell_type": "code",
      "metadata": {
        "id": "QUjimy6IJ_wS",
        "colab_type": "code",
        "colab": {}
      },
      "source": [
        "seed = 7\n",
        "test_size = 0.33\n",
        "X_train, X_test, y_train, y_test = train_test_split(X, y_true, test_size=test_size)"
      ],
      "execution_count": 0,
      "outputs": []
    },
    {
      "cell_type": "code",
      "metadata": {
        "id": "u6qs--2goqXC",
        "colab_type": "code",
        "colab": {
          "base_uri": "https://localhost:8080/",
          "height": 34
        },
        "outputId": "2e79f28a-43a8-460d-cddc-f608d517ba22"
      },
      "source": [
        "print(X_train.shape,y_train.shape)"
      ],
      "execution_count": 36,
      "outputs": [
        {
          "output_type": "stream",
          "text": [
            "(111126, 11) (111126,)\n"
          ],
          "name": "stdout"
        }
      ]
    },
    {
      "cell_type": "code",
      "metadata": {
        "id": "X-I8djxu6qtp",
        "colab_type": "code",
        "colab": {
          "base_uri": "https://localhost:8080/",
          "height": 34
        },
        "outputId": "be2653d3-d5be-4ec2-fef0-85fb4e06f85e"
      },
      "source": [
        "X_test.shape"
      ],
      "execution_count": 47,
      "outputs": [
        {
          "output_type": "execute_result",
          "data": {
            "text/plain": [
              "(54735, 11)"
            ]
          },
          "metadata": {
            "tags": []
          },
          "execution_count": 47
        }
      ]
    },
    {
      "cell_type": "code",
      "metadata": {
        "id": "joyVaFkGklZJ",
        "colab_type": "code",
        "outputId": "b5837038-afc0-4e18-82d0-bbb045a267b0",
        "colab": {
          "base_uri": "https://localhost:8080/",
          "height": 138
        }
      },
      "source": [
        "model = XGBClassifier()\n",
        "model.fit(X_train, y_train)"
      ],
      "execution_count": 37,
      "outputs": [
        {
          "output_type": "execute_result",
          "data": {
            "text/plain": [
              "XGBClassifier(base_score=0.5, booster='gbtree', colsample_bylevel=1,\n",
              "              colsample_bynode=1, colsample_bytree=1, gamma=0,\n",
              "              learning_rate=0.1, max_delta_step=0, max_depth=3,\n",
              "              min_child_weight=1, missing=None, n_estimators=100, n_jobs=1,\n",
              "              nthread=None, objective='multi:softprob', random_state=0,\n",
              "              reg_alpha=0, reg_lambda=1, scale_pos_weight=1, seed=None,\n",
              "              silent=None, subsample=1, verbosity=1)"
            ]
          },
          "metadata": {
            "tags": []
          },
          "execution_count": 37
        }
      ]
    },
    {
      "cell_type": "code",
      "metadata": {
        "id": "pkyhrzfVzaX3",
        "colab_type": "code",
        "colab": {
          "base_uri": "https://localhost:8080/",
          "height": 138
        },
        "outputId": "a9ba216a-2644-4daf-aad5-50c1b6c1968f"
      },
      "source": [
        "model"
      ],
      "execution_count": 39,
      "outputs": [
        {
          "output_type": "execute_result",
          "data": {
            "text/plain": [
              "XGBClassifier(base_score=0.5, booster='gbtree', colsample_bylevel=1,\n",
              "              colsample_bynode=1, colsample_bytree=1, gamma=0,\n",
              "              learning_rate=0.1, max_delta_step=0, max_depth=3,\n",
              "              min_child_weight=1, missing=None, n_estimators=100, n_jobs=1,\n",
              "              nthread=None, objective='multi:softprob', random_state=0,\n",
              "              reg_alpha=0, reg_lambda=1, scale_pos_weight=1, seed=None,\n",
              "              silent=None, subsample=1, verbosity=1)"
            ]
          },
          "metadata": {
            "tags": []
          },
          "execution_count": 39
        }
      ]
    },
    {
      "cell_type": "code",
      "metadata": {
        "id": "D9RAMDluzMeV",
        "colab_type": "code",
        "colab": {}
      },
      "source": [
        "y_pred = model.predict(X_test)"
      ],
      "execution_count": 0,
      "outputs": []
    },
    {
      "cell_type": "code",
      "metadata": {
        "id": "uYNjoBePzgw_",
        "colab_type": "code",
        "colab": {}
      },
      "source": [
        "predictions = [round(value) for value in y_pred]"
      ],
      "execution_count": 0,
      "outputs": []
    },
    {
      "cell_type": "code",
      "metadata": {
        "id": "JoTJlJ4jzh11",
        "colab_type": "code",
        "colab": {
          "base_uri": "https://localhost:8080/",
          "height": 34
        },
        "outputId": "589b5893-cfe9-4d46-be44-f561bcc673d2"
      },
      "source": [
        "accuracy = accuracy_score(y_test, predictions)\n",
        "print(\"Accuracy: %.2f%%\" % (accuracy * 100.0))"
      ],
      "execution_count": 42,
      "outputs": [
        {
          "output_type": "stream",
          "text": [
            "Accuracy: 88.24%\n"
          ],
          "name": "stdout"
        }
      ]
    },
    {
      "cell_type": "code",
      "metadata": {
        "id": "gWziZaTlzl9_",
        "colab_type": "code",
        "colab": {}
      },
      "source": [
        "from sklearn.metrics import multilabel_confusion_matrix"
      ],
      "execution_count": 0,
      "outputs": []
    },
    {
      "cell_type": "code",
      "metadata": {
        "id": "Go_s5_yxz-ix",
        "colab_type": "code",
        "colab": {
          "base_uri": "https://localhost:8080/",
          "height": 260
        },
        "outputId": "d44e7377-cb6a-4da6-ae4b-dcf1dda5d25d"
      },
      "source": [
        "multilabel_confusion_matrix(y_test,predictions,labels=[0,1,2,3,4])"
      ],
      "execution_count": 54,
      "outputs": [
        {
          "output_type": "execute_result",
          "data": {
            "text/plain": [
              "array([[[ 3767,  5784],\n",
              "        [  473, 44711]],\n",
              "\n",
              "       [[53030,    75],\n",
              "        [ 1280,   350]],\n",
              "\n",
              "       [[50609,   132],\n",
              "        [ 2221,  1773]],\n",
              "\n",
              "       [[53390,    59],\n",
              "        [  731,   555]],\n",
              "\n",
              "       [[51706,   388],\n",
              "        [ 1733,   908]]])"
            ]
          },
          "metadata": {
            "tags": []
          },
          "execution_count": 54
        }
      ]
    },
    {
      "cell_type": "code",
      "metadata": {
        "id": "wB9ll-zK0iby",
        "colab_type": "code",
        "colab": {}
      },
      "source": [
        ""
      ],
      "execution_count": 0,
      "outputs": []
    }
  ]
}