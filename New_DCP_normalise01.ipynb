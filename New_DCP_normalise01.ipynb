{
  "nbformat": 4,
  "nbformat_minor": 0,
  "metadata": {
    "colab": {
      "name": "New-DCP normalise01",
      "provenance": [],
      "collapsed_sections": [],
      "toc_visible": true,
      "authorship_tag": "ABX9TyPFJI11xFHmIzXjXzyf+B4n",
      "include_colab_link": true
    },
    "kernelspec": {
      "name": "python3",
      "display_name": "Python 3"
    }
  },
  "cells": [
    {
      "cell_type": "markdown",
      "metadata": {
        "id": "view-in-github",
        "colab_type": "text"
      },
      "source": [
        "<a href=\"https://colab.research.google.com/github/theAkhileshRai/Projects/blob/master/New_DCP_normalise01.ipynb\" target=\"_parent\"><img src=\"https://colab.research.google.com/assets/colab-badge.svg\" alt=\"Open In Colab\"/></a>"
      ]
    },
    {
      "cell_type": "code",
      "metadata": {
        "id": "-tRZnra-_GxR",
        "colab_type": "code",
        "colab": {
          "base_uri": "https://localhost:8080/",
          "height": 292
        },
        "outputId": "14b49bd8-3381-495a-f3e7-363dd1f1cc40"
      },
      "source": [
        "import pandas as pd\n",
        "import numpy as np\n",
        "import xlrd \n",
        "import os \n",
        "import glob\n",
        "import re \n",
        "from plotly.subplots import make_subplots\n",
        "import numpy as np\n",
        "import warnings\n",
        "warnings.simplefilter(action='ignore', category=FutureWarning)\n",
        "import seaborn as sns\n",
        "import warnings\n",
        "warnings.filterwarnings(\"error\")\n",
        "import warnings\n",
        "warnings.filterwarnings(\"ignore\", category=DeprecationWarning)\n",
        "!pip install chart_studio\n",
        "import chart_studio.plotly as py\n",
        "import matplotlib.pyplot as plt\n",
        "import plotly.offline as py\n",
        "import warnings\n",
        "warnings.filterwarnings(\"ignore\", message=\"numpy.ufunc size changed\")\n",
        "from sklearn.metrics import r2_score, median_absolute_error, mean_absolute_error\n",
        "from sklearn.metrics import median_absolute_error, mean_squared_error, mean_squared_log_error\n",
        "import plotly.graph_objs as go\n",
        "py.init_notebook_mode(connected=True)\n",
        "import plotly.graph_objects as go\n",
        "from plotly.offline import  download_plotlyjs,init_notebook_mode,plot,iplot\n",
        "import plotly.io as pio\n",
        "pio.renderers.default = 'colab'\n",
        "from itertools import groupby\n",
        "import plotly.express as px\n",
        "\n",
        "from collections import Counter\n",
        "\n",
        "from glob import glob\n",
        "\n",
        "from datetime import datetime as dt\n",
        "import warnings\n",
        "from sklearn.svm import LinearSVR\n",
        "from sklearn.ensemble import RandomForestClassifier\n",
        "from sklearn.linear_model import LinearRegression\n",
        "from sklearn.linear_model import LogisticRegression\n",
        "from sklearn.metrics import classification_report\n",
        "from sklearn.tree import DecisionTreeClassifier\n",
        "from sklearn.tree import DecisionTreeRegressor\n",
        "from sklearn.preprocessing import MinMaxScaler\n",
        "from sklearn.svm import SVR\n",
        "from sklearn.svm import SVC\n",
        "from sklearn import ensemble\n",
        "from sklearn.metrics import mean_squared_error, mean_absolute_error, r2_score\n",
        "import xgboost as xgb\n",
        "from sklearn.model_selection import train_test_split\n",
        "from sklearn.metrics import accuracy_score\n",
        "from sklearn.metrics import confusion_matrix\n",
        "from sklearn.metrics import classification_report\n",
        "from sklearn.model_selection import GridSearchCV\n",
        "from datetime import datetime\n",
        "warnings.filterwarnings('ignore')\n",
        "from keras.models import Sequential\n",
        "from keras.layers import LSTM\n",
        "from keras.layers import Dense\n",
        "from numpy import hstack\n",
        "from numpy import array\n",
        "from random import random\n",
        "from sklearn.preprocessing import MinMaxScaler"
      ],
      "execution_count": 1,
      "outputs": [
        {
          "output_type": "stream",
          "text": [
            "Collecting chart_studio\n",
            "\u001b[?25l  Downloading https://files.pythonhosted.org/packages/ca/ce/330794a6b6ca4b9182c38fc69dd2a9cbff60fd49421cb8648ee5fee352dc/chart_studio-1.1.0-py3-none-any.whl (64kB)\n",
            "\r\u001b[K     |█████                           | 10kB 16.7MB/s eta 0:00:01\r\u001b[K     |██████████▏                     | 20kB 6.6MB/s eta 0:00:01\r\u001b[K     |███████████████▎                | 30kB 5.9MB/s eta 0:00:01\r\u001b[K     |████████████████████▍           | 40kB 6.0MB/s eta 0:00:01\r\u001b[K     |█████████████████████████▍      | 51kB 6.2MB/s eta 0:00:01\r\u001b[K     |██████████████████████████████▌ | 61kB 6.8MB/s eta 0:00:01\r\u001b[K     |████████████████████████████████| 71kB 4.5MB/s \n",
            "\u001b[?25hRequirement already satisfied: requests in /usr/local/lib/python3.6/dist-packages (from chart_studio) (2.23.0)\n",
            "Requirement already satisfied: six in /usr/local/lib/python3.6/dist-packages (from chart_studio) (1.15.0)\n",
            "Requirement already satisfied: retrying>=1.3.3 in /usr/local/lib/python3.6/dist-packages (from chart_studio) (1.3.3)\n",
            "Requirement already satisfied: plotly in /usr/local/lib/python3.6/dist-packages (from chart_studio) (4.4.1)\n",
            "Requirement already satisfied: certifi>=2017.4.17 in /usr/local/lib/python3.6/dist-packages (from requests->chart_studio) (2020.6.20)\n",
            "Requirement already satisfied: urllib3!=1.25.0,!=1.25.1,<1.26,>=1.21.1 in /usr/local/lib/python3.6/dist-packages (from requests->chart_studio) (1.24.3)\n",
            "Requirement already satisfied: chardet<4,>=3.0.2 in /usr/local/lib/python3.6/dist-packages (from requests->chart_studio) (3.0.4)\n",
            "Requirement already satisfied: idna<3,>=2.5 in /usr/local/lib/python3.6/dist-packages (from requests->chart_studio) (2.10)\n",
            "Installing collected packages: chart-studio\n",
            "Successfully installed chart-studio-1.1.0\n"
          ],
          "name": "stdout"
        },
        {
          "output_type": "stream",
          "text": [
            "Exception ignored in: <_io.FileIO name='/usr/local/lib/python3.6/dist-packages/chart_studio-1.1.0.dist-info/top_level.txt' mode='rb' closefd=True>\n",
            "ResourceWarning: unclosed file <_io.TextIOWrapper name='/usr/local/lib/python3.6/dist-packages/chart_studio-1.1.0.dist-info/top_level.txt' mode='r' encoding='UTF-8'>\n"
          ],
          "name": "stderr"
        },
        {
          "output_type": "display_data",
          "data": {
            "text/html": [
              "        <script type=\"text/javascript\">\n",
              "        window.PlotlyConfig = {MathJaxConfig: 'local'};\n",
              "        if (window.MathJax) {MathJax.Hub.Config({SVG: {font: \"STIX-Web\"}});}\n",
              "        if (typeof require !== 'undefined') {\n",
              "        require.undef(\"plotly\");\n",
              "        requirejs.config({\n",
              "            paths: {\n",
              "                'plotly': ['https://cdn.plot.ly/plotly-latest.min']\n",
              "            }\n",
              "        });\n",
              "        require(['plotly'], function(Plotly) {\n",
              "            window._Plotly = Plotly;\n",
              "        });\n",
              "        }\n",
              "        </script>\n",
              "        "
            ]
          },
          "metadata": {
            "tags": []
          }
        }
      ]
    },
    {
      "cell_type": "code",
      "metadata": {
        "id": "FGboVvIF7qB6",
        "colab_type": "code",
        "colab": {}
      },
      "source": [
        "merge_df = pd.read_csv('/content/DCP_leak_classification_train_data.csv')"
      ],
      "execution_count": 2,
      "outputs": []
    },
    {
      "cell_type": "code",
      "metadata": {
        "id": "zpWOoHsd_btl",
        "colab_type": "code",
        "colab": {
          "base_uri": "https://localhost:8080/",
          "height": 411
        },
        "outputId": "a68f8551-16c2-4ee8-af35-61b296e5e390"
      },
      "source": [
        "merge_df.head()"
      ],
      "execution_count": 3,
      "outputs": [
        {
          "output_type": "execute_result",
          "data": {
            "text/html": [
              "<div>\n",
              "<style scoped>\n",
              "    .dataframe tbody tr th:only-of-type {\n",
              "        vertical-align: middle;\n",
              "    }\n",
              "\n",
              "    .dataframe tbody tr th {\n",
              "        vertical-align: top;\n",
              "    }\n",
              "\n",
              "    .dataframe thead th {\n",
              "        text-align: right;\n",
              "    }\n",
              "</style>\n",
              "<table border=\"1\" class=\"dataframe\">\n",
              "  <thead>\n",
              "    <tr style=\"text-align: right;\">\n",
              "      <th></th>\n",
              "      <th>Unnamed: 0</th>\n",
              "      <th>Unnamed: 0.1</th>\n",
              "      <th>time</th>\n",
              "      <th>cyl</th>\n",
              "      <th>s_temp_crank</th>\n",
              "      <th>d_temp_crank</th>\n",
              "      <th>s_pressure_crank</th>\n",
              "      <th>d_pressure_crank</th>\n",
              "      <th>rpm_crank</th>\n",
              "      <th>s_temp_mean</th>\n",
              "      <th>d_temp_mean</th>\n",
              "      <th>s_pressure_mean</th>\n",
              "      <th>d_pressure_mean</th>\n",
              "      <th>rpm_mean</th>\n",
              "      <th>Asset</th>\n",
              "      <th>Binary</th>\n",
              "    </tr>\n",
              "  </thead>\n",
              "  <tbody>\n",
              "    <tr>\n",
              "      <th>0</th>\n",
              "      <td>0</td>\n",
              "      <td>0</td>\n",
              "      <td>2019-12-01 00:30:00</td>\n",
              "      <td>1.0</td>\n",
              "      <td>103.113613</td>\n",
              "      <td>216.591245</td>\n",
              "      <td>354.642761</td>\n",
              "      <td>836.740658</td>\n",
              "      <td>1357.93250</td>\n",
              "      <td>103.113613</td>\n",
              "      <td>218.012416</td>\n",
              "      <td>344.238677</td>\n",
              "      <td>820.900548</td>\n",
              "      <td>1357.93250</td>\n",
              "      <td>Ashland_Unit256</td>\n",
              "      <td>0.0</td>\n",
              "    </tr>\n",
              "    <tr>\n",
              "      <th>1</th>\n",
              "      <td>1</td>\n",
              "      <td>1</td>\n",
              "      <td>2019-12-01 01:30:00</td>\n",
              "      <td>1.0</td>\n",
              "      <td>99.965045</td>\n",
              "      <td>214.136948</td>\n",
              "      <td>352.424753</td>\n",
              "      <td>837.714329</td>\n",
              "      <td>1358.24000</td>\n",
              "      <td>99.965045</td>\n",
              "      <td>215.236945</td>\n",
              "      <td>342.992523</td>\n",
              "      <td>822.153967</td>\n",
              "      <td>1358.24000</td>\n",
              "      <td>Ashland_Unit256</td>\n",
              "      <td>0.0</td>\n",
              "    </tr>\n",
              "    <tr>\n",
              "      <th>2</th>\n",
              "      <td>2</td>\n",
              "      <td>2</td>\n",
              "      <td>2019-12-01 02:30:00</td>\n",
              "      <td>1.0</td>\n",
              "      <td>98.503206</td>\n",
              "      <td>213.432090</td>\n",
              "      <td>352.148637</td>\n",
              "      <td>842.562702</td>\n",
              "      <td>1398.28125</td>\n",
              "      <td>98.503206</td>\n",
              "      <td>214.106646</td>\n",
              "      <td>344.690998</td>\n",
              "      <td>829.080473</td>\n",
              "      <td>1398.28125</td>\n",
              "      <td>Ashland_Unit256</td>\n",
              "      <td>0.0</td>\n",
              "    </tr>\n",
              "    <tr>\n",
              "      <th>3</th>\n",
              "      <td>3</td>\n",
              "      <td>3</td>\n",
              "      <td>2019-12-01 03:30:00</td>\n",
              "      <td>1.0</td>\n",
              "      <td>104.620153</td>\n",
              "      <td>220.973225</td>\n",
              "      <td>352.706318</td>\n",
              "      <td>848.715357</td>\n",
              "      <td>1397.87125</td>\n",
              "      <td>104.620153</td>\n",
              "      <td>221.697270</td>\n",
              "      <td>345.283193</td>\n",
              "      <td>835.520144</td>\n",
              "      <td>1397.87125</td>\n",
              "      <td>Ashland_Unit256</td>\n",
              "      <td>0.0</td>\n",
              "    </tr>\n",
              "    <tr>\n",
              "      <th>4</th>\n",
              "      <td>4</td>\n",
              "      <td>4</td>\n",
              "      <td>2019-12-01 04:30:00</td>\n",
              "      <td>1.0</td>\n",
              "      <td>109.567843</td>\n",
              "      <td>227.339240</td>\n",
              "      <td>351.392953</td>\n",
              "      <td>851.224013</td>\n",
              "      <td>1397.31000</td>\n",
              "      <td>109.567843</td>\n",
              "      <td>228.114859</td>\n",
              "      <td>344.060655</td>\n",
              "      <td>838.433890</td>\n",
              "      <td>1397.31000</td>\n",
              "      <td>Ashland_Unit256</td>\n",
              "      <td>0.0</td>\n",
              "    </tr>\n",
              "  </tbody>\n",
              "</table>\n",
              "</div>"
            ],
            "text/plain": [
              "   Unnamed: 0  Unnamed: 0.1  ...            Asset  Binary\n",
              "0           0             0  ...  Ashland_Unit256     0.0\n",
              "1           1             1  ...  Ashland_Unit256     0.0\n",
              "2           2             2  ...  Ashland_Unit256     0.0\n",
              "3           3             3  ...  Ashland_Unit256     0.0\n",
              "4           4             4  ...  Ashland_Unit256     0.0\n",
              "\n",
              "[5 rows x 16 columns]"
            ]
          },
          "metadata": {
            "tags": []
          },
          "execution_count": 3
        }
      ]
    },
    {
      "cell_type": "code",
      "metadata": {
        "id": "HtmPmkNW3kUn",
        "colab_type": "code",
        "colab": {
          "base_uri": "https://localhost:8080/",
          "height": 136
        },
        "outputId": "ef6d6931-21c2-439e-c65c-2e80211f2b57"
      },
      "source": [
        "merge_df['Asset'].unique() "
      ],
      "execution_count": 4,
      "outputs": [
        {
          "output_type": "execute_result",
          "data": {
            "text/plain": [
              "array(['Ashland_Unit256', 'Center station_C2', 'Crossbar_Unit1',\n",
              "       'El Dorado_Unit', 'Goliad_Unit1100', 'HobitLP_Unit102',\n",
              "       'Hobit_Unit2', 'Katy_Unit1116', 'Katy_Unit1117', 'LOHT_North',\n",
              "       'La Porte_K11A', 'Lightning_Unit2 (2)(1).csv', 'RJ_Unit1(1).csv',\n",
              "       'Lightning_Unit4', 'Reagon_Unit3', 'Saltlake_K71010B',\n",
              "       'Strawberry_Unit1', 'Reagon_Unit6', 'West Turkey_Unit2'],\n",
              "      dtype=object)"
            ]
          },
          "metadata": {
            "tags": []
          },
          "execution_count": 4
        }
      ]
    },
    {
      "cell_type": "code",
      "metadata": {
        "id": "klkH6X_9HgYs",
        "colab_type": "code",
        "colab": {}
      },
      "source": [
        "# Ashland_Unit256\n",
        "cyl1 = merge_df.loc[(merge_df.cyl==1.0) & (merge_df.Asset == 'Ashland_Unit256')]\n",
        "# cyl2 = merge_df.loc[(merge_df.cyl==2.0) & (merge_df.Asset == 'Ashland_Unit256')]\n",
        "# cyl3 = merge_df.loc[(merge_df.cyl==3.0) & (merge_df.Asset == 'Ashland_Unit256')]\n",
        "# cyl4 = merge_df.loc[(merge_df.cyl==4.0) & (merge_df.Asset == 'Ashland_Unit256')]\n"
      ],
      "execution_count": 5,
      "outputs": []
    },
    {
      "cell_type": "code",
      "metadata": {
        "id": "nCdS1GkPTUuO",
        "colab_type": "code",
        "colab": {}
      },
      "source": [
        "leak_log = pd.read_excel('/content/New DCP leak Log_7-18-2020_MR.xlsx', index_col=0)  "
      ],
      "execution_count": 6,
      "outputs": []
    },
    {
      "cell_type": "code",
      "metadata": {
        "id": "FP8Rqu0dVlZh",
        "colab_type": "code",
        "colab": {
          "base_uri": "https://localhost:8080/",
          "height": 654
        },
        "outputId": "1ddc0954-ccc3-4ea6-ec1e-5ee86b3edfc2"
      },
      "source": [
        "leak_log"
      ],
      "execution_count": 7,
      "outputs": [
        {
          "output_type": "execute_result",
          "data": {
            "text/html": [
              "<div>\n",
              "<style scoped>\n",
              "    .dataframe tbody tr th:only-of-type {\n",
              "        vertical-align: middle;\n",
              "    }\n",
              "\n",
              "    .dataframe tbody tr th {\n",
              "        vertical-align: top;\n",
              "    }\n",
              "\n",
              "    .dataframe thead th {\n",
              "        text-align: right;\n",
              "    }\n",
              "</style>\n",
              "<table border=\"1\" class=\"dataframe\">\n",
              "  <thead>\n",
              "    <tr style=\"text-align: right;\">\n",
              "      <th></th>\n",
              "      <th>Unnamed: 1</th>\n",
              "      <th>Unnamed: 2</th>\n",
              "      <th>Unnamed: 3</th>\n",
              "      <th>Unnamed: 4</th>\n",
              "      <th>Unnamed: 5</th>\n",
              "      <th>Unnamed: 6</th>\n",
              "      <th>Unnamed: 7</th>\n",
              "      <th>Unnamed: 8</th>\n",
              "      <th>Unnamed: 9</th>\n",
              "    </tr>\n",
              "    <tr>\n",
              "      <th>DCP Leak log 2019 (for units monitored with spotlight)</th>\n",
              "      <th></th>\n",
              "      <th></th>\n",
              "      <th></th>\n",
              "      <th></th>\n",
              "      <th></th>\n",
              "      <th></th>\n",
              "      <th></th>\n",
              "      <th></th>\n",
              "      <th></th>\n",
              "    </tr>\n",
              "  </thead>\n",
              "  <tbody>\n",
              "    <tr>\n",
              "      <th>Leak #</th>\n",
              "      <td>Station</td>\n",
              "      <td>machine</td>\n",
              "      <td>Stage</td>\n",
              "      <td>Cylinder</td>\n",
              "      <td>HE/CE</td>\n",
              "      <td>leak level</td>\n",
              "      <td>start date</td>\n",
              "      <td>end date</td>\n",
              "      <td>notes</td>\n",
              "    </tr>\n",
              "    <tr>\n",
              "      <th>1</th>\n",
              "      <td>200 Booster</td>\n",
              "      <td>Unit 1</td>\n",
              "      <td>NaN</td>\n",
              "      <td>NaN</td>\n",
              "      <td>NaN</td>\n",
              "      <td>2019-04-14 00:00:00</td>\n",
              "      <td>2019-05-26 00:00:00</td>\n",
              "      <td>NaN</td>\n",
              "      <td>NaN</td>\n",
              "    </tr>\n",
              "    <tr>\n",
              "      <th>NaN</th>\n",
              "      <td>NaN</td>\n",
              "      <td>NaN</td>\n",
              "      <td>NaN</td>\n",
              "      <td>NaN</td>\n",
              "      <td>NaN</td>\n",
              "      <td>NaN</td>\n",
              "      <td>NaN</td>\n",
              "      <td>NaN</td>\n",
              "      <td>NaN</td>\n",
              "    </tr>\n",
              "    <tr>\n",
              "      <th>2</th>\n",
              "      <td>200 Booster</td>\n",
              "      <td>Unit 2</td>\n",
              "      <td>NaN</td>\n",
              "      <td>NaN</td>\n",
              "      <td>NaN</td>\n",
              "      <td>2018-12-07 00:00:00</td>\n",
              "      <td>2018-12-24 00:00:00</td>\n",
              "      <td>NaN</td>\n",
              "      <td>NaN</td>\n",
              "    </tr>\n",
              "    <tr>\n",
              "      <th>NaN</th>\n",
              "      <td>NaN</td>\n",
              "      <td>NaN</td>\n",
              "      <td>NaN</td>\n",
              "      <td>NaN</td>\n",
              "      <td>NaN</td>\n",
              "      <td>NaN</td>\n",
              "      <td>NaN</td>\n",
              "      <td>NaN</td>\n",
              "      <td>NaN</td>\n",
              "    </tr>\n",
              "    <tr>\n",
              "      <th>...</th>\n",
              "      <td>...</td>\n",
              "      <td>...</td>\n",
              "      <td>...</td>\n",
              "      <td>...</td>\n",
              "      <td>...</td>\n",
              "      <td>...</td>\n",
              "      <td>...</td>\n",
              "      <td>...</td>\n",
              "      <td>...</td>\n",
              "    </tr>\n",
              "    <tr>\n",
              "      <th>70</th>\n",
              "      <td>Wild hog</td>\n",
              "      <td>Unit 5</td>\n",
              "      <td>NaN</td>\n",
              "      <td>NaN</td>\n",
              "      <td>NaN</td>\n",
              "      <td>2019-03-01 00:00:00</td>\n",
              "      <td>2019-07-14 00:00:00</td>\n",
              "      <td>NaN</td>\n",
              "      <td>NaN</td>\n",
              "    </tr>\n",
              "    <tr>\n",
              "      <th>NaN</th>\n",
              "      <td>NaN</td>\n",
              "      <td>NaN</td>\n",
              "      <td>NaN</td>\n",
              "      <td>NaN</td>\n",
              "      <td>NaN</td>\n",
              "      <td>NaN</td>\n",
              "      <td>NaN</td>\n",
              "      <td>NaN</td>\n",
              "      <td>NaN</td>\n",
              "    </tr>\n",
              "    <tr>\n",
              "      <th>71</th>\n",
              "      <td>Wolffork</td>\n",
              "      <td>Unit 2</td>\n",
              "      <td>NaN</td>\n",
              "      <td>NaN</td>\n",
              "      <td>NaN</td>\n",
              "      <td>2019-09-01 00:00:00</td>\n",
              "      <td>2019-09-01 00:00:00</td>\n",
              "      <td>NaN</td>\n",
              "      <td>NaN</td>\n",
              "    </tr>\n",
              "    <tr>\n",
              "      <th>NaN</th>\n",
              "      <td>NaN</td>\n",
              "      <td>NaN</td>\n",
              "      <td>NaN</td>\n",
              "      <td>NaN</td>\n",
              "      <td>NaN</td>\n",
              "      <td>NaN</td>\n",
              "      <td>NaN</td>\n",
              "      <td>NaN</td>\n",
              "      <td>NaN</td>\n",
              "    </tr>\n",
              "    <tr>\n",
              "      <th>72</th>\n",
              "      <td>Wolffork</td>\n",
              "      <td>Unit 4</td>\n",
              "      <td>NaN</td>\n",
              "      <td>NaN</td>\n",
              "      <td>NaN</td>\n",
              "      <td>2019-09-08 00:00:00</td>\n",
              "      <td>2019-09-08 00:00:00</td>\n",
              "      <td>NaN</td>\n",
              "      <td>NaN</td>\n",
              "    </tr>\n",
              "  </tbody>\n",
              "</table>\n",
              "<p>172 rows × 9 columns</p>\n",
              "</div>"
            ],
            "text/plain": [
              "                                                     Unnamed: 1  ... Unnamed: 9\n",
              "DCP Leak log 2019 (for units monitored with spo...               ...           \n",
              "Leak #                                                  Station  ...      notes\n",
              "1                                                   200 Booster  ...        NaN\n",
              "NaN                                                         NaN  ...        NaN\n",
              "2                                                   200 Booster  ...        NaN\n",
              "NaN                                                         NaN  ...        NaN\n",
              "...                                                         ...  ...        ...\n",
              "70                                                    Wild hog   ...        NaN\n",
              "NaN                                                         NaN  ...        NaN\n",
              "71                                                    Wolffork   ...        NaN\n",
              "NaN                                                         NaN  ...        NaN\n",
              "72                                                    Wolffork   ...        NaN\n",
              "\n",
              "[172 rows x 9 columns]"
            ]
          },
          "metadata": {
            "tags": []
          },
          "execution_count": 7
        }
      ]
    },
    {
      "cell_type": "code",
      "metadata": {
        "id": "EpLSasN4Q0qJ",
        "colab_type": "code",
        "colab": {
          "base_uri": "https://localhost:8080/",
          "height": 34
        },
        "outputId": "f424f958-cf4a-4ffd-e0ae-bb5688df95e0"
      },
      "source": [
        "len(cyl1)"
      ],
      "execution_count": 8,
      "outputs": [
        {
          "output_type": "execute_result",
          "data": {
            "text/plain": [
              "2669"
            ]
          },
          "metadata": {
            "tags": []
          },
          "execution_count": 8
        }
      ]
    },
    {
      "cell_type": "code",
      "metadata": {
        "id": "jytzh5R7J75j",
        "colab_type": "code",
        "colab": {}
      },
      "source": [
        "scale_columns = ['s_temp_crank', 'd_temp_crank', 'rpm_crank', 's_temp_mean',\n",
        "       'd_temp_mean', 's_pressure_mean', 'd_pressure_mean', 'rpm_mean',]"
      ],
      "execution_count": 9,
      "outputs": []
    },
    {
      "cell_type": "code",
      "metadata": {
        "id": "yQuzYuQpKAyL",
        "colab_type": "code",
        "colab": {}
      },
      "source": [
        "scaler = MinMaxScaler()"
      ],
      "execution_count": 10,
      "outputs": []
    },
    {
      "cell_type": "code",
      "metadata": {
        "id": "LmXo2ipbQtnT",
        "colab_type": "code",
        "colab": {}
      },
      "source": [
        "# cyl2[scale_columns] = scaler.fit_transform(cyl2[scale_columns])\n",
        "cyl1[scale_columns] = scaler.fit_transform(cyl1[scale_columns])\n",
        "#cyl2[scale_columns] = scaler.fit_transform(cyl2[scale_columns])"
      ],
      "execution_count": 11,
      "outputs": []
    },
    {
      "cell_type": "code",
      "metadata": {
        "id": "lPSJWI4F-rt7",
        "colab_type": "code",
        "colab": {
          "base_uri": "https://localhost:8080/",
          "height": 34
        },
        "outputId": "4b46062b-2b04-4f0e-e68a-f6384a507db5"
      },
      "source": [
        "len(merge_df['Asset'].unique()) "
      ],
      "execution_count": 12,
      "outputs": [
        {
          "output_type": "execute_result",
          "data": {
            "text/plain": [
              "19"
            ]
          },
          "metadata": {
            "tags": []
          },
          "execution_count": 12
        }
      ]
    },
    {
      "cell_type": "code",
      "metadata": {
        "id": "lVwLb_jAZDIB",
        "colab_type": "code",
        "colab": {}
      },
      "source": [
        ""
      ],
      "execution_count": 12,
      "outputs": []
    },
    {
      "cell_type": "code",
      "metadata": {
        "id": "t-BXJ0YuFEih",
        "colab_type": "code",
        "colab": {}
      },
      "source": [
        "scale_columns = ['s_temp_crank', 'd_temp_crank',\n",
        "       's_pressure_crank', 'd_pressure_crank', 'rpm_crank', 's_temp_mean',\n",
        "       'd_temp_mean', 's_pressure_mean', 'd_pressure_mean', 'rpm_mean',]"
      ],
      "execution_count": 13,
      "outputs": []
    },
    {
      "cell_type": "code",
      "metadata": {
        "id": "W6iQc8_iEUsW",
        "colab_type": "code",
        "colab": {}
      },
      "source": [
        "scaler = MinMaxScaler()"
      ],
      "execution_count": 14,
      "outputs": []
    },
    {
      "cell_type": "code",
      "metadata": {
        "id": "i2N2BvHEKH1S",
        "colab_type": "code",
        "colab": {}
      },
      "source": [
        ""
      ],
      "execution_count": 14,
      "outputs": []
    },
    {
      "cell_type": "code",
      "metadata": {
        "id": "H-VkxUNvFHhw",
        "colab_type": "code",
        "colab": {}
      },
      "source": [
        "# Cross Bar Unit 4\n",
        "cyl2 = merge_df.loc[(merge_df.cyl==4.0) & (merge_df.Asset == 'Center station_C2')]\n",
        "\n",
        "cyl3 = merge_df.loc[(merge_df.cyl==4.0) & (merge_df.Asset == 'Crossbar_Unit1')]\n"
      ],
      "execution_count": 15,
      "outputs": []
    },
    {
      "cell_type": "code",
      "metadata": {
        "id": "qRWfqmiEKRE1",
        "colab_type": "code",
        "colab": {
          "base_uri": "https://localhost:8080/",
          "height": 34
        },
        "outputId": "13cb9341-2cea-4379-a077-34238494dccd"
      },
      "source": [
        "len(cyl3)"
      ],
      "execution_count": 16,
      "outputs": [
        {
          "output_type": "execute_result",
          "data": {
            "text/plain": [
              "5268"
            ]
          },
          "metadata": {
            "tags": []
          },
          "execution_count": 16
        }
      ]
    },
    {
      "cell_type": "code",
      "metadata": {
        "id": "h9z3qo9IIPGb",
        "colab_type": "code",
        "colab": {}
      },
      "source": [
        "cyl2[scale_columns] = scaler.fit_transform(cyl2[scale_columns])\n",
        "cyl3[scale_columns] = scaler.fit_transform(cyl3[scale_columns])"
      ],
      "execution_count": 17,
      "outputs": []
    },
    {
      "cell_type": "code",
      "metadata": {
        "id": "ajDbHBP0533e",
        "colab_type": "code",
        "colab": {}
      },
      "source": [
        "cross_center_norm_df3 = pd.concat([cyl2,cyl3],ignore_index=True)"
      ],
      "execution_count": 18,
      "outputs": []
    },
    {
      "cell_type": "code",
      "metadata": {
        "id": "ZGp8YC1wr7-_",
        "colab_type": "code",
        "colab": {
          "base_uri": "https://localhost:8080/",
          "height": 136
        },
        "outputId": "46e2d8c9-1b46-4fe8-e6f9-5187b725e2a7"
      },
      "source": [
        "merge_df['Asset'].unique() "
      ],
      "execution_count": 19,
      "outputs": [
        {
          "output_type": "execute_result",
          "data": {
            "text/plain": [
              "array(['Ashland_Unit256', 'Center station_C2', 'Crossbar_Unit1',\n",
              "       'El Dorado_Unit', 'Goliad_Unit1100', 'HobitLP_Unit102',\n",
              "       'Hobit_Unit2', 'Katy_Unit1116', 'Katy_Unit1117', 'LOHT_North',\n",
              "       'La Porte_K11A', 'Lightning_Unit2 (2)(1).csv', 'RJ_Unit1(1).csv',\n",
              "       'Lightning_Unit4', 'Reagon_Unit3', 'Saltlake_K71010B',\n",
              "       'Strawberry_Unit1', 'Reagon_Unit6', 'West Turkey_Unit2'],\n",
              "      dtype=object)"
            ]
          },
          "metadata": {
            "tags": []
          },
          "execution_count": 19
        }
      ]
    },
    {
      "cell_type": "code",
      "metadata": {
        "id": "tEP5_FrWIjsh",
        "colab_type": "code",
        "colab": {}
      },
      "source": [
        "# Cross Bar Unit 4\n",
        "\n",
        "cyl4 = merge_df.loc[(merge_df.cyl==2.0) & (merge_df.Asset == 'El Dorado_Unit')]\n",
        "cyl5 = merge_df.loc[(merge_df.cyl==4.0) & (merge_df.Asset == 'Goliad_Unit1100')]"
      ],
      "execution_count": 20,
      "outputs": []
    },
    {
      "cell_type": "code",
      "metadata": {
        "id": "n09kp6hz8Ywo",
        "colab_type": "code",
        "colab": {
          "base_uri": "https://localhost:8080/",
          "height": 34
        },
        "outputId": "d7114356-bd88-4065-fa4c-e493f5232119"
      },
      "source": [
        "len(cyl5)"
      ],
      "execution_count": 21,
      "outputs": [
        {
          "output_type": "execute_result",
          "data": {
            "text/plain": [
              "8560"
            ]
          },
          "metadata": {
            "tags": []
          },
          "execution_count": 21
        }
      ]
    },
    {
      "cell_type": "code",
      "metadata": {
        "id": "y3YmvG-DJ7XD",
        "colab_type": "code",
        "colab": {}
      },
      "source": [
        "cyl4[scale_columns] = scaler.fit_transform(cyl4[scale_columns])\n",
        "cyl5[scale_columns] = scaler.fit_transform(cyl5[scale_columns])\n"
      ],
      "execution_count": 22,
      "outputs": []
    },
    {
      "cell_type": "code",
      "metadata": {
        "id": "0bRDTwnNCoCl",
        "colab_type": "code",
        "colab": {}
      },
      "source": [
        "#HobitLP_Unit102\n",
        "cyl6 = merge_df.loc[(merge_df.cyl==3.0) & (merge_df.Asset == 'HobitLP_Unit102')]\n",
        "cyl7 = merge_df.loc[(merge_df.cyl==3.0) & (merge_df.Asset == 'Hobit_Unit2')]"
      ],
      "execution_count": 23,
      "outputs": []
    },
    {
      "cell_type": "code",
      "metadata": {
        "id": "yfWMZvyzEfAn",
        "colab_type": "code",
        "colab": {
          "base_uri": "https://localhost:8080/",
          "height": 34
        },
        "outputId": "724eee76-8de4-43dc-cd89-0a908876d095"
      },
      "source": [
        "len(cyl7)"
      ],
      "execution_count": 24,
      "outputs": [
        {
          "output_type": "execute_result",
          "data": {
            "text/plain": [
              "5926"
            ]
          },
          "metadata": {
            "tags": []
          },
          "execution_count": 24
        }
      ]
    },
    {
      "cell_type": "code",
      "metadata": {
        "id": "MPCpbDAeNLdz",
        "colab_type": "code",
        "colab": {}
      },
      "source": [
        "cyl6[scale_columns] = scaler.fit_transform(cyl6[scale_columns])\n",
        "cyl7[scale_columns] = scaler.fit_transform(cyl7[scale_columns])\n",
        "# cyl9[scale_columns] = scaler.fit_transform(cyl9[scale_columns])"
      ],
      "execution_count": 25,
      "outputs": []
    },
    {
      "cell_type": "code",
      "metadata": {
        "id": "lsJYls8OMS-O",
        "colab_type": "code",
        "colab": {}
      },
      "source": [
        "#HobitLP_Unit102\n",
        "cyl8 = merge_df.loc[(merge_df.cyl==1.0) & (merge_df.Asset == 'Katy_Unit1116')]\n",
        "cyl9 = merge_df.loc[(merge_df.cyl==1.0) & (merge_df.Asset == 'Katy_Unit1117')]"
      ],
      "execution_count": 26,
      "outputs": []
    },
    {
      "cell_type": "code",
      "metadata": {
        "id": "dA5xYvSpIaoZ",
        "colab_type": "code",
        "colab": {
          "base_uri": "https://localhost:8080/",
          "height": 34
        },
        "outputId": "83b67ad1-1e94-4218-b13a-bf2889523e06"
      },
      "source": [
        "len(cyl9)"
      ],
      "execution_count": 27,
      "outputs": [
        {
          "output_type": "execute_result",
          "data": {
            "text/plain": [
              "7915"
            ]
          },
          "metadata": {
            "tags": []
          },
          "execution_count": 27
        }
      ]
    },
    {
      "cell_type": "code",
      "metadata": {
        "id": "nLZpDbC3NKHw",
        "colab_type": "code",
        "colab": {}
      },
      "source": [
        "cyl9[scale_columns] = scaler.fit_transform(cyl9[scale_columns])\n",
        "cyl8[scale_columns] = scaler.fit_transform(cyl8[scale_columns])\n",
        "# cyl11[scale_columns] = scaler.fit_transform(cyl11[scale_columns])\n",
        "# cyl12[scale_columns] = scaler.fit_transform(cyl12[scale_columns])\n",
        "# cyl13[scale_columns] = scaler.fit_transform(cyl13[scale_columns])\n"
      ],
      "execution_count": 28,
      "outputs": []
    },
    {
      "cell_type": "code",
      "metadata": {
        "id": "RNLuGspkeqgw",
        "colab_type": "code",
        "colab": {
          "base_uri": "https://localhost:8080/",
          "height": 34
        },
        "outputId": "c6ceae52-da85-4929-ef74-5ab58e2bfd9f"
      },
      "source": [
        "a = [1,2,3,4,5]\n",
        "len(a)"
      ],
      "execution_count": 29,
      "outputs": [
        {
          "output_type": "execute_result",
          "data": {
            "text/plain": [
              "5"
            ]
          },
          "metadata": {
            "tags": []
          },
          "execution_count": 29
        }
      ]
    },
    {
      "cell_type": "code",
      "metadata": {
        "id": "HgRlRzFJIQl4",
        "colab_type": "code",
        "colab": {
          "base_uri": "https://localhost:8080/",
          "height": 34
        },
        "outputId": "7f7b4e3f-8cce-4375-d4e0-d67e499ef7cf"
      },
      "source": [
        "len(merge_df['Asset'].unique())"
      ],
      "execution_count": 30,
      "outputs": [
        {
          "output_type": "execute_result",
          "data": {
            "text/plain": [
              "19"
            ]
          },
          "metadata": {
            "tags": []
          },
          "execution_count": 30
        }
      ]
    },
    {
      "cell_type": "code",
      "metadata": {
        "id": "BApbmXeFODuC",
        "colab_type": "code",
        "colab": {}
      },
      "source": [
        "#LOHT_North, La Porte_K11A\n",
        "cyl10 = merge_df.loc[(merge_df.cyl==1.0) & (merge_df.Asset == 'LOHT_North')]\n",
        "cyl11 = merge_df.loc[(merge_df.cyl==1.0) & (merge_df.Asset == 'La Porte_K11A')]"
      ],
      "execution_count": 31,
      "outputs": []
    },
    {
      "cell_type": "code",
      "metadata": {
        "id": "zXNWftD_Llxy",
        "colab_type": "code",
        "colab": {
          "base_uri": "https://localhost:8080/",
          "height": 34
        },
        "outputId": "3e6bebfa-8c77-4cd1-e329-903f9bf2ba5a"
      },
      "source": [
        "len(cyl11)"
      ],
      "execution_count": 32,
      "outputs": [
        {
          "output_type": "execute_result",
          "data": {
            "text/plain": [
              "1819"
            ]
          },
          "metadata": {
            "tags": []
          },
          "execution_count": 32
        }
      ]
    },
    {
      "cell_type": "code",
      "metadata": {
        "id": "iSEJwpWiPmjt",
        "colab_type": "code",
        "colab": {}
      },
      "source": [
        "cyl11[scale_columns] = scaler.fit_transform(cyl11[scale_columns])\n",
        "cyl10[scale_columns] = scaler.fit_transform(cyl10[scale_columns])\n"
      ],
      "execution_count": 33,
      "outputs": []
    },
    {
      "cell_type": "code",
      "metadata": {
        "id": "SMLcllxsSLEc",
        "colab_type": "code",
        "colab": {}
      },
      "source": [
        "#LOHT_North, La Porte_K11A\n",
        "cyl13 = merge_df.loc[(merge_df.cyl==1.0) & (merge_df.Asset == 'Lightning_Unit2 (2)(1).csv')]\n",
        "cyl12 = merge_df.loc[(merge_df.cyl==4.0) & (merge_df.Asset == 'RJ_Unit1(1).csv')]"
      ],
      "execution_count": 34,
      "outputs": []
    },
    {
      "cell_type": "code",
      "metadata": {
        "id": "je_IQnwtlFFk",
        "colab_type": "code",
        "colab": {
          "base_uri": "https://localhost:8080/",
          "height": 34
        },
        "outputId": "8741e988-856b-41cc-9505-c5557da75884"
      },
      "source": [
        "len(cyl13)"
      ],
      "execution_count": 35,
      "outputs": [
        {
          "output_type": "execute_result",
          "data": {
            "text/plain": [
              "3885"
            ]
          },
          "metadata": {
            "tags": []
          },
          "execution_count": 35
        }
      ]
    },
    {
      "cell_type": "code",
      "metadata": {
        "id": "X3jUSebLl3pz",
        "colab_type": "code",
        "colab": {}
      },
      "source": [
        "cyl13[scale_columns] = scaler.fit_transform(cyl13[scale_columns])\n",
        "cyl12[scale_columns] = scaler.fit_transform(cyl12[scale_columns])\n"
      ],
      "execution_count": 36,
      "outputs": []
    },
    {
      "cell_type": "code",
      "metadata": {
        "id": "LobzJYrEnMHc",
        "colab_type": "code",
        "colab": {
          "base_uri": "https://localhost:8080/",
          "height": 136
        },
        "outputId": "0b9f6ce4-f864-44f1-c899-f7c18a471508"
      },
      "source": [
        "merge_df['Asset'].unique() "
      ],
      "execution_count": 37,
      "outputs": [
        {
          "output_type": "execute_result",
          "data": {
            "text/plain": [
              "array(['Ashland_Unit256', 'Center station_C2', 'Crossbar_Unit1',\n",
              "       'El Dorado_Unit', 'Goliad_Unit1100', 'HobitLP_Unit102',\n",
              "       'Hobit_Unit2', 'Katy_Unit1116', 'Katy_Unit1117', 'LOHT_North',\n",
              "       'La Porte_K11A', 'Lightning_Unit2 (2)(1).csv', 'RJ_Unit1(1).csv',\n",
              "       'Lightning_Unit4', 'Reagon_Unit3', 'Saltlake_K71010B',\n",
              "       'Strawberry_Unit1', 'Reagon_Unit6', 'West Turkey_Unit2'],\n",
              "      dtype=object)"
            ]
          },
          "metadata": {
            "tags": []
          },
          "execution_count": 37
        }
      ]
    },
    {
      "cell_type": "code",
      "metadata": {
        "id": "HDHTJZIO1l3t",
        "colab_type": "code",
        "colab": {}
      },
      "source": [
        "cyl15 = merge_df.loc[(merge_df.cyl==2.0) & (merge_df.Asset == 'Lightning_Unit4')]\n",
        "cyl16 = merge_df.loc[(merge_df.cyl==3.0) & (merge_df.Asset == 'Reagon_Unit3')]\n",
        "cyl14 = merge_df.loc[(merge_df.cyl==2.0) & (merge_df.Asset == 'Saltlake_K71010B')]"
      ],
      "execution_count": 38,
      "outputs": []
    },
    {
      "cell_type": "code",
      "metadata": {
        "id": "ct9MDkEFnLNA",
        "colab_type": "code",
        "colab": {
          "base_uri": "https://localhost:8080/",
          "height": 34
        },
        "outputId": "73c31d4c-cfbd-479b-b6b0-39ea943c15d5"
      },
      "source": [
        "len(cyl16)"
      ],
      "execution_count": 39,
      "outputs": [
        {
          "output_type": "execute_result",
          "data": {
            "text/plain": [
              "1462"
            ]
          },
          "metadata": {
            "tags": []
          },
          "execution_count": 39
        }
      ]
    },
    {
      "cell_type": "code",
      "metadata": {
        "id": "M_Mj1hfHSMDN",
        "colab_type": "code",
        "colab": {}
      },
      "source": [
        "cyl15[scale_columns] = scaler.fit_transform(cyl15[scale_columns])\n",
        "cyl16[scale_columns] = scaler.fit_transform(cyl16[scale_columns])\n",
        "cyl14[scale_columns] = scaler.fit_transform(cyl14[scale_columns])\n"
      ],
      "execution_count": 40,
      "outputs": []
    },
    {
      "cell_type": "code",
      "metadata": {
        "id": "26pdvX3sctFN",
        "colab_type": "code",
        "colab": {}
      },
      "source": [
        "cyl18 = merge_df.loc[(merge_df.cyl==1.0) & (merge_df.Asset == 'Strawberry_Unit1')]\n",
        "cyl19 = merge_df.loc[(merge_df.cyl==2.0) & (merge_df.Asset == 'Reagon_Unit6')]\n",
        "cyl17 = merge_df.loc[(merge_df.cyl==1.0) & (merge_df.Asset == 'West Turkey_Unit2')]"
      ],
      "execution_count": 41,
      "outputs": []
    },
    {
      "cell_type": "code",
      "metadata": {
        "id": "hqMu7gdMeKNp",
        "colab_type": "code",
        "colab": {
          "base_uri": "https://localhost:8080/",
          "height": 34
        },
        "outputId": "b3efbce7-526f-43cc-821f-9824c2afd09a"
      },
      "source": [
        "len(cyl18)"
      ],
      "execution_count": 42,
      "outputs": [
        {
          "output_type": "execute_result",
          "data": {
            "text/plain": [
              "4713"
            ]
          },
          "metadata": {
            "tags": []
          },
          "execution_count": 42
        }
      ]
    },
    {
      "cell_type": "markdown",
      "metadata": {
        "id": "2osAYVra0L6s",
        "colab_type": "text"
      },
      "source": [
        "# Merge old Assets"
      ]
    },
    {
      "cell_type": "code",
      "metadata": {
        "id": "vdaECyLh0KgK",
        "colab_type": "code",
        "colab": {}
      },
      "source": [
        "old_normalised_merge = pd.concat([cyl1,cyl2,cyl3,cyl4,cyl5,cyl6,cyl7,cyl8,cyl9,cyl10,cyl11,cyl12,\\\n",
        "                                  cyl13],ignore_index = True)"
      ],
      "execution_count": 43,
      "outputs": []
    },
    {
      "cell_type": "code",
      "metadata": {
        "id": "Er02ZWsVZsZU",
        "colab_type": "code",
        "colab": {
          "base_uri": "https://localhost:8080/",
          "height": 136
        },
        "outputId": "aac15329-de01-4621-eb3a-7b98a607cd37"
      },
      "source": [
        "merge_df['Asset'].unique() "
      ],
      "execution_count": 44,
      "outputs": [
        {
          "output_type": "execute_result",
          "data": {
            "text/plain": [
              "array(['Ashland_Unit256', 'Center station_C2', 'Crossbar_Unit1',\n",
              "       'El Dorado_Unit', 'Goliad_Unit1100', 'HobitLP_Unit102',\n",
              "       'Hobit_Unit2', 'Katy_Unit1116', 'Katy_Unit1117', 'LOHT_North',\n",
              "       'La Porte_K11A', 'Lightning_Unit2 (2)(1).csv', 'RJ_Unit1(1).csv',\n",
              "       'Lightning_Unit4', 'Reagon_Unit3', 'Saltlake_K71010B',\n",
              "       'Strawberry_Unit1', 'Reagon_Unit6', 'West Turkey_Unit2'],\n",
              "      dtype=object)"
            ]
          },
          "metadata": {
            "tags": []
          },
          "execution_count": 44
        }
      ]
    },
    {
      "cell_type": "code",
      "metadata": {
        "id": "quhNE6WycuBF",
        "colab_type": "code",
        "colab": {
          "base_uri": "https://localhost:8080/",
          "height": 102
        },
        "outputId": "4cda4aa4-1065-42cd-9b41-8996df85f136"
      },
      "source": [
        "old_normalised_merge['Asset'].unique()"
      ],
      "execution_count": 45,
      "outputs": [
        {
          "output_type": "execute_result",
          "data": {
            "text/plain": [
              "array(['Ashland_Unit256', 'Center station_C2', 'Crossbar_Unit1',\n",
              "       'El Dorado_Unit', 'Goliad_Unit1100', 'HobitLP_Unit102',\n",
              "       'Hobit_Unit2', 'Katy_Unit1116', 'Katy_Unit1117', 'LOHT_North',\n",
              "       'La Porte_K11A', 'RJ_Unit1(1).csv', 'Lightning_Unit2 (2)(1).csv'],\n",
              "      dtype=object)"
            ]
          },
          "metadata": {
            "tags": []
          },
          "execution_count": 45
        }
      ]
    },
    {
      "cell_type": "code",
      "metadata": {
        "id": "MuNLyndqYzXC",
        "colab_type": "code",
        "colab": {
          "base_uri": "https://localhost:8080/",
          "height": 34
        },
        "outputId": "76a8e557-41c9-4dfc-95d5-9c3419cb78ea"
      },
      "source": [
        "len(old_normalised_merge['Asset'].unique())"
      ],
      "execution_count": 46,
      "outputs": [
        {
          "output_type": "execute_result",
          "data": {
            "text/plain": [
              "13"
            ]
          },
          "metadata": {
            "tags": []
          },
          "execution_count": 46
        }
      ]
    },
    {
      "cell_type": "code",
      "metadata": {
        "id": "-VKQGp3szPi2",
        "colab_type": "code",
        "colab": {
          "base_uri": "https://localhost:8080/",
          "height": 411
        },
        "outputId": "0301e20a-5477-4b27-a3e8-1306d6ab6ae7"
      },
      "source": [
        "old_normalised_merge.head()"
      ],
      "execution_count": 47,
      "outputs": [
        {
          "output_type": "execute_result",
          "data": {
            "text/html": [
              "<div>\n",
              "<style scoped>\n",
              "    .dataframe tbody tr th:only-of-type {\n",
              "        vertical-align: middle;\n",
              "    }\n",
              "\n",
              "    .dataframe tbody tr th {\n",
              "        vertical-align: top;\n",
              "    }\n",
              "\n",
              "    .dataframe thead th {\n",
              "        text-align: right;\n",
              "    }\n",
              "</style>\n",
              "<table border=\"1\" class=\"dataframe\">\n",
              "  <thead>\n",
              "    <tr style=\"text-align: right;\">\n",
              "      <th></th>\n",
              "      <th>Unnamed: 0</th>\n",
              "      <th>Unnamed: 0.1</th>\n",
              "      <th>time</th>\n",
              "      <th>cyl</th>\n",
              "      <th>s_temp_crank</th>\n",
              "      <th>d_temp_crank</th>\n",
              "      <th>s_pressure_crank</th>\n",
              "      <th>d_pressure_crank</th>\n",
              "      <th>rpm_crank</th>\n",
              "      <th>s_temp_mean</th>\n",
              "      <th>d_temp_mean</th>\n",
              "      <th>s_pressure_mean</th>\n",
              "      <th>d_pressure_mean</th>\n",
              "      <th>rpm_mean</th>\n",
              "      <th>Asset</th>\n",
              "      <th>Binary</th>\n",
              "    </tr>\n",
              "  </thead>\n",
              "  <tbody>\n",
              "    <tr>\n",
              "      <th>0</th>\n",
              "      <td>0</td>\n",
              "      <td>0</td>\n",
              "      <td>2019-12-01 00:30:00</td>\n",
              "      <td>1.0</td>\n",
              "      <td>0.602831</td>\n",
              "      <td>0.707424</td>\n",
              "      <td>354.642761</td>\n",
              "      <td>836.740658</td>\n",
              "      <td>0.857422</td>\n",
              "      <td>0.602831</td>\n",
              "      <td>0.715165</td>\n",
              "      <td>0.677025</td>\n",
              "      <td>0.833863</td>\n",
              "      <td>0.865586</td>\n",
              "      <td>Ashland_Unit256</td>\n",
              "      <td>0.0</td>\n",
              "    </tr>\n",
              "    <tr>\n",
              "      <th>1</th>\n",
              "      <td>1</td>\n",
              "      <td>1</td>\n",
              "      <td>2019-12-01 01:30:00</td>\n",
              "      <td>1.0</td>\n",
              "      <td>0.557169</td>\n",
              "      <td>0.677714</td>\n",
              "      <td>352.424753</td>\n",
              "      <td>837.714329</td>\n",
              "      <td>0.858371</td>\n",
              "      <td>0.557169</td>\n",
              "      <td>0.680772</td>\n",
              "      <td>0.672020</td>\n",
              "      <td>0.836209</td>\n",
              "      <td>0.866544</td>\n",
              "      <td>Ashland_Unit256</td>\n",
              "      <td>0.0</td>\n",
              "    </tr>\n",
              "    <tr>\n",
              "      <th>2</th>\n",
              "      <td>2</td>\n",
              "      <td>2</td>\n",
              "      <td>2019-12-01 02:30:00</td>\n",
              "      <td>1.0</td>\n",
              "      <td>0.535969</td>\n",
              "      <td>0.669181</td>\n",
              "      <td>352.148637</td>\n",
              "      <td>842.562702</td>\n",
              "      <td>0.981990</td>\n",
              "      <td>0.535969</td>\n",
              "      <td>0.666765</td>\n",
              "      <td>0.678841</td>\n",
              "      <td>0.849176</td>\n",
              "      <td>0.991340</td>\n",
              "      <td>Ashland_Unit256</td>\n",
              "      <td>0.0</td>\n",
              "    </tr>\n",
              "    <tr>\n",
              "      <th>3</th>\n",
              "      <td>3</td>\n",
              "      <td>3</td>\n",
              "      <td>2019-12-01 03:30:00</td>\n",
              "      <td>1.0</td>\n",
              "      <td>0.624680</td>\n",
              "      <td>0.760470</td>\n",
              "      <td>352.706318</td>\n",
              "      <td>848.715357</td>\n",
              "      <td>0.980724</td>\n",
              "      <td>0.624680</td>\n",
              "      <td>0.760827</td>\n",
              "      <td>0.681220</td>\n",
              "      <td>0.861231</td>\n",
              "      <td>0.990062</td>\n",
              "      <td>Ashland_Unit256</td>\n",
              "      <td>0.0</td>\n",
              "    </tr>\n",
              "    <tr>\n",
              "      <th>4</th>\n",
              "      <td>4</td>\n",
              "      <td>4</td>\n",
              "      <td>2019-12-01 04:30:00</td>\n",
              "      <td>1.0</td>\n",
              "      <td>0.696433</td>\n",
              "      <td>0.837534</td>\n",
              "      <td>351.392953</td>\n",
              "      <td>851.224013</td>\n",
              "      <td>0.978991</td>\n",
              "      <td>0.696433</td>\n",
              "      <td>0.840353</td>\n",
              "      <td>0.676310</td>\n",
              "      <td>0.866685</td>\n",
              "      <td>0.988312</td>\n",
              "      <td>Ashland_Unit256</td>\n",
              "      <td>0.0</td>\n",
              "    </tr>\n",
              "  </tbody>\n",
              "</table>\n",
              "</div>"
            ],
            "text/plain": [
              "   Unnamed: 0  Unnamed: 0.1  ...            Asset  Binary\n",
              "0           0             0  ...  Ashland_Unit256     0.0\n",
              "1           1             1  ...  Ashland_Unit256     0.0\n",
              "2           2             2  ...  Ashland_Unit256     0.0\n",
              "3           3             3  ...  Ashland_Unit256     0.0\n",
              "4           4             4  ...  Ashland_Unit256     0.0\n",
              "\n",
              "[5 rows x 16 columns]"
            ]
          },
          "metadata": {
            "tags": []
          },
          "execution_count": 47
        }
      ]
    },
    {
      "cell_type": "code",
      "metadata": {
        "id": "-VcgQu1EeOwh",
        "colab_type": "code",
        "colab": {}
      },
      "source": [
        "old_normalised_merge.to_csv('Old_Normalised_skmin_max.csv')"
      ],
      "execution_count": 48,
      "outputs": []
    },
    {
      "cell_type": "code",
      "metadata": {
        "id": "h0Fgqd3yhcxD",
        "colab_type": "code",
        "colab": {}
      },
      "source": [
        "new_normalised_merge = pd.concat([cyl14,cyl15,cyl16,cyl17,cyl18,cyl19],ignore_index = True)"
      ],
      "execution_count": 49,
      "outputs": []
    },
    {
      "cell_type": "code",
      "metadata": {
        "id": "Oa3yTab-h5PK",
        "colab_type": "code",
        "colab": {}
      },
      "source": [
        "new_normalised_merge.to_csv('New_Normalised_skmin_max.csv')"
      ],
      "execution_count": 50,
      "outputs": []
    }
  ]
}