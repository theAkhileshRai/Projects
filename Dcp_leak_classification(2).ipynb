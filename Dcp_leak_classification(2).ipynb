{
  "nbformat": 4,
  "nbformat_minor": 0,
  "metadata": {
    "colab": {
      "name": "Dcp_leak_classification(2).ipynb",
      "provenance": [],
      "collapsed_sections": [],
      "include_colab_link": true
    },
    "kernelspec": {
      "name": "python3",
      "display_name": "Python 3"
    }
  },
  "cells": [
    {
      "cell_type": "markdown",
      "metadata": {
        "id": "view-in-github",
        "colab_type": "text"
      },
      "source": [
        "<a href=\"https://colab.research.google.com/github/theAkhileshRai/Projects/blob/master/Dcp_leak_classification(2).ipynb\" target=\"_parent\"><img src=\"https://colab.research.google.com/assets/colab-badge.svg\" alt=\"Open In Colab\"/></a>"
      ]
    },
    {
      "cell_type": "code",
      "metadata": {
        "id": "j6nV011hv97p",
        "colab_type": "code",
        "outputId": "df30f3e9-6983-45e6-c94c-ab26fc647956",
        "colab": {
          "base_uri": "https://localhost:8080/",
          "height": 715
        }
      },
      "source": [
        "import pandas as pd\n",
        "import numpy as np\n",
        "import xlrd \n",
        "import os \n",
        "import glob\n",
        "import re \n",
        "from plotly.subplots import make_subplots\n",
        "import numpy as np\n",
        "import warnings\n",
        "warnings.simplefilter(action='ignore', category=FutureWarning)\n",
        "import seaborn as sns\n",
        "import warnings\n",
        "warnings.filterwarnings(\"error\")\n",
        "import warnings\n",
        "warnings.filterwarnings(\"ignore\", category=DeprecationWarning)\n",
        "!pip install chart_studio\n",
        "import chart_studio.plotly as py\n",
        "import matplotlib.pyplot as plt\n",
        "import plotly.offline as py\n",
        "import warnings\n",
        "warnings.filterwarnings(\"ignore\", message=\"numpy.ufunc size changed\")\n",
        "from sklearn.metrics import r2_score, median_absolute_error, mean_absolute_error\n",
        "from sklearn.metrics import median_absolute_error, mean_squared_error, mean_squared_log_error\n",
        "import plotly.graph_objs as go\n",
        "py.init_notebook_mode(connected=True)\n",
        "import plotly.graph_objects as go\n",
        "from plotly.offline import  download_plotlyjs,init_notebook_mode,plot,iplot\n",
        "import plotly.io as pio\n",
        "pio.renderers.default = 'colab'\n",
        "from itertools import groupby\n",
        "import plotly.express as px\n",
        "\n",
        "\n",
        "\n",
        "from glob import glob\n",
        "\n",
        "from datetime import datetime as dt\n",
        "import warnings\n",
        "from sklearn.svm import LinearSVR\n",
        "from sklearn.ensemble import RandomForestClassifier\n",
        "from sklearn.linear_model import LinearRegression\n",
        "from sklearn.linear_model import LogisticRegression\n",
        "from sklearn.metrics import classification_report\n",
        "from sklearn.tree import DecisionTreeClassifier\n",
        "from sklearn.tree import DecisionTreeRegressor\n",
        "from sklearn.svm import SVR\n",
        "from sklearn.svm import SVC\n",
        "from sklearn import ensemble\n",
        "from sklearn.metrics import mean_squared_error, mean_absolute_error, r2_score\n",
        "import xgboost as xgb\n",
        "from sklearn.model_selection import train_test_split\n",
        "from sklearn.metrics import accuracy_score\n",
        "from sklearn.metrics import confusion_matrix\n",
        "from sklearn.metrics import classification_report\n",
        "from sklearn.model_selection import GridSearchCV\n",
        "from datetime import datetime\n",
        "warnings.filterwarnings('ignore')\n",
        "from keras.models import Sequential\n",
        "from keras.layers import LSTM\n",
        "from keras.layers import Dense\n",
        "from numpy import hstack\n",
        "from numpy import array\n",
        "from random import random\n",
        "from sklearn.preprocessing import MinMaxScaler\n",
        "\n",
        "pd.options.mode.chained_assignment = None \n",
        "!npm install -g electron@1.8.4 orca\n",
        "!pip install psutil requests"
      ],
      "execution_count": 0,
      "outputs": [
        {
          "output_type": "stream",
          "text": [
            "Requirement already satisfied: chart_studio in /usr/local/lib/python3.6/dist-packages (1.1.0)\n",
            "Requirement already satisfied: plotly in /usr/local/lib/python3.6/dist-packages (from chart_studio) (4.4.1)\n",
            "Requirement already satisfied: six in /usr/local/lib/python3.6/dist-packages (from chart_studio) (1.12.0)\n",
            "Requirement already satisfied: retrying>=1.3.3 in /usr/local/lib/python3.6/dist-packages (from chart_studio) (1.3.3)\n",
            "Requirement already satisfied: requests in /usr/local/lib/python3.6/dist-packages (from chart_studio) (2.23.0)\n",
            "Requirement already satisfied: idna<3,>=2.5 in /usr/local/lib/python3.6/dist-packages (from requests->chart_studio) (2.9)\n",
            "Requirement already satisfied: chardet<4,>=3.0.2 in /usr/local/lib/python3.6/dist-packages (from requests->chart_studio) (3.0.4)\n",
            "Requirement already satisfied: certifi>=2017.4.17 in /usr/local/lib/python3.6/dist-packages (from requests->chart_studio) (2020.4.5.1)\n",
            "Requirement already satisfied: urllib3!=1.25.0,!=1.25.1,<1.26,>=1.21.1 in /usr/local/lib/python3.6/dist-packages (from requests->chart_studio) (1.24.3)\n"
          ],
          "name": "stdout"
        },
        {
          "output_type": "display_data",
          "data": {
            "text/html": [
              "        <script type=\"text/javascript\">\n",
              "        window.PlotlyConfig = {MathJaxConfig: 'local'};\n",
              "        if (window.MathJax) {MathJax.Hub.Config({SVG: {font: \"STIX-Web\"}});}\n",
              "        if (typeof require !== 'undefined') {\n",
              "        require.undef(\"plotly\");\n",
              "        requirejs.config({\n",
              "            paths: {\n",
              "                'plotly': ['https://cdn.plot.ly/plotly-latest.min']\n",
              "            }\n",
              "        });\n",
              "        require(['plotly'], function(Plotly) {\n",
              "            window._Plotly = Plotly;\n",
              "        });\n",
              "        }\n",
              "        </script>\n",
              "        "
            ]
          },
          "metadata": {
            "tags": []
          }
        },
        {
          "output_type": "stream",
          "text": [
            "\u001b[K\u001b[?25h\u001b[37;40mnpm\u001b[0m \u001b[0m\u001b[30;43mWARN\u001b[0m \u001b[0m\u001b[35mdeprecated\u001b[0m request@2.88.2: request has been deprecated, see https://github.com/request/request/issues/3142\n",
            "\u001b[K\u001b[?25h\u001b[37;40mnpm\u001b[0m \u001b[0m\u001b[30;43mWARN\u001b[0m \u001b[0m\u001b[35mdeprecated\u001b[0m left-pad@1.3.0: use String.prototype.padStart()\n",
            "\u001b[K\u001b[?25h/tools/node/bin/electron -> /tools/node/lib/node_modules/electron/cli.js\n",
            "/tools/node/bin/orca -> /tools/node/lib/node_modules/orca/bin/orca.js\n",
            "\u001b[K\u001b[?25h\n",
            "> electron@1.8.4 postinstall /tools/node/lib/node_modules/electron\n",
            "> node install.js\n",
            "\n",
            "/tools/node/lib/node_modules/electron/install.js:47\n",
            "  throw err\n",
            "  ^\n",
            "\n",
            "Error: EACCES: permission denied, mkdir '/tools/node/lib/node_modules/electron/.electron'\n",
            "\u001b[K\u001b[?25h\u001b[37;40mnpm\u001b[0m \u001b[0m\u001b[31;40mERR!\u001b[0m \u001b[0m\u001b[35mcode\u001b[0m ELIFECYCLE\n",
            "\u001b[0m\u001b[37;40mnpm\u001b[0m \u001b[0m\u001b[31;40mERR!\u001b[0m \u001b[0m\u001b[35merrno\u001b[0m 1\n",
            "\u001b[0m\u001b[37;40mnpm\u001b[0m \u001b[0m\u001b[31;40mERR!\u001b[0m\u001b[35m\u001b[0m electron@1.8.4 postinstall: `node install.js`\n",
            "\u001b[0m\u001b[37;40mnpm\u001b[0m \u001b[0m\u001b[31;40mERR!\u001b[0m\u001b[35m\u001b[0m Exit status 1\n",
            "\u001b[0m\u001b[37;40mnpm\u001b[0m \u001b[0m\u001b[31;40mERR!\u001b[0m\u001b[35m\u001b[0m \n",
            "\u001b[0m\u001b[37;40mnpm\u001b[0m \u001b[0m\u001b[31;40mERR!\u001b[0m\u001b[35m\u001b[0m Failed at the electron@1.8.4 postinstall script.\n",
            "\u001b[0m\u001b[37;40mnpm\u001b[0m \u001b[0m\u001b[31;40mERR!\u001b[0m\u001b[35m\u001b[0m This is probably not a problem with npm. There is likely additional logging output above.\n",
            "\u001b[0m\n",
            "\u001b[37;40mnpm\u001b[0m \u001b[0m\u001b[31;40mERR!\u001b[0m\u001b[35m\u001b[0m A complete log of this run can be found in:\n",
            "\u001b[0m\u001b[37;40mnpm\u001b[0m \u001b[0m\u001b[31;40mERR!\u001b[0m\u001b[35m\u001b[0m     /root/.npm/_logs/2020-06-09T12_00_54_737Z-debug.log\n",
            "\u001b[0mRequirement already satisfied: psutil in /usr/local/lib/python3.6/dist-packages (5.4.8)\n",
            "Requirement already satisfied: requests in /usr/local/lib/python3.6/dist-packages (2.23.0)\n",
            "Requirement already satisfied: certifi>=2017.4.17 in /usr/local/lib/python3.6/dist-packages (from requests) (2020.4.5.1)\n",
            "Requirement already satisfied: idna<3,>=2.5 in /usr/local/lib/python3.6/dist-packages (from requests) (2.9)\n",
            "Requirement already satisfied: chardet<4,>=3.0.2 in /usr/local/lib/python3.6/dist-packages (from requests) (3.0.4)\n",
            "Requirement already satisfied: urllib3!=1.25.0,!=1.25.1,<1.26,>=1.21.1 in /usr/local/lib/python3.6/dist-packages (from requests) (1.24.3)\n"
          ],
          "name": "stdout"
        }
      ]
    },
    {
      "cell_type": "code",
      "metadata": {
        "id": "ob5jjh9W8NOp",
        "colab_type": "code",
        "outputId": "9d35dc98-fbfa-42e5-af0e-dd8f681ec9cb",
        "colab": {
          "base_uri": "https://localhost:8080/",
          "height": 56
        }
      },
      "source": [
        "\"\"\"import glob\n",
        "path = \"/content/*.xlsx\"\n",
        "leak_data=pd.DataFrame()\n",
        "for fname in glob.glob(path):\n",
        "  print (fname)\n",
        "  data=pd.read_excel(fname)\n",
        "  data.columns=data.iloc[0]\n",
        "  data.drop(labels=[0],axis=0,inplace=True)\n",
        "  data[\"Station\"]=data[\"Station\"]+ \" \" +data[\"machine\"]\n",
        "  data[\"Station\"].fillna(method=\"ffill\",inplace=True)\n",
        "  #data[\"Cylinder\"].fillna(method=\"ffill\",inplace=True)\n",
        "  leak_data=leak_data.append([leak_data,data],ignore_index=True)\n",
        "  print (data)\"\"\"\n",
        " \n",
        "    "
      ],
      "execution_count": 0,
      "outputs": [
        {
          "output_type": "execute_result",
          "data": {
            "text/plain": [
              "'import glob\\npath = \"/content/*.xlsx\"\\nleak_data=pd.DataFrame()\\nfor fname in glob.glob(path):\\n  print (fname)\\n  data=pd.read_excel(fname)\\n  data.columns=data.iloc[0]\\n  data.drop(labels=[0],axis=0,inplace=True)\\n  data[\"Station\"]=data[\"Station\"]+ \" \" +data[\"machine\"]\\n  data[\"Station\"].fillna(method=\"ffill\",inplace=True)\\n  #data[\"Cylinder\"].fillna(method=\"ffill\",inplace=True)\\n  leak_data=leak_data.append([leak_data,data],ignore_index=True)\\n  print (data)'"
            ]
          },
          "metadata": {
            "tags": []
          },
          "execution_count": 70
        }
      ]
    },
    {
      "cell_type": "code",
      "metadata": {
        "id": "-xKeSkc8-Tsa",
        "colab_type": "code",
        "outputId": "e53f8398-f416-4530-dd2e-b588e0099ac2",
        "colab": {
          "base_uri": "https://localhost:8080/",
          "height": 36
        }
      },
      "source": [
        "\"\"\"asset_id=list(data[\"Station\"].unique())\n",
        "asset_id=[i.strip() for i in asset_id]\n",
        "asset_id\"\"\""
      ],
      "execution_count": 0,
      "outputs": [
        {
          "output_type": "execute_result",
          "data": {
            "text/plain": [
              "'asset_id=list(data[\"Station\"].unique())\\nasset_id=[i.strip() for i in asset_id]\\nasset_id'"
            ]
          },
          "metadata": {
            "tags": []
          },
          "execution_count": 71
        }
      ]
    },
    {
      "cell_type": "code",
      "metadata": {
        "id": "90DKlk8HWnDH",
        "colab_type": "code",
        "colab": {}
      },
      "source": [
        "\"\"\"for i in data.groupby(by=[\"Station\"]):\n",
        "  print (i[0])\n",
        "  start_date,end_date=[],[]\n",
        "  \n",
        "  for s in (i)[1][\"start date\"]:\n",
        "    start_date.append(str(s))\n",
        "  for e in (i)[1][\"end date\"]:\n",
        "    end_date.append(str(e))\n",
        "  for e in (i)[1][\"Cylinder\"]:\n",
        "    end_date.append(str(e))\n",
        "  break\n",
        "start_date,end_date\"\"\""
      ],
      "execution_count": 0,
      "outputs": []
    },
    {
      "cell_type": "code",
      "metadata": {
        "id": "n2KpRiEy_tSH",
        "colab_type": "code",
        "outputId": "2186cf17-4895-4bfc-d2c6-11e8d25134d9",
        "colab": {
          "base_uri": "https://localhost:8080/",
          "height": 56
        }
      },
      "source": [
        "\"\"\"import glob\n",
        "path = \"/root/*.csv\"\n",
        "leak_data=pd.DataFrame()\n",
        "for fname in glob.glob(path):\n",
        "  file=fname[6:].split(\" \")[0]\n",
        "  file=file.replace(\"_\", \" \")\n",
        "  #print (file.replace(\"_\", \" \"))\n",
        "  file=re.sub(r\"([0-9]+(\\.[0-9]+)?)\",r\" \\1 \", file).strip()\n",
        "  #data=pd.read_csv(fname,low_memory=False)\n",
        "  #data.dropna(inplace=True)\n",
        "  #data_filtering(data,fname)\n",
        "  #print (file)\n",
        "  #regex = re.compile('unit\\s([0-9]*)')\n",
        "  #print (regex.findall(file))\n",
        "  \n",
        "  for i in asset_id:\n",
        "    i=i.replace(\"-\", \" \")\n",
        "    if file.split(\" \")[0]==i.split(\" \")[0] and file.split(\" \")[-1]==i.split(\" \")[-1]:\n",
        "      dataframe=pd.read_csv(fname)\n",
        "      #print (dataframe[dataframe[\"cyl\"]==3])\n",
        "      test=pd.DataFrame()\n",
        "      #print (dataframe.shape)\n",
        "      data=data[data[\"Station\"]==i]\n",
        "      cyl_ls=list(data[\"Cylinder\"].unique())\n",
        "     # print (cyl_ls)\n",
        "      for g in data.groupby(by=[\"Station\"]):\n",
        "        start_date,end_date,cyl=[],[],[]\n",
        "        for s in (g)[1][\"start date\"]:\n",
        "          start_date.append(str(s))\n",
        "        for e in (g)[1][\"end date\"]:\n",
        "          end_date.append(str(e))\n",
        "        for c in (g)[1][\"Cylinder\"]:\n",
        "          cyl.append(str(c))\n",
        "      print (start_date,end_date,cyl,file)\n",
        "      #print (dataframe[dataframe[\"cyl\"]==3])\n",
        "      for r in cyl_ls:\n",
        "        fil_data=dataframe[dataframe[\"cyl\"]==3]\n",
        "        test=pd.concat([test,fil_data],ignore_index=True)\n",
        "      print (test.columns)\n",
        "\n",
        "      for r in range(len(start_date)):\n",
        "        print (test)\n",
        "        test[\"Anomaly\"]=np.where((test[\"time\"] > start_date[r])& (test[\"time\"] < end_date[r]),1,0)\n",
        "     \n",
        "\n",
        "      leak_data=leak_data.append([leak_data,test],ignore_index=True)\n",
        "      print (leak_data.shape)  \"\"\""
      ],
      "execution_count": 0,
      "outputs": [
        {
          "output_type": "execute_result",
          "data": {
            "text/plain": [
              "'import glob\\npath = \"/root/*.csv\"\\nleak_data=pd.DataFrame()\\nfor fname in glob.glob(path):\\n  file=fname[6:].split(\" \")[0]\\n  file=file.replace(\"_\", \" \")\\n  #print (file.replace(\"_\", \" \"))\\n  file=re.sub(r\"([0-9]+(\\\\.[0-9]+)?)\",r\" \\x01 \", file).strip()\\n  #data=pd.read_csv(fname,low_memory=False)\\n  #data.dropna(inplace=True)\\n  #data_filtering(data,fname)\\n  #print (file)\\n  #regex = re.compile(\\'unit\\\\s([0-9]*)\\')\\n  #print (regex.findall(file))\\n  \\n  for i in asset_id:\\n    i=i.replace(\"-\", \" \")\\n    if file.split(\" \")[0]==i.split(\" \")[0] and file.split(\" \")[-1]==i.split(\" \")[-1]:\\n      dataframe=pd.read_csv(fname)\\n      #print (dataframe[dataframe[\"cyl\"]==3])\\n      test=pd.DataFrame()\\n      #print (dataframe.shape)\\n      data=data[data[\"Station\"]==i]\\n      cyl_ls=list(data[\"Cylinder\"].unique())\\n     # print (cyl_ls)\\n      for g in data.groupby(by=[\"Station\"]):\\n        start_date,end_date,cyl=[],[],[]\\n        for s in (g)[1][\"start date\"]:\\n          start_date.append(str(s))\\n        for e in (g)[1][\"end date\"]:\\n          end_date.append(str(e))\\n        for c in (g)[1][\"Cylinder\"]:\\n          cyl.append(str(c))\\n      print (start_date,end_date,cyl,file)\\n      #print (dataframe[dataframe[\"cyl\"]==3])\\n      for r in cyl_ls:\\n        fil_data=dataframe[dataframe[\"cyl\"]==3]\\n        test=pd.concat([test,fil_data],ignore_index=True)\\n      print (test.columns)\\n\\n      for r in range(len(start_date)):\\n        print (test)\\n        test[\"Anomaly\"]=np.where((test[\"time\"] > start_date[r])& (test[\"time\"] < end_date[r]),1,0)\\n     \\n\\n      leak_data=leak_data.append([leak_data,test],ignore_index=True)\\n      print (leak_data.shape)  '"
            ]
          },
          "metadata": {
            "tags": []
          },
          "execution_count": 72
        }
      ]
    },
    {
      "cell_type": "code",
      "metadata": {
        "id": "REWo4jkPMfOt",
        "colab_type": "code",
        "outputId": "7071fae3-f449-4a82-8b3b-6738454633c9",
        "colab": {
          "base_uri": "https://localhost:8080/",
          "height": 56
        }
      },
      "source": [
        "\"\"\"import glob\n",
        "path = \"/root/*.csv\"\n",
        "final_data=pd.DataFrame()\n",
        "for fname in glob.glob(path):\n",
        "  print (fname)\n",
        "  data=pd.read_csv(fname)\n",
        "  print (data.shape)\n",
        "  final_data=pd.concat([final_data,data],ignore_index=True)\n",
        "final_data.shape\"\"\""
      ],
      "execution_count": 0,
      "outputs": [
        {
          "output_type": "execute_result",
          "data": {
            "text/plain": [
              "'import glob\\npath = \"/root/*.csv\"\\nfinal_data=pd.DataFrame()\\nfor fname in glob.glob(path):\\n  print (fname)\\n  data=pd.read_csv(fname)\\n  print (data.shape)\\n  final_data=pd.concat([final_data,data],ignore_index=True)\\nfinal_data.shape'"
            ]
          },
          "metadata": {
            "tags": []
          },
          "execution_count": 73
        }
      ]
    },
    {
      "cell_type": "code",
      "metadata": {
        "id": "1owRqIxYzWQE",
        "colab_type": "code",
        "outputId": "b7564d4a-eba5-479d-e4a4-979859d73256",
        "colab": {
          "base_uri": "https://localhost:8080/",
          "height": 35
        }
      },
      "source": [
        "\"\"\"data=pd.read_csv(\"/root/test_2.csv\")\n",
        "data.shape\"\"\""
      ],
      "execution_count": 0,
      "outputs": [
        {
          "output_type": "execute_result",
          "data": {
            "text/plain": [
              "(77321, 17)"
            ]
          },
          "metadata": {
            "tags": []
          },
          "execution_count": 70
        }
      ]
    },
    {
      "cell_type": "code",
      "metadata": {
        "id": "KgbsdL-kr0e3",
        "colab_type": "code",
        "outputId": "2e11dd1f-10c1-4ad8-83dd-725f7032664a",
        "colab": {
          "base_uri": "https://localhost:8080/",
          "height": 54
        }
      },
      "source": [
        "\"\"\"#data=pd.DataFrame()\n",
        "dataframe=pd.read_csv(\"/root/Lightning_Unit4 (2) (1).csv\")\n",
        "dataframe[\"Asset\"]=\"Lightning_Unit4\"\n",
        "dataframe=dataframe[dataframe[\"cyl\"]==2]\n",
        "\n",
        "print (dataframe.shape)\n",
        "dataframe_1=pd.read_csv(\"/root/Goliad_Unit1100 (1) (1).csv\")\n",
        "dataframe_1=dataframe_1[dataframe_1[\"cyl\"]==2]\n",
        "dataframe_1[\"Asset\"]=\"Goliad_Unit1100\"\n",
        "print (dataframe_1.shape)\n",
        "\n",
        "dataframe.loc[ (dataframe[\"time\"] > \"2019-05-22 0:00:00\") & (dataframe[\"time\"] < \"2019-05-29 0:00:00\"), \"multi_class\"]=\"pre_1\"\n",
        "dataframe.loc[ (dataframe[\"time\"] > \"2019-05-29 0:00:00\") & (dataframe[\"time\"] < \"2019-06-21 0:00:00\"), \"multi_class\"]=\"level_1\"\n",
        "dataframe.loc[ (dataframe[\"time\"] > \"2019-06-21 0:00:00\") & (dataframe[\"time\"] < \"2019-06-23 0:00:00\"), \"multi_class\"]=\"level_2\" \n",
        "dataframe.loc[ (dataframe[\"time\"] > \"2019-06-23 0:00:00\") & (dataframe[\"time\"] < \"2019-06-24 0:00:00\"), \"multi_class\"]=\"level_3\"\n",
        "#dataframe[\"Binary\"]=np.where((dataframe[\"time\"] > \"2019-03-25 0:00:00\")& (dataframe[\"time\"] < \"2019-03-29 0:00:00\"),1,0)\n",
        "dataframe.loc[ (dataframe[\"time\"] > \"2019-05-22 0:00:00\")& (dataframe[\"time\"] < \"2019-06-24 0:00:00\"),\"Binary\"]=int(1)\n",
        "\n",
        "\n",
        "dataframe.loc[ (dataframe[\"time\"] > \"2019-04-25 0:00:00\") & (dataframe[\"time\"] < \"2019-05-02 0:00:00\"), \"multi_class\"]=\"pre_1\"\n",
        "dataframe.loc[ (dataframe[\"time\"] > \"2019-05-02 0:00:00\") & (dataframe[\"time\"] < \"2019-05-31 0:00:00\"), \"multi_class\"]=\"level_1\"\n",
        "dataframe.loc[ (dataframe[\"time\"] > \"2019-05-31 0:00:00\") & (dataframe[\"time\"] < \"2019-06-12 0:00:00\"), \"multi_class\"]=\"level_2\" \n",
        "#dataframe.loc[ (dataframe[\"time\"] > \"2019-03-28 0:00:00\") & (dataframe[\"time\"] < \"2019-03-29 0:00:00\"), \"multi_class\"]=\"level_3\"\n",
        "#dataframe[\"Binary\"]=np.where((dataframe[\"time\"] > \"2019-03-25 0:00:00\")& (dataframe[\"time\"] < \"2019-03-29 0:00:00\"),1,0\n",
        "dataframe.loc[ (dataframe[\"time\"] > \"2019-04-25 0:00:00\")& (dataframe[\"time\"] < \"2019-06-12 0:00:00\"),\"Binary\"]=int(1)                            \n",
        "\n",
        "\n",
        "#dataframe.loc[ (dataframe[\"time\"] > \"2019-09-06 0:00:00\") & (dataframe[\"time\"] < \"2019-10-29 0:00:00\"), \"multi_class\"]=\"pre_1\"\n",
        "dataframe.loc[ (dataframe[\"time\"] > \"2019-09-06 0:00:00\") & (dataframe[\"time\"] < \"2019-10-29 0:00:00\"), \"multi_class\"]=\"level_1\"\n",
        "dataframe.loc[ (dataframe[\"time\"] > \"2019-10-29 0:00:00\") & (dataframe[\"time\"] < \"2019-12-06 0:00:00\"), \"multi_class\"]=\"level_2\" \n",
        "dataframe.loc[ (dataframe[\"time\"] > \"2019-12-06 0:00:00\") & (dataframe[\"time\"] < \"2019-12-27 0:00:00\"), \"multi_class\"]=\"level_3\"\n",
        "#dataframe[\"Binary\"]=np.where((dataframe[\"time\"] > \"2019-03-25 0:00:00\")& (dataframe[\"time\"] < \"2019-03-29 0:00:00\"),1,0\n",
        "dataframe.loc[ (dataframe[\"time\"] > \"2019-09-06 0:00:00\")& (dataframe[\"time\"] < \"2019-12-27 0:00:00\"),\"Binary\"]=int(1)                            \n",
        "\n",
        "dataframe.loc[ (dataframe[\"time\"] > \"2019-06-25 0:00:00\") & (dataframe[\"time\"] < \"2019-08-17 0:00:00\"), \"multi_class\"]=\"pre_1\"\n",
        "dataframe.loc[ (dataframe[\"time\"] > \"2019-08-17 0:00:00\") & (dataframe[\"time\"] < \"2019-09-17 0:00:00\"), \"multi_class\"]=\"level_1\"\n",
        "dataframe.loc[ (dataframe[\"time\"] > \"2019-09-17 0:00:00\") & (dataframe[\"time\"] < \"2019-09-20 0:00:00\"), \"multi_class\"]=\"level_2\" \n",
        "dataframe.loc[ (dataframe[\"time\"] > \"2019-09-20 0:00:00\") & (dataframe[\"time\"] < \"2019-12-02 0:00:00\"), \"multi_class\"]=\"level_3\"\n",
        "#dataframe[\"Binary\"]=np.where((dataframe[\"time\"] > \"2019-03-25 0:00:00\")& (dataframe[\"time\"] < \"2019-03-29 0:00:00\"),1,0\n",
        "dataframe.loc[ (dataframe[\"time\"] > \"2019-06-25 0:00:00\")& (dataframe[\"time\"] < \"2019-12-02 0:00:00\"),\"Binary\"]=int(1)                            \n",
        "\n",
        "\n",
        "#dataframe.loc[ (dataframe[\"time\"] > \"2019-06-25 0:00:00\") & (dataframe[\"time\"] < \"2019-08-17 0:00:00\"), \"multi_class\"]=\"pre_1\"\n",
        "dataframe.loc[ (dataframe[\"time\"] > \"2019-12-07 0:00:00\") & (dataframe[\"time\"] < \"2019-12-18 0:00:00\"), \"multi_class\"]=\"level_1\"\n",
        "#dataframe.loc[ (dataframe[\"time\"] > \"2019-09-17 0:00:00\") & (dataframe[\"time\"] < \"2019-09-20 0:00:00\"), \"multi_class\"]=\"level_2\" \n",
        "#dataframe.loc[ (dataframe[\"time\"] > \"2019-09-20 0:00:00\") & (dataframe[\"time\"] < \"2019-12-02 0:00:00\"), \"multi_class\"]=\"level_3\"\n",
        "#dataframe[\"Binary\"]=np.where((dataframe[\"time\"] > \"2019-03-25 0:00:00\")& (dataframe[\"time\"] < \"2019-03-29 0:00:00\"),1,0\n",
        "dataframe.loc[ (dataframe[\"time\"] > \"2019-12-07 0:00:00\")& (dataframe[\"time\"] < \"2019-12-18 0:00:00\"),\"Binary\"]=int(1)                            \n",
        "\n",
        "dataframe[\"multi_class\"].fillna(\"Normal\",inplace=True)\n",
        "dataframe[\"Binary\"].fillna(int(0),inplace=True)\n",
        "\n",
        "dataframe_1.loc[ (dataframe_1[\"time\"] > \"2019-08-12 0:00:00\")& (dataframe_1[\"time\"] < \"2019-08-23 0:00:00\"),\"multi_class\"]=\"pre_1\"\n",
        "dataframe_1.loc[ (dataframe_1[\"time\"] > \"2019-08-23 0:00:00\")& (dataframe_1[\"time\"] < \"2019-08-24 0:00:00\"),\"multi_class\"]=\"level_1\"\n",
        "dataframe_1.loc[ (dataframe_1[\"time\"] > \"2019-08-24 0:00:00\")& (dataframe_1[\"time\"] < \"2019-08-27 0:00:00\"),\"multi_class\"]=\"level_2\"\n",
        "#dataframe_1.loc[ (dataframe_1[\"time\"] > \"2018-08-27 0:00:00\")& (dataframe_1[\"time\"] < \"2019-06-02 0:00:00\"),\"multi_class\"]=\"level_3\"#\n",
        "dataframe_1[\"multi_class\"].fillna(\"Normal\",inplace=True)\n",
        "dataframe_1[\"Binary\"]=np.where((dataframe_1[\"time\"] > \"2019-08-12 0:00:00\")& (dataframe_1[\"time\"] < \"2019-08-27 0:00:00\"),1,0)\n",
        "#dataframe_1.loc[ (dataframe_1[\"time\"] > \"2020-03-27 0:00:00\")& (dataframe_1[\"time\"] < \"2020-04-08 0:00:00\"),\"Binary\"]=int(1)\"\"\"\n"
      ],
      "execution_count": 0,
      "outputs": [
        {
          "output_type": "stream",
          "text": [
            "(1860, 14)\n",
            "(8426, 14)\n"
          ],
          "name": "stdout"
        }
      ]
    },
    {
      "cell_type": "code",
      "metadata": {
        "id": "LOd-fWy8K-Qh",
        "colab_type": "code",
        "outputId": "104df636-7380-4a69-b6ed-b16239a9fb20",
        "colab": {
          "base_uri": "https://localhost:8080/",
          "height": 35
        }
      },
      "source": [
        "\"\"\"data=data.append([dataframe],ignore_index=True)\n",
        "print (data.shape)\"\"\""
      ],
      "execution_count": 0,
      "outputs": [
        {
          "output_type": "stream",
          "text": [
            "(104459, 17)\n"
          ],
          "name": "stdout"
        }
      ]
    },
    {
      "cell_type": "code",
      "metadata": {
        "id": "jIr4fHC-7wMy",
        "colab_type": "code",
        "outputId": "ac1a034b-02c8-47f4-8dcd-e5ae6d45c219",
        "colab": {
          "base_uri": "https://localhost:8080/",
          "height": 182
        }
      },
      "source": [
        "data=pd.read_csv(\"/root/Train_data(1).csv\")\n",
        "print (data.shape)\n",
        "print (data.head())"
      ],
      "execution_count": 0,
      "outputs": [
        {
          "output_type": "stream",
          "text": [
            "(104459, 18)\n",
            "   Unnamed: 0  Unnamed: 0.1  ...  multi_class Binary\n",
            "0           0             0  ...       Normal    0.0\n",
            "1           1             1  ...       Normal    0.0\n",
            "2           2             2  ...       Normal    0.0\n",
            "3           3             3  ...       Normal    0.0\n",
            "4           4             4  ...       Normal    0.0\n",
            "\n",
            "[5 rows x 18 columns]\n"
          ],
          "name": "stdout"
        }
      ]
    },
    {
      "cell_type": "code",
      "metadata": {
        "id": "G7bZBw0wHnLW",
        "colab_type": "code",
        "outputId": "d92ba40e-a342-4bdf-8377-a90d5ef435bb",
        "colab": {
          "base_uri": "https://localhost:8080/",
          "height": 127
        }
      },
      "source": [
        "data[\"multi_class\"].value_counts()"
      ],
      "execution_count": 0,
      "outputs": [
        {
          "output_type": "execute_result",
          "data": {
            "text/plain": [
              "Normal     68193\n",
              "level_1    19264\n",
              "level_3     8614\n",
              "pre_1       5842\n",
              "level_2     2546\n",
              "Name: multi_class, dtype: int64"
            ]
          },
          "metadata": {
            "tags": []
          },
          "execution_count": 116
        }
      ]
    },
    {
      "cell_type": "code",
      "metadata": {
        "id": "WEfgQB8CPsu1",
        "colab_type": "code",
        "outputId": "56f33993-16ba-4b63-fa47-647a526757fc",
        "colab": {
          "base_uri": "https://localhost:8080/",
          "height": 72
        }
      },
      "source": [
        "#data[\"Anomaly\"]=data[\"Anomaly\"].astype(\"int32\")\n",
        "data[\"Binary\"].value_counts()"
      ],
      "execution_count": 0,
      "outputs": [
        {
          "output_type": "execute_result",
          "data": {
            "text/plain": [
              "0.0    68193\n",
              "1.0    36266\n",
              "Name: Binary, dtype: int64"
            ]
          },
          "metadata": {
            "tags": []
          },
          "execution_count": 117
        }
      ]
    },
    {
      "cell_type": "code",
      "metadata": {
        "id": "ywXGYYXlnS7a",
        "colab_type": "code",
        "outputId": "f83ad65d-70da-4db0-ab28-c53b4b6aed8f",
        "colab": {
          "base_uri": "https://localhost:8080/",
          "height": 109
        }
      },
      "source": [
        "data[\"Asset\"].unique()"
      ],
      "execution_count": 0,
      "outputs": [
        {
          "output_type": "execute_result",
          "data": {
            "text/plain": [
              "array(['Ashland_Unit256', 'Center station_C2', 'El Dorado_Unit J2502',\n",
              "       'Saltlake_K71010B', 'West_Turkey_Unit2', 'Cross bar_Unit1',\n",
              "       'Reagan_1_Unit6', 'Reagan_1_Unit3', 'Lightning_Unit2',\n",
              "       'Hobit_Unit2', 'Katy_Unit1116', 'Katy_Unit1117', 'HobitLP_Unit102',\n",
              "       'Goliad_Unit1100', 'Lightning_Unit4'], dtype=object)"
            ]
          },
          "metadata": {
            "tags": []
          },
          "execution_count": 118
        }
      ]
    },
    {
      "cell_type": "code",
      "metadata": {
        "id": "HlCYslHhQzJa",
        "colab_type": "code",
        "outputId": "49867cec-843c-4a6e-b6a5-37f126dd23fd",
        "colab": {
          "base_uri": "https://localhost:8080/",
          "height": 366
        }
      },
      "source": [
        "data.isnull().any()"
      ],
      "execution_count": 0,
      "outputs": [
        {
          "output_type": "execute_result",
          "data": {
            "text/plain": [
              "Unnamed: 0          False\n",
              "Unnamed: 0.1        False\n",
              "Unnamed: 0.1.1       True\n",
              "time                False\n",
              "cyl                 False\n",
              "s_temp_crank        False\n",
              "d_temp_crank        False\n",
              "s_pressure_crank    False\n",
              "d_pressure_crank    False\n",
              "rpm_crank           False\n",
              "s_temp_mean         False\n",
              "d_temp_mean         False\n",
              "s_pressure_mean     False\n",
              "d_pressure_mean     False\n",
              "rpm_mean            False\n",
              "Asset               False\n",
              "multi_class         False\n",
              "Binary              False\n",
              "dtype: bool"
            ]
          },
          "metadata": {
            "tags": []
          },
          "execution_count": 119
        }
      ]
    },
    {
      "cell_type": "code",
      "metadata": {
        "id": "_6dWSL1SSlHp",
        "colab_type": "code",
        "outputId": "514d6483-a28a-4ddd-f680-01d2da41623f",
        "colab": {
          "base_uri": "https://localhost:8080/",
          "height": 635
        }
      },
      "source": [
        "data[data.isnull().any(axis=1)]"
      ],
      "execution_count": 0,
      "outputs": [
        {
          "output_type": "execute_result",
          "data": {
            "text/html": [
              "<div>\n",
              "<style scoped>\n",
              "    .dataframe tbody tr th:only-of-type {\n",
              "        vertical-align: middle;\n",
              "    }\n",
              "\n",
              "    .dataframe tbody tr th {\n",
              "        vertical-align: top;\n",
              "    }\n",
              "\n",
              "    .dataframe thead th {\n",
              "        text-align: right;\n",
              "    }\n",
              "</style>\n",
              "<table border=\"1\" class=\"dataframe\">\n",
              "  <thead>\n",
              "    <tr style=\"text-align: right;\">\n",
              "      <th></th>\n",
              "      <th>Unnamed: 0</th>\n",
              "      <th>Unnamed: 0.1</th>\n",
              "      <th>Unnamed: 0.1.1</th>\n",
              "      <th>time</th>\n",
              "      <th>cyl</th>\n",
              "      <th>s_temp_crank</th>\n",
              "      <th>d_temp_crank</th>\n",
              "      <th>s_pressure_crank</th>\n",
              "      <th>d_pressure_crank</th>\n",
              "      <th>rpm_crank</th>\n",
              "      <th>s_temp_mean</th>\n",
              "      <th>d_temp_mean</th>\n",
              "      <th>s_pressure_mean</th>\n",
              "      <th>d_pressure_mean</th>\n",
              "      <th>rpm_mean</th>\n",
              "      <th>Asset</th>\n",
              "      <th>multi_class</th>\n",
              "      <th>Binary</th>\n",
              "    </tr>\n",
              "  </thead>\n",
              "  <tbody>\n",
              "    <tr>\n",
              "      <th>77321</th>\n",
              "      <td>77321</td>\n",
              "      <td>25246</td>\n",
              "      <td>NaN</td>\n",
              "      <td>2019-01-01 00:30:00</td>\n",
              "      <td>4.0</td>\n",
              "      <td>53.614049</td>\n",
              "      <td>123.741902</td>\n",
              "      <td>517.159668</td>\n",
              "      <td>951.799443</td>\n",
              "      <td>849.924375</td>\n",
              "      <td>53.614049</td>\n",
              "      <td>124.624562</td>\n",
              "      <td>510.341353</td>\n",
              "      <td>946.301707</td>\n",
              "      <td>849.924375</td>\n",
              "      <td>Goliad_Unit1100</td>\n",
              "      <td>Normal</td>\n",
              "      <td>0.0</td>\n",
              "    </tr>\n",
              "    <tr>\n",
              "      <th>77322</th>\n",
              "      <td>77322</td>\n",
              "      <td>25247</td>\n",
              "      <td>NaN</td>\n",
              "      <td>2019-01-01 01:30:00</td>\n",
              "      <td>4.0</td>\n",
              "      <td>51.874849</td>\n",
              "      <td>121.666289</td>\n",
              "      <td>517.294306</td>\n",
              "      <td>950.450814</td>\n",
              "      <td>846.270375</td>\n",
              "      <td>51.874849</td>\n",
              "      <td>122.186573</td>\n",
              "      <td>510.930396</td>\n",
              "      <td>942.966040</td>\n",
              "      <td>846.270375</td>\n",
              "      <td>Goliad_Unit1100</td>\n",
              "      <td>Normal</td>\n",
              "      <td>0.0</td>\n",
              "    </tr>\n",
              "    <tr>\n",
              "      <th>77323</th>\n",
              "      <td>77323</td>\n",
              "      <td>25248</td>\n",
              "      <td>NaN</td>\n",
              "      <td>2019-01-01 02:30:00</td>\n",
              "      <td>4.0</td>\n",
              "      <td>53.591805</td>\n",
              "      <td>123.718048</td>\n",
              "      <td>516.760240</td>\n",
              "      <td>951.074639</td>\n",
              "      <td>849.385375</td>\n",
              "      <td>53.591805</td>\n",
              "      <td>124.338788</td>\n",
              "      <td>510.204471</td>\n",
              "      <td>944.000512</td>\n",
              "      <td>849.385375</td>\n",
              "      <td>Goliad_Unit1100</td>\n",
              "      <td>Normal</td>\n",
              "      <td>0.0</td>\n",
              "    </tr>\n",
              "    <tr>\n",
              "      <th>77324</th>\n",
              "      <td>77324</td>\n",
              "      <td>25249</td>\n",
              "      <td>NaN</td>\n",
              "      <td>2019-01-01 03:30:00</td>\n",
              "      <td>4.0</td>\n",
              "      <td>53.114352</td>\n",
              "      <td>123.348868</td>\n",
              "      <td>515.095212</td>\n",
              "      <td>949.205409</td>\n",
              "      <td>851.701000</td>\n",
              "      <td>53.114352</td>\n",
              "      <td>124.152829</td>\n",
              "      <td>509.024141</td>\n",
              "      <td>944.436965</td>\n",
              "      <td>851.701000</td>\n",
              "      <td>Goliad_Unit1100</td>\n",
              "      <td>Normal</td>\n",
              "      <td>0.0</td>\n",
              "    </tr>\n",
              "    <tr>\n",
              "      <th>77325</th>\n",
              "      <td>77325</td>\n",
              "      <td>25250</td>\n",
              "      <td>NaN</td>\n",
              "      <td>2019-01-01 07:30:00</td>\n",
              "      <td>4.0</td>\n",
              "      <td>60.109787</td>\n",
              "      <td>132.071436</td>\n",
              "      <td>524.973185</td>\n",
              "      <td>976.743455</td>\n",
              "      <td>804.600000</td>\n",
              "      <td>60.109787</td>\n",
              "      <td>132.953678</td>\n",
              "      <td>519.534914</td>\n",
              "      <td>973.809460</td>\n",
              "      <td>804.600000</td>\n",
              "      <td>Goliad_Unit1100</td>\n",
              "      <td>Normal</td>\n",
              "      <td>0.0</td>\n",
              "    </tr>\n",
              "    <tr>\n",
              "      <th>...</th>\n",
              "      <td>...</td>\n",
              "      <td>...</td>\n",
              "      <td>...</td>\n",
              "      <td>...</td>\n",
              "      <td>...</td>\n",
              "      <td>...</td>\n",
              "      <td>...</td>\n",
              "      <td>...</td>\n",
              "      <td>...</td>\n",
              "      <td>...</td>\n",
              "      <td>...</td>\n",
              "      <td>...</td>\n",
              "      <td>...</td>\n",
              "      <td>...</td>\n",
              "      <td>...</td>\n",
              "      <td>...</td>\n",
              "      <td>...</td>\n",
              "      <td>...</td>\n",
              "    </tr>\n",
              "    <tr>\n",
              "      <th>104454</th>\n",
              "      <td>104454</td>\n",
              "      <td>4913</td>\n",
              "      <td>NaN</td>\n",
              "      <td>2019-12-31 19:30:00</td>\n",
              "      <td>2.0</td>\n",
              "      <td>57.404187</td>\n",
              "      <td>192.870092</td>\n",
              "      <td>45.099492</td>\n",
              "      <td>173.448757</td>\n",
              "      <td>1097.043750</td>\n",
              "      <td>57.404187</td>\n",
              "      <td>194.540939</td>\n",
              "      <td>45.360622</td>\n",
              "      <td>176.846614</td>\n",
              "      <td>1095.845625</td>\n",
              "      <td>Lightning_Unit4</td>\n",
              "      <td>Normal</td>\n",
              "      <td>0.0</td>\n",
              "    </tr>\n",
              "    <tr>\n",
              "      <th>104455</th>\n",
              "      <td>104455</td>\n",
              "      <td>4914</td>\n",
              "      <td>NaN</td>\n",
              "      <td>2019-12-31 20:30:00</td>\n",
              "      <td>2.0</td>\n",
              "      <td>58.232545</td>\n",
              "      <td>192.783737</td>\n",
              "      <td>44.219374</td>\n",
              "      <td>169.162607</td>\n",
              "      <td>1094.240000</td>\n",
              "      <td>58.232545</td>\n",
              "      <td>195.095137</td>\n",
              "      <td>44.179864</td>\n",
              "      <td>172.503697</td>\n",
              "      <td>1094.654375</td>\n",
              "      <td>Lightning_Unit4</td>\n",
              "      <td>Normal</td>\n",
              "      <td>0.0</td>\n",
              "    </tr>\n",
              "    <tr>\n",
              "      <th>104456</th>\n",
              "      <td>104456</td>\n",
              "      <td>4915</td>\n",
              "      <td>NaN</td>\n",
              "      <td>2019-12-31 21:30:00</td>\n",
              "      <td>2.0</td>\n",
              "      <td>58.345895</td>\n",
              "      <td>193.720827</td>\n",
              "      <td>43.146701</td>\n",
              "      <td>166.990013</td>\n",
              "      <td>1096.650000</td>\n",
              "      <td>58.345895</td>\n",
              "      <td>195.398975</td>\n",
              "      <td>43.390119</td>\n",
              "      <td>170.251174</td>\n",
              "      <td>1096.146250</td>\n",
              "      <td>Lightning_Unit4</td>\n",
              "      <td>Normal</td>\n",
              "      <td>0.0</td>\n",
              "    </tr>\n",
              "    <tr>\n",
              "      <th>104457</th>\n",
              "      <td>104457</td>\n",
              "      <td>4916</td>\n",
              "      <td>NaN</td>\n",
              "      <td>2019-12-31 22:30:00</td>\n",
              "      <td>2.0</td>\n",
              "      <td>57.941348</td>\n",
              "      <td>194.445306</td>\n",
              "      <td>42.829713</td>\n",
              "      <td>167.715724</td>\n",
              "      <td>1095.042500</td>\n",
              "      <td>57.941348</td>\n",
              "      <td>196.355408</td>\n",
              "      <td>42.965954</td>\n",
              "      <td>170.994143</td>\n",
              "      <td>1093.078125</td>\n",
              "      <td>Lightning_Unit4</td>\n",
              "      <td>Normal</td>\n",
              "      <td>0.0</td>\n",
              "    </tr>\n",
              "    <tr>\n",
              "      <th>104458</th>\n",
              "      <td>104458</td>\n",
              "      <td>4917</td>\n",
              "      <td>NaN</td>\n",
              "      <td>2019-12-31 23:30:00</td>\n",
              "      <td>2.0</td>\n",
              "      <td>56.201509</td>\n",
              "      <td>191.466086</td>\n",
              "      <td>43.207555</td>\n",
              "      <td>167.435067</td>\n",
              "      <td>1097.145000</td>\n",
              "      <td>56.201509</td>\n",
              "      <td>193.144727</td>\n",
              "      <td>43.496841</td>\n",
              "      <td>170.856086</td>\n",
              "      <td>1097.210625</td>\n",
              "      <td>Lightning_Unit4</td>\n",
              "      <td>Normal</td>\n",
              "      <td>0.0</td>\n",
              "    </tr>\n",
              "  </tbody>\n",
              "</table>\n",
              "<p>27138 rows × 18 columns</p>\n",
              "</div>"
            ],
            "text/plain": [
              "        Unnamed: 0  Unnamed: 0.1  ...  multi_class Binary\n",
              "77321        77321         25246  ...       Normal    0.0\n",
              "77322        77322         25247  ...       Normal    0.0\n",
              "77323        77323         25248  ...       Normal    0.0\n",
              "77324        77324         25249  ...       Normal    0.0\n",
              "77325        77325         25250  ...       Normal    0.0\n",
              "...            ...           ...  ...          ...    ...\n",
              "104454      104454          4913  ...       Normal    0.0\n",
              "104455      104455          4914  ...       Normal    0.0\n",
              "104456      104456          4915  ...       Normal    0.0\n",
              "104457      104457          4916  ...       Normal    0.0\n",
              "104458      104458          4917  ...       Normal    0.0\n",
              "\n",
              "[27138 rows x 18 columns]"
            ]
          },
          "metadata": {
            "tags": []
          },
          "execution_count": 120
        }
      ]
    },
    {
      "cell_type": "code",
      "metadata": {
        "id": "aRL_ITLdTWOM",
        "colab_type": "code",
        "colab": {}
      },
      "source": [
        ""
      ],
      "execution_count": 0,
      "outputs": []
    },
    {
      "cell_type": "code",
      "metadata": {
        "id": "IJVDBp-DSObU",
        "colab_type": "code",
        "outputId": "4d30c4cd-7e4c-418a-bf77-a704f79df74f",
        "colab": {
          "base_uri": "https://localhost:8080/",
          "height": 54
        }
      },
      "source": [
        "print (data.shape)\n",
        "data.drop_duplicates(inplace=True)\n",
        "print (data.shape)"
      ],
      "execution_count": 0,
      "outputs": [
        {
          "output_type": "stream",
          "text": [
            "(104459, 18)\n",
            "(104459, 18)\n"
          ],
          "name": "stdout"
        }
      ]
    },
    {
      "cell_type": "code",
      "metadata": {
        "id": "T58XuvXvwhbZ",
        "colab_type": "code",
        "colab": {}
      },
      "source": [
        "data[\"side_difference_temp\"]=data[\"s_temp_mean\"]-data[\"d_temp_mean\"]\n",
        "data[\"side_difference_pressure\"]=data[\"s_pressure_mean\"]-data[\"d_pressure_mean\"]\n",
        "data[\"suction_difference\"]=data[\"s_temp_mean\"]-data[\"s_pressure_mean\"]\n",
        "data[\"discharge_difference\"]=data[\"d_temp_mean\"]-data[\"d_pressure_mean\"]                                                                            "
      ],
      "execution_count": 0,
      "outputs": []
    },
    {
      "cell_type": "code",
      "metadata": {
        "id": "6IGZhRyT1aKA",
        "colab_type": "code",
        "outputId": "eff81a44-95c6-4c7f-a11e-a0f7df3274b8",
        "colab": {
          "base_uri": "https://localhost:8080/",
          "height": 146
        }
      },
      "source": [
        "data.columns"
      ],
      "execution_count": 0,
      "outputs": [
        {
          "output_type": "execute_result",
          "data": {
            "text/plain": [
              "Index(['Unnamed: 0', 'Unnamed: 0.1', 'Unnamed: 0.1.1', 'time', 'cyl',\n",
              "       's_temp_crank', 'd_temp_crank', 's_pressure_crank', 'd_pressure_crank',\n",
              "       'rpm_crank', 's_temp_mean', 'd_temp_mean', 's_pressure_mean',\n",
              "       'd_pressure_mean', 'rpm_mean', 'Asset', 'multi_class', 'Binary',\n",
              "       'side_difference_temp', 'side_difference_pressure',\n",
              "       'suction_difference', 'discharge_difference'],\n",
              "      dtype='object')"
            ]
          },
          "metadata": {
            "tags": []
          },
          "execution_count": 123
        }
      ]
    },
    {
      "cell_type": "code",
      "metadata": {
        "id": "fADMEeL11EF9",
        "colab_type": "code",
        "outputId": "d423411b-4ba6-4340-c160-34cf2bb20342",
        "colab": {
          "base_uri": "https://localhost:8080/",
          "height": 35
        }
      },
      "source": [
        "data.drop(labels=['Unnamed: 0.1.1','Unnamed: 0', 'Unnamed: 0.1','cyl', 's_temp_crank','time',\n",
        "       'd_temp_crank', 's_pressure_crank', 'd_pressure_crank', 'rpm_crank','rpm_mean', 'Asset', 'multi_class'],axis=1,inplace=True)\n",
        "data.shape"
      ],
      "execution_count": 0,
      "outputs": [
        {
          "output_type": "execute_result",
          "data": {
            "text/plain": [
              "(104459, 9)"
            ]
          },
          "metadata": {
            "tags": []
          },
          "execution_count": 124
        }
      ]
    },
    {
      "cell_type": "code",
      "metadata": {
        "id": "-gzu7I3UT3p4",
        "colab_type": "code",
        "outputId": "a5526ef7-3cd9-4968-df25-38de2fd7676d",
        "colab": {
          "base_uri": "https://localhost:8080/",
          "height": 90
        }
      },
      "source": [
        "data.columns"
      ],
      "execution_count": 0,
      "outputs": [
        {
          "output_type": "execute_result",
          "data": {
            "text/plain": [
              "Index(['s_temp_mean', 'd_temp_mean', 's_pressure_mean', 'd_pressure_mean',\n",
              "       'Binary', 'side_difference_temp', 'side_difference_pressure',\n",
              "       'suction_difference', 'discharge_difference'],\n",
              "      dtype='object')"
            ]
          },
          "metadata": {
            "tags": []
          },
          "execution_count": 125
        }
      ]
    },
    {
      "cell_type": "code",
      "metadata": {
        "id": "Okmnp4C21kt2",
        "colab_type": "code",
        "outputId": "13333932-3842-4ad2-e36c-e7cac600311c",
        "colab": {
          "base_uri": "https://localhost:8080/",
          "height": 164
        }
      },
      "source": [
        "x=data.copy()\n",
        "x.drop(labels=[\"Binary\"],axis=1,inplace=True)\n",
        "y=data[\"Binary\"]\n",
        "\n",
        "\n",
        "#lets do train_test split\n",
        "\n",
        "x_train,x_test,y_train,y_test=train_test_split(x,y,test_size=0.20,random_state=40)\n",
        "print (x_train.shape)\n",
        "print (x_train.columns)\n",
        "print (y_train.shape)\n",
        "print (x_test.shape)\n",
        "print (y_test.shape)\n"
      ],
      "execution_count": 0,
      "outputs": [
        {
          "output_type": "stream",
          "text": [
            "(83567, 8)\n",
            "Index(['s_temp_mean', 'd_temp_mean', 's_pressure_mean', 'd_pressure_mean',\n",
            "       'side_difference_temp', 'side_difference_pressure',\n",
            "       'suction_difference', 'discharge_difference'],\n",
            "      dtype='object')\n",
            "(83567,)\n",
            "(20892, 8)\n",
            "(20892,)\n"
          ],
          "name": "stdout"
        }
      ]
    },
    {
      "cell_type": "code",
      "metadata": {
        "id": "gbJ6mJ8ybZO9",
        "colab_type": "code",
        "outputId": "aed43f99-98d1-4464-8795-0462484c1d0f",
        "colab": {
          "base_uri": "https://localhost:8080/",
          "height": 54
        }
      },
      "source": [
        "from sklearn import preprocessing\n",
        "min_max_scaler = preprocessing.MinMaxScaler()\n",
        "min_max_scaler.fit(x_train)\n",
        "x_train=min_max_scaler.transform(x_train)\n",
        "x_test=min_max_scaler.transform(x_test)\n",
        "print (x_train.shape)\n",
        "print (x_test.shape)"
      ],
      "execution_count": 0,
      "outputs": [
        {
          "output_type": "stream",
          "text": [
            "(83567, 8)\n",
            "(20892, 8)\n"
          ],
          "name": "stdout"
        }
      ]
    },
    {
      "cell_type": "code",
      "metadata": {
        "id": "3YA2mlKzGHns",
        "colab_type": "code",
        "colab": {}
      },
      "source": [
        "\n",
        "def perform_model(X_train,y_train,X_test,y_test,model):\n",
        "    results=dict()\n",
        "    \n",
        "    #time at which model starts a training phase\n",
        "    start_time=datetime.now()\n",
        "    model.fit(X_train,y_train)\n",
        "    end_time=datetime.now()\n",
        "    training_time=end_time-start_time\n",
        "    \n",
        "    print('\\n\\n')\n",
        "    print (\"model has been trained and it has taken {} time\".format(training_time))\n",
        "    \n",
        "    print (\"results for trained model are below:\")\n",
        "    \n",
        "    y_pred=model.predict(X_test)\n",
        "    \n",
        "    \n",
        "    #Grid search result:\\\n",
        "    print('--------------------------')\n",
        "    print('|     Best parameters     |')\n",
        "    print('--------------------------')\n",
        "    print('\\tParameters of best estimator : \\n\\n\\t{}\\n'.format(model.best_params_))\n",
        "\n",
        "    \n",
        "    accuracy=accuracy_score(y_test, y_pred)\n",
        "    print('---------------------')                                          \n",
        "    print('Accuracy : {}'.format(accuracy))\n",
        "    print('---------------------')\n",
        "    print('\\n\\n')\n",
        "          \n",
        "    \n",
        "    cm=confusion_matrix(y_test,y_pred)\n",
        "    print('---------------------')\n",
        "    print (\"Confusion Matrix : \\n {}\".format(cm))\n",
        "    print('---------------------')\n",
        "    print('\\n\\n')\n",
        "    \n",
        "    \n",
        "    cr = classification_report(y_test, y_pred)\n",
        "    print('---------------------')\n",
        "    print (\"classification_report :\")\n",
        "    print('\\n')\n",
        "    print (cr)\n",
        "    print('---------------------')\n",
        "   \n",
        "    \n",
        "    results[\"accuracy\"]=accuracy\n",
        "    #results[\"fi\"]=model.best_estimator_.feature_importances_ \n",
        "    \n",
        "    return results,model\n",
        "    "
      ],
      "execution_count": 0,
      "outputs": []
    },
    {
      "cell_type": "code",
      "metadata": {
        "id": "PskJ-V74Gqy2",
        "colab_type": "code",
        "outputId": "45425e06-c4ac-4a10-ba0d-6346b74e4984",
        "colab": {
          "base_uri": "https://localhost:8080/",
          "height": 752
        }
      },
      "source": [
        "param_grid = {'learning_rate': [0.01,0.001,0.0001,0.1], 'max_depth':[5,10,15], 'n_estimators': [100,200,300]}\n",
        "gbdt =xgb.XGBClassifier()\n",
        "gbdt_grid = GridSearchCV(gbdt, param_grid=param_grid, n_jobs=-1)\n",
        "gbdt_grid_results,model = perform_model( x_train, y_train, x_test, y_test, model=gbdt_grid)"
      ],
      "execution_count": 0,
      "outputs": [
        {
          "output_type": "stream",
          "text": [
            "\n",
            "\n",
            "\n",
            "model has been trained and it has taken 1:32:28.095214 time\n",
            "results for trained model are below:\n",
            "--------------------------\n",
            "|     Best parameters     |\n",
            "--------------------------\n",
            "\tParameters of best estimator : \n",
            "\n",
            "\t{'learning_rate': 0.1, 'max_depth': 15, 'n_estimators': 100}\n",
            "\n",
            "---------------------\n",
            "Accuracy : 0.8883783266322037\n",
            "---------------------\n",
            "\n",
            "\n",
            "\n",
            "---------------------\n",
            "Confusion Matrix : \n",
            " [[12984   694]\n",
            " [ 1638  5576]]\n",
            "---------------------\n",
            "\n",
            "\n",
            "\n",
            "---------------------\n",
            "classification_report :\n",
            "\n",
            "\n",
            "              precision    recall  f1-score   support\n",
            "\n",
            "         0.0       0.89      0.95      0.92     13678\n",
            "         1.0       0.89      0.77      0.83      7214\n",
            "\n",
            "    accuracy                           0.89     20892\n",
            "   macro avg       0.89      0.86      0.87     20892\n",
            "weighted avg       0.89      0.89      0.89     20892\n",
            "\n",
            "---------------------\n"
          ],
          "name": "stdout"
        }
      ]
    },
    {
      "cell_type": "code",
      "metadata": {
        "id": "hqnXBFykPIKJ",
        "colab_type": "code",
        "colab": {}
      },
      "source": [
        "import pickle\n",
        "with open(r\"/root/Grad_boost.pickle\", \"wb\") as output_file:\n",
        "  pickle.dump(model, output_file)\n",
        "with open(r\"/root/Grad_boost.pickle\", \"rb\") as input_file:\n",
        "  e = pickle.load(input_file)\n"
      ],
      "execution_count": 0,
      "outputs": []
    },
    {
      "cell_type": "code",
      "metadata": {
        "id": "N4dW-wDoH-OH",
        "colab_type": "code",
        "outputId": "5bb5e890-b762-4daa-d681-b358cb961887",
        "colab": {
          "base_uri": "https://localhost:8080/",
          "height": 396
        }
      },
      "source": [
        "index=['s_temp_mean', 'd_temp_mean', 's_pressure_mean', 'd_pressure_mean',\n",
        "       'side_difference_temp', 'side_difference_pressure',\n",
        "       'suction_difference', 'discharge_difference']\n",
        "\n",
        "imp_feat_xgb=pd.Series(model.best_estimator_.feature_importances_, index=index).sort_values(ascending=False)\n",
        "imp_feat_xgb.plot(kind='bar',title='Important features as per XGBoost', figsize=(6,4))\n",
        "plt.ylabel('Feature Importance Score')\n",
        "plt.show()"
      ],
      "execution_count": 0,
      "outputs": [
        {
          "output_type": "display_data",
          "data": {
            "image/png": "[encoded data removed]",
            "text/plain": [
              "<Figure size 432x288 with 1 Axes>"
            ]
          },
          "metadata": {
            "tags": [],
            "needs_background": "light"
          }
        }
      ]
    },
    {
      "cell_type": "code",
      "metadata": {
        "id": "X7qL29Ws7qXs",
        "colab_type": "code",
        "colab": {}
      },
      "source": [
        "\n",
        "param={\"max_depth\": [1,5,10,15,20],\n",
        "              \"max_features\": [1, 3, 10],\n",
        "              \"min_samples_split\": [1, 3, 10],\n",
        "              \"min_samples_leaf\": [1, 3, 10],\n",
        "              # \"bootstrap\": [True, False],\n",
        "              \"criterion\": [\"gini\", \"entropy\"]}\n",
        "Rf=RandomForestClassifier(class_weight=\"balanced\")\n",
        "Rf_grid = GridSearchCV(Rf, param_grid=param, n_jobs=-1)\n",
        "Rf_grid_results,model = perform_model( x_train, y_train, x_test, y_test, model=Rf_grid)"
      ],
      "execution_count": 0,
      "outputs": []
    },
    {
      "cell_type": "code",
      "metadata": {
        "id": "u6_UC8XQGtPG",
        "colab_type": "code",
        "outputId": "2b1f6bad-8a0b-4d59-ad15-caa1f338ad4f",
        "colab": {
          "base_uri": "https://localhost:8080/",
          "height": 766
        }
      },
      "source": [
        "parameters = {'max_depth':np.arange(3,20,2)}\n",
        "dt = DecisionTreeClassifier(class_weight=\"balanced\")\n",
        "dt_grid = GridSearchCV(dt,param_grid=parameters, n_jobs=-1)\n",
        "dt_grid_results,model_2= perform_model(x_train, y_train, x_test, y_test, model=dt_grid)"
      ],
      "execution_count": 0,
      "outputs": [
        {
          "output_type": "stream",
          "text": [
            "\n",
            "\n",
            "\n",
            "model has been trained and it has taken 0:00:27.834167 time\n",
            "results for trained model are below:\n",
            "--------------------------\n",
            "|     Best parameters     |\n",
            "--------------------------\n",
            "\tParameters of best estimator : \n",
            "\n",
            "\t{'max_depth': 15}\n",
            "\n",
            "---------------------\n",
            "Accuracy : 0.8527666092284127\n",
            "---------------------\n",
            "\n",
            "\n",
            "\n",
            "---------------------\n",
            "Confusion Matrix : \n",
            " [[12071  1834]\n",
            " [ 1242  5745]]\n",
            "---------------------\n",
            "\n",
            "\n",
            "\n",
            "---------------------\n",
            "classification_report :\n",
            "\n",
            "\n",
            "              precision    recall  f1-score   support\n",
            "\n",
            "           0       0.91      0.87      0.89     13905\n",
            "           1       0.76      0.82      0.79      6987\n",
            "\n",
            "    accuracy                           0.85     20892\n",
            "   macro avg       0.83      0.85      0.84     20892\n",
            "weighted avg       0.86      0.85      0.85     20892\n",
            "\n",
            "---------------------\n"
          ],
          "name": "stdout"
        }
      ]
    },
    {
      "cell_type": "code",
      "metadata": {
        "id": "yfJH5GIbcMbB",
        "colab_type": "code",
        "outputId": "4afe98c1-6dda-42dc-eafc-14247fcd04dd",
        "colab": {
          "base_uri": "https://localhost:8080/",
          "height": 129
        }
      },
      "source": [
        "model_2.best_estimator_"
      ],
      "execution_count": 0,
      "outputs": [
        {
          "output_type": "execute_result",
          "data": {
            "text/plain": [
              "DecisionTreeClassifier(ccp_alpha=0.0, class_weight='balanced', criterion='gini',\n",
              "                       max_depth=15, max_features=None, max_leaf_nodes=None,\n",
              "                       min_impurity_decrease=0.0, min_impurity_split=None,\n",
              "                       min_samples_leaf=1, min_samples_split=2,\n",
              "                       min_weight_fraction_leaf=0.0, presort='deprecated',\n",
              "                       random_state=None, splitter='best')"
            ]
          },
          "metadata": {
            "tags": []
          },
          "execution_count": 231
        }
      ]
    },
    {
      "cell_type": "code",
      "metadata": {
        "id": "8-jUWR0KG1tB",
        "colab_type": "code",
        "outputId": "a28467b6-65ec-49c2-e4a3-0823606c4db4",
        "colab": {
          "base_uri": "https://localhost:8080/",
          "height": 823
        }
      },
      "source": [
        "#LogisticRegression\n",
        "parameters = {'C':[0.001,0.0001,0.01, 0.1, 1, 2], 'penalty':['l2',\"l1\"]}\n",
        "log_reg =LogisticRegression(class_weight=\"balanced\")\n",
        "log_reg_grid = GridSearchCV(log_reg, param_grid=parameters, cv=3, verbose=1, n_jobs=-1)\n",
        "log_reg_grid_results,model_3=  perform_model(x_train, y_train, x_test, y_test,model=log_reg_grid)"
      ],
      "execution_count": 0,
      "outputs": [
        {
          "output_type": "stream",
          "text": [
            "Fitting 3 folds for each of 12 candidates, totalling 36 fits\n"
          ],
          "name": "stdout"
        },
        {
          "output_type": "stream",
          "text": [
            "[Parallel(n_jobs=-1)]: Using backend LokyBackend with 2 concurrent workers.\n",
            "[Parallel(n_jobs=-1)]: Done  36 out of  36 | elapsed:    2.9s finished\n"
          ],
          "name": "stderr"
        },
        {
          "output_type": "stream",
          "text": [
            "\n",
            "\n",
            "\n",
            "model has been trained and it has taken 0:00:03.300482 time\n",
            "results for trained model are below:\n",
            "--------------------------\n",
            "|     Best parameters     |\n",
            "--------------------------\n",
            "\tParameters of best estimator : \n",
            "\n",
            "\t{'C': 0.01, 'penalty': 'l2'}\n",
            "\n",
            "---------------------\n",
            "Accuracy : 0.6051598698066245\n",
            "---------------------\n",
            "\n",
            "\n",
            "\n",
            "---------------------\n",
            "Confusion Matrix : \n",
            " [[9805 4100]\n",
            " [4149 2838]]\n",
            "---------------------\n",
            "\n",
            "\n",
            "\n",
            "---------------------\n",
            "classification_report :\n",
            "\n",
            "\n",
            "              precision    recall  f1-score   support\n",
            "\n",
            "           0       0.70      0.71      0.70     13905\n",
            "           1       0.41      0.41      0.41      6987\n",
            "\n",
            "    accuracy                           0.61     20892\n",
            "   macro avg       0.56      0.56      0.56     20892\n",
            "weighted avg       0.60      0.61      0.60     20892\n",
            "\n",
            "---------------------\n"
          ],
          "name": "stdout"
        }
      ]
    },
    {
      "cell_type": "code",
      "metadata": {
        "id": "8ObyOAh20FaS",
        "colab_type": "code",
        "outputId": "01f261d9-172e-47cc-eab5-01aced06aa67",
        "colab": {
          "base_uri": "https://localhost:8080/",
          "height": 111
        }
      },
      "source": [
        "model_3.best_estimator_"
      ],
      "execution_count": 0,
      "outputs": [
        {
          "output_type": "execute_result",
          "data": {
            "text/plain": [
              "LogisticRegression(C=0.01, class_weight='balanced', dual=False,\n",
              "                   fit_intercept=True, intercept_scaling=1, l1_ratio=None,\n",
              "                   max_iter=100, multi_class='auto', n_jobs=None, penalty='l2',\n",
              "                   random_state=None, solver='lbfgs', tol=0.0001, verbose=0,\n",
              "                   warm_start=False)"
            ]
          },
          "metadata": {
            "tags": []
          },
          "execution_count": 233
        }
      ]
    },
    {
      "cell_type": "code",
      "metadata": {
        "id": "b4BckJG1b3vc",
        "colab_type": "code",
        "colab": {}
      },
      "source": [
        ""
      ],
      "execution_count": 0,
      "outputs": []
    }
  ]
}