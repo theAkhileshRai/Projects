{
  "nbformat": 4,
  "nbformat_minor": 0,
  "metadata": {
    "colab": {
      "name": "TestPred-Leak-Pred-DNN 01.ipynb",
      "provenance": [],
      "collapsed_sections": [],
      "toc_visible": true,
      "authorship_tag": "ABX9TyOH0uKn/sdTzu/v1CHDvZgG",
      "include_colab_link": true
    },
    "kernelspec": {
      "name": "python3",
      "display_name": "Python 3"
    },
    "accelerator": "GPU"
  },
  "cells": [
    {
      "cell_type": "markdown",
      "metadata": {
        "id": "view-in-github",
        "colab_type": "text"
      },
      "source": [
        "<a href=\"https://colab.research.google.com/github/theAkhileshRai/Projects/blob/master/TestPred_Leak_Pred_DNN_01.ipynb\" target=\"_parent\"><img src=\"https://colab.research.google.com/assets/colab-badge.svg\" alt=\"Open In Colab\"/></a>"
      ]
    },
    {
      "cell_type": "code",
      "metadata": {
        "id": "P10uROM_sbU3",
        "colab_type": "code",
        "colab": {}
      },
      "source": [
        "\n",
        "import numpy as np\n",
        "import pandas as pd\n",
        "import matplotlib.pyplot as plt\n",
        "import sklearn\n",
        "\n",
        "from numpy import loadtxt\n",
        "from sklearn.model_selection import train_test_split\n",
        "from sklearn.metrics import accuracy_score\n",
        "from sklearn.preprocessing import StandardScaler,OneHotEncoder    \n",
        "\n",
        "\n",
        "from sklearn.metrics import confusion_matrix, classification_report\n",
        "\n",
        "from keras.utils import to_categorical\n",
        "\n",
        "import torch\n",
        "import torch.nn as nn\n",
        "import torch.optim as optim\n",
        "from torch.utils.data import Dataset, DataLoader\n",
        "from torch.nn.init import kaiming_uniform_\n",
        "from torch.nn.init import xavier_uniform_\n",
        "\n",
        "from sklearn.preprocessing import StandardScaler"
      ],
      "execution_count": 1,
      "outputs": []
    },
    {
      "cell_type": "code",
      "metadata": {
        "id": "Ydjz7mefTMRI",
        "colab_type": "code",
        "colab": {}
      },
      "source": [
        "df = pd.read_csv('/content/New_Normalised_skmin_max.csv',index_col=False)"
      ],
      "execution_count": 3,
      "outputs": []
    },
    {
      "cell_type": "code",
      "metadata": {
        "id": "KsBOls6CUOQc",
        "colab_type": "code",
        "colab": {
          "base_uri": "https://localhost:8080/",
          "height": 411
        },
        "outputId": "913dcc17-739b-4a83-e47f-e632702e2340"
      },
      "source": [
        "df.head()"
      ],
      "execution_count": 4,
      "outputs": [
        {
          "output_type": "execute_result",
          "data": {
            "text/html": [
              "<div>\n",
              "<style scoped>\n",
              "    .dataframe tbody tr th:only-of-type {\n",
              "        vertical-align: middle;\n",
              "    }\n",
              "\n",
              "    .dataframe tbody tr th {\n",
              "        vertical-align: top;\n",
              "    }\n",
              "\n",
              "    .dataframe thead th {\n",
              "        text-align: right;\n",
              "    }\n",
              "</style>\n",
              "<table border=\"1\" class=\"dataframe\">\n",
              "  <thead>\n",
              "    <tr style=\"text-align: right;\">\n",
              "      <th></th>\n",
              "      <th>Unnamed: 0</th>\n",
              "      <th>Unnamed: 0.1</th>\n",
              "      <th>Unnamed: 0.1.1</th>\n",
              "      <th>time</th>\n",
              "      <th>cyl</th>\n",
              "      <th>s_temp_crank</th>\n",
              "      <th>d_temp_crank</th>\n",
              "      <th>s_pressure_crank</th>\n",
              "      <th>d_pressure_crank</th>\n",
              "      <th>rpm_crank</th>\n",
              "      <th>s_temp_mean</th>\n",
              "      <th>d_temp_mean</th>\n",
              "      <th>s_pressure_mean</th>\n",
              "      <th>d_pressure_mean</th>\n",
              "      <th>rpm_mean</th>\n",
              "      <th>Asset</th>\n",
              "      <th>Binary</th>\n",
              "    </tr>\n",
              "  </thead>\n",
              "  <tbody>\n",
              "    <tr>\n",
              "      <th>0</th>\n",
              "      <td>0</td>\n",
              "      <td>108025</td>\n",
              "      <td>9783</td>\n",
              "      <td>2019-02-27 14:30:00</td>\n",
              "      <td>2.0</td>\n",
              "      <td>0.166421</td>\n",
              "      <td>0.589277</td>\n",
              "      <td>0.714105</td>\n",
              "      <td>0.795629</td>\n",
              "      <td>0.230168</td>\n",
              "      <td>0.166421</td>\n",
              "      <td>0.343941</td>\n",
              "      <td>0.797193</td>\n",
              "      <td>0.609704</td>\n",
              "      <td>0.230168</td>\n",
              "      <td>Saltlake_K71010B</td>\n",
              "      <td>1.0</td>\n",
              "    </tr>\n",
              "    <tr>\n",
              "      <th>1</th>\n",
              "      <td>1</td>\n",
              "      <td>108026</td>\n",
              "      <td>9784</td>\n",
              "      <td>2019-02-27 15:30:00</td>\n",
              "      <td>2.0</td>\n",
              "      <td>0.169243</td>\n",
              "      <td>0.591297</td>\n",
              "      <td>0.711149</td>\n",
              "      <td>0.793577</td>\n",
              "      <td>0.248063</td>\n",
              "      <td>0.169243</td>\n",
              "      <td>0.345498</td>\n",
              "      <td>0.795464</td>\n",
              "      <td>0.608471</td>\n",
              "      <td>0.248063</td>\n",
              "      <td>Saltlake_K71010B</td>\n",
              "      <td>1.0</td>\n",
              "    </tr>\n",
              "    <tr>\n",
              "      <th>2</th>\n",
              "      <td>2</td>\n",
              "      <td>108027</td>\n",
              "      <td>9785</td>\n",
              "      <td>2019-02-27 16:30:00</td>\n",
              "      <td>2.0</td>\n",
              "      <td>0.178583</td>\n",
              "      <td>0.596431</td>\n",
              "      <td>0.708357</td>\n",
              "      <td>0.791206</td>\n",
              "      <td>0.263139</td>\n",
              "      <td>0.178583</td>\n",
              "      <td>0.350036</td>\n",
              "      <td>0.794214</td>\n",
              "      <td>0.607237</td>\n",
              "      <td>0.263139</td>\n",
              "      <td>Saltlake_K71010B</td>\n",
              "      <td>1.0</td>\n",
              "    </tr>\n",
              "    <tr>\n",
              "      <th>3</th>\n",
              "      <td>3</td>\n",
              "      <td>108028</td>\n",
              "      <td>9786</td>\n",
              "      <td>2019-02-27 17:30:00</td>\n",
              "      <td>2.0</td>\n",
              "      <td>0.184180</td>\n",
              "      <td>0.602012</td>\n",
              "      <td>0.698249</td>\n",
              "      <td>0.785171</td>\n",
              "      <td>0.308088</td>\n",
              "      <td>0.184180</td>\n",
              "      <td>0.354039</td>\n",
              "      <td>0.787344</td>\n",
              "      <td>0.603296</td>\n",
              "      <td>0.308088</td>\n",
              "      <td>Saltlake_K71010B</td>\n",
              "      <td>1.0</td>\n",
              "    </tr>\n",
              "    <tr>\n",
              "      <th>4</th>\n",
              "      <td>4</td>\n",
              "      <td>108029</td>\n",
              "      <td>9787</td>\n",
              "      <td>2019-02-27 18:30:00</td>\n",
              "      <td>2.0</td>\n",
              "      <td>0.179204</td>\n",
              "      <td>0.574376</td>\n",
              "      <td>0.754675</td>\n",
              "      <td>0.802939</td>\n",
              "      <td>0.284134</td>\n",
              "      <td>0.179204</td>\n",
              "      <td>0.338874</td>\n",
              "      <td>0.844417</td>\n",
              "      <td>0.625370</td>\n",
              "      <td>0.284134</td>\n",
              "      <td>Saltlake_K71010B</td>\n",
              "      <td>1.0</td>\n",
              "    </tr>\n",
              "  </tbody>\n",
              "</table>\n",
              "</div>"
            ],
            "text/plain": [
              "   Unnamed: 0  Unnamed: 0.1  Unnamed: 0.1.1  ...  rpm_mean             Asset  Binary\n",
              "0           0        108025            9783  ...  0.230168  Saltlake_K71010B     1.0\n",
              "1           1        108026            9784  ...  0.248063  Saltlake_K71010B     1.0\n",
              "2           2        108027            9785  ...  0.263139  Saltlake_K71010B     1.0\n",
              "3           3        108028            9786  ...  0.308088  Saltlake_K71010B     1.0\n",
              "4           4        108029            9787  ...  0.284134  Saltlake_K71010B     1.0\n",
              "\n",
              "[5 rows x 17 columns]"
            ]
          },
          "metadata": {
            "tags": []
          },
          "execution_count": 4
        }
      ]
    },
    {
      "cell_type": "code",
      "metadata": {
        "id": "A8f00GmlHbTl",
        "colab_type": "code",
        "colab": {}
      },
      "source": [
        "# df['s_temp_mean*s_pressure_mean'] = df['s_pressure_mean']*df['s_temp_mean']\n",
        "# df['d_temp_mean*d_pressure_mean'] = df['d_pressure_mean']*df['d_temp_mean']"
      ],
      "execution_count": null,
      "outputs": []
    },
    {
      "cell_type": "code",
      "metadata": {
        "id": "L1A3Lls5m1J_",
        "colab_type": "code",
        "colab": {}
      },
      "source": [
        "# df['s_temp_crank*s_pressure_crank'] = df['s_temp_crank']*df['s_pressure_crank']\n",
        "# df['d_temp_crank*d_pressure_crank'] = df['d_pressure_crank']*df['d_temp_crank']"
      ],
      "execution_count": null,
      "outputs": []
    },
    {
      "cell_type": "code",
      "metadata": {
        "id": "_zpttuH-LUhO",
        "colab_type": "code",
        "colab": {
          "base_uri": "https://localhost:8080/",
          "height": 411
        },
        "outputId": "4bed9865-6a2b-40e4-a191-fa229d94905f"
      },
      "source": [
        "df.head()"
      ],
      "execution_count": 5,
      "outputs": [
        {
          "output_type": "execute_result",
          "data": {
            "text/html": [
              "<div>\n",
              "<style scoped>\n",
              "    .dataframe tbody tr th:only-of-type {\n",
              "        vertical-align: middle;\n",
              "    }\n",
              "\n",
              "    .dataframe tbody tr th {\n",
              "        vertical-align: top;\n",
              "    }\n",
              "\n",
              "    .dataframe thead th {\n",
              "        text-align: right;\n",
              "    }\n",
              "</style>\n",
              "<table border=\"1\" class=\"dataframe\">\n",
              "  <thead>\n",
              "    <tr style=\"text-align: right;\">\n",
              "      <th></th>\n",
              "      <th>Unnamed: 0</th>\n",
              "      <th>Unnamed: 0.1</th>\n",
              "      <th>Unnamed: 0.1.1</th>\n",
              "      <th>time</th>\n",
              "      <th>cyl</th>\n",
              "      <th>s_temp_crank</th>\n",
              "      <th>d_temp_crank</th>\n",
              "      <th>s_pressure_crank</th>\n",
              "      <th>d_pressure_crank</th>\n",
              "      <th>rpm_crank</th>\n",
              "      <th>s_temp_mean</th>\n",
              "      <th>d_temp_mean</th>\n",
              "      <th>s_pressure_mean</th>\n",
              "      <th>d_pressure_mean</th>\n",
              "      <th>rpm_mean</th>\n",
              "      <th>Asset</th>\n",
              "      <th>Binary</th>\n",
              "    </tr>\n",
              "  </thead>\n",
              "  <tbody>\n",
              "    <tr>\n",
              "      <th>0</th>\n",
              "      <td>0</td>\n",
              "      <td>108025</td>\n",
              "      <td>9783</td>\n",
              "      <td>2019-02-27 14:30:00</td>\n",
              "      <td>2.0</td>\n",
              "      <td>0.166421</td>\n",
              "      <td>0.589277</td>\n",
              "      <td>0.714105</td>\n",
              "      <td>0.795629</td>\n",
              "      <td>0.230168</td>\n",
              "      <td>0.166421</td>\n",
              "      <td>0.343941</td>\n",
              "      <td>0.797193</td>\n",
              "      <td>0.609704</td>\n",
              "      <td>0.230168</td>\n",
              "      <td>Saltlake_K71010B</td>\n",
              "      <td>1.0</td>\n",
              "    </tr>\n",
              "    <tr>\n",
              "      <th>1</th>\n",
              "      <td>1</td>\n",
              "      <td>108026</td>\n",
              "      <td>9784</td>\n",
              "      <td>2019-02-27 15:30:00</td>\n",
              "      <td>2.0</td>\n",
              "      <td>0.169243</td>\n",
              "      <td>0.591297</td>\n",
              "      <td>0.711149</td>\n",
              "      <td>0.793577</td>\n",
              "      <td>0.248063</td>\n",
              "      <td>0.169243</td>\n",
              "      <td>0.345498</td>\n",
              "      <td>0.795464</td>\n",
              "      <td>0.608471</td>\n",
              "      <td>0.248063</td>\n",
              "      <td>Saltlake_K71010B</td>\n",
              "      <td>1.0</td>\n",
              "    </tr>\n",
              "    <tr>\n",
              "      <th>2</th>\n",
              "      <td>2</td>\n",
              "      <td>108027</td>\n",
              "      <td>9785</td>\n",
              "      <td>2019-02-27 16:30:00</td>\n",
              "      <td>2.0</td>\n",
              "      <td>0.178583</td>\n",
              "      <td>0.596431</td>\n",
              "      <td>0.708357</td>\n",
              "      <td>0.791206</td>\n",
              "      <td>0.263139</td>\n",
              "      <td>0.178583</td>\n",
              "      <td>0.350036</td>\n",
              "      <td>0.794214</td>\n",
              "      <td>0.607237</td>\n",
              "      <td>0.263139</td>\n",
              "      <td>Saltlake_K71010B</td>\n",
              "      <td>1.0</td>\n",
              "    </tr>\n",
              "    <tr>\n",
              "      <th>3</th>\n",
              "      <td>3</td>\n",
              "      <td>108028</td>\n",
              "      <td>9786</td>\n",
              "      <td>2019-02-27 17:30:00</td>\n",
              "      <td>2.0</td>\n",
              "      <td>0.184180</td>\n",
              "      <td>0.602012</td>\n",
              "      <td>0.698249</td>\n",
              "      <td>0.785171</td>\n",
              "      <td>0.308088</td>\n",
              "      <td>0.184180</td>\n",
              "      <td>0.354039</td>\n",
              "      <td>0.787344</td>\n",
              "      <td>0.603296</td>\n",
              "      <td>0.308088</td>\n",
              "      <td>Saltlake_K71010B</td>\n",
              "      <td>1.0</td>\n",
              "    </tr>\n",
              "    <tr>\n",
              "      <th>4</th>\n",
              "      <td>4</td>\n",
              "      <td>108029</td>\n",
              "      <td>9787</td>\n",
              "      <td>2019-02-27 18:30:00</td>\n",
              "      <td>2.0</td>\n",
              "      <td>0.179204</td>\n",
              "      <td>0.574376</td>\n",
              "      <td>0.754675</td>\n",
              "      <td>0.802939</td>\n",
              "      <td>0.284134</td>\n",
              "      <td>0.179204</td>\n",
              "      <td>0.338874</td>\n",
              "      <td>0.844417</td>\n",
              "      <td>0.625370</td>\n",
              "      <td>0.284134</td>\n",
              "      <td>Saltlake_K71010B</td>\n",
              "      <td>1.0</td>\n",
              "    </tr>\n",
              "  </tbody>\n",
              "</table>\n",
              "</div>"
            ],
            "text/plain": [
              "   Unnamed: 0  Unnamed: 0.1  Unnamed: 0.1.1  ...  rpm_mean             Asset  Binary\n",
              "0           0        108025            9783  ...  0.230168  Saltlake_K71010B     1.0\n",
              "1           1        108026            9784  ...  0.248063  Saltlake_K71010B     1.0\n",
              "2           2        108027            9785  ...  0.263139  Saltlake_K71010B     1.0\n",
              "3           3        108028            9786  ...  0.308088  Saltlake_K71010B     1.0\n",
              "4           4        108029            9787  ...  0.284134  Saltlake_K71010B     1.0\n",
              "\n",
              "[5 rows x 17 columns]"
            ]
          },
          "metadata": {
            "tags": []
          },
          "execution_count": 5
        }
      ]
    },
    {
      "cell_type": "code",
      "metadata": {
        "id": "7BW6XEV1sh09",
        "colab_type": "code",
        "colab": {}
      },
      "source": [
        "# df1 = pd.read_csv('/content/old_normalised_assets-2.csv',index_col=False)\n",
        "# df2 = pd.read_csv('/content/new_normalised_assets-2.csv',index_col=False)"
      ],
      "execution_count": null,
      "outputs": []
    },
    {
      "cell_type": "code",
      "metadata": {
        "id": "5MV3Kc15Tw9n",
        "colab_type": "code",
        "colab": {}
      },
      "source": [
        "# 'Clark county_6', 'RJ booster_1', 'Strawberry_3.csv'"
      ],
      "execution_count": null,
      "outputs": []
    },
    {
      "cell_type": "code",
      "metadata": {
        "id": "j78zQVikHMbk",
        "colab_type": "code",
        "colab": {
          "base_uri": "https://localhost:8080/",
          "height": 68
        },
        "outputId": "66f38a82-c7b9-4f95-c817-f9df5a5e7901"
      },
      "source": [
        "df['Asset'].unique()   "
      ],
      "execution_count": 6,
      "outputs": [
        {
          "output_type": "execute_result",
          "data": {
            "text/plain": [
              "array(['Saltlake_K71010B', 'Lightning_Unit4', 'Reagon_Unit3',\n",
              "       'West Turkey_Unit2', 'Strawberry_Unit1', 'Reagon_Unit6'],\n",
              "      dtype=object)"
            ]
          },
          "metadata": {
            "tags": []
          },
          "execution_count": 6
        }
      ]
    },
    {
      "cell_type": "code",
      "metadata": {
        "id": "UMiAXyBWLMvn",
        "colab_type": "code",
        "colab": {
          "base_uri": "https://localhost:8080/",
          "height": 34
        },
        "outputId": "9471e880-2f1c-4887-d6e2-6626d2462cbc"
      },
      "source": [
        "len(df['Asset'].unique() )"
      ],
      "execution_count": 7,
      "outputs": [
        {
          "output_type": "execute_result",
          "data": {
            "text/plain": [
              "6"
            ]
          },
          "metadata": {
            "tags": []
          },
          "execution_count": 7
        }
      ]
    },
    {
      "cell_type": "code",
      "metadata": {
        "id": "XaH8vslgJIzU",
        "colab_type": "code",
        "colab": {}
      },
      "source": [
        "# 'Clark county_6') | ('La Porte_K11A') |\\\n",
        "#              ('Strawberry_Unit1') | ('RJ booster_1') | ('El Dorado_Unit'"
      ],
      "execution_count": null,
      "outputs": []
    },
    {
      "cell_type": "code",
      "metadata": {
        "id": "nBrWvkAjwx6S",
        "colab_type": "code",
        "colab": {}
      },
      "source": [
        "df['Binary'] = df['Binary'].fillna(0)\n",
        "df = df.fillna(0)\n",
        "#df1['multi_class'] = df1['multi_class'].fillna(0)"
      ],
      "execution_count": 8,
      "outputs": []
    },
    {
      "cell_type": "code",
      "metadata": {
        "id": "G3TrxRtjxE3f",
        "colab_type": "code",
        "colab": {
          "base_uri": "https://localhost:8080/",
          "height": 411
        },
        "outputId": "97535778-0832-4c53-e8c5-c3024e325b11"
      },
      "source": [
        "df.head()"
      ],
      "execution_count": 9,
      "outputs": [
        {
          "output_type": "execute_result",
          "data": {
            "text/html": [
              "<div>\n",
              "<style scoped>\n",
              "    .dataframe tbody tr th:only-of-type {\n",
              "        vertical-align: middle;\n",
              "    }\n",
              "\n",
              "    .dataframe tbody tr th {\n",
              "        vertical-align: top;\n",
              "    }\n",
              "\n",
              "    .dataframe thead th {\n",
              "        text-align: right;\n",
              "    }\n",
              "</style>\n",
              "<table border=\"1\" class=\"dataframe\">\n",
              "  <thead>\n",
              "    <tr style=\"text-align: right;\">\n",
              "      <th></th>\n",
              "      <th>Unnamed: 0</th>\n",
              "      <th>Unnamed: 0.1</th>\n",
              "      <th>Unnamed: 0.1.1</th>\n",
              "      <th>time</th>\n",
              "      <th>cyl</th>\n",
              "      <th>s_temp_crank</th>\n",
              "      <th>d_temp_crank</th>\n",
              "      <th>s_pressure_crank</th>\n",
              "      <th>d_pressure_crank</th>\n",
              "      <th>rpm_crank</th>\n",
              "      <th>s_temp_mean</th>\n",
              "      <th>d_temp_mean</th>\n",
              "      <th>s_pressure_mean</th>\n",
              "      <th>d_pressure_mean</th>\n",
              "      <th>rpm_mean</th>\n",
              "      <th>Asset</th>\n",
              "      <th>Binary</th>\n",
              "    </tr>\n",
              "  </thead>\n",
              "  <tbody>\n",
              "    <tr>\n",
              "      <th>0</th>\n",
              "      <td>0</td>\n",
              "      <td>108025</td>\n",
              "      <td>9783</td>\n",
              "      <td>2019-02-27 14:30:00</td>\n",
              "      <td>2.0</td>\n",
              "      <td>0.166421</td>\n",
              "      <td>0.589277</td>\n",
              "      <td>0.714105</td>\n",
              "      <td>0.795629</td>\n",
              "      <td>0.230168</td>\n",
              "      <td>0.166421</td>\n",
              "      <td>0.343941</td>\n",
              "      <td>0.797193</td>\n",
              "      <td>0.609704</td>\n",
              "      <td>0.230168</td>\n",
              "      <td>Saltlake_K71010B</td>\n",
              "      <td>1.0</td>\n",
              "    </tr>\n",
              "    <tr>\n",
              "      <th>1</th>\n",
              "      <td>1</td>\n",
              "      <td>108026</td>\n",
              "      <td>9784</td>\n",
              "      <td>2019-02-27 15:30:00</td>\n",
              "      <td>2.0</td>\n",
              "      <td>0.169243</td>\n",
              "      <td>0.591297</td>\n",
              "      <td>0.711149</td>\n",
              "      <td>0.793577</td>\n",
              "      <td>0.248063</td>\n",
              "      <td>0.169243</td>\n",
              "      <td>0.345498</td>\n",
              "      <td>0.795464</td>\n",
              "      <td>0.608471</td>\n",
              "      <td>0.248063</td>\n",
              "      <td>Saltlake_K71010B</td>\n",
              "      <td>1.0</td>\n",
              "    </tr>\n",
              "    <tr>\n",
              "      <th>2</th>\n",
              "      <td>2</td>\n",
              "      <td>108027</td>\n",
              "      <td>9785</td>\n",
              "      <td>2019-02-27 16:30:00</td>\n",
              "      <td>2.0</td>\n",
              "      <td>0.178583</td>\n",
              "      <td>0.596431</td>\n",
              "      <td>0.708357</td>\n",
              "      <td>0.791206</td>\n",
              "      <td>0.263139</td>\n",
              "      <td>0.178583</td>\n",
              "      <td>0.350036</td>\n",
              "      <td>0.794214</td>\n",
              "      <td>0.607237</td>\n",
              "      <td>0.263139</td>\n",
              "      <td>Saltlake_K71010B</td>\n",
              "      <td>1.0</td>\n",
              "    </tr>\n",
              "    <tr>\n",
              "      <th>3</th>\n",
              "      <td>3</td>\n",
              "      <td>108028</td>\n",
              "      <td>9786</td>\n",
              "      <td>2019-02-27 17:30:00</td>\n",
              "      <td>2.0</td>\n",
              "      <td>0.184180</td>\n",
              "      <td>0.602012</td>\n",
              "      <td>0.698249</td>\n",
              "      <td>0.785171</td>\n",
              "      <td>0.308088</td>\n",
              "      <td>0.184180</td>\n",
              "      <td>0.354039</td>\n",
              "      <td>0.787344</td>\n",
              "      <td>0.603296</td>\n",
              "      <td>0.308088</td>\n",
              "      <td>Saltlake_K71010B</td>\n",
              "      <td>1.0</td>\n",
              "    </tr>\n",
              "    <tr>\n",
              "      <th>4</th>\n",
              "      <td>4</td>\n",
              "      <td>108029</td>\n",
              "      <td>9787</td>\n",
              "      <td>2019-02-27 18:30:00</td>\n",
              "      <td>2.0</td>\n",
              "      <td>0.179204</td>\n",
              "      <td>0.574376</td>\n",
              "      <td>0.754675</td>\n",
              "      <td>0.802939</td>\n",
              "      <td>0.284134</td>\n",
              "      <td>0.179204</td>\n",
              "      <td>0.338874</td>\n",
              "      <td>0.844417</td>\n",
              "      <td>0.625370</td>\n",
              "      <td>0.284134</td>\n",
              "      <td>Saltlake_K71010B</td>\n",
              "      <td>1.0</td>\n",
              "    </tr>\n",
              "  </tbody>\n",
              "</table>\n",
              "</div>"
            ],
            "text/plain": [
              "   Unnamed: 0  Unnamed: 0.1  Unnamed: 0.1.1  ...  rpm_mean             Asset  Binary\n",
              "0           0        108025            9783  ...  0.230168  Saltlake_K71010B     1.0\n",
              "1           1        108026            9784  ...  0.248063  Saltlake_K71010B     1.0\n",
              "2           2        108027            9785  ...  0.263139  Saltlake_K71010B     1.0\n",
              "3           3        108028            9786  ...  0.308088  Saltlake_K71010B     1.0\n",
              "4           4        108029            9787  ...  0.284134  Saltlake_K71010B     1.0\n",
              "\n",
              "[5 rows x 17 columns]"
            ]
          },
          "metadata": {
            "tags": []
          },
          "execution_count": 9
        }
      ]
    },
    {
      "cell_type": "code",
      "metadata": {
        "id": "zuozQPwtzzkn",
        "colab_type": "code",
        "colab": {
          "base_uri": "https://localhost:8080/",
          "height": 102
        },
        "outputId": "06fb41b9-096a-458b-90ea-f8064b62676e"
      },
      "source": [
        "df.columns"
      ],
      "execution_count": 10,
      "outputs": [
        {
          "output_type": "execute_result",
          "data": {
            "text/plain": [
              "Index(['Unnamed: 0', 'Unnamed: 0.1', 'Unnamed: 0.1.1', 'time', 'cyl',\n",
              "       's_temp_crank', 'd_temp_crank', 's_pressure_crank', 'd_pressure_crank',\n",
              "       'rpm_crank', 's_temp_mean', 'd_temp_mean', 's_pressure_mean',\n",
              "       'd_pressure_mean', 'rpm_mean', 'Asset', 'Binary'],\n",
              "      dtype='object')"
            ]
          },
          "metadata": {
            "tags": []
          },
          "execution_count": 10
        }
      ]
    },
    {
      "cell_type": "code",
      "metadata": {
        "id": "C_FhJ9ekCX79",
        "colab_type": "code",
        "colab": {}
      },
      "source": [
        "X_columns = [ 'cyl', 's_temp_crank', 'd_temp_crank', 's_pressure_crank',\\\n",
        "       'd_pressure_crank', 'rpm_crank', 's_temp_mean', 'd_temp_mean',\\\n",
        "       's_pressure_mean', 'd_pressure_mean', 'rpm_mean']"
      ],
      "execution_count": 11,
      "outputs": []
    },
    {
      "cell_type": "code",
      "metadata": {
        "id": "noBsBx2QzZf0",
        "colab_type": "code",
        "colab": {
          "base_uri": "https://localhost:8080/",
          "height": 34
        },
        "outputId": "d7b2c8e9-44d5-4fc0-a76e-621230b9d88a"
      },
      "source": [
        "len(X_columns)"
      ],
      "execution_count": 12,
      "outputs": [
        {
          "output_type": "execute_result",
          "data": {
            "text/plain": [
              "11"
            ]
          },
          "metadata": {
            "tags": []
          },
          "execution_count": 12
        }
      ]
    },
    {
      "cell_type": "code",
      "metadata": {
        "id": "vzRQrtp3xKTL",
        "colab_type": "code",
        "colab": {}
      },
      "source": [
        "X = df[X_columns]"
      ],
      "execution_count": 14,
      "outputs": []
    },
    {
      "cell_type": "code",
      "metadata": {
        "id": "1a92LSVIsCgl",
        "colab_type": "code",
        "colab": {
          "base_uri": "https://localhost:8080/",
          "height": 34
        },
        "outputId": "3a466b2a-d7e2-4d72-bcae-86bb6f7701aa"
      },
      "source": [
        "X.shape"
      ],
      "execution_count": 15,
      "outputs": [
        {
          "output_type": "execute_result",
          "data": {
            "text/plain": [
              "(31336, 11)"
            ]
          },
          "metadata": {
            "tags": []
          },
          "execution_count": 15
        }
      ]
    },
    {
      "cell_type": "markdown",
      "metadata": {
        "id": "X76N5os4_x5r",
        "colab_type": "text"
      },
      "source": [
        "# build  with mean"
      ]
    },
    {
      "cell_type": "code",
      "metadata": {
        "id": "osDrTPHBDgws",
        "colab_type": "code",
        "colab": {}
      },
      "source": [
        "y_true = df.iloc[:,16]"
      ],
      "execution_count": 18,
      "outputs": []
    },
    {
      "cell_type": "code",
      "metadata": {
        "id": "BhjDVPj6kHHe",
        "colab_type": "code",
        "colab": {
          "base_uri": "https://localhost:8080/",
          "height": 34
        },
        "outputId": "15ace4c9-aed9-4a15-b921-8615395652ea"
      },
      "source": [
        "y_true.unique()"
      ],
      "execution_count": 19,
      "outputs": [
        {
          "output_type": "execute_result",
          "data": {
            "text/plain": [
              "array([1., 0.])"
            ]
          },
          "metadata": {
            "tags": []
          },
          "execution_count": 19
        }
      ]
    },
    {
      "cell_type": "code",
      "metadata": {
        "id": "DeA4Ad6-TG2m",
        "colab_type": "code",
        "colab": {}
      },
      "source": [
        "from collections import Counter"
      ],
      "execution_count": 21,
      "outputs": []
    },
    {
      "cell_type": "code",
      "metadata": {
        "id": "Zxib685OjhRK",
        "colab_type": "code",
        "colab": {
          "base_uri": "https://localhost:8080/",
          "height": 34
        },
        "outputId": "a6b709b2-916e-4152-d137-8d2ac900a7d0"
      },
      "source": [
        "Counter(y_true)"
      ],
      "execution_count": 27,
      "outputs": [
        {
          "output_type": "execute_result",
          "data": {
            "text/plain": [
              "Counter({0.0: 9475, 1.0: 21861})"
            ]
          },
          "metadata": {
            "tags": []
          },
          "execution_count": 27
        }
      ]
    },
    {
      "cell_type": "markdown",
      "metadata": {
        "id": "x46e8C02_USW",
        "colab_type": "text"
      },
      "source": [
        "64->16->4->1"
      ]
    },
    {
      "cell_type": "code",
      "metadata": {
        "id": "QK8nARFrb0jE",
        "colab_type": "code",
        "colab": {}
      },
      "source": [
        "class binaryClassification(nn.Module):\n",
        "    def __init__(self):\n",
        "        super(binaryClassification, self).__init__()\n",
        "        # Number of input features is 11.\n",
        "        self.layer_1 = nn.Linear(11, 64) \n",
        "        self.layer_2 = nn.Linear(64, 64)\n",
        "        self.layer_3 = nn.Linear(64, 64)\n",
        "        self.layer_4 = nn.Linear(64, 10)\n",
        "        self.layer_5 = nn.Linear(10, 4)\n",
        "        self.layer_out = nn.Linear(4, 1) \n",
        "        xavier_uniform_(self.layer_out.weight)\n",
        "        \n",
        "        self.relu = nn.ReLU()\n",
        "        self.dropout = nn.Dropout(p=0.1)\n",
        "        self.batchnorm1 = nn.BatchNorm1d(64)\n",
        "        self.batchnorm2 = nn.BatchNorm1d(64)\n",
        "        self.batchnorm3 = nn.BatchNorm1d(64)\n",
        "        self.batchnorm4 = nn.BatchNorm1d(10)\n",
        "        self.sig = nn.Sigmoid()\n",
        "\n",
        "        \n",
        "    def forward(self, inputs):\n",
        "        x = self.relu(self.layer_1(inputs))\n",
        "        x = self.batchnorm1(x)\n",
        "        x = self.relu(self.layer_2(x))\n",
        "        x = self.batchnorm2(x)\n",
        "        x = self.relu(self.layer_3(x))\n",
        "        x = self.batchnorm3(x)\n",
        "        x = self.relu(self.layer_4(x))\n",
        "        x = self.batchnorm4(x)\n",
        "        x = self.relu(self.layer_5(x))\n",
        "        x = self.dropout(x)\n",
        "        x = self.layer_out(x)\n",
        "        x = self.sig(x)\n",
        "        \n",
        "        return x"
      ],
      "execution_count": 28,
      "outputs": []
    },
    {
      "cell_type": "code",
      "metadata": {
        "id": "uam-SPjJlGsT",
        "colab_type": "code",
        "colab": {}
      },
      "source": [
        "EPOCHS = 10\n",
        "BATCH_SIZE = 75\n",
        "LEARNING_RATE = 0.0792"
      ],
      "execution_count": 29,
      "outputs": []
    },
    {
      "cell_type": "code",
      "metadata": {
        "id": "JdQAqwpOlTYo",
        "colab_type": "code",
        "colab": {}
      },
      "source": [
        "## train data\n",
        "# class trainData(Dataset):\n",
        "    \n",
        "#     def __init__(self, X_data, y_data):\n",
        "#         self.X_data = X_data\n",
        "#         self.y_data = y_data\n",
        "        \n",
        "#     def __getitem__(self, index):\n",
        "#         return self.X_data[index], self.y_data[index]\n",
        "        \n",
        "#     def __len__ (self):\n",
        "#         return len(self.X_data)\n",
        "\n",
        "# y_train = y_train.values\n",
        "# train_data = trainData(torch.FloatTensor(X_train),torch.FloatTensor(y_train))\n",
        "## test data    \n",
        "class testData(Dataset):\n",
        "    \n",
        "    def __init__(self, X_data):\n",
        "        self.X_data = X_data\n",
        "        \n",
        "    def __getitem__(self, index):\n",
        "        return self.X_data[index]\n",
        "        \n",
        "    def __len__ (self):\n",
        "        return len(self.X_data)\n",
        "# ## val data    \n",
        "# class valData(Dataset):\n",
        "    \n",
        "#     def __init__(self, X_data):\n",
        "#         self.X_data = X_data\n",
        "        \n",
        "#     def __getitem__(self, index):\n",
        "#         return self.X_data[index]\n",
        "        \n",
        "#     def __len__ (self):\n",
        "#         return len(self.X_data)\n",
        "\n",
        "test_data = testData(torch.FloatTensor(X.values))\n",
        "# val_data = valData(torch.FloatTensor(X_val))"
      ],
      "execution_count": 46,
      "outputs": []
    },
    {
      "cell_type": "code",
      "metadata": {
        "id": "7ADj3luUlV2O",
        "colab_type": "code",
        "colab": {}
      },
      "source": [
        "#train_loader = DataLoader(dataset=train_data, batch_size=BATCH_SIZE, shuffle=True)\n",
        "# val_loader = DataLoader(dataset=val_data, batch_size=1)\n",
        "test_loader = DataLoader(dataset=test_data, batch_size=1)"
      ],
      "execution_count": 47,
      "outputs": []
    },
    {
      "cell_type": "code",
      "metadata": {
        "id": "Ipz_O-d2ndxr",
        "colab_type": "code",
        "colab": {
          "base_uri": "https://localhost:8080/",
          "height": 34
        },
        "outputId": "2e83c3d9-dd47-46e9-f74d-8c7d13f17fe0"
      },
      "source": [
        "device = torch.device(\"cuda:0\" if torch.cuda.is_available() else \"cpu\")\n",
        "print(device)"
      ],
      "execution_count": 48,
      "outputs": [
        {
          "output_type": "stream",
          "text": [
            "cuda:0\n"
          ],
          "name": "stdout"
        }
      ]
    },
    {
      "cell_type": "code",
      "metadata": {
        "id": "XmrpoOEmnaqx",
        "colab_type": "code",
        "colab": {
          "base_uri": "https://localhost:8080/",
          "height": 272
        },
        "outputId": "dede4321-b206-4a69-9508-fb6e57cc7cae"
      },
      "source": [
        "model = binaryClassification()\n",
        "model.to(device)"
      ],
      "execution_count": 49,
      "outputs": [
        {
          "output_type": "execute_result",
          "data": {
            "text/plain": [
              "binaryClassification(\n",
              "  (layer_1): Linear(in_features=11, out_features=64, bias=True)\n",
              "  (layer_2): Linear(in_features=64, out_features=64, bias=True)\n",
              "  (layer_3): Linear(in_features=64, out_features=64, bias=True)\n",
              "  (layer_4): Linear(in_features=64, out_features=10, bias=True)\n",
              "  (layer_5): Linear(in_features=10, out_features=4, bias=True)\n",
              "  (layer_out): Linear(in_features=4, out_features=1, bias=True)\n",
              "  (relu): ReLU()\n",
              "  (dropout): Dropout(p=0.1, inplace=False)\n",
              "  (batchnorm1): BatchNorm1d(64, eps=1e-05, momentum=0.1, affine=True, track_running_stats=True)\n",
              "  (batchnorm2): BatchNorm1d(64, eps=1e-05, momentum=0.1, affine=True, track_running_stats=True)\n",
              "  (batchnorm3): BatchNorm1d(64, eps=1e-05, momentum=0.1, affine=True, track_running_stats=True)\n",
              "  (batchnorm4): BatchNorm1d(10, eps=1e-05, momentum=0.1, affine=True, track_running_stats=True)\n",
              "  (sig): Sigmoid()\n",
              ")"
            ]
          },
          "metadata": {
            "tags": []
          },
          "execution_count": 49
        }
      ]
    },
    {
      "cell_type": "code",
      "metadata": {
        "id": "AEkzjsRm_0uR",
        "colab_type": "code",
        "colab": {
          "base_uri": "https://localhost:8080/",
          "height": 34
        },
        "outputId": "57701109-e858-4fcd-d97f-a28b162010c9"
      },
      "source": [
        "import pickle\n",
        "filename = 'binarynn_dcp_model.pkl'\n",
        "\n",
        "model.load_state_dict(torch.load(filename))"
      ],
      "execution_count": 50,
      "outputs": [
        {
          "output_type": "execute_result",
          "data": {
            "text/plain": [
              "<All keys matched successfully>"
            ]
          },
          "metadata": {
            "tags": []
          },
          "execution_count": 50
        }
      ]
    },
    {
      "cell_type": "code",
      "metadata": {
        "id": "rKX1xn8OnRQl",
        "colab_type": "code",
        "colab": {}
      },
      "source": [
        "criterion = nn.BCEWithLogitsLoss()\n",
        "optimizer = optim.SGD(model.parameters(), lr=LEARNING_RATE)"
      ],
      "execution_count": 51,
      "outputs": []
    },
    {
      "cell_type": "code",
      "metadata": {
        "id": "CX-alqvfpa1D",
        "colab_type": "code",
        "colab": {}
      },
      "source": [
        "def binary_acc(y_pred, y_test):\n",
        "    y_pred_tag = torch.round(torch.sigmoid(y_pred))\n",
        "\n",
        "    correct_results_sum = (y_pred_tag == y_test).sum().float()\n",
        "    acc = correct_results_sum/y_test.shape[0]\n",
        "    acc = torch.round(acc * 100)\n",
        "    \n",
        "    return acc"
      ],
      "execution_count": 52,
      "outputs": []
    },
    {
      "cell_type": "code",
      "metadata": {
        "id": "bkg9Nwg7MH-E",
        "colab_type": "code",
        "colab": {}
      },
      "source": [
        "y_pred_list = []\n",
        "pred_list = []\n",
        "model.eval()\n",
        "with torch.no_grad():\n",
        "    for X_batch in test_loader:\n",
        "        X_batch = X_batch.to(device)\n",
        "        y_test_pred = model(X_batch)\n",
        "        pred_list.append(y_test_pred.cpu().numpy())\n",
        "        y_pred_tag = torch.round(y_test_pred)\n",
        "        y_pred_list.append(y_pred_tag.cpu().numpy())\n",
        "\n",
        "y_pred_list = [a.squeeze().tolist() for a in y_pred_list]"
      ],
      "execution_count": 53,
      "outputs": []
    },
    {
      "cell_type": "code",
      "metadata": {
        "id": "LQ-AMJsIeDqI",
        "colab_type": "code",
        "colab": {}
      },
      "source": [
        "test_data = pd.DataFrame({'Values': y_pred_list, 'Predictions': pred_list})"
      ],
      "execution_count": 54,
      "outputs": []
    },
    {
      "cell_type": "code",
      "metadata": {
        "id": "FrVxRGRWCndv",
        "colab_type": "code",
        "colab": {
          "base_uri": "https://localhost:8080/",
          "height": 204
        },
        "outputId": "fd24f7d4-ab03-4d9e-b0d0-3816fec1b050"
      },
      "source": [
        "test_data.head()"
      ],
      "execution_count": 58,
      "outputs": [
        {
          "output_type": "execute_result",
          "data": {
            "text/html": [
              "<div>\n",
              "<style scoped>\n",
              "    .dataframe tbody tr th:only-of-type {\n",
              "        vertical-align: middle;\n",
              "    }\n",
              "\n",
              "    .dataframe tbody tr th {\n",
              "        vertical-align: top;\n",
              "    }\n",
              "\n",
              "    .dataframe thead th {\n",
              "        text-align: right;\n",
              "    }\n",
              "</style>\n",
              "<table border=\"1\" class=\"dataframe\">\n",
              "  <thead>\n",
              "    <tr style=\"text-align: right;\">\n",
              "      <th></th>\n",
              "      <th>Values</th>\n",
              "      <th>Predictions</th>\n",
              "    </tr>\n",
              "  </thead>\n",
              "  <tbody>\n",
              "    <tr>\n",
              "      <th>0</th>\n",
              "      <td>0.0</td>\n",
              "      <td>[[6.382671e-05]]</td>\n",
              "    </tr>\n",
              "    <tr>\n",
              "      <th>1</th>\n",
              "      <td>0.0</td>\n",
              "      <td>[[5.9588452e-05]]</td>\n",
              "    </tr>\n",
              "    <tr>\n",
              "      <th>2</th>\n",
              "      <td>0.0</td>\n",
              "      <td>[[5.750307e-05]]</td>\n",
              "    </tr>\n",
              "    <tr>\n",
              "      <th>3</th>\n",
              "      <td>0.0</td>\n",
              "      <td>[[4.6580084e-05]]</td>\n",
              "    </tr>\n",
              "    <tr>\n",
              "      <th>4</th>\n",
              "      <td>0.0</td>\n",
              "      <td>[[7.209934e-05]]</td>\n",
              "    </tr>\n",
              "  </tbody>\n",
              "</table>\n",
              "</div>"
            ],
            "text/plain": [
              "   Values        Predictions\n",
              "0     0.0   [[6.382671e-05]]\n",
              "1     0.0  [[5.9588452e-05]]\n",
              "2     0.0   [[5.750307e-05]]\n",
              "3     0.0  [[4.6580084e-05]]\n",
              "4     0.0   [[7.209934e-05]]"
            ]
          },
          "metadata": {
            "tags": []
          },
          "execution_count": 58
        }
      ]
    },
    {
      "cell_type": "code",
      "metadata": {
        "id": "-rx9k5theGcz",
        "colab_type": "code",
        "colab": {}
      },
      "source": [
        "test_data.to_csv('Test Predictions.csv')"
      ],
      "execution_count": 55,
      "outputs": []
    },
    {
      "cell_type": "code",
      "metadata": {
        "id": "oOx8PsecMNoW",
        "colab_type": "code",
        "colab": {
          "base_uri": "https://localhost:8080/",
          "height": 51
        },
        "outputId": "438a1ec9-82b7-4483-84d0-b28c9b3ad76d"
      },
      "source": [
        "confusion_matrix(y_true, y_pred_list)"
      ],
      "execution_count": 60,
      "outputs": [
        {
          "output_type": "execute_result",
          "data": {
            "text/plain": [
              "array([[ 9457,    18],\n",
              "       [21860,     1]])"
            ]
          },
          "metadata": {
            "tags": []
          },
          "execution_count": 60
        }
      ]
    },
    {
      "cell_type": "markdown",
      "metadata": {
        "id": "YqsLKC9z6NLu",
        "colab_type": "text"
      },
      "source": [
        "# New Assets"
      ]
    },
    {
      "cell_type": "code",
      "metadata": {
        "id": "5NXduzphPVfU",
        "colab_type": "code",
        "colab": {
          "base_uri": "https://localhost:8080/",
          "height": 170
        },
        "outputId": "092c495e-5e0e-40ea-d278-c8af14765660"
      },
      "source": [
        "print(classification_report(y_true, y_pred_list))"
      ],
      "execution_count": 62,
      "outputs": [
        {
          "output_type": "stream",
          "text": [
            "              precision    recall  f1-score   support\n",
            "\n",
            "         0.0       0.30      1.00      0.46      9475\n",
            "         1.0       0.05      0.00      0.00     21861\n",
            "\n",
            "    accuracy                           0.30     31336\n",
            "   macro avg       0.18      0.50      0.23     31336\n",
            "weighted avg       0.13      0.30      0.14     31336\n",
            "\n"
          ],
          "name": "stdout"
        }
      ]
    },
    {
      "cell_type": "code",
      "metadata": {
        "id": "dcfxrAPHc44k",
        "colab_type": "code",
        "colab": {
          "base_uri": "https://localhost:8080/",
          "height": 34
        },
        "outputId": "fe363925-0e6b-4f7e-aaf0-47199a6b5ea7"
      },
      "source": [
        "model.load_state_dict(torch.load(filename))"
      ],
      "execution_count": null,
      "outputs": [
        {
          "output_type": "execute_result",
          "data": {
            "text/plain": [
              "<All keys matched successfully>"
            ]
          },
          "metadata": {
            "tags": []
          },
          "execution_count": 60
        }
      ]
    }
  ]
}