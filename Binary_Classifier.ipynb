{
  "nbformat": 4,
  "nbformat_minor": 0,
  "metadata": {
    "colab": {
      "name": " Binary Classifier.ipynb",
      "provenance": [],
      "collapsed_sections": [],
      "toc_visible": true,
      "authorship_tag": "ABX9TyMAb3saBMw0fWAcytlMvHX8",
      "include_colab_link": true
    },
    "kernelspec": {
      "name": "python3",
      "display_name": "Python 3"
    }
  },
  "cells": [
    {
      "cell_type": "markdown",
      "metadata": {
        "id": "view-in-github",
        "colab_type": "text"
      },
      "source": [
        "<a href=\"https://colab.research.google.com/github/theAkhileshRai/Projects/blob/master/Binary_Classifier.ipynb\" target=\"_parent\"><img src=\"https://colab.research.google.com/assets/colab-badge.svg\" alt=\"Open In Colab\"/></a>"
      ]
    },
    {
      "cell_type": "code",
      "metadata": {
        "id": "P10uROM_sbU3",
        "colab_type": "code",
        "colab": {}
      },
      "source": [
        "import numpy as np\n",
        "import pandas as pd\n",
        "import matplotlib.pyplot as plt\n",
        "import sklearn\n",
        "\n",
        "from numpy import loadtxt\n",
        "from xgboost import XGBClassifier\n",
        "from sklearn.model_selection import train_test_split\n",
        "from sklearn.metrics import accuracy_score"
      ],
      "execution_count": 0,
      "outputs": []
    },
    {
      "cell_type": "code",
      "metadata": {
        "id": "7BW6XEV1sh09",
        "colab_type": "code",
        "colab": {}
      },
      "source": [
        "df1 = pd.read_csv('/content/Combined_df.csv',index_col=False)"
      ],
      "execution_count": 0,
      "outputs": []
    },
    {
      "cell_type": "code",
      "metadata": {
        "id": "ySz7tAnswqa8",
        "colab_type": "code",
        "outputId": "3c4e5bde-d824-4903-a00f-f9d358c5ebd3",
        "colab": {
          "base_uri": "https://localhost:8080/",
          "height": 330
        }
      },
      "source": [
        "df1.head()"
      ],
      "execution_count": 9,
      "outputs": [
        {
          "output_type": "execute_result",
          "data": {
            "text/html": [
              "<div>\n",
              "<style scoped>\n",
              "    .dataframe tbody tr th:only-of-type {\n",
              "        vertical-align: middle;\n",
              "    }\n",
              "\n",
              "    .dataframe tbody tr th {\n",
              "        vertical-align: top;\n",
              "    }\n",
              "\n",
              "    .dataframe thead th {\n",
              "        text-align: right;\n",
              "    }\n",
              "</style>\n",
              "<table border=\"1\" class=\"dataframe\">\n",
              "  <thead>\n",
              "    <tr style=\"text-align: right;\">\n",
              "      <th></th>\n",
              "      <th>Unnamed: 0</th>\n",
              "      <th>time</th>\n",
              "      <th>cyl</th>\n",
              "      <th>s_temp_crank</th>\n",
              "      <th>d_temp_crank</th>\n",
              "      <th>s_pressure_crank</th>\n",
              "      <th>d_pressure_crank</th>\n",
              "      <th>rpm_crank</th>\n",
              "      <th>s_temp_mean</th>\n",
              "      <th>d_temp_mean</th>\n",
              "      <th>s_pressure_mean</th>\n",
              "      <th>d_pressure_mean</th>\n",
              "      <th>rpm_mean</th>\n",
              "      <th>y_true</th>\n",
              "      <th>leak_level</th>\n",
              "      <th>station</th>\n",
              "    </tr>\n",
              "  </thead>\n",
              "  <tbody>\n",
              "    <tr>\n",
              "      <th>0</th>\n",
              "      <td>0</td>\n",
              "      <td>05/04/19 2:30</td>\n",
              "      <td>1</td>\n",
              "      <td>0.666534</td>\n",
              "      <td>2.080444</td>\n",
              "      <td>3.220836</td>\n",
              "      <td>10.105964</td>\n",
              "      <td>10.063987</td>\n",
              "      <td>0.666534</td>\n",
              "      <td>2.053527</td>\n",
              "      <td>3.307406</td>\n",
              "      <td>10.142075</td>\n",
              "      <td>10.063987</td>\n",
              "      <td>1</td>\n",
              "      <td>2</td>\n",
              "      <td>Cross Barr</td>\n",
              "    </tr>\n",
              "    <tr>\n",
              "      <th>1</th>\n",
              "      <td>1</td>\n",
              "      <td>05/04/19 3:30</td>\n",
              "      <td>1</td>\n",
              "      <td>0.716066</td>\n",
              "      <td>2.153494</td>\n",
              "      <td>3.135203</td>\n",
              "      <td>9.998847</td>\n",
              "      <td>10.075669</td>\n",
              "      <td>0.716066</td>\n",
              "      <td>2.120434</td>\n",
              "      <td>3.243347</td>\n",
              "      <td>10.053597</td>\n",
              "      <td>10.075669</td>\n",
              "      <td>1</td>\n",
              "      <td>2</td>\n",
              "      <td>Cross Barr</td>\n",
              "    </tr>\n",
              "    <tr>\n",
              "      <th>2</th>\n",
              "      <td>2</td>\n",
              "      <td>05/04/19 4:30</td>\n",
              "      <td>1</td>\n",
              "      <td>0.687551</td>\n",
              "      <td>2.142630</td>\n",
              "      <td>3.066270</td>\n",
              "      <td>9.954641</td>\n",
              "      <td>10.081478</td>\n",
              "      <td>0.687551</td>\n",
              "      <td>2.105328</td>\n",
              "      <td>3.181119</td>\n",
              "      <td>10.001306</td>\n",
              "      <td>10.081478</td>\n",
              "      <td>1</td>\n",
              "      <td>2</td>\n",
              "      <td>Cross Barr</td>\n",
              "    </tr>\n",
              "    <tr>\n",
              "      <th>3</th>\n",
              "      <td>3</td>\n",
              "      <td>05/04/19 5:30</td>\n",
              "      <td>1</td>\n",
              "      <td>0.686916</td>\n",
              "      <td>2.140013</td>\n",
              "      <td>3.071850</td>\n",
              "      <td>9.956670</td>\n",
              "      <td>10.054274</td>\n",
              "      <td>0.686916</td>\n",
              "      <td>2.101800</td>\n",
              "      <td>3.191233</td>\n",
              "      <td>10.008420</td>\n",
              "      <td>10.054274</td>\n",
              "      <td>1</td>\n",
              "      <td>2</td>\n",
              "      <td>Cross Barr</td>\n",
              "    </tr>\n",
              "    <tr>\n",
              "      <th>4</th>\n",
              "      <td>4</td>\n",
              "      <td>05/04/19 6:30</td>\n",
              "      <td>1</td>\n",
              "      <td>0.698125</td>\n",
              "      <td>2.156244</td>\n",
              "      <td>3.063865</td>\n",
              "      <td>9.961413</td>\n",
              "      <td>10.091478</td>\n",
              "      <td>0.698125</td>\n",
              "      <td>2.117328</td>\n",
              "      <td>3.183534</td>\n",
              "      <td>10.009700</td>\n",
              "      <td>10.091478</td>\n",
              "      <td>1</td>\n",
              "      <td>2</td>\n",
              "      <td>Cross Barr</td>\n",
              "    </tr>\n",
              "  </tbody>\n",
              "</table>\n",
              "</div>"
            ],
            "text/plain": [
              "   Unnamed: 0           time  cyl  ...  y_true  leak_level     station\n",
              "0           0  05/04/19 2:30    1  ...       1           2  Cross Barr\n",
              "1           1  05/04/19 3:30    1  ...       1           2  Cross Barr\n",
              "2           2  05/04/19 4:30    1  ...       1           2  Cross Barr\n",
              "3           3  05/04/19 5:30    1  ...       1           2  Cross Barr\n",
              "4           4  05/04/19 6:30    1  ...       1           2  Cross Barr\n",
              "\n",
              "[5 rows x 16 columns]"
            ]
          },
          "metadata": {
            "tags": []
          },
          "execution_count": 9
        }
      ]
    },
    {
      "cell_type": "code",
      "metadata": {
        "id": "TdsRIaE8w7kC",
        "colab_type": "code",
        "outputId": "495134a5-9ecb-49e1-deb9-0f2620082fb0",
        "colab": {
          "base_uri": "https://localhost:8080/",
          "height": 104
        }
      },
      "source": [
        "df1.columns"
      ],
      "execution_count": 10,
      "outputs": [
        {
          "output_type": "execute_result",
          "data": {
            "text/plain": [
              "Index(['Unnamed: 0', 'time', 'cyl', 's_temp_crank', 'd_temp_crank',\n",
              "       's_pressure_crank', 'd_pressure_crank', 'rpm_crank', 's_temp_mean',\n",
              "       'd_temp_mean', 's_pressure_mean', 'd_pressure_mean', 'rpm_mean',\n",
              "       'y_true', 'leak_level', 'station'],\n",
              "      dtype='object')"
            ]
          },
          "metadata": {
            "tags": []
          },
          "execution_count": 10
        }
      ]
    },
    {
      "cell_type": "code",
      "metadata": {
        "id": "nBrWvkAjwx6S",
        "colab_type": "code",
        "colab": {}
      },
      "source": [
        "df1 = df1.drop(columns='Unnamed: 0')\n",
        "df1['y_true'] = df1['y_true'].fillna(0)\n",
        "df1['leak_level'] = df1['leak_level'].fillna(0)"
      ],
      "execution_count": 0,
      "outputs": []
    },
    {
      "cell_type": "code",
      "metadata": {
        "id": "G3TrxRtjxE3f",
        "colab_type": "code",
        "outputId": "03999ba9-324f-4cba-e87d-2827d547c5ee",
        "colab": {
          "base_uri": "https://localhost:8080/",
          "height": 313
        }
      },
      "source": [
        "df1.head()"
      ],
      "execution_count": 12,
      "outputs": [
        {
          "output_type": "execute_result",
          "data": {
            "text/html": [
              "<div>\n",
              "<style scoped>\n",
              "    .dataframe tbody tr th:only-of-type {\n",
              "        vertical-align: middle;\n",
              "    }\n",
              "\n",
              "    .dataframe tbody tr th {\n",
              "        vertical-align: top;\n",
              "    }\n",
              "\n",
              "    .dataframe thead th {\n",
              "        text-align: right;\n",
              "    }\n",
              "</style>\n",
              "<table border=\"1\" class=\"dataframe\">\n",
              "  <thead>\n",
              "    <tr style=\"text-align: right;\">\n",
              "      <th></th>\n",
              "      <th>time</th>\n",
              "      <th>cyl</th>\n",
              "      <th>s_temp_crank</th>\n",
              "      <th>d_temp_crank</th>\n",
              "      <th>s_pressure_crank</th>\n",
              "      <th>d_pressure_crank</th>\n",
              "      <th>rpm_crank</th>\n",
              "      <th>s_temp_mean</th>\n",
              "      <th>d_temp_mean</th>\n",
              "      <th>s_pressure_mean</th>\n",
              "      <th>d_pressure_mean</th>\n",
              "      <th>rpm_mean</th>\n",
              "      <th>y_true</th>\n",
              "      <th>leak_level</th>\n",
              "      <th>station</th>\n",
              "    </tr>\n",
              "  </thead>\n",
              "  <tbody>\n",
              "    <tr>\n",
              "      <th>0</th>\n",
              "      <td>05/04/19 2:30</td>\n",
              "      <td>1</td>\n",
              "      <td>0.666534</td>\n",
              "      <td>2.080444</td>\n",
              "      <td>3.220836</td>\n",
              "      <td>10.105964</td>\n",
              "      <td>10.063987</td>\n",
              "      <td>0.666534</td>\n",
              "      <td>2.053527</td>\n",
              "      <td>3.307406</td>\n",
              "      <td>10.142075</td>\n",
              "      <td>10.063987</td>\n",
              "      <td>1</td>\n",
              "      <td>2</td>\n",
              "      <td>Cross Barr</td>\n",
              "    </tr>\n",
              "    <tr>\n",
              "      <th>1</th>\n",
              "      <td>05/04/19 3:30</td>\n",
              "      <td>1</td>\n",
              "      <td>0.716066</td>\n",
              "      <td>2.153494</td>\n",
              "      <td>3.135203</td>\n",
              "      <td>9.998847</td>\n",
              "      <td>10.075669</td>\n",
              "      <td>0.716066</td>\n",
              "      <td>2.120434</td>\n",
              "      <td>3.243347</td>\n",
              "      <td>10.053597</td>\n",
              "      <td>10.075669</td>\n",
              "      <td>1</td>\n",
              "      <td>2</td>\n",
              "      <td>Cross Barr</td>\n",
              "    </tr>\n",
              "    <tr>\n",
              "      <th>2</th>\n",
              "      <td>05/04/19 4:30</td>\n",
              "      <td>1</td>\n",
              "      <td>0.687551</td>\n",
              "      <td>2.142630</td>\n",
              "      <td>3.066270</td>\n",
              "      <td>9.954641</td>\n",
              "      <td>10.081478</td>\n",
              "      <td>0.687551</td>\n",
              "      <td>2.105328</td>\n",
              "      <td>3.181119</td>\n",
              "      <td>10.001306</td>\n",
              "      <td>10.081478</td>\n",
              "      <td>1</td>\n",
              "      <td>2</td>\n",
              "      <td>Cross Barr</td>\n",
              "    </tr>\n",
              "    <tr>\n",
              "      <th>3</th>\n",
              "      <td>05/04/19 5:30</td>\n",
              "      <td>1</td>\n",
              "      <td>0.686916</td>\n",
              "      <td>2.140013</td>\n",
              "      <td>3.071850</td>\n",
              "      <td>9.956670</td>\n",
              "      <td>10.054274</td>\n",
              "      <td>0.686916</td>\n",
              "      <td>2.101800</td>\n",
              "      <td>3.191233</td>\n",
              "      <td>10.008420</td>\n",
              "      <td>10.054274</td>\n",
              "      <td>1</td>\n",
              "      <td>2</td>\n",
              "      <td>Cross Barr</td>\n",
              "    </tr>\n",
              "    <tr>\n",
              "      <th>4</th>\n",
              "      <td>05/04/19 6:30</td>\n",
              "      <td>1</td>\n",
              "      <td>0.698125</td>\n",
              "      <td>2.156244</td>\n",
              "      <td>3.063865</td>\n",
              "      <td>9.961413</td>\n",
              "      <td>10.091478</td>\n",
              "      <td>0.698125</td>\n",
              "      <td>2.117328</td>\n",
              "      <td>3.183534</td>\n",
              "      <td>10.009700</td>\n",
              "      <td>10.091478</td>\n",
              "      <td>1</td>\n",
              "      <td>2</td>\n",
              "      <td>Cross Barr</td>\n",
              "    </tr>\n",
              "  </tbody>\n",
              "</table>\n",
              "</div>"
            ],
            "text/plain": [
              "            time  cyl  s_temp_crank  ...  y_true  leak_level     station\n",
              "0  05/04/19 2:30    1      0.666534  ...       1           2  Cross Barr\n",
              "1  05/04/19 3:30    1      0.716066  ...       1           2  Cross Barr\n",
              "2  05/04/19 4:30    1      0.687551  ...       1           2  Cross Barr\n",
              "3  05/04/19 5:30    1      0.686916  ...       1           2  Cross Barr\n",
              "4  05/04/19 6:30    1      0.698125  ...       1           2  Cross Barr\n",
              "\n",
              "[5 rows x 15 columns]"
            ]
          },
          "metadata": {
            "tags": []
          },
          "execution_count": 12
        }
      ]
    },
    {
      "cell_type": "code",
      "metadata": {
        "id": "MDd6bEFPj0mh",
        "colab_type": "code",
        "outputId": "de154cb4-3434-476e-c502-bff43138e8e2",
        "colab": {
          "base_uri": "https://localhost:8080/",
          "height": 104
        }
      },
      "source": [
        "df1.columns"
      ],
      "execution_count": 13,
      "outputs": [
        {
          "output_type": "execute_result",
          "data": {
            "text/plain": [
              "Index(['time', 'cyl', 's_temp_crank', 'd_temp_crank', 's_pressure_crank',\n",
              "       'd_pressure_crank', 'rpm_crank', 's_temp_mean', 'd_temp_mean',\n",
              "       's_pressure_mean', 'd_pressure_mean', 'rpm_mean', 'y_true',\n",
              "       'leak_level', 'station'],\n",
              "      dtype='object')"
            ]
          },
          "metadata": {
            "tags": []
          },
          "execution_count": 13
        }
      ]
    },
    {
      "cell_type": "code",
      "metadata": {
        "id": "C_FhJ9ekCX79",
        "colab_type": "code",
        "outputId": "28d86796-ac2b-415a-96a1-d49530ed4520",
        "colab": {
          "base_uri": "https://localhost:8080/",
          "height": 34
        }
      },
      "source": [
        "df1['leak_level'].unique()"
      ],
      "execution_count": 14,
      "outputs": [
        {
          "output_type": "execute_result",
          "data": {
            "text/plain": [
              "array([2, 0, 3, 1, 4])"
            ]
          },
          "metadata": {
            "tags": []
          },
          "execution_count": 14
        }
      ]
    },
    {
      "cell_type": "code",
      "metadata": {
        "id": "vzRQrtp3xKTL",
        "colab_type": "code",
        "colab": {}
      },
      "source": [
        "X = df1.iloc[:,1:12]"
      ],
      "execution_count": 0,
      "outputs": []
    },
    {
      "cell_type": "code",
      "metadata": {
        "id": "41ZpjzWqDeIW",
        "colab_type": "code",
        "outputId": "6a628ca6-26bb-4584-9992-1810222095a1",
        "colab": {
          "base_uri": "https://localhost:8080/",
          "height": 424
        }
      },
      "source": [
        "X"
      ],
      "execution_count": 16,
      "outputs": [
        {
          "output_type": "execute_result",
          "data": {
            "text/html": [
              "<div>\n",
              "<style scoped>\n",
              "    .dataframe tbody tr th:only-of-type {\n",
              "        vertical-align: middle;\n",
              "    }\n",
              "\n",
              "    .dataframe tbody tr th {\n",
              "        vertical-align: top;\n",
              "    }\n",
              "\n",
              "    .dataframe thead th {\n",
              "        text-align: right;\n",
              "    }\n",
              "</style>\n",
              "<table border=\"1\" class=\"dataframe\">\n",
              "  <thead>\n",
              "    <tr style=\"text-align: right;\">\n",
              "      <th></th>\n",
              "      <th>cyl</th>\n",
              "      <th>s_temp_crank</th>\n",
              "      <th>d_temp_crank</th>\n",
              "      <th>s_pressure_crank</th>\n",
              "      <th>d_pressure_crank</th>\n",
              "      <th>rpm_crank</th>\n",
              "      <th>s_temp_mean</th>\n",
              "      <th>d_temp_mean</th>\n",
              "      <th>s_pressure_mean</th>\n",
              "      <th>d_pressure_mean</th>\n",
              "      <th>rpm_mean</th>\n",
              "    </tr>\n",
              "  </thead>\n",
              "  <tbody>\n",
              "    <tr>\n",
              "      <th>0</th>\n",
              "      <td>1</td>\n",
              "      <td>0.666534</td>\n",
              "      <td>2.080444</td>\n",
              "      <td>3.220836</td>\n",
              "      <td>10.105964</td>\n",
              "      <td>10.063987</td>\n",
              "      <td>0.666534</td>\n",
              "      <td>2.053527</td>\n",
              "      <td>3.307406</td>\n",
              "      <td>10.142075</td>\n",
              "      <td>10.063987</td>\n",
              "    </tr>\n",
              "    <tr>\n",
              "      <th>1</th>\n",
              "      <td>1</td>\n",
              "      <td>0.716066</td>\n",
              "      <td>2.153494</td>\n",
              "      <td>3.135203</td>\n",
              "      <td>9.998847</td>\n",
              "      <td>10.075669</td>\n",
              "      <td>0.716066</td>\n",
              "      <td>2.120434</td>\n",
              "      <td>3.243347</td>\n",
              "      <td>10.053597</td>\n",
              "      <td>10.075669</td>\n",
              "    </tr>\n",
              "    <tr>\n",
              "      <th>2</th>\n",
              "      <td>1</td>\n",
              "      <td>0.687551</td>\n",
              "      <td>2.142630</td>\n",
              "      <td>3.066270</td>\n",
              "      <td>9.954641</td>\n",
              "      <td>10.081478</td>\n",
              "      <td>0.687551</td>\n",
              "      <td>2.105328</td>\n",
              "      <td>3.181119</td>\n",
              "      <td>10.001306</td>\n",
              "      <td>10.081478</td>\n",
              "    </tr>\n",
              "    <tr>\n",
              "      <th>3</th>\n",
              "      <td>1</td>\n",
              "      <td>0.686916</td>\n",
              "      <td>2.140013</td>\n",
              "      <td>3.071850</td>\n",
              "      <td>9.956670</td>\n",
              "      <td>10.054274</td>\n",
              "      <td>0.686916</td>\n",
              "      <td>2.101800</td>\n",
              "      <td>3.191233</td>\n",
              "      <td>10.008420</td>\n",
              "      <td>10.054274</td>\n",
              "    </tr>\n",
              "    <tr>\n",
              "      <th>4</th>\n",
              "      <td>1</td>\n",
              "      <td>0.698125</td>\n",
              "      <td>2.156244</td>\n",
              "      <td>3.063865</td>\n",
              "      <td>9.961413</td>\n",
              "      <td>10.091478</td>\n",
              "      <td>0.698125</td>\n",
              "      <td>2.117328</td>\n",
              "      <td>3.183534</td>\n",
              "      <td>10.009700</td>\n",
              "      <td>10.091478</td>\n",
              "    </tr>\n",
              "    <tr>\n",
              "      <th>...</th>\n",
              "      <td>...</td>\n",
              "      <td>...</td>\n",
              "      <td>...</td>\n",
              "      <td>...</td>\n",
              "      <td>...</td>\n",
              "      <td>...</td>\n",
              "      <td>...</td>\n",
              "      <td>...</td>\n",
              "      <td>...</td>\n",
              "      <td>...</td>\n",
              "      <td>...</td>\n",
              "    </tr>\n",
              "    <tr>\n",
              "      <th>165856</th>\n",
              "      <td>4</td>\n",
              "      <td>0.728417</td>\n",
              "      <td>2.599025</td>\n",
              "      <td>0.331039</td>\n",
              "      <td>2.487713</td>\n",
              "      <td>12.358284</td>\n",
              "      <td>0.728417</td>\n",
              "      <td>2.854156</td>\n",
              "      <td>0.184073</td>\n",
              "      <td>2.375134</td>\n",
              "      <td>12.358284</td>\n",
              "    </tr>\n",
              "    <tr>\n",
              "      <th>165857</th>\n",
              "      <td>4</td>\n",
              "      <td>0.686059</td>\n",
              "      <td>2.556454</td>\n",
              "      <td>0.326915</td>\n",
              "      <td>2.484471</td>\n",
              "      <td>12.359520</td>\n",
              "      <td>0.686059</td>\n",
              "      <td>2.810078</td>\n",
              "      <td>0.179784</td>\n",
              "      <td>2.370367</td>\n",
              "      <td>12.359520</td>\n",
              "    </tr>\n",
              "    <tr>\n",
              "      <th>165858</th>\n",
              "      <td>4</td>\n",
              "      <td>0.663322</td>\n",
              "      <td>2.530006</td>\n",
              "      <td>0.328148</td>\n",
              "      <td>2.487526</td>\n",
              "      <td>12.352143</td>\n",
              "      <td>0.663322</td>\n",
              "      <td>2.785113</td>\n",
              "      <td>0.180072</td>\n",
              "      <td>2.373662</td>\n",
              "      <td>12.352143</td>\n",
              "    </tr>\n",
              "    <tr>\n",
              "      <th>165859</th>\n",
              "      <td>4</td>\n",
              "      <td>0.645405</td>\n",
              "      <td>2.513933</td>\n",
              "      <td>0.325451</td>\n",
              "      <td>2.486730</td>\n",
              "      <td>12.353393</td>\n",
              "      <td>0.645405</td>\n",
              "      <td>2.767917</td>\n",
              "      <td>0.178354</td>\n",
              "      <td>2.373709</td>\n",
              "      <td>12.353393</td>\n",
              "    </tr>\n",
              "    <tr>\n",
              "      <th>165860</th>\n",
              "      <td>4</td>\n",
              "      <td>0.637614</td>\n",
              "      <td>2.512509</td>\n",
              "      <td>0.322567</td>\n",
              "      <td>2.491172</td>\n",
              "      <td>12.357672</td>\n",
              "      <td>0.637614</td>\n",
              "      <td>2.766502</td>\n",
              "      <td>0.176086</td>\n",
              "      <td>2.378750</td>\n",
              "      <td>12.357672</td>\n",
              "    </tr>\n",
              "  </tbody>\n",
              "</table>\n",
              "<p>165861 rows × 11 columns</p>\n",
              "</div>"
            ],
            "text/plain": [
              "        cyl  s_temp_crank  ...  d_pressure_mean   rpm_mean\n",
              "0         1      0.666534  ...        10.142075  10.063987\n",
              "1         1      0.716066  ...        10.053597  10.075669\n",
              "2         1      0.687551  ...        10.001306  10.081478\n",
              "3         1      0.686916  ...        10.008420  10.054274\n",
              "4         1      0.698125  ...        10.009700  10.091478\n",
              "...     ...           ...  ...              ...        ...\n",
              "165856    4      0.728417  ...         2.375134  12.358284\n",
              "165857    4      0.686059  ...         2.370367  12.359520\n",
              "165858    4      0.663322  ...         2.373662  12.352143\n",
              "165859    4      0.645405  ...         2.373709  12.353393\n",
              "165860    4      0.637614  ...         2.378750  12.357672\n",
              "\n",
              "[165861 rows x 11 columns]"
            ]
          },
          "metadata": {
            "tags": []
          },
          "execution_count": 16
        }
      ]
    },
    {
      "cell_type": "code",
      "metadata": {
        "id": "osDrTPHBDgws",
        "colab_type": "code",
        "colab": {}
      },
      "source": [
        "y_true = df1.iloc[:,13]"
      ],
      "execution_count": 0,
      "outputs": []
    },
    {
      "cell_type": "code",
      "metadata": {
        "id": "BhjDVPj6kHHe",
        "colab_type": "code",
        "outputId": "5fb5b67d-2065-4b24-a98d-26ce8273a988",
        "colab": {
          "base_uri": "https://localhost:8080/",
          "height": 34
        }
      },
      "source": [
        "y_true.unique()"
      ],
      "execution_count": 19,
      "outputs": [
        {
          "output_type": "execute_result",
          "data": {
            "text/plain": [
              "array([2, 0, 3, 1, 4])"
            ]
          },
          "metadata": {
            "tags": []
          },
          "execution_count": 19
        }
      ]
    },
    {
      "cell_type": "code",
      "metadata": {
        "id": "gK4JI2TKJ-MJ",
        "colab_type": "code",
        "colab": {}
      },
      "source": [
        "y_true=y_true.fillna(0)"
      ],
      "execution_count": 0,
      "outputs": []
    },
    {
      "cell_type": "code",
      "metadata": {
        "id": "xmRqd1C_x9VI",
        "colab_type": "code",
        "outputId": "503c5fd1-0370-4989-b4f1-7238eb15da33",
        "colab": {
          "base_uri": "https://localhost:8080/",
          "height": 34
        }
      },
      "source": [
        "y_true.unique()"
      ],
      "execution_count": 21,
      "outputs": [
        {
          "output_type": "execute_result",
          "data": {
            "text/plain": [
              "array([2, 0, 3, 1, 4])"
            ]
          },
          "metadata": {
            "tags": []
          },
          "execution_count": 21
        }
      ]
    },
    {
      "cell_type": "code",
      "metadata": {
        "id": "QUjimy6IJ_wS",
        "colab_type": "code",
        "colab": {}
      },
      "source": [
        "seed = 7\n",
        "test_size = 0.33\n",
        "X_train, X_test, y_train, y_test = train_test_split(X, y_true, test_size=test_size)"
      ],
      "execution_count": 0,
      "outputs": []
    },
    {
      "cell_type": "code",
      "metadata": {
        "id": "DeA4Ad6-TG2m",
        "colab_type": "code",
        "colab": {}
      },
      "source": [
        "from collections import Counter"
      ],
      "execution_count": 0,
      "outputs": []
    },
    {
      "cell_type": "code",
      "metadata": {
        "id": "u6qs--2goqXC",
        "colab_type": "code",
        "outputId": "bc24d351-35d4-4e4e-c7e1-c4cf68db8102",
        "colab": {
          "base_uri": "https://localhost:8080/",
          "height": 34
        }
      },
      "source": [
        "print(X_train.shape,y_train.shape)"
      ],
      "execution_count": 24,
      "outputs": [
        {
          "output_type": "stream",
          "text": [
            "(111126, 11) (111126,)\n"
          ],
          "name": "stdout"
        }
      ]
    },
    {
      "cell_type": "code",
      "metadata": {
        "id": "Zxib685OjhRK",
        "colab_type": "code",
        "outputId": "d65285fd-f753-42b4-9012-b3e89bfadbe3",
        "colab": {
          "base_uri": "https://localhost:8080/",
          "height": 34
        }
      },
      "source": [
        "Counter(y_train)"
      ],
      "execution_count": 25,
      "outputs": [
        {
          "output_type": "execute_result",
          "data": {
            "text/plain": [
              "Counter({0: 91828, 1: 3345, 2: 8157, 3: 2641, 4: 5155})"
            ]
          },
          "metadata": {
            "tags": []
          },
          "execution_count": 25
        }
      ]
    },
    {
      "cell_type": "code",
      "metadata": {
        "id": "X-I8djxu6qtp",
        "colab_type": "code",
        "colab": {
          "base_uri": "https://localhost:8080/",
          "height": 34
        },
        "outputId": "7a7cef1f-1cc8-4e73-d269-4db6e56ebad6"
      },
      "source": [
        "X_test.shape"
      ],
      "execution_count": 26,
      "outputs": [
        {
          "output_type": "execute_result",
          "data": {
            "text/plain": [
              "(54735, 11)"
            ]
          },
          "metadata": {
            "tags": []
          },
          "execution_count": 26
        }
      ]
    },
    {
      "cell_type": "code",
      "metadata": {
        "id": "2lBSAOQqPLfI",
        "colab_type": "code",
        "colab": {}
      },
      "source": [
        "from sklearn.model_selection import GridSearchCV"
      ],
      "execution_count": 0,
      "outputs": []
    },
    {
      "cell_type": "code",
      "metadata": {
        "id": "W3XdZnlBNVp4",
        "colab_type": "code",
        "colab": {}
      },
      "source": [
        "# A parameter grid for XGBoost\n",
        "params = {\n",
        "        'min_child_weight': [5],\n",
        "        'gamma': [0.5, 1, 1.5, 2, 5],\n",
        "        #'subsample': [0.6, 0.8, 1.0],\n",
        "\n",
        "        #'colsample_bytree': [0.6, 0.8, 1.0],\n",
        "        'max_depth': [3]\n",
        "        }"
      ],
      "execution_count": 0,
      "outputs": []
    },
    {
      "cell_type": "markdown",
      "metadata": {
        "id": "0W69lO7ulxw0",
        "colab_type": "text"
      },
      "source": [
        "# Binary Classifier"
      ]
    },
    {
      "cell_type": "code",
      "metadata": {
        "id": "FOpV0k4ilxVC",
        "colab_type": "code",
        "colab": {}
      },
      "source": [
        "binary_true = df1.iloc[:,12]"
      ],
      "execution_count": 0,
      "outputs": []
    },
    {
      "cell_type": "code",
      "metadata": {
        "id": "4sHgEumsNZOW",
        "colab_type": "code",
        "colab": {
          "base_uri": "https://localhost:8080/",
          "height": 225
        },
        "outputId": "f677cb55-f2b3-4f06-f723-591573178449"
      },
      "source": [
        "binary_true"
      ],
      "execution_count": 47,
      "outputs": [
        {
          "output_type": "execute_result",
          "data": {
            "text/plain": [
              "0         1\n",
              "1         1\n",
              "2         1\n",
              "3         1\n",
              "4         1\n",
              "         ..\n",
              "165856    0\n",
              "165857    0\n",
              "165858    0\n",
              "165859    0\n",
              "165860    0\n",
              "Name: y_true, Length: 165861, dtype: int64"
            ]
          },
          "metadata": {
            "tags": []
          },
          "execution_count": 47
        }
      ]
    },
    {
      "cell_type": "code",
      "metadata": {
        "id": "2Jy8UYnDm7qj",
        "colab_type": "code",
        "colab": {}
      },
      "source": [
        "binary_true=binary_true.fillna(0)"
      ],
      "execution_count": 0,
      "outputs": []
    },
    {
      "cell_type": "code",
      "metadata": {
        "id": "4uQii3u7NvwX",
        "colab_type": "code",
        "colab": {
          "base_uri": "https://localhost:8080/",
          "height": 34
        },
        "outputId": "d836b49d-5824-4e9e-ff7b-6802cb2f6637"
      },
      "source": [
        "binary_true.unique()"
      ],
      "execution_count": 55,
      "outputs": [
        {
          "output_type": "execute_result",
          "data": {
            "text/plain": [
              "array([1, 0])"
            ]
          },
          "metadata": {
            "tags": []
          },
          "execution_count": 55
        }
      ]
    },
    {
      "cell_type": "code",
      "metadata": {
        "id": "48CUN89UmFQ6",
        "colab_type": "code",
        "colab": {}
      },
      "source": [
        "seed = 7\n",
        "test_size = 0.33\n",
        "X_train, X_test, y_train, y_test = train_test_split(X, binary_true, test_size=test_size)"
      ],
      "execution_count": 0,
      "outputs": []
    },
    {
      "cell_type": "code",
      "metadata": {
        "id": "WZnUJkc_8aOK",
        "colab_type": "code",
        "outputId": "f85a50ac-0543-4540-9098-5e8f5455b779",
        "colab": {
          "base_uri": "https://localhost:8080/",
          "height": 34
        }
      },
      "source": [
        "binary_true.unique()"
      ],
      "execution_count": 57,
      "outputs": [
        {
          "output_type": "execute_result",
          "data": {
            "text/plain": [
              "array([1, 0])"
            ]
          },
          "metadata": {
            "tags": []
          },
          "execution_count": 57
        }
      ]
    },
    {
      "cell_type": "code",
      "metadata": {
        "id": "eT1R8bIWmM9j",
        "colab_type": "code",
        "colab": {}
      },
      "source": [
        "model = XGBClassifier(learning_rate=0.05,max_delta_step=1,n_estimators=200)\n"
      ],
      "execution_count": 0,
      "outputs": []
    },
    {
      "cell_type": "code",
      "metadata": {
        "id": "q7UE6QHQHaXJ",
        "colab_type": "code",
        "colab": {}
      },
      "source": [
        "# A parameter grid for XGBoost\n",
        "params = {\n",
        "        'min_child_weight': [5],\n",
        "        'gamma': [0.5, 1, 1.5, 2, 5],\n",
        "        #'subsample': [0.6, 0.8, 1.0],\n",
        "\n",
        "        #'colsample_bytree': [0.6, 0.8, 1.0],\n",
        "        'max_depth': [3]\n",
        "        }"
      ],
      "execution_count": 0,
      "outputs": []
    },
    {
      "cell_type": "code",
      "metadata": {
        "id": "CpwwvNXgFeEW",
        "colab_type": "code",
        "colab": {}
      },
      "source": [
        "model = XGBClassifier()\n",
        "binary_clf = GridSearchCV(model, params)"
      ],
      "execution_count": 0,
      "outputs": []
    },
    {
      "cell_type": "code",
      "metadata": {
        "id": "HvraOq82FOie",
        "colab_type": "code",
        "colab": {
          "base_uri": "https://localhost:8080/",
          "height": 294
        },
        "outputId": "b5c8c3ad-7754-40e0-be90-e292ac0d7d1f"
      },
      "source": [
        "binary_clf.fit(X_train, y_train)"
      ],
      "execution_count": 61,
      "outputs": [
        {
          "output_type": "execute_result",
          "data": {
            "text/plain": [
              "GridSearchCV(cv=None, error_score=nan,\n",
              "             estimator=XGBClassifier(base_score=0.5, booster='gbtree',\n",
              "                                     colsample_bylevel=1, colsample_bynode=1,\n",
              "                                     colsample_bytree=1, gamma=0,\n",
              "                                     learning_rate=0.1, max_delta_step=0,\n",
              "                                     max_depth=3, min_child_weight=1,\n",
              "                                     missing=None, n_estimators=100, n_jobs=1,\n",
              "                                     nthread=None, objective='binary:logistic',\n",
              "                                     random_state=0, reg_alpha=0, reg_lambda=1,\n",
              "                                     scale_pos_weight=1, seed=None, silent=None,\n",
              "                                     subsample=1, verbosity=1),\n",
              "             iid='deprecated', n_jobs=None,\n",
              "             param_grid={'gamma': [0.5, 1, 1.5, 2, 5], 'max_depth': [3],\n",
              "                         'min_child_weight': [5]},\n",
              "             pre_dispatch='2*n_jobs', refit=True, return_train_score=False,\n",
              "             scoring=None, verbose=0)"
            ]
          },
          "metadata": {
            "tags": []
          },
          "execution_count": 61
        }
      ]
    },
    {
      "cell_type": "code",
      "metadata": {
        "id": "ucNZpnHuoEwy",
        "colab_type": "code",
        "colab": {}
      },
      "source": [
        "y_pred = binary_clf.predict(X_test)"
      ],
      "execution_count": 0,
      "outputs": []
    },
    {
      "cell_type": "code",
      "metadata": {
        "id": "XXenaedbmV2d",
        "colab_type": "code",
        "colab": {}
      },
      "source": [
        "binary_predictions = [round(value) for value in y_pred]"
      ],
      "execution_count": 0,
      "outputs": []
    },
    {
      "cell_type": "code",
      "metadata": {
        "id": "bM1YKPcZmdNg",
        "colab_type": "code",
        "outputId": "4aed39a2-ff12-4867-95b6-87ebb9bd57e0",
        "colab": {
          "base_uri": "https://localhost:8080/",
          "height": 34
        }
      },
      "source": [
        "accuracy = accuracy_score(y_test, binary_predictions)\n",
        "print(\"Accuracy: %.2f%%\" % (accuracy * 100.0))"
      ],
      "execution_count": 64,
      "outputs": [
        {
          "output_type": "stream",
          "text": [
            "Accuracy: 87.74%\n"
          ],
          "name": "stdout"
        }
      ]
    },
    {
      "cell_type": "code",
      "metadata": {
        "id": "hT8oc8JYoiTC",
        "colab_type": "code",
        "outputId": "db5034f6-ee48-4c93-8960-71b5ce464a64",
        "colab": {
          "base_uri": "https://localhost:8080/",
          "height": 104
        }
      },
      "source": [
        "from sklearn.metrics import multilabel_confusion_matrix\n",
        "multilabel_confusion_matrix(y_test,binary_predictions,labels=[0,1])"
      ],
      "execution_count": 66,
      "outputs": [
        {
          "output_type": "execute_result",
          "data": {
            "text/plain": [
              "array([[[ 3268,  6312],\n",
              "        [  399, 44756]],\n",
              "\n",
              "       [[44756,   399],\n",
              "        [ 6312,  3268]]])"
            ]
          },
          "metadata": {
            "tags": []
          },
          "execution_count": 66
        }
      ]
    },
    {
      "cell_type": "code",
      "metadata": {
        "id": "1tFgrhboowMd",
        "colab_type": "code",
        "colab": {}
      },
      "source": [
        "import pickle\n",
        "filename = '/content/binary_finalized_model.pkl'\n",
        "pickle.dump(binary_clf, open(filename, 'wb'))"
      ],
      "execution_count": 0,
      "outputs": []
    },
    {
      "cell_type": "code",
      "metadata": {
        "id": "w01fWT-_o6XT",
        "colab_type": "code",
        "outputId": "51d77da1-e76a-449e-868d-5532961e1135",
        "colab": {
          "base_uri": "https://localhost:8080/",
          "height": 34
        }
      },
      "source": [
        "loaded_model = pickle.load(open(filename, 'rb'))\n",
        "result = loaded_model.score(X_test, y_test)\n",
        "print(result)"
      ],
      "execution_count": 68,
      "outputs": [
        {
          "output_type": "stream",
          "text": [
            "0.8773910660454919\n"
          ],
          "name": "stdout"
        }
      ]
    },
    {
      "cell_type": "code",
      "metadata": {
        "id": "tFhHvFB8--Yf",
        "colab_type": "code",
        "outputId": "14b7cd0c-eafe-4d05-e223-41b6230d6140",
        "colab": {
          "base_uri": "https://localhost:8080/",
          "height": 173
        }
      },
      "source": [
        "from sklearn.metrics import classification_report\n",
        "print(classification_report(y_test, binary_predictions))"
      ],
      "execution_count": 69,
      "outputs": [
        {
          "output_type": "stream",
          "text": [
            "              precision    recall  f1-score   support\n",
            "\n",
            "           0       0.88      0.99      0.93     45155\n",
            "           1       0.89      0.34      0.49      9580\n",
            "\n",
            "    accuracy                           0.88     54735\n",
            "   macro avg       0.88      0.67      0.71     54735\n",
            "weighted avg       0.88      0.88      0.85     54735\n",
            "\n"
          ],
          "name": "stdout"
        }
      ]
    }
  ]
}